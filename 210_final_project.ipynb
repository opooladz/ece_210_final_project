{
  "nbformat": 4,
  "nbformat_minor": 0,
  "metadata": {
    "colab": {
      "name": "210_final_project.ipynb",
      "version": "0.3.2",
      "provenance": [],
      "collapsed_sections": []
    },
    "kernelspec": {
      "name": "python3",
      "display_name": "Python 3"
    },
    "accelerator": "GPU"
  },
  "cells": [
    {
      "cell_type": "markdown",
      "metadata": {
        "id": "view-in-github",
        "colab_type": "text"
      },
      "source": [
        "[View in Colaboratory](https://colab.research.google.com/github/opooladz/ece_210_final_project/blob/master/210_final_project.ipynb)"
      ]
    },
    {
      "metadata": {
        "id": "LYrfZFmf-xeo",
        "colab_type": "code",
        "colab": {
          "base_uri": "https://localhost:8080/",
          "height": 34
        },
        "outputId": "af0e43f8-3687-47af-80a2-68f18e8cfdaa"
      },
      "cell_type": "code",
      "source": [
        "# Import Libs \n",
        "import numpy as np\n",
        "import numpy.matlib as npm\n",
        "import matplotlib.pyplot as plt\n",
        "import scipy.special\n",
        "import scipy.io as sio\n",
        "import math\n",
        "\n",
        "# Reloading any code written in external .py files.\n",
        "%load_ext autoreload\n",
        "%autoreload 2\n",
        "\n",
        "from keras.models import Sequential\n",
        "from keras.layers import Dense, Activation, Conv2D, Flatten, AveragePooling2D, MaxPooling2D, Dropout, BatchNormalization\n",
        "import keras\n",
        "from sklearn import model_selection\n",
        "from sklearn import svm\n",
        "from keras.optimizers import Adam\n"
      ],
      "execution_count": 8,
      "outputs": [
        {
          "output_type": "stream",
          "text": [
            "Using TensorFlow backend.\n"
          ],
          "name": "stderr"
        }
      ]
    },
    {
      "metadata": {
        "id": "QpDrGehPwk3g",
        "colab_type": "code",
        "colab": {}
      },
      "cell_type": "code",
      "source": [
        "# Comms Stuff Will add more later\n",
        "def qammod1(m,width):\n",
        "  #y = np.random.randint(m,size=(1,width)\n",
        "  y = (np.arange(m)*np.ones((width,m))).T\n",
        "  if(np.all(y>=m)):\n",
        "    print('qammod: all elements of X must be in range [0,M-1]')\n",
        "  \n",
        "  if (~np.all(y == np.fix(y) ) ):\n",
        "    print(\"qammod: all elements of X must be integers\");\n",
        "  \n",
        "  c = np.sqrt(m);\n",
        "  if( ~(np.all(c == np.fix(c)) and np.all(np.math.log(c, 2) == np.fix(np.math.log(c, 2))) ) ):\n",
        "    print(\"qammod: M must be a square of a power of 2\");\n",
        "  \n",
        "  b = -2*np.fmod(y,c) + c - 1.;\n",
        "  a = 2*np.floor(y *1./c) - c + 1.;\n",
        "  # x = a + 1.*1j*b\n",
        "  # lets hold x in a np array([real,imag])\n",
        "  x = np.array([a,1.*b]).transpose(2,1,0)\n",
        "  return [x , y]\n",
        "                        \n",
        "# Comms Stuff Will add more later\n",
        "def qammod2(m,size):\n",
        "  y = np.random.randint(m,size=size)\n",
        "  if(np.all(y>=m)):\n",
        "    print('qammod: all elements of X must be in range [0,M-1]')\n",
        "  \n",
        "  if (~np.all(y == np.fix(y) ) ):\n",
        "    print(\"qammod: all elements of X must be integers\");\n",
        "  \n",
        "  c = np.sqrt(m);\n",
        "  if( ~(np.all(c == np.fix(c)) and np.all(np.math.log(c, 2) == np.fix(np.math.log(c, 2))) ) ):\n",
        "    print(\"qammod: M must be a square of a power of 2\");\n",
        "  \n",
        "  b = -2*np.fmod(y,c) + c - 1.;\n",
        "  a = 2*np.floor(y *1./c) - c + 1.;\n",
        "  # x = a + 1.*1j*b\n",
        "  # lets hold x in a np array([real,imag])\n",
        "  x = np.array([a,1.*b]).transpose(2,1,0)\n",
        "  return [x , y]                        \n",
        "\n",
        "def channel(m,width,Noise,SNRdB):\n",
        "  [x,y] = qammod2(m,width)\n",
        "  \n",
        "  SNR = 10**(SNRdB/10)\n",
        "  sym_noise_pow = np.var(x)/SNR\n",
        "  sym_noise_scale_fact = np.sqrt(sym_noise_pow)\n",
        "  if(Noise):\n",
        "    AWGN = sym_noise_scale_fact*np.random.normal( size=(width,m,2)) \n",
        "    x = x + AWGN\n",
        "  return [x , y]\n",
        "                        \n",
        "def convChannel():\n",
        "  h = [1, 0.5, 0.025]\n",
        "  xh = np.convolve(x,h,'same') \n",
        "                        \n",
        "data={}\n",
        "def generateData(m,samples,Noise,SNRdB):\n",
        "  [data['x_train'],data['y_train']] = channel(m=m,width=samples,Noise=Noise,SNRdB=SNRdB)\n",
        "  #valsize = [int(x*0.1) for x in range(width)]\n",
        "  [data['x_val'],data['y_val']] = channel(m=m,width=int(samples**0.5),Noise= Noise,SNRdB=SNRdB)\n",
        "  [data['x_test'],data['y_test']] = channel(m=m,width=samples,Noise=Noise,SNRdB=SNRdB)"
      ],
      "execution_count": 0,
      "outputs": []
    },
    {
      "metadata": {
        "id": "Yh540MdeFqS0",
        "colab_type": "code",
        "colab": {}
      },
      "cell_type": "code",
      "source": [
        "\n",
        "                        "
      ],
      "execution_count": 0,
      "outputs": []
    },
    {
      "metadata": {
        "id": "-YqXNaYFJAis",
        "colab_type": "code",
        "colab": {}
      },
      "cell_type": "code",
      "source": [
        "# Comms Stuff Will add more later\n",
        "def qammod(m,y):\n",
        "  if(np.all(y>=m)):\n",
        "    print('qammod: all elements of X must be in range [0,M-1]')\n",
        "  \n",
        "  if (~np.all(y == np.fix(y) ) ):\n",
        "    print(\"qammod: all elements of X must be integers\");\n",
        "  \n",
        "  c = np.sqrt(m);\n",
        "  if( ~(np.all(c == np.fix(c)) and np.all(np.math.log(c, 2) == np.fix(np.math.log(c, 2))) ) ):\n",
        "    print(\"qammod: M must be a square of a power of 2\");\n",
        "  \n",
        "  b = -2*np.fmod(y,c) + c - 1.;\n",
        "  a = 2*np.floor(y *1./c) - c + 1.;\n",
        "  # x = a + 1.*1j*b\n",
        "  # lets hold x in a np array([real,imag])\n",
        "  x = np.array([a,1.*b]).T\n",
        "  return [x , y] \n",
        "\n",
        "def qammod2(m,size):\n",
        "  y = np.random.randint(m,size=size)\n",
        "  if(np.all(y>=m)):\n",
        "    print('qammod: all elements of X must be in range [0,M-1]')\n",
        "  \n",
        "  if (~np.all(y == np.fix(y) ) ):\n",
        "    print(\"qammod: all elements of X must be integers\");\n",
        "  \n",
        "  c = np.sqrt(m);\n",
        "  if( ~(np.all(c == np.fix(c)) and np.all(np.math.log(c, 2) == np.fix(np.math.log(c, 2))) ) ):\n",
        "    print(\"qammod: M must be a square of a power of 2\");\n",
        "  \n",
        "  b = -2*np.fmod(y,c) + c - 1.;\n",
        "  a = 2*np.floor(y *1./c) - c + 1.;\n",
        "  # x = a + 1.*1j*b\n",
        "  # lets hold x in a np array([real,imag])\n",
        "  x = np.array([a,1.*b]).T\n",
        "  return [x , y]                        \n",
        "\n",
        "def channel2(m,sequenceLen,trials,Noise,SNRdB):\n",
        "  [x,y] = qammod2(m,sequenceLen)\n",
        "  h = [1, 0.5]\n",
        "  #h = [1]\n",
        "  xh = np.convolve(x.flatten(),h)   \n",
        "  SNR = 10**(SNRdB/10)\n",
        "  sym_noise_pow = np.var(xh)/SNR\n",
        "  sym_noise_scale_fact = np.sqrt(sym_noise_pow/2)\n",
        "  if(Noise):\n",
        "    AWGN = sym_noise_scale_fact*np.random.normal(1, size=(xh.shape[0],trials)) \n",
        "    xhN = xh[:,np.newaxis] + AWGN\n",
        "  return [xhN.T , y]\n",
        "                        \n",
        "                        \n",
        "data={}\n",
        "def generateData2(m,sequenceLen,trials,Noise,SNRdB):\n",
        "  [data['x_train'],data['y_train']] = channel2(m=m,sequenceLen=sequenceLen,trials=trials,Noise=Noise,SNRdB=SNRdB)\n",
        "  #valsize = [int(x*0.1) for x in range(width)]\n",
        "  #[data['x_val'],data['y_val']] = channel2(m=m,size=int(samples**0.5),Noise= Noise,SNRdB=SNRdB)\n",
        "  [data['x_test'],data['y_test']] = channel2(m=m,sequenceLen=sequenceLen,trials=trials,Noise=Noise,SNRdB=SNRdB)"
      ],
      "execution_count": 0,
      "outputs": []
    },
    {
      "metadata": {
        "id": "rMe6lknwXe_k",
        "colab_type": "code",
        "colab": {
          "base_uri": "https://localhost:8080/",
          "height": 52
        },
        "outputId": "8a57fc0c-2c1c-426e-c032-6585a32ce0d4"
      },
      "cell_type": "code",
      "source": [
        "A = generateData2(4,64,100,1,20)\n",
        "\n",
        "data['x_train']\n",
        "print(data['y_train'])"
      ],
      "execution_count": 143,
      "outputs": [
        {
          "output_type": "stream",
          "text": [
            "[2 0 1 2 1 0 0 3 0 1 3 2 1 0 3 0 3 1 1 1 2 0 1 0 2 0 1 2 2 2 3 3 0 2 2 3 0\n",
            " 1 3 2 0 0 3 0 3 2 3 2 2 0 3 0 3 3 1 1 3 0 3 0 1 3 1 0]\n"
          ],
          "name": "stdout"
        }
      ]
    },
    {
      "metadata": {
        "id": "IhSwHt9eWbPA",
        "colab_type": "code",
        "colab": {
          "base_uri": "https://localhost:8080/",
          "height": 364
        },
        "outputId": "97c42103-d6c0-4a85-e6c2-2568af33aea1"
      },
      "cell_type": "code",
      "source": [
        "tmp= data['x_train']\n",
        "tmp[0:10,0:10]"
      ],
      "execution_count": 144,
      "outputs": [
        {
          "output_type": "execute_result",
          "data": {
            "text/plain": [
              "array([[ 1.03202424,  1.5371176 , -0.46672377,  0.47382587, -0.31738313,\n",
              "        -1.38496467,  0.57843681,  1.64829299, -0.38121665, -1.51137683],\n",
              "       [ 1.13397972,  1.57896129, -0.39157821,  0.77677365, -0.46340124,\n",
              "        -1.48528519,  0.69754701,  1.55150498, -0.42193156, -1.46593442],\n",
              "       [ 1.05379441,  1.60317942, -0.35873589,  0.51242454, -0.28415927,\n",
              "        -1.55745808,  0.63880088,  1.62089989, -0.3851106 , -1.29701673],\n",
              "       [ 1.1557272 ,  1.43150354, -0.50469052,  0.65065528, -0.39244406,\n",
              "        -1.41482415,  0.72419538,  1.51406388, -0.3748633 , -1.39941172],\n",
              "       [ 0.97318938,  1.61110567, -0.54694898,  0.50375614, -0.44947812,\n",
              "        -1.47447552,  0.54045775,  1.59224794, -0.39256417, -1.50831326],\n",
              "       [ 1.0911983 ,  1.40987394, -0.34850793,  0.65821792, -0.44799527,\n",
              "        -1.43243463,  0.56205053,  1.60104893, -0.28815164, -1.36136457],\n",
              "       [ 1.11324444,  1.79351014, -0.43444169,  0.57694688, -0.42630569,\n",
              "        -1.40281537,  0.63170459,  1.51436061, -0.55017966, -1.46706938],\n",
              "       [ 1.003859  ,  1.61195888, -0.39074234,  0.50432976, -0.63893952,\n",
              "        -1.47995327,  0.53312457,  1.68345913, -0.38899126, -1.30351126],\n",
              "       [ 1.01392725,  1.59169003, -0.4853803 ,  0.37615676, -0.39104059,\n",
              "        -1.3836952 ,  0.54501763,  1.49038519, -0.33237451, -1.50505276],\n",
              "       [ 1.01719892,  1.68021809, -0.45342136,  0.66570762, -0.57554785,\n",
              "        -1.3413782 ,  0.57529656,  1.61675432, -0.41017264, -1.47374277]])"
            ]
          },
          "metadata": {
            "tags": []
          },
          "execution_count": 144
        }
      ]
    },
    {
      "metadata": {
        "id": "TMP48NpfYF86",
        "colab_type": "code",
        "colab": {
          "base_uri": "https://localhost:8080/",
          "height": 34
        },
        "outputId": "8ade8faa-6e69-40cf-8570-f5a4e461f4c1"
      },
      "cell_type": "code",
      "source": [
        "tmp.shape"
      ],
      "execution_count": 147,
      "outputs": [
        {
          "output_type": "execute_result",
          "data": {
            "text/plain": [
              "(100, 128)"
            ]
          },
          "metadata": {
            "tags": []
          },
          "execution_count": 147
        }
      ]
    },
    {
      "metadata": {
        "id": "b5XD_qJsX-vM",
        "colab_type": "code",
        "colab": {}
      },
      "cell_type": "code",
      "source": [
        "K = tmp.reshape(100,64,2)\n"
      ],
      "execution_count": 0,
      "outputs": []
    },
    {
      "metadata": {
        "id": "EhX-MhHjYdCi",
        "colab_type": "code",
        "colab": {
          "base_uri": "https://localhost:8080/",
          "height": 379
        },
        "outputId": "0f5c2a17-1ad2-4c09-8d79-4aebca364a3a"
      },
      "cell_type": "code",
      "source": [
        "tmp2 = K.T\n",
        "plt.scatter(tmp2[0],tmp2[1])\n",
        "plt.title('16-QAM Mod')"
      ],
      "execution_count": 152,
      "outputs": [
        {
          "output_type": "execute_result",
          "data": {
            "text/plain": [
              "Text(0.5,1,'16-QAM Mod')"
            ]
          },
          "metadata": {
            "tags": []
          },
          "execution_count": 152
        },
        {
          "output_type": "display_data",
          "data": {
            "image/png": "[encoded data removed]",
            "text/plain": [
              "<matplotlib.figure.Figure at 0x7f905eb9e8d0>"
            ]
          },
          "metadata": {
            "tags": []
          }
        }
      ]
    },
    {
      "metadata": {
        "id": "g2kg9iEtZjjQ",
        "colab_type": "code",
        "colab": {}
      },
      "cell_type": "code",
      "source": [
        "qammod()"
      ],
      "execution_count": 0,
      "outputs": []
    },
    {
      "metadata": {
        "id": "jnEv6rAAMiCM",
        "colab_type": "code",
        "colab": {
          "base_uri": "https://localhost:8080/",
          "height": 34
        },
        "outputId": "34fd70b9-cabc-467d-994a-c189a29fd199"
      },
      "cell_type": "code",
      "source": [
        "[xtmp,ytmp] = qammod2(16,size=(1,100))\n",
        "x = xtmp.flatten()\n",
        "h = [1, 0.5]\n",
        "xh = np.convolve(x,h) \n",
        "A = xh[:,np.newaxis] + np.random.normal(1, size=(xh.shape[0],100)) \n",
        "A.shape"
      ],
      "execution_count": 92,
      "outputs": [
        {
          "output_type": "execute_result",
          "data": {
            "text/plain": [
              "(201, 100)"
            ]
          },
          "metadata": {
            "tags": []
          },
          "execution_count": 92
        }
      ]
    },
    {
      "metadata": {
        "id": "iGjBhP95swQQ",
        "colab_type": "code",
        "colab": {}
      },
      "cell_type": "code",
      "source": [
        "# Keras try model \n",
        "def try_model(model, data, name, epochs=200, verbose=1):  \n",
        "  model.compile(optimizer='adam',\n",
        "            loss='categorical_crossentropy',\n",
        "            metrics=['accuracy'])\n",
        "\n",
        "  model.summary()  \n",
        "  history = model.fit(data['x_train'], data['y_train'], \n",
        "            epochs=epochs, batch_size=64, verbose=verbose, \n",
        "            validation_data=(data['x_val'], data['y_val']))  \n",
        "  score = model.evaluate(data['x_test'], data['y_test'])\n",
        "  print('Test accuracy: {}'.format(score))\n",
        "  \n",
        "#   out_path = 'serialized_models/{}.h5'.format(name)  \n",
        "#   model.save(out_path)\n",
        "  \n",
        "#   with open('serialized_models/{}_history.pickle'.format(name), 'wb') as handle:\n",
        "#     pickle.dump(history.history, handle, protocol=pickle.HIGHEST_PROTOCOL)\n",
        "    \n",
        "  return history"
      ],
      "execution_count": 0,
      "outputs": []
    },
    {
      "metadata": {
        "id": "itVbjmjNwItO",
        "colab_type": "code",
        "colab": {
          "base_uri": "https://localhost:8080/",
          "height": 191
        },
        "outputId": "36a39667-bbc2-4321-b84f-a7147243b98b"
      },
      "cell_type": "code",
      "source": [
        "# Generates 16-QAM model with AWGN\n",
        "x = 6\n",
        "square_power_of_two = 2**(2*x)\n",
        "generateData(m=16,samples=square_power_of_two,Noise=1,SNRdB = 20)\n",
        "print(data['x_train'].shape) # data\n",
        "print(data['y_train'].shape) # labels \n",
        "# Our data is complex so I just made a len 2 list of real numbers.\n",
        "# This way we can run it thought a conv net and keep spatial features\n",
        "# Just so y'all can see the data  \n",
        "print(data['x_train'][:,0,:])\n",
        "print(data['x_val'].shape)"
      ],
      "execution_count": 61,
      "outputs": [
        {
          "output_type": "stream",
          "text": [
            "(4096, 16, 2)\n",
            "(16, 4096)\n",
            "[[-2.94207207  2.62872735]\n",
            " [-2.65008815  2.79981897]\n",
            " [-3.20773349  3.31114909]\n",
            " ...\n",
            " [-3.43732873  2.76809041]\n",
            " [-3.11831668  3.0461103 ]\n",
            " [-2.91861024  2.88337973]]\n",
            "(64, 16, 2)\n"
          ],
          "name": "stdout"
        }
      ]
    },
    {
      "metadata": {
        "id": "eQGa6Gb2FZ_u",
        "colab_type": "code",
        "colab": {
          "base_uri": "https://localhost:8080/",
          "height": 379
        },
        "outputId": "222619c4-e384-477d-af28-6cc636a60eda"
      },
      "cell_type": "code",
      "source": [
        "# Visulizing the data\n",
        "# clearly we have 16 classes\n",
        "# Right now this should be simple because I have not added any rayleigh fading \n",
        "# Lets get this to work and I'll keep updating the comms stuff\n",
        "tmp = data['x_train'].T\n",
        "plt.scatter(tmp[0],tmp[1])\n",
        "plt.title('16-QAM Mod')"
      ],
      "execution_count": 11,
      "outputs": [
        {
          "output_type": "execute_result",
          "data": {
            "text/plain": [
              "Text(0.5,1,'16-QAM Mod')"
            ]
          },
          "metadata": {
            "tags": []
          },
          "execution_count": 11
        },
        {
          "output_type": "display_data",
          "data": {
            "image/png": "[encoded data removed]",
            "text/plain": [
              "<matplotlib.figure.Figure at 0x7f90afef47b8>"
            ]
          },
          "metadata": {
            "tags": []
          }
        }
      ]
    },
    {
      "metadata": {
        "id": "AWfcCPcsUua0",
        "colab_type": "code",
        "colab": {
          "base_uri": "https://localhost:8080/",
          "height": 69
        },
        "outputId": "7ff1c304-2c03-43a2-90ab-ea58df06e05d"
      },
      "cell_type": "code",
      "source": [
        "# Some more keras stuffs \n",
        "from keras.models import Sequential\n",
        "from keras.layers import Dense, Activation, Conv2D, Flatten, AveragePooling2D, MaxPooling2D, Dropout, BatchNormalization\n",
        "from keras.layers import Reshape, Permute\n",
        "from keras import regularizers\n",
        "import keras\n",
        "ykeys = {'y_train','y_val','y_test'}\n",
        "xkeys = {'x_train','x_val','x_test'}\n",
        "datatmp={}\n",
        "for i in ykeys:\n",
        "  datatmp[i] = data[i].flatten()\n",
        "for i in xkeys:\n",
        "  datatmp[i] = data[i].reshape(-1,2)\n",
        "  \n",
        "y_train = keras.utils.to_categorical(datatmp['y_train'] , num_classes=16)\n",
        "y_val = keras.utils.to_categorical(datatmp['y_val'] , num_classes=16)\n",
        "y_test = keras.utils.to_categorical(datatmp['y_test'] , num_classes=16)\n",
        "\n",
        "print(data['x_train'].shape)\n",
        "print(y_train.shape)\n",
        "print(data['x_val'].shape)\n",
        "\n",
        "\n",
        "default_data = {\n",
        "  'x_train': data['x_train'],\n",
        "  'x_val': data['x_val'],\n",
        "  'x_test': data['x_test'],\n",
        "  'y_train': y_train,\n",
        "  'y_val': y_val,\n",
        "  'y_test': y_test,\n",
        "}"
      ],
      "execution_count": 63,
      "outputs": [
        {
          "output_type": "stream",
          "text": [
            "(4096, 16, 2)\n",
            "(65536, 16)\n",
            "(64, 16, 2)\n"
          ],
          "name": "stdout"
        }
      ]
    },
    {
      "metadata": {
        "id": "gsmQacFI1gkq",
        "colab_type": "code",
        "colab": {
          "base_uri": "https://localhost:8080/",
          "height": 722
        },
        "outputId": "e210f935-e17b-4788-de0e-ad6fdd277a25"
      },
      "cell_type": "code",
      "source": [
        "from keras.models import Sequential\n",
        "from keras.layers import Dense, Activation,Conv1D, Conv2D, Flatten, AveragePooling1D, MaxPooling2D, Dropout, BatchNormalization\n",
        "from keras.layers import Reshape, Permute\n",
        "from keras import regularizers\n",
        "import keras\n",
        "\n",
        "shallow_net = Sequential([\n",
        "    Reshape(input_shape=(None,2), target_shape=(2,1)),\n",
        "    Conv2D(filters = 40, kernel_size =(2,1), activation='elu', kernel_regularizer=regularizers.l2(0.01)),\n",
        "    BatchNormalization(),\n",
        "    Flatten(),\n",
        "    BatchNormalization(),    \n",
        "    Dropout(rate=.7),\n",
        "    Dense(16, activation='softmax', kernel_regularizer=regularizers.l2(0.01))\n",
        "])\n",
        "\n",
        "try_model(shallow_net, default_data, 'shallow_net', epochs=100)"
      ],
      "execution_count": 246,
      "outputs": [
        {
          "output_type": "error",
          "ename": "ValueError",
          "evalue": "ignored",
          "traceback": [
            "\u001b[0;31m---------------------------------------------------------------------------\u001b[0m",
            "\u001b[0;31mValueError\u001b[0m                                Traceback (most recent call last)",
            "\u001b[0;32m<ipython-input-246-a7792dbbfb02>\u001b[0m in \u001b[0;36m<module>\u001b[0;34m()\u001b[0m\n\u001b[1;32m     12\u001b[0m     \u001b[0mBatchNormalization\u001b[0m\u001b[0;34m(\u001b[0m\u001b[0;34m)\u001b[0m\u001b[0;34m,\u001b[0m\u001b[0;34m\u001b[0m\u001b[0m\n\u001b[1;32m     13\u001b[0m     \u001b[0mDropout\u001b[0m\u001b[0;34m(\u001b[0m\u001b[0mrate\u001b[0m\u001b[0;34m=\u001b[0m\u001b[0;36m.7\u001b[0m\u001b[0;34m)\u001b[0m\u001b[0;34m,\u001b[0m\u001b[0;34m\u001b[0m\u001b[0m\n\u001b[0;32m---> 14\u001b[0;31m     \u001b[0mDense\u001b[0m\u001b[0;34m(\u001b[0m\u001b[0;36m16\u001b[0m\u001b[0;34m,\u001b[0m \u001b[0mactivation\u001b[0m\u001b[0;34m=\u001b[0m\u001b[0;34m'softmax'\u001b[0m\u001b[0;34m,\u001b[0m \u001b[0mkernel_regularizer\u001b[0m\u001b[0;34m=\u001b[0m\u001b[0mregularizers\u001b[0m\u001b[0;34m.\u001b[0m\u001b[0ml2\u001b[0m\u001b[0;34m(\u001b[0m\u001b[0;36m0.01\u001b[0m\u001b[0;34m)\u001b[0m\u001b[0;34m)\u001b[0m\u001b[0;34m\u001b[0m\u001b[0m\n\u001b[0m\u001b[1;32m     15\u001b[0m ])\n\u001b[1;32m     16\u001b[0m \u001b[0;34m\u001b[0m\u001b[0m\n",
            "\u001b[0;32m/usr/local/lib/python3.6/dist-packages/keras/models.py\u001b[0m in \u001b[0;36m__init__\u001b[0;34m(self, layers, name)\u001b[0m\n\u001b[1;32m    439\u001b[0m         \u001b[0;32mif\u001b[0m \u001b[0mlayers\u001b[0m\u001b[0;34m:\u001b[0m\u001b[0;34m\u001b[0m\u001b[0m\n\u001b[1;32m    440\u001b[0m             \u001b[0;32mfor\u001b[0m \u001b[0mlayer\u001b[0m \u001b[0;32min\u001b[0m \u001b[0mlayers\u001b[0m\u001b[0;34m:\u001b[0m\u001b[0;34m\u001b[0m\u001b[0m\n\u001b[0;32m--> 441\u001b[0;31m                 \u001b[0mself\u001b[0m\u001b[0;34m.\u001b[0m\u001b[0madd\u001b[0m\u001b[0;34m(\u001b[0m\u001b[0mlayer\u001b[0m\u001b[0;34m)\u001b[0m\u001b[0;34m\u001b[0m\u001b[0m\n\u001b[0m\u001b[1;32m    442\u001b[0m \u001b[0;34m\u001b[0m\u001b[0m\n\u001b[1;32m    443\u001b[0m     \u001b[0;32mdef\u001b[0m \u001b[0madd\u001b[0m\u001b[0;34m(\u001b[0m\u001b[0mself\u001b[0m\u001b[0;34m,\u001b[0m \u001b[0mlayer\u001b[0m\u001b[0;34m)\u001b[0m\u001b[0;34m:\u001b[0m\u001b[0;34m\u001b[0m\u001b[0m\n",
            "\u001b[0;32m/usr/local/lib/python3.6/dist-packages/keras/models.py\u001b[0m in \u001b[0;36madd\u001b[0;34m(self, layer)\u001b[0m\n\u001b[1;32m    520\u001b[0m                           output_shapes=[self.outputs[0]._keras_shape])\n\u001b[1;32m    521\u001b[0m         \u001b[0;32melse\u001b[0m\u001b[0;34m:\u001b[0m\u001b[0;34m\u001b[0m\u001b[0m\n\u001b[0;32m--> 522\u001b[0;31m             \u001b[0moutput_tensor\u001b[0m \u001b[0;34m=\u001b[0m \u001b[0mlayer\u001b[0m\u001b[0;34m(\u001b[0m\u001b[0mself\u001b[0m\u001b[0;34m.\u001b[0m\u001b[0moutputs\u001b[0m\u001b[0;34m[\u001b[0m\u001b[0;36m0\u001b[0m\u001b[0;34m]\u001b[0m\u001b[0;34m)\u001b[0m\u001b[0;34m\u001b[0m\u001b[0m\n\u001b[0m\u001b[1;32m    523\u001b[0m             \u001b[0;32mif\u001b[0m \u001b[0misinstance\u001b[0m\u001b[0;34m(\u001b[0m\u001b[0moutput_tensor\u001b[0m\u001b[0;34m,\u001b[0m \u001b[0mlist\u001b[0m\u001b[0;34m)\u001b[0m\u001b[0;34m:\u001b[0m\u001b[0;34m\u001b[0m\u001b[0m\n\u001b[1;32m    524\u001b[0m                 raise TypeError('All layers in a Sequential model '\n",
            "\u001b[0;32m/usr/local/lib/python3.6/dist-packages/keras/engine/topology.py\u001b[0m in \u001b[0;36m__call__\u001b[0;34m(self, inputs, **kwargs)\u001b[0m\n\u001b[1;32m    573\u001b[0m                 \u001b[0;31m# Raise exceptions in case the input is not compatible\u001b[0m\u001b[0;34m\u001b[0m\u001b[0;34m\u001b[0m\u001b[0m\n\u001b[1;32m    574\u001b[0m                 \u001b[0;31m# with the input_spec specified in the layer constructor.\u001b[0m\u001b[0;34m\u001b[0m\u001b[0;34m\u001b[0m\u001b[0m\n\u001b[0;32m--> 575\u001b[0;31m                 \u001b[0mself\u001b[0m\u001b[0;34m.\u001b[0m\u001b[0massert_input_compatibility\u001b[0m\u001b[0;34m(\u001b[0m\u001b[0minputs\u001b[0m\u001b[0;34m)\u001b[0m\u001b[0;34m\u001b[0m\u001b[0m\n\u001b[0m\u001b[1;32m    576\u001b[0m \u001b[0;34m\u001b[0m\u001b[0m\n\u001b[1;32m    577\u001b[0m                 \u001b[0;31m# Collect input shapes to build layer.\u001b[0m\u001b[0;34m\u001b[0m\u001b[0;34m\u001b[0m\u001b[0m\n",
            "\u001b[0;32m/usr/local/lib/python3.6/dist-packages/keras/engine/topology.py\u001b[0m in \u001b[0;36massert_input_compatibility\u001b[0;34m(self, inputs)\u001b[0m\n\u001b[1;32m    472\u001b[0m                                      \u001b[0mself\u001b[0m\u001b[0;34m.\u001b[0m\u001b[0mname\u001b[0m \u001b[0;34m+\u001b[0m \u001b[0;34m': expected ndim='\u001b[0m \u001b[0;34m+\u001b[0m\u001b[0;34m\u001b[0m\u001b[0m\n\u001b[1;32m    473\u001b[0m                                      \u001b[0mstr\u001b[0m\u001b[0;34m(\u001b[0m\u001b[0mspec\u001b[0m\u001b[0;34m.\u001b[0m\u001b[0mndim\u001b[0m\u001b[0;34m)\u001b[0m \u001b[0;34m+\u001b[0m \u001b[0;34m', found ndim='\u001b[0m \u001b[0;34m+\u001b[0m\u001b[0;34m\u001b[0m\u001b[0m\n\u001b[0;32m--> 474\u001b[0;31m                                      str(K.ndim(x)))\n\u001b[0m\u001b[1;32m    475\u001b[0m             \u001b[0;32mif\u001b[0m \u001b[0mspec\u001b[0m\u001b[0;34m.\u001b[0m\u001b[0mmax_ndim\u001b[0m \u001b[0;32mis\u001b[0m \u001b[0;32mnot\u001b[0m \u001b[0;32mNone\u001b[0m\u001b[0;34m:\u001b[0m\u001b[0;34m\u001b[0m\u001b[0m\n\u001b[1;32m    476\u001b[0m                 \u001b[0mndim\u001b[0m \u001b[0;34m=\u001b[0m \u001b[0mK\u001b[0m\u001b[0;34m.\u001b[0m\u001b[0mndim\u001b[0m\u001b[0;34m(\u001b[0m\u001b[0mx\u001b[0m\u001b[0;34m)\u001b[0m\u001b[0;34m\u001b[0m\u001b[0m\n",
            "\u001b[0;31mValueError\u001b[0m: Input 0 is incompatible with layer conv2d_34: expected ndim=4, found ndim=3"
          ]
        }
      ]
    },
    {
      "metadata": {
        "id": "INrkmvEjn7a4",
        "colab_type": "code",
        "colab": {
          "base_uri": "https://localhost:8080/",
          "height": 4823
        },
        "outputId": "85de0865-6be5-48a8-8e53-ef0ed046edb4"
      },
      "cell_type": "code",
      "source": [
        "# create model\n",
        "model = Sequential()\n",
        "model.add(Dense(8, input_dim=2, activation='elu',kernel_regularizer=regularizers.l2(0.01)))\n",
        "model.add(BatchNormalization())\n",
        "model.add(Dense(16, activation='softmax'))\n",
        "try_model(model, default_data, 'shallow_net', epochs=200)"
      ],
      "execution_count": 27,
      "outputs": [
        {
          "output_type": "stream",
          "text": [
            "_________________________________________________________________\n",
            "Layer (type)                 Output Shape              Param #   \n",
            "=================================================================\n",
            "dense_15 (Dense)             (None, 8)                 24        \n",
            "_________________________________________________________________\n",
            "batch_normalization_2 (Batch (None, 8)                 32        \n",
            "_________________________________________________________________\n",
            "dense_16 (Dense)             (None, 16)                144       \n",
            "=================================================================\n",
            "Total params: 200\n",
            "Trainable params: 184\n",
            "Non-trainable params: 16\n",
            "_________________________________________________________________\n",
            "Train on 65536 samples, validate on 1024 samples\n",
            "Epoch 1/200\n",
            "46528/65536 [====================>.........] - ETA: 2s - loss: 2.8412 - acc: 0.0614"
          ],
          "name": "stdout"
        },
        {
          "output_type": "stream",
          "text": [
            "65536/65536 [==============================] - 9s 140us/step - loss: 2.8251 - acc: 0.0612 - val_loss: 2.7820 - val_acc: 0.0635\n",
            "Epoch 2/200\n",
            "65536/65536 [==============================] - 9s 136us/step - loss: 2.7796 - acc: 0.0601 - val_loss: 2.7766 - val_acc: 0.0605\n",
            "Epoch 3/200\n",
            "65536/65536 [==============================] - 9s 134us/step - loss: 2.7770 - acc: 0.0603 - val_loss: 2.7747 - val_acc: 0.0605\n",
            "Epoch 4/200\n"
          ],
          "name": "stdout"
        },
        {
          "output_type": "stream",
          "text": [
            "65536/65536 [==============================] - 9s 133us/step - loss: 2.7760 - acc: 0.0607 - val_loss: 2.7748 - val_acc: 0.0654\n",
            "Epoch 5/200\n",
            "65536/65536 [==============================] - 9s 133us/step - loss: 2.7756 - acc: 0.0599 - val_loss: 2.7748 - val_acc: 0.0654\n",
            "Epoch 6/200\n",
            "57280/65536 [=========================>....] - ETA: 1s - loss: 2.7752 - acc: 0.0617"
          ],
          "name": "stdout"
        },
        {
          "output_type": "stream",
          "text": [
            "65536/65536 [==============================] - 9s 132us/step - loss: 2.7751 - acc: 0.0615 - val_loss: 2.7745 - val_acc: 0.0635\n",
            "Epoch 7/200\n",
            "65536/65536 [==============================] - 9s 134us/step - loss: 2.7753 - acc: 0.0604 - val_loss: 2.7742 - val_acc: 0.0615\n",
            "Epoch 8/200\n",
            "65536/65536 [==============================] - 9s 133us/step - loss: 2.7753 - acc: 0.0609 - val_loss: 2.7739 - val_acc: 0.0615\n",
            "Epoch 9/200\n",
            " 2624/65536 [>.............................] - ETA: 8s - loss: 2.7749 - acc: 0.0606"
          ],
          "name": "stdout"
        },
        {
          "output_type": "stream",
          "text": [
            "65536/65536 [==============================] - 9s 132us/step - loss: 2.7749 - acc: 0.0626 - val_loss: 2.7763 - val_acc: 0.0596\n",
            "Epoch 10/200\n",
            "65536/65536 [==============================] - 9s 133us/step - loss: 2.7749 - acc: 0.0590 - val_loss: 2.7745 - val_acc: 0.0605\n",
            "Epoch 11/200\n",
            "55488/65536 [========================>.....] - ETA: 1s - loss: 2.7746 - acc: 0.0627"
          ],
          "name": "stdout"
        },
        {
          "output_type": "stream",
          "text": [
            "65536/65536 [==============================] - 9s 134us/step - loss: 2.7747 - acc: 0.0619 - val_loss: 2.7739 - val_acc: 0.0596\n",
            "Epoch 12/200\n",
            "65536/65536 [==============================] - 9s 135us/step - loss: 2.7748 - acc: 0.0610 - val_loss: 2.7744 - val_acc: 0.0615\n",
            "Epoch 13/200\n",
            "65536/65536 [==============================] - 9s 134us/step - loss: 2.7747 - acc: 0.0616 - val_loss: 2.7743 - val_acc: 0.0625\n",
            "Epoch 14/200\n",
            " 1216/65536 [..............................] - ETA: 8s - loss: 2.7735 - acc: 0.0666"
          ],
          "name": "stdout"
        },
        {
          "output_type": "stream",
          "text": [
            "65536/65536 [==============================] - 9s 134us/step - loss: 2.7747 - acc: 0.0608 - val_loss: 2.7743 - val_acc: 0.0625\n",
            "Epoch 15/200\n",
            "65536/65536 [==============================] - 9s 135us/step - loss: 2.7746 - acc: 0.0613 - val_loss: 2.7741 - val_acc: 0.0596\n",
            "Epoch 16/200\n",
            "55360/65536 [========================>.....] - ETA: 1s - loss: 2.7745 - acc: 0.0629"
          ],
          "name": "stdout"
        },
        {
          "output_type": "stream",
          "text": [
            "65536/65536 [==============================] - 9s 134us/step - loss: 2.7745 - acc: 0.0625 - val_loss: 2.7741 - val_acc: 0.0635\n",
            "Epoch 17/200\n",
            "65536/65536 [==============================] - 9s 137us/step - loss: 2.7745 - acc: 0.0612 - val_loss: 2.7739 - val_acc: 0.0654\n",
            "Epoch 18/200\n",
            "64384/65536 [============================>.] - ETA: 0s - loss: 2.7745 - acc: 0.0621"
          ],
          "name": "stdout"
        },
        {
          "output_type": "stream",
          "text": [
            "65536/65536 [==============================] - 9s 137us/step - loss: 2.7745 - acc: 0.0620 - val_loss: 2.7739 - val_acc: 0.0615\n",
            "Epoch 19/200\n",
            "65536/65536 [==============================] - 9s 136us/step - loss: 2.7745 - acc: 0.0594 - val_loss: 2.7737 - val_acc: 0.0615\n",
            "Epoch 20/200\n",
            "65536/65536 [==============================] - 9s 134us/step - loss: 2.7744 - acc: 0.0607 - val_loss: 2.7736 - val_acc: 0.0605\n",
            "Epoch 21/200\n",
            " 1984/65536 [..............................] - ETA: 8s - loss: 2.7737 - acc: 0.0590"
          ],
          "name": "stdout"
        },
        {
          "output_type": "stream",
          "text": [
            "65536/65536 [==============================] - 9s 136us/step - loss: 2.7741 - acc: 0.0618 - val_loss: 2.7736 - val_acc: 0.0674\n",
            "Epoch 22/200\n",
            "65536/65536 [==============================] - 9s 134us/step - loss: 2.7742 - acc: 0.0617 - val_loss: 2.7736 - val_acc: 0.0654\n",
            "Epoch 23/200\n",
            "54656/65536 [========================>.....] - ETA: 1s - loss: 2.7740 - acc: 0.0633"
          ],
          "name": "stdout"
        },
        {
          "output_type": "stream",
          "text": [
            "65536/65536 [==============================] - 9s 133us/step - loss: 2.7740 - acc: 0.0632 - val_loss: 2.7737 - val_acc: 0.0654\n",
            "Epoch 24/200\n",
            "65536/65536 [==============================] - 9s 134us/step - loss: 2.7741 - acc: 0.0616 - val_loss: 2.7733 - val_acc: 0.0664\n",
            "Epoch 25/200\n",
            "65536/65536 [==============================] - 9s 134us/step - loss: 2.7742 - acc: 0.0608 - val_loss: 2.7737 - val_acc: 0.0625\n",
            "Epoch 26/200\n",
            "  896/65536 [..............................] - ETA: 9s - loss: 2.7715 - acc: 0.0725"
          ],
          "name": "stdout"
        },
        {
          "output_type": "stream",
          "text": [
            "65536/65536 [==============================] - 9s 132us/step - loss: 2.7741 - acc: 0.0609 - val_loss: 2.7734 - val_acc: 0.0654\n",
            "Epoch 27/200\n",
            "65536/65536 [==============================] - 9s 134us/step - loss: 2.7739 - acc: 0.0623 - val_loss: 2.7737 - val_acc: 0.0596\n",
            "Epoch 28/200\n",
            "55296/65536 [========================>.....] - ETA: 1s - loss: 2.7738 - acc: 0.0611"
          ],
          "name": "stdout"
        },
        {
          "output_type": "stream",
          "text": [
            "65536/65536 [==============================] - 9s 134us/step - loss: 2.7738 - acc: 0.0615 - val_loss: 2.7735 - val_acc: 0.0625\n",
            "Epoch 29/200\n",
            "65536/65536 [==============================] - 9s 135us/step - loss: 2.7738 - acc: 0.0606 - val_loss: 2.7736 - val_acc: 0.0635\n",
            "Epoch 30/200\n",
            "65536/65536 [==============================] - 9s 134us/step - loss: 2.7738 - acc: 0.0596 - val_loss: 2.7730 - val_acc: 0.0635\n",
            "Epoch 31/200\n",
            "  448/65536 [..............................] - ETA: 9s - loss: 2.7709 - acc: 0.0625 "
          ],
          "name": "stdout"
        },
        {
          "output_type": "stream",
          "text": [
            "65536/65536 [==============================] - 9s 135us/step - loss: 2.7737 - acc: 0.0620 - val_loss: 2.7735 - val_acc: 0.0566\n",
            "Epoch 32/200\n",
            "65536/65536 [==============================] - 9s 134us/step - loss: 2.7736 - acc: 0.0618 - val_loss: 2.7730 - val_acc: 0.0654\n",
            "Epoch 33/200\n",
            "56192/65536 [========================>.....] - ETA: 1s - loss: 2.7736 - acc: 0.0618"
          ],
          "name": "stdout"
        },
        {
          "output_type": "stream",
          "text": [
            "65536/65536 [==============================] - 9s 131us/step - loss: 2.7736 - acc: 0.0614 - val_loss: 2.7732 - val_acc: 0.0635\n",
            "Epoch 34/200\n",
            "65536/65536 [==============================] - 9s 135us/step - loss: 2.7736 - acc: 0.0613 - val_loss: 2.7733 - val_acc: 0.0664\n",
            "Epoch 35/200\n",
            "65536/65536 [==============================] - 9s 135us/step - loss: 2.7735 - acc: 0.0609 - val_loss: 2.7733 - val_acc: 0.0615\n",
            "Epoch 36/200\n",
            "  832/65536 [..............................] - ETA: 9s - loss: 2.7736 - acc: 0.0625"
          ],
          "name": "stdout"
        },
        {
          "output_type": "stream",
          "text": [
            "65536/65536 [==============================] - 9s 135us/step - loss: 2.7734 - acc: 0.0613 - val_loss: 2.7730 - val_acc: 0.0625\n",
            "Epoch 37/200\n",
            "65536/65536 [==============================] - 9s 133us/step - loss: 2.7734 - acc: 0.0614 - val_loss: 2.7730 - val_acc: 0.0684\n",
            "Epoch 38/200\n",
            "56384/65536 [========================>.....] - ETA: 1s - loss: 2.7733 - acc: 0.0612"
          ],
          "name": "stdout"
        },
        {
          "output_type": "stream",
          "text": [
            "65536/65536 [==============================] - 9s 132us/step - loss: 2.7733 - acc: 0.0611 - val_loss: 2.7730 - val_acc: 0.0615\n",
            "Epoch 39/200\n",
            "65536/65536 [==============================] - 9s 134us/step - loss: 2.7732 - acc: 0.0599 - val_loss: 2.7729 - val_acc: 0.0664\n",
            "Epoch 40/200\n",
            "65536/65536 [==============================] - 9s 134us/step - loss: 2.7732 - acc: 0.0609 - val_loss: 2.7728 - val_acc: 0.0615\n",
            "Epoch 41/200\n",
            " 1600/65536 [..............................] - ETA: 9s - loss: 2.7733 - acc: 0.0556"
          ],
          "name": "stdout"
        },
        {
          "output_type": "stream",
          "text": [
            "65536/65536 [==============================] - 9s 133us/step - loss: 2.7732 - acc: 0.0590 - val_loss: 2.7727 - val_acc: 0.0645\n",
            "Epoch 42/200\n",
            "65536/65536 [==============================] - 9s 136us/step - loss: 2.7731 - acc: 0.0622 - val_loss: 2.7727 - val_acc: 0.0625\n",
            "Epoch 43/200\n",
            "54656/65536 [========================>.....] - ETA: 1s - loss: 2.7730 - acc: 0.0593"
          ],
          "name": "stdout"
        },
        {
          "output_type": "stream",
          "text": [
            "65536/65536 [==============================] - 9s 134us/step - loss: 2.7730 - acc: 0.0596 - val_loss: 2.7728 - val_acc: 0.0625\n",
            "Epoch 44/200\n",
            "65536/65536 [==============================] - 9s 133us/step - loss: 2.7729 - acc: 0.0603 - val_loss: 2.7727 - val_acc: 0.0635\n",
            "Epoch 45/200\n",
            "65536/65536 [==============================] - 9s 134us/step - loss: 2.7729 - acc: 0.0615 - val_loss: 2.7726 - val_acc: 0.0625\n",
            "Epoch 46/200\n",
            " 1216/65536 [..............................] - ETA: 9s - loss: 2.7728 - acc: 0.0609"
          ],
          "name": "stdout"
        },
        {
          "output_type": "stream",
          "text": [
            "65536/65536 [==============================] - 9s 133us/step - loss: 2.7728 - acc: 0.0603 - val_loss: 2.7726 - val_acc: 0.0625\n",
            "Epoch 47/200\n",
            "65536/65536 [==============================] - 9s 133us/step - loss: 2.7728 - acc: 0.0615 - val_loss: 2.7727 - val_acc: 0.0625\n",
            "Epoch 48/200\n",
            "56704/65536 [========================>.....] - ETA: 1s - loss: 2.7728 - acc: 0.0615"
          ],
          "name": "stdout"
        },
        {
          "output_type": "stream",
          "text": [
            "65536/65536 [==============================] - 9s 133us/step - loss: 2.7728 - acc: 0.0608 - val_loss: 2.7726 - val_acc: 0.0625\n",
            "Epoch 49/200\n",
            "65536/65536 [==============================] - 9s 133us/step - loss: 2.7728 - acc: 0.0620 - val_loss: 2.7726 - val_acc: 0.0625\n",
            "Epoch 50/200\n",
            "65536/65536 [==============================] - 9s 134us/step - loss: 2.7728 - acc: 0.0614 - val_loss: 2.7727 - val_acc: 0.0635\n",
            "Epoch 51/200\n",
            " 2176/65536 [..............................] - ETA: 8s - loss: 2.7724 - acc: 0.0588"
          ],
          "name": "stdout"
        },
        {
          "output_type": "stream",
          "text": [
            "65536/65536 [==============================] - 9s 134us/step - loss: 2.7728 - acc: 0.0616 - val_loss: 2.7726 - val_acc: 0.0615\n",
            "Epoch 52/200\n",
            "65536/65536 [==============================] - 9s 135us/step - loss: 2.7728 - acc: 0.0601 - val_loss: 2.7727 - val_acc: 0.0625\n",
            "Epoch 53/200\n",
            "55232/65536 [========================>.....] - ETA: 1s - loss: 2.7728 - acc: 0.0614"
          ],
          "name": "stdout"
        },
        {
          "output_type": "stream",
          "text": [
            "65536/65536 [==============================] - 9s 134us/step - loss: 2.7728 - acc: 0.0612 - val_loss: 2.7727 - val_acc: 0.0625\n",
            "Epoch 54/200\n",
            "65536/65536 [==============================] - 9s 134us/step - loss: 2.7728 - acc: 0.0607 - val_loss: 2.7726 - val_acc: 0.0605\n",
            "Epoch 55/200\n",
            "65536/65536 [==============================] - 9s 134us/step - loss: 2.7728 - acc: 0.0610 - val_loss: 2.7726 - val_acc: 0.0625\n",
            "Epoch 56/200\n",
            " 1280/65536 [..............................] - ETA: 8s - loss: 2.7726 - acc: 0.0703"
          ],
          "name": "stdout"
        },
        {
          "output_type": "stream",
          "text": [
            "65536/65536 [==============================] - 9s 134us/step - loss: 2.7728 - acc: 0.0618 - val_loss: 2.7726 - val_acc: 0.0654\n",
            "Epoch 57/200\n",
            "65536/65536 [==============================] - 9s 133us/step - loss: 2.7728 - acc: 0.0607 - val_loss: 2.7726 - val_acc: 0.0605\n",
            "Epoch 58/200\n",
            "55296/65536 [========================>.....] - ETA: 1s - loss: 2.7728 - acc: 0.0625"
          ],
          "name": "stdout"
        },
        {
          "output_type": "stream",
          "text": [
            "65536/65536 [==============================] - 9s 135us/step - loss: 2.7728 - acc: 0.0622 - val_loss: 2.7727 - val_acc: 0.0596\n",
            "Epoch 59/200\n",
            "65536/65536 [==============================] - 9s 134us/step - loss: 2.7728 - acc: 0.0605 - val_loss: 2.7727 - val_acc: 0.0625\n",
            "Epoch 60/200\n",
            "65536/65536 [==============================] - 9s 132us/step - loss: 2.7728 - acc: 0.0610 - val_loss: 2.7727 - val_acc: 0.0625\n",
            "Epoch 61/200\n",
            " 2112/65536 [..............................] - ETA: 8s - loss: 2.7731 - acc: 0.0611"
          ],
          "name": "stdout"
        },
        {
          "output_type": "stream",
          "text": [
            "65536/65536 [==============================] - 9s 134us/step - loss: 2.7728 - acc: 0.0618 - val_loss: 2.7727 - val_acc: 0.0625\n",
            "Epoch 62/200\n",
            "65536/65536 [==============================] - 9s 134us/step - loss: 2.7727 - acc: 0.0642 - val_loss: 2.7727 - val_acc: 0.0625\n",
            "Epoch 63/200\n",
            "54976/65536 [========================>.....] - ETA: 1s - loss: 2.7729 - acc: 0.0587"
          ],
          "name": "stdout"
        },
        {
          "output_type": "stream",
          "text": [
            "65536/65536 [==============================] - 9s 136us/step - loss: 2.7729 - acc: 0.0588 - val_loss: 2.7726 - val_acc: 0.0625\n",
            "Epoch 64/200\n",
            "65536/65536 [==============================] - 9s 134us/step - loss: 2.7728 - acc: 0.0602 - val_loss: 2.7726 - val_acc: 0.0625\n",
            "Epoch 65/200\n",
            "65536/65536 [==============================] - 9s 136us/step - loss: 2.7728 - acc: 0.0609 - val_loss: 2.7726 - val_acc: 0.0625\n",
            "Epoch 66/200\n"
          ],
          "name": "stdout"
        },
        {
          "output_type": "stream",
          "text": [
            "65536/65536 [==============================] - 9s 134us/step - loss: 2.7728 - acc: 0.0608 - val_loss: 2.7726 - val_acc: 0.0625\n",
            "Epoch 67/200\n",
            "65536/65536 [==============================] - 9s 134us/step - loss: 2.7728 - acc: 0.0632 - val_loss: 2.7727 - val_acc: 0.0625\n",
            "Epoch 68/200\n",
            "54976/65536 [========================>.....] - ETA: 1s - loss: 2.7728 - acc: 0.0603"
          ],
          "name": "stdout"
        },
        {
          "output_type": "stream",
          "text": [
            "65536/65536 [==============================] - 9s 134us/step - loss: 2.7728 - acc: 0.0609 - val_loss: 2.7727 - val_acc: 0.0625\n",
            "Epoch 69/200\n",
            "65536/65536 [==============================] - 9s 134us/step - loss: 2.7728 - acc: 0.0612 - val_loss: 2.7726 - val_acc: 0.0615\n",
            "Epoch 70/200\n",
            "65536/65536 [==============================] - 9s 135us/step - loss: 2.7728 - acc: 0.0612 - val_loss: 2.7726 - val_acc: 0.0625\n",
            "Epoch 71/200\n",
            "  832/65536 [..............................] - ETA: 9s - loss: 2.7727 - acc: 0.0493"
          ],
          "name": "stdout"
        },
        {
          "output_type": "stream",
          "text": [
            "65536/65536 [==============================] - 9s 134us/step - loss: 2.7728 - acc: 0.0619 - val_loss: 2.7727 - val_acc: 0.0625\n",
            "Epoch 72/200\n",
            "65536/65536 [==============================] - 9s 135us/step - loss: 2.7728 - acc: 0.0625 - val_loss: 2.7726 - val_acc: 0.0625\n",
            "Epoch 73/200\n",
            "55616/65536 [========================>.....] - ETA: 1s - loss: 2.7728 - acc: 0.0596"
          ],
          "name": "stdout"
        },
        {
          "output_type": "stream",
          "text": [
            "65536/65536 [==============================] - 9s 134us/step - loss: 2.7728 - acc: 0.0597 - val_loss: 2.7727 - val_acc: 0.0605\n",
            "Epoch 74/200\n",
            "65536/65536 [==============================] - 9s 141us/step - loss: 2.7728 - acc: 0.0596 - val_loss: 2.7726 - val_acc: 0.0625\n",
            "Epoch 75/200\n",
            "60864/65536 [==========================>...] - ETA: 0s - loss: 2.7728 - acc: 0.0611"
          ],
          "name": "stdout"
        },
        {
          "output_type": "stream",
          "text": [
            "65536/65536 [==============================] - 10s 146us/step - loss: 2.7728 - acc: 0.0614 - val_loss: 2.7726 - val_acc: 0.0625\n",
            "Epoch 76/200\n",
            "65536/65536 [==============================] - 9s 133us/step - loss: 2.7728 - acc: 0.0622 - val_loss: 2.7726 - val_acc: 0.0625\n",
            "Epoch 77/200\n",
            "65536/65536 [==============================] - 9s 133us/step - loss: 2.7728 - acc: 0.0603 - val_loss: 2.7726 - val_acc: 0.0625\n",
            "Epoch 78/200\n",
            " 2368/65536 [>.............................] - ETA: 8s - loss: 2.7727 - acc: 0.0570"
          ],
          "name": "stdout"
        },
        {
          "output_type": "stream",
          "text": [
            "65536/65536 [==============================] - 9s 132us/step - loss: 2.7728 - acc: 0.0608 - val_loss: 2.7726 - val_acc: 0.0635\n",
            "Epoch 79/200\n",
            "65536/65536 [==============================] - 9s 133us/step - loss: 2.7728 - acc: 0.0599 - val_loss: 2.7726 - val_acc: 0.0625\n",
            "Epoch 80/200\n",
            "56768/65536 [========================>.....] - ETA: 1s - loss: 2.7728 - acc: 0.0622"
          ],
          "name": "stdout"
        },
        {
          "output_type": "stream",
          "text": [
            "65536/65536 [==============================] - 9s 133us/step - loss: 2.7728 - acc: 0.0624 - val_loss: 2.7727 - val_acc: 0.0625\n",
            "Epoch 81/200\n",
            "65536/65536 [==============================] - 9s 132us/step - loss: 2.7728 - acc: 0.0622 - val_loss: 2.7727 - val_acc: 0.0615\n",
            "Epoch 82/200\n",
            "65536/65536 [==============================] - 9s 133us/step - loss: 2.7728 - acc: 0.0612 - val_loss: 2.7727 - val_acc: 0.0615\n",
            "Epoch 83/200\n",
            " 2432/65536 [>.............................] - ETA: 8s - loss: 2.7732 - acc: 0.0572"
          ],
          "name": "stdout"
        },
        {
          "output_type": "stream",
          "text": [
            "65536/65536 [==============================] - 9s 134us/step - loss: 2.7729 - acc: 0.0612 - val_loss: 2.7726 - val_acc: 0.0625\n",
            "Epoch 84/200\n",
            "65536/65536 [==============================] - 9s 134us/step - loss: 2.7728 - acc: 0.0607 - val_loss: 2.7726 - val_acc: 0.0635\n",
            "Epoch 85/200\n",
            "52864/65536 [=======================>......] - ETA: 1s - loss: 2.7728 - acc: 0.0626"
          ],
          "name": "stdout"
        },
        {
          "output_type": "stream",
          "text": [
            "65536/65536 [==============================] - 9s 141us/step - loss: 2.7728 - acc: 0.0617 - val_loss: 2.7726 - val_acc: 0.0625\n",
            "Epoch 86/200\n",
            "65536/65536 [==============================] - 9s 140us/step - loss: 2.7728 - acc: 0.0609 - val_loss: 2.7726 - val_acc: 0.0625\n",
            "Epoch 87/200\n",
            " 5888/65536 [=>............................] - ETA: 8s - loss: 2.7727 - acc: 0.0566"
          ],
          "name": "stdout"
        },
        {
          "output_type": "error",
          "ename": "KeyboardInterrupt",
          "evalue": "ignored",
          "traceback": [
            "\u001b[0;31m---------------------------------------------------------------------------\u001b[0m",
            "\u001b[0;31mKeyboardInterrupt\u001b[0m                         Traceback (most recent call last)",
            "\u001b[0;32m<ipython-input-27-45ceb1e31b53>\u001b[0m in \u001b[0;36m<module>\u001b[0;34m()\u001b[0m\n\u001b[1;32m      6\u001b[0m \u001b[0;31m# model.add(BatchNormalization())\u001b[0m\u001b[0;34m\u001b[0m\u001b[0;34m\u001b[0m\u001b[0m\n\u001b[1;32m      7\u001b[0m \u001b[0mmodel\u001b[0m\u001b[0;34m.\u001b[0m\u001b[0madd\u001b[0m\u001b[0;34m(\u001b[0m\u001b[0mDense\u001b[0m\u001b[0;34m(\u001b[0m\u001b[0;36m16\u001b[0m\u001b[0;34m,\u001b[0m \u001b[0mactivation\u001b[0m\u001b[0;34m=\u001b[0m\u001b[0;34m'softmax'\u001b[0m\u001b[0;34m)\u001b[0m\u001b[0;34m)\u001b[0m\u001b[0;34m\u001b[0m\u001b[0m\n\u001b[0;32m----> 8\u001b[0;31m \u001b[0mtry_model\u001b[0m\u001b[0;34m(\u001b[0m\u001b[0mmodel\u001b[0m\u001b[0;34m,\u001b[0m \u001b[0mdefault_data\u001b[0m\u001b[0;34m,\u001b[0m \u001b[0;34m'shallow_net'\u001b[0m\u001b[0;34m,\u001b[0m \u001b[0mepochs\u001b[0m\u001b[0;34m=\u001b[0m\u001b[0;36m200\u001b[0m\u001b[0;34m)\u001b[0m\u001b[0;34m\u001b[0m\u001b[0m\n\u001b[0m",
            "\u001b[0;32m<ipython-input-21-35f20a791b42>\u001b[0m in \u001b[0;36mtry_model\u001b[0;34m(model, data, name, epochs, verbose)\u001b[0m\n\u001b[1;32m      7\u001b[0m   history = model.fit(data['x_train'], data['y_train'], \n\u001b[1;32m      8\u001b[0m             \u001b[0mepochs\u001b[0m\u001b[0;34m=\u001b[0m\u001b[0mepochs\u001b[0m\u001b[0;34m,\u001b[0m \u001b[0mbatch_size\u001b[0m\u001b[0;34m=\u001b[0m\u001b[0;36m64\u001b[0m\u001b[0;34m,\u001b[0m \u001b[0mverbose\u001b[0m\u001b[0;34m=\u001b[0m\u001b[0mverbose\u001b[0m\u001b[0;34m,\u001b[0m\u001b[0;34m\u001b[0m\u001b[0m\n\u001b[0;32m----> 9\u001b[0;31m             validation_data=(data['x_val'], data['y_val']))  \n\u001b[0m\u001b[1;32m     10\u001b[0m   \u001b[0mscore\u001b[0m \u001b[0;34m=\u001b[0m \u001b[0mmodel\u001b[0m\u001b[0;34m.\u001b[0m\u001b[0mevaluate\u001b[0m\u001b[0;34m(\u001b[0m\u001b[0mdata\u001b[0m\u001b[0;34m[\u001b[0m\u001b[0;34m'x_test'\u001b[0m\u001b[0;34m]\u001b[0m\u001b[0;34m,\u001b[0m \u001b[0mdata\u001b[0m\u001b[0;34m[\u001b[0m\u001b[0;34m'y_test'\u001b[0m\u001b[0;34m]\u001b[0m\u001b[0;34m)\u001b[0m\u001b[0;34m\u001b[0m\u001b[0m\n\u001b[1;32m     11\u001b[0m   \u001b[0mprint\u001b[0m\u001b[0;34m(\u001b[0m\u001b[0;34m'Test accuracy: {}'\u001b[0m\u001b[0;34m.\u001b[0m\u001b[0mformat\u001b[0m\u001b[0;34m(\u001b[0m\u001b[0mscore\u001b[0m\u001b[0;34m)\u001b[0m\u001b[0;34m)\u001b[0m\u001b[0;34m\u001b[0m\u001b[0m\n",
            "\u001b[0;32m/usr/local/lib/python3.6/dist-packages/keras/models.py\u001b[0m in \u001b[0;36mfit\u001b[0;34m(self, x, y, batch_size, epochs, verbose, callbacks, validation_split, validation_data, shuffle, class_weight, sample_weight, initial_epoch, steps_per_epoch, validation_steps, **kwargs)\u001b[0m\n\u001b[1;32m   1000\u001b[0m                               \u001b[0minitial_epoch\u001b[0m\u001b[0;34m=\u001b[0m\u001b[0minitial_epoch\u001b[0m\u001b[0;34m,\u001b[0m\u001b[0;34m\u001b[0m\u001b[0m\n\u001b[1;32m   1001\u001b[0m                               \u001b[0msteps_per_epoch\u001b[0m\u001b[0;34m=\u001b[0m\u001b[0msteps_per_epoch\u001b[0m\u001b[0;34m,\u001b[0m\u001b[0;34m\u001b[0m\u001b[0m\n\u001b[0;32m-> 1002\u001b[0;31m                               validation_steps=validation_steps)\n\u001b[0m\u001b[1;32m   1003\u001b[0m \u001b[0;34m\u001b[0m\u001b[0m\n\u001b[1;32m   1004\u001b[0m     def evaluate(self, x=None, y=None,\n",
            "\u001b[0;32m/usr/local/lib/python3.6/dist-packages/keras/engine/training.py\u001b[0m in \u001b[0;36mfit\u001b[0;34m(self, x, y, batch_size, epochs, verbose, callbacks, validation_split, validation_data, shuffle, class_weight, sample_weight, initial_epoch, steps_per_epoch, validation_steps, **kwargs)\u001b[0m\n\u001b[1;32m   1703\u001b[0m                               \u001b[0minitial_epoch\u001b[0m\u001b[0;34m=\u001b[0m\u001b[0minitial_epoch\u001b[0m\u001b[0;34m,\u001b[0m\u001b[0;34m\u001b[0m\u001b[0m\n\u001b[1;32m   1704\u001b[0m                               \u001b[0msteps_per_epoch\u001b[0m\u001b[0;34m=\u001b[0m\u001b[0msteps_per_epoch\u001b[0m\u001b[0;34m,\u001b[0m\u001b[0;34m\u001b[0m\u001b[0m\n\u001b[0;32m-> 1705\u001b[0;31m                               validation_steps=validation_steps)\n\u001b[0m\u001b[1;32m   1706\u001b[0m \u001b[0;34m\u001b[0m\u001b[0m\n\u001b[1;32m   1707\u001b[0m     def evaluate(self, x=None, y=None,\n",
            "\u001b[0;32m/usr/local/lib/python3.6/dist-packages/keras/engine/training.py\u001b[0m in \u001b[0;36m_fit_loop\u001b[0;34m(self, f, ins, out_labels, batch_size, epochs, verbose, callbacks, val_f, val_ins, shuffle, callback_metrics, initial_epoch, steps_per_epoch, validation_steps)\u001b[0m\n\u001b[1;32m   1234\u001b[0m                         \u001b[0mins_batch\u001b[0m\u001b[0;34m[\u001b[0m\u001b[0mi\u001b[0m\u001b[0;34m]\u001b[0m \u001b[0;34m=\u001b[0m \u001b[0mins_batch\u001b[0m\u001b[0;34m[\u001b[0m\u001b[0mi\u001b[0m\u001b[0;34m]\u001b[0m\u001b[0;34m.\u001b[0m\u001b[0mtoarray\u001b[0m\u001b[0;34m(\u001b[0m\u001b[0;34m)\u001b[0m\u001b[0;34m\u001b[0m\u001b[0m\n\u001b[1;32m   1235\u001b[0m \u001b[0;34m\u001b[0m\u001b[0m\n\u001b[0;32m-> 1236\u001b[0;31m                     \u001b[0mouts\u001b[0m \u001b[0;34m=\u001b[0m \u001b[0mf\u001b[0m\u001b[0;34m(\u001b[0m\u001b[0mins_batch\u001b[0m\u001b[0;34m)\u001b[0m\u001b[0;34m\u001b[0m\u001b[0m\n\u001b[0m\u001b[1;32m   1237\u001b[0m                     \u001b[0;32mif\u001b[0m \u001b[0;32mnot\u001b[0m \u001b[0misinstance\u001b[0m\u001b[0;34m(\u001b[0m\u001b[0mouts\u001b[0m\u001b[0;34m,\u001b[0m \u001b[0mlist\u001b[0m\u001b[0;34m)\u001b[0m\u001b[0;34m:\u001b[0m\u001b[0;34m\u001b[0m\u001b[0m\n\u001b[1;32m   1238\u001b[0m                         \u001b[0mouts\u001b[0m \u001b[0;34m=\u001b[0m \u001b[0;34m[\u001b[0m\u001b[0mouts\u001b[0m\u001b[0;34m]\u001b[0m\u001b[0;34m\u001b[0m\u001b[0m\n",
            "\u001b[0;32m/usr/local/lib/python3.6/dist-packages/keras/backend/tensorflow_backend.py\u001b[0m in \u001b[0;36m__call__\u001b[0;34m(self, inputs)\u001b[0m\n\u001b[1;32m   2480\u001b[0m         \u001b[0msession\u001b[0m \u001b[0;34m=\u001b[0m \u001b[0mget_session\u001b[0m\u001b[0;34m(\u001b[0m\u001b[0;34m)\u001b[0m\u001b[0;34m\u001b[0m\u001b[0m\n\u001b[1;32m   2481\u001b[0m         updated = session.run(fetches=fetches, feed_dict=feed_dict,\n\u001b[0;32m-> 2482\u001b[0;31m                               **self.session_kwargs)\n\u001b[0m\u001b[1;32m   2483\u001b[0m         \u001b[0;32mreturn\u001b[0m \u001b[0mupdated\u001b[0m\u001b[0;34m[\u001b[0m\u001b[0;34m:\u001b[0m\u001b[0mlen\u001b[0m\u001b[0;34m(\u001b[0m\u001b[0mself\u001b[0m\u001b[0;34m.\u001b[0m\u001b[0moutputs\u001b[0m\u001b[0;34m)\u001b[0m\u001b[0;34m]\u001b[0m\u001b[0;34m\u001b[0m\u001b[0m\n\u001b[1;32m   2484\u001b[0m \u001b[0;34m\u001b[0m\u001b[0m\n",
            "\u001b[0;32m/usr/local/lib/python3.6/dist-packages/tensorflow/python/client/session.py\u001b[0m in \u001b[0;36mrun\u001b[0;34m(self, fetches, feed_dict, options, run_metadata)\u001b[0m\n\u001b[1;32m    903\u001b[0m     \u001b[0;32mtry\u001b[0m\u001b[0;34m:\u001b[0m\u001b[0;34m\u001b[0m\u001b[0m\n\u001b[1;32m    904\u001b[0m       result = self._run(None, fetches, feed_dict, options_ptr,\n\u001b[0;32m--> 905\u001b[0;31m                          run_metadata_ptr)\n\u001b[0m\u001b[1;32m    906\u001b[0m       \u001b[0;32mif\u001b[0m \u001b[0mrun_metadata\u001b[0m\u001b[0;34m:\u001b[0m\u001b[0;34m\u001b[0m\u001b[0m\n\u001b[1;32m    907\u001b[0m         \u001b[0mproto_data\u001b[0m \u001b[0;34m=\u001b[0m \u001b[0mtf_session\u001b[0m\u001b[0;34m.\u001b[0m\u001b[0mTF_GetBuffer\u001b[0m\u001b[0;34m(\u001b[0m\u001b[0mrun_metadata_ptr\u001b[0m\u001b[0;34m)\u001b[0m\u001b[0;34m\u001b[0m\u001b[0m\n",
            "\u001b[0;32m/usr/local/lib/python3.6/dist-packages/tensorflow/python/client/session.py\u001b[0m in \u001b[0;36m_run\u001b[0;34m(self, handle, fetches, feed_dict, options, run_metadata)\u001b[0m\n\u001b[1;32m   1138\u001b[0m     \u001b[0;32mif\u001b[0m \u001b[0mfinal_fetches\u001b[0m \u001b[0;32mor\u001b[0m \u001b[0mfinal_targets\u001b[0m \u001b[0;32mor\u001b[0m \u001b[0;34m(\u001b[0m\u001b[0mhandle\u001b[0m \u001b[0;32mand\u001b[0m \u001b[0mfeed_dict_tensor\u001b[0m\u001b[0;34m)\u001b[0m\u001b[0;34m:\u001b[0m\u001b[0;34m\u001b[0m\u001b[0m\n\u001b[1;32m   1139\u001b[0m       results = self._do_run(handle, final_targets, final_fetches,\n\u001b[0;32m-> 1140\u001b[0;31m                              feed_dict_tensor, options, run_metadata)\n\u001b[0m\u001b[1;32m   1141\u001b[0m     \u001b[0;32melse\u001b[0m\u001b[0;34m:\u001b[0m\u001b[0;34m\u001b[0m\u001b[0m\n\u001b[1;32m   1142\u001b[0m       \u001b[0mresults\u001b[0m \u001b[0;34m=\u001b[0m \u001b[0;34m[\u001b[0m\u001b[0;34m]\u001b[0m\u001b[0;34m\u001b[0m\u001b[0m\n",
            "\u001b[0;32m/usr/local/lib/python3.6/dist-packages/tensorflow/python/client/session.py\u001b[0m in \u001b[0;36m_do_run\u001b[0;34m(self, handle, target_list, fetch_list, feed_dict, options, run_metadata)\u001b[0m\n\u001b[1;32m   1319\u001b[0m     \u001b[0;32mif\u001b[0m \u001b[0mhandle\u001b[0m \u001b[0;32mis\u001b[0m \u001b[0;32mNone\u001b[0m\u001b[0;34m:\u001b[0m\u001b[0;34m\u001b[0m\u001b[0m\n\u001b[1;32m   1320\u001b[0m       return self._do_call(_run_fn, feeds, fetches, targets, options,\n\u001b[0;32m-> 1321\u001b[0;31m                            run_metadata)\n\u001b[0m\u001b[1;32m   1322\u001b[0m     \u001b[0;32melse\u001b[0m\u001b[0;34m:\u001b[0m\u001b[0;34m\u001b[0m\u001b[0m\n\u001b[1;32m   1323\u001b[0m       \u001b[0;32mreturn\u001b[0m \u001b[0mself\u001b[0m\u001b[0;34m.\u001b[0m\u001b[0m_do_call\u001b[0m\u001b[0;34m(\u001b[0m\u001b[0m_prun_fn\u001b[0m\u001b[0;34m,\u001b[0m \u001b[0mhandle\u001b[0m\u001b[0;34m,\u001b[0m \u001b[0mfeeds\u001b[0m\u001b[0;34m,\u001b[0m \u001b[0mfetches\u001b[0m\u001b[0;34m)\u001b[0m\u001b[0;34m\u001b[0m\u001b[0m\n",
            "\u001b[0;32m/usr/local/lib/python3.6/dist-packages/tensorflow/python/client/session.py\u001b[0m in \u001b[0;36m_do_call\u001b[0;34m(self, fn, *args)\u001b[0m\n\u001b[1;32m   1325\u001b[0m   \u001b[0;32mdef\u001b[0m \u001b[0m_do_call\u001b[0m\u001b[0;34m(\u001b[0m\u001b[0mself\u001b[0m\u001b[0;34m,\u001b[0m \u001b[0mfn\u001b[0m\u001b[0;34m,\u001b[0m \u001b[0;34m*\u001b[0m\u001b[0margs\u001b[0m\u001b[0;34m)\u001b[0m\u001b[0;34m:\u001b[0m\u001b[0;34m\u001b[0m\u001b[0m\n\u001b[1;32m   1326\u001b[0m     \u001b[0;32mtry\u001b[0m\u001b[0;34m:\u001b[0m\u001b[0;34m\u001b[0m\u001b[0m\n\u001b[0;32m-> 1327\u001b[0;31m       \u001b[0;32mreturn\u001b[0m \u001b[0mfn\u001b[0m\u001b[0;34m(\u001b[0m\u001b[0;34m*\u001b[0m\u001b[0margs\u001b[0m\u001b[0;34m)\u001b[0m\u001b[0;34m\u001b[0m\u001b[0m\n\u001b[0m\u001b[1;32m   1328\u001b[0m     \u001b[0;32mexcept\u001b[0m \u001b[0merrors\u001b[0m\u001b[0;34m.\u001b[0m\u001b[0mOpError\u001b[0m \u001b[0;32mas\u001b[0m \u001b[0me\u001b[0m\u001b[0;34m:\u001b[0m\u001b[0;34m\u001b[0m\u001b[0m\n\u001b[1;32m   1329\u001b[0m       \u001b[0mmessage\u001b[0m \u001b[0;34m=\u001b[0m \u001b[0mcompat\u001b[0m\u001b[0;34m.\u001b[0m\u001b[0mas_text\u001b[0m\u001b[0;34m(\u001b[0m\u001b[0me\u001b[0m\u001b[0;34m.\u001b[0m\u001b[0mmessage\u001b[0m\u001b[0;34m)\u001b[0m\u001b[0;34m\u001b[0m\u001b[0m\n",
            "\u001b[0;32m/usr/local/lib/python3.6/dist-packages/tensorflow/python/client/session.py\u001b[0m in \u001b[0;36m_run_fn\u001b[0;34m(feed_dict, fetch_list, target_list, options, run_metadata)\u001b[0m\n\u001b[1;32m   1310\u001b[0m       \u001b[0mself\u001b[0m\u001b[0;34m.\u001b[0m\u001b[0m_extend_graph\u001b[0m\u001b[0;34m(\u001b[0m\u001b[0;34m)\u001b[0m\u001b[0;34m\u001b[0m\u001b[0m\n\u001b[1;32m   1311\u001b[0m       return self._call_tf_sessionrun(\n\u001b[0;32m-> 1312\u001b[0;31m           options, feed_dict, fetch_list, target_list, run_metadata)\n\u001b[0m\u001b[1;32m   1313\u001b[0m \u001b[0;34m\u001b[0m\u001b[0m\n\u001b[1;32m   1314\u001b[0m     \u001b[0;32mdef\u001b[0m \u001b[0m_prun_fn\u001b[0m\u001b[0;34m(\u001b[0m\u001b[0mhandle\u001b[0m\u001b[0;34m,\u001b[0m \u001b[0mfeed_dict\u001b[0m\u001b[0;34m,\u001b[0m \u001b[0mfetch_list\u001b[0m\u001b[0;34m)\u001b[0m\u001b[0;34m:\u001b[0m\u001b[0;34m\u001b[0m\u001b[0m\n",
            "\u001b[0;32m/usr/local/lib/python3.6/dist-packages/tensorflow/python/client/session.py\u001b[0m in \u001b[0;36m_call_tf_sessionrun\u001b[0;34m(self, options, feed_dict, fetch_list, target_list, run_metadata)\u001b[0m\n\u001b[1;32m   1418\u001b[0m         return tf_session.TF_Run(\n\u001b[1;32m   1419\u001b[0m             \u001b[0mself\u001b[0m\u001b[0;34m.\u001b[0m\u001b[0m_session\u001b[0m\u001b[0;34m,\u001b[0m \u001b[0moptions\u001b[0m\u001b[0;34m,\u001b[0m \u001b[0mfeed_dict\u001b[0m\u001b[0;34m,\u001b[0m \u001b[0mfetch_list\u001b[0m\u001b[0;34m,\u001b[0m \u001b[0mtarget_list\u001b[0m\u001b[0;34m,\u001b[0m\u001b[0;34m\u001b[0m\u001b[0m\n\u001b[0;32m-> 1420\u001b[0;31m             status, run_metadata)\n\u001b[0m\u001b[1;32m   1421\u001b[0m \u001b[0;34m\u001b[0m\u001b[0m\n\u001b[1;32m   1422\u001b[0m   \u001b[0;32mdef\u001b[0m \u001b[0m_call_tf_sessionprun\u001b[0m\u001b[0;34m(\u001b[0m\u001b[0mself\u001b[0m\u001b[0;34m,\u001b[0m \u001b[0mhandle\u001b[0m\u001b[0;34m,\u001b[0m \u001b[0mfeed_dict\u001b[0m\u001b[0;34m,\u001b[0m \u001b[0mfetch_list\u001b[0m\u001b[0;34m)\u001b[0m\u001b[0;34m:\u001b[0m\u001b[0;34m\u001b[0m\u001b[0m\n",
            "\u001b[0;31mKeyboardInterrupt\u001b[0m: "
          ]
        }
      ]
    },
    {
      "metadata": {
        "id": "5RBzxjUmLMPs",
        "colab_type": "code",
        "colab": {
          "base_uri": "https://localhost:8080/",
          "height": 742
        },
        "outputId": "42e99da2-a4d4-4ebb-f8aa-55ac44c849e3"
      },
      "cell_type": "code",
      "source": [
        "from keras.models import Sequential\n",
        "from keras.layers import Dense, Activation, Conv2D, Flatten, AveragePooling2D, MaxPooling2D, Dropout, BatchNormalization\n",
        "from keras.layers import Reshape, Permute\n",
        "from keras import regularizers\n",
        "import keras\n",
        "\n",
        "shallow_net = Sequential([\n",
        "    Reshape(input_shape=(None,2), target_shape=(2,1)),    \n",
        "    Conv1D(filters = 40, kernel_size =(1, 2), activation='elu', kernel_regularizer=regularizers.l2(0.01)),\n",
        "    BatchNormalization(),\n",
        "    AveragePooling2D(pool_size=(1, 75), strides=(1, 30)),  \n",
        "    Flatten(),\n",
        "    BatchNormalization(),\n",
        "    Dropout(rate=.7),\n",
        "    Dense(4, activation='softmax', kernel_regularizer=regularizers.l2(0.01))\n",
        "])\n",
        "\n",
        "try_model(shallow_net, data, 'shallow_net', epochs=100)"
      ],
      "execution_count": 185,
      "outputs": [
        {
          "output_type": "error",
          "ename": "ValueError",
          "evalue": "ignored",
          "traceback": [
            "\u001b[0;31m---------------------------------------------------------------------------\u001b[0m",
            "\u001b[0;31mValueError\u001b[0m                                Traceback (most recent call last)",
            "\u001b[0;32m<ipython-input-185-55fff3b08df9>\u001b[0m in \u001b[0;36m<module>\u001b[0;34m()\u001b[0m\n\u001b[1;32m      6\u001b[0m \u001b[0;34m\u001b[0m\u001b[0m\n\u001b[1;32m      7\u001b[0m shallow_net = Sequential([\n\u001b[0;32m----> 8\u001b[0;31m     \u001b[0mConv1D\u001b[0m\u001b[0;34m(\u001b[0m\u001b[0mfilters\u001b[0m \u001b[0;34m=\u001b[0m \u001b[0;36m40\u001b[0m\u001b[0;34m,\u001b[0m \u001b[0mkernel_size\u001b[0m \u001b[0;34m=\u001b[0m\u001b[0;34m(\u001b[0m\u001b[0;36m1\u001b[0m\u001b[0;34m,\u001b[0m \u001b[0;36m10\u001b[0m\u001b[0;34m)\u001b[0m\u001b[0;34m,\u001b[0m \u001b[0minput_shape\u001b[0m\u001b[0;34m=\u001b[0m\u001b[0;34m(\u001b[0m \u001b[0;36m16\u001b[0m \u001b[0;34m,\u001b[0m\u001b[0;36m2\u001b[0m\u001b[0;34m,\u001b[0m \u001b[0;36m1\u001b[0m\u001b[0;34m)\u001b[0m\u001b[0;34m,\u001b[0m \u001b[0mactivation\u001b[0m\u001b[0;34m=\u001b[0m\u001b[0;34m'elu'\u001b[0m\u001b[0;34m,\u001b[0m \u001b[0mkernel_regularizer\u001b[0m\u001b[0;34m=\u001b[0m\u001b[0mregularizers\u001b[0m\u001b[0;34m.\u001b[0m\u001b[0ml2\u001b[0m\u001b[0;34m(\u001b[0m\u001b[0;36m0.01\u001b[0m\u001b[0;34m)\u001b[0m\u001b[0;34m)\u001b[0m\u001b[0;34m,\u001b[0m\u001b[0;34m\u001b[0m\u001b[0m\n\u001b[0m\u001b[1;32m      9\u001b[0m     \u001b[0mBatchNormalization\u001b[0m\u001b[0;34m(\u001b[0m\u001b[0;34m)\u001b[0m\u001b[0;34m,\u001b[0m\u001b[0;34m\u001b[0m\u001b[0m\n\u001b[1;32m     10\u001b[0m     \u001b[0mDense\u001b[0m\u001b[0;34m(\u001b[0m\u001b[0;36m16\u001b[0m\u001b[0;34m,\u001b[0m \u001b[0mactivation\u001b[0m\u001b[0;34m=\u001b[0m\u001b[0;34m'softmax'\u001b[0m\u001b[0;34m,\u001b[0m \u001b[0mkernel_regularizer\u001b[0m\u001b[0;34m=\u001b[0m\u001b[0mregularizers\u001b[0m\u001b[0;34m.\u001b[0m\u001b[0ml2\u001b[0m\u001b[0;34m(\u001b[0m\u001b[0;36m0.01\u001b[0m\u001b[0;34m)\u001b[0m\u001b[0;34m)\u001b[0m\u001b[0;34m\u001b[0m\u001b[0m\n",
            "\u001b[0;32m/usr/local/lib/python3.6/dist-packages/keras/legacy/interfaces.py\u001b[0m in \u001b[0;36mwrapper\u001b[0;34m(*args, **kwargs)\u001b[0m\n\u001b[1;32m     89\u001b[0m                 warnings.warn('Update your `' + object_name +\n\u001b[1;32m     90\u001b[0m                               '` call to the Keras 2 API: ' + signature, stacklevel=2)\n\u001b[0;32m---> 91\u001b[0;31m             \u001b[0;32mreturn\u001b[0m \u001b[0mfunc\u001b[0m\u001b[0;34m(\u001b[0m\u001b[0;34m*\u001b[0m\u001b[0margs\u001b[0m\u001b[0;34m,\u001b[0m \u001b[0;34m**\u001b[0m\u001b[0mkwargs\u001b[0m\u001b[0;34m)\u001b[0m\u001b[0;34m\u001b[0m\u001b[0m\n\u001b[0m\u001b[1;32m     92\u001b[0m         \u001b[0mwrapper\u001b[0m\u001b[0;34m.\u001b[0m\u001b[0m_original_function\u001b[0m \u001b[0;34m=\u001b[0m \u001b[0mfunc\u001b[0m\u001b[0;34m\u001b[0m\u001b[0m\n\u001b[1;32m     93\u001b[0m         \u001b[0;32mreturn\u001b[0m \u001b[0mwrapper\u001b[0m\u001b[0;34m\u001b[0m\u001b[0m\n",
            "\u001b[0;32m/usr/local/lib/python3.6/dist-packages/keras/layers/convolutional.py\u001b[0m in \u001b[0;36m__init__\u001b[0;34m(self, filters, kernel_size, strides, padding, dilation_rate, activation, use_bias, kernel_initializer, bias_initializer, kernel_regularizer, bias_regularizer, activity_regularizer, kernel_constraint, bias_constraint, **kwargs)\u001b[0m\n\u001b[1;32m    335\u001b[0m             \u001b[0mkernel_constraint\u001b[0m\u001b[0;34m=\u001b[0m\u001b[0mkernel_constraint\u001b[0m\u001b[0;34m,\u001b[0m\u001b[0;34m\u001b[0m\u001b[0m\n\u001b[1;32m    336\u001b[0m             \u001b[0mbias_constraint\u001b[0m\u001b[0;34m=\u001b[0m\u001b[0mbias_constraint\u001b[0m\u001b[0;34m,\u001b[0m\u001b[0;34m\u001b[0m\u001b[0m\n\u001b[0;32m--> 337\u001b[0;31m             **kwargs)\n\u001b[0m\u001b[1;32m    338\u001b[0m         \u001b[0mself\u001b[0m\u001b[0;34m.\u001b[0m\u001b[0minput_spec\u001b[0m \u001b[0;34m=\u001b[0m \u001b[0mInputSpec\u001b[0m\u001b[0;34m(\u001b[0m\u001b[0mndim\u001b[0m\u001b[0;34m=\u001b[0m\u001b[0;36m3\u001b[0m\u001b[0;34m)\u001b[0m\u001b[0;34m\u001b[0m\u001b[0m\n\u001b[1;32m    339\u001b[0m \u001b[0;34m\u001b[0m\u001b[0m\n",
            "\u001b[0;32m/usr/local/lib/python3.6/dist-packages/keras/layers/convolutional.py\u001b[0m in \u001b[0;36m__init__\u001b[0;34m(self, rank, filters, kernel_size, strides, padding, data_format, dilation_rate, activation, use_bias, kernel_initializer, bias_initializer, kernel_regularizer, bias_regularizer, activity_regularizer, kernel_constraint, bias_constraint, **kwargs)\u001b[0m\n\u001b[1;32m    105\u001b[0m         \u001b[0mself\u001b[0m\u001b[0;34m.\u001b[0m\u001b[0mrank\u001b[0m \u001b[0;34m=\u001b[0m \u001b[0mrank\u001b[0m\u001b[0;34m\u001b[0m\u001b[0m\n\u001b[1;32m    106\u001b[0m         \u001b[0mself\u001b[0m\u001b[0;34m.\u001b[0m\u001b[0mfilters\u001b[0m \u001b[0;34m=\u001b[0m \u001b[0mfilters\u001b[0m\u001b[0;34m\u001b[0m\u001b[0m\n\u001b[0;32m--> 107\u001b[0;31m         \u001b[0mself\u001b[0m\u001b[0;34m.\u001b[0m\u001b[0mkernel_size\u001b[0m \u001b[0;34m=\u001b[0m \u001b[0mconv_utils\u001b[0m\u001b[0;34m.\u001b[0m\u001b[0mnormalize_tuple\u001b[0m\u001b[0;34m(\u001b[0m\u001b[0mkernel_size\u001b[0m\u001b[0;34m,\u001b[0m \u001b[0mrank\u001b[0m\u001b[0;34m,\u001b[0m \u001b[0;34m'kernel_size'\u001b[0m\u001b[0;34m)\u001b[0m\u001b[0;34m\u001b[0m\u001b[0m\n\u001b[0m\u001b[1;32m    108\u001b[0m         \u001b[0mself\u001b[0m\u001b[0;34m.\u001b[0m\u001b[0mstrides\u001b[0m \u001b[0;34m=\u001b[0m \u001b[0mconv_utils\u001b[0m\u001b[0;34m.\u001b[0m\u001b[0mnormalize_tuple\u001b[0m\u001b[0;34m(\u001b[0m\u001b[0mstrides\u001b[0m\u001b[0;34m,\u001b[0m \u001b[0mrank\u001b[0m\u001b[0;34m,\u001b[0m \u001b[0;34m'strides'\u001b[0m\u001b[0;34m)\u001b[0m\u001b[0;34m\u001b[0m\u001b[0m\n\u001b[1;32m    109\u001b[0m         \u001b[0mself\u001b[0m\u001b[0;34m.\u001b[0m\u001b[0mpadding\u001b[0m \u001b[0;34m=\u001b[0m \u001b[0mconv_utils\u001b[0m\u001b[0;34m.\u001b[0m\u001b[0mnormalize_padding\u001b[0m\u001b[0;34m(\u001b[0m\u001b[0mpadding\u001b[0m\u001b[0;34m)\u001b[0m\u001b[0;34m\u001b[0m\u001b[0m\n",
            "\u001b[0;32m/usr/local/lib/python3.6/dist-packages/keras/utils/conv_utils.py\u001b[0m in \u001b[0;36mnormalize_tuple\u001b[0;34m(value, n, name)\u001b[0m\n\u001b[1;32m     37\u001b[0m         \u001b[0;32mif\u001b[0m \u001b[0mlen\u001b[0m\u001b[0;34m(\u001b[0m\u001b[0mvalue_tuple\u001b[0m\u001b[0;34m)\u001b[0m \u001b[0;34m!=\u001b[0m \u001b[0mn\u001b[0m\u001b[0;34m:\u001b[0m\u001b[0;34m\u001b[0m\u001b[0m\n\u001b[1;32m     38\u001b[0m             raise ValueError('The `' + name + '` argument must be a tuple of ' +\n\u001b[0;32m---> 39\u001b[0;31m                              str(n) + ' integers. Received: ' + str(value))\n\u001b[0m\u001b[1;32m     40\u001b[0m         \u001b[0;32mfor\u001b[0m \u001b[0msingle_value\u001b[0m \u001b[0;32min\u001b[0m \u001b[0mvalue_tuple\u001b[0m\u001b[0;34m:\u001b[0m\u001b[0;34m\u001b[0m\u001b[0m\n\u001b[1;32m     41\u001b[0m             \u001b[0;32mtry\u001b[0m\u001b[0;34m:\u001b[0m\u001b[0;34m\u001b[0m\u001b[0m\n",
            "\u001b[0;31mValueError\u001b[0m: The `kernel_size` argument must be a tuple of 1 integers. Received: (1, 10)"
          ]
        }
      ]
    },
    {
      "metadata": {
        "id": "TE_gq9z69jRQ",
        "colab_type": "code",
        "colab": {
          "base_uri": "https://localhost:8080/",
          "height": 393
        },
        "outputId": "c99a725e-29f2-475d-f551-e6f97a6932e5"
      },
      "cell_type": "code",
      "source": [
        "from numpy import sqrt\n",
        "from numpy.random import randn\n",
        "import numpy as np\n",
        "import matplotlib.pyplot as plt\n",
        "\n",
        "N=20;\n",
        "fm=70.0;\n",
        "df=(2*fm)/(N-1);\n",
        "fs=1000;\n",
        "M=round(fs/df);\n",
        "T=1/df;\n",
        "Ts=1/fs;       \n",
        "\n",
        "h = [1, 0.5, 0.025]\n",
        "\n",
        "# Generating first Gaussian RV set\n",
        "g=randn(int(N/2))+1j*randn(int(N/2))\n",
        "gc=np.conj(g)\n",
        "gcr=gc[::-1]\n",
        "g1=np.concatenate((gcr,g),axis=0)\n",
        "\n",
        "\n",
        "# Generating second Gaussian RV set\n",
        "g=randn(int(N/2))+1j*randn(int(N/2))\n",
        "gc=np.conj(g)\n",
        "gcr=gc[::-1]\n",
        "g2=np.concatenate((gcr,g),axis=0)\n",
        "\n",
        "# Generating the Doppler Spectrum\n",
        "f=np.arange(-fm, fm+df, df)\n",
        "S=1.5/(np.pi*fm*sqrt(1-(f/fm)**2))\n",
        "S[0]=2*S[1]-S[2]\n",
        "S[-1]=2*S[-2]-S[-3] \n",
        "\n",
        "# Shaping the RV sequence g1 and taking IFFT\n",
        "X=g1*sqrt(S);\n",
        "X=np.concatenate((np.zeros(int((M-N)/2)), X), axis=0)\n",
        "X=np.concatenate((X, np.zeros(int((M-N)/2))), axis=0)\n",
        "x=np.abs(np.fft.ifft(X))                             \n",
        "\n",
        "# Shaping the RV sequence g2 and taking IFFT \n",
        "Y=g2*sqrt(S)\n",
        "Y=np.concatenate((np.zeros(int((M-N)/2)), Y), axis=0)\n",
        "Y=np.concatenate((Y, np.zeros(int((M-N)/2))), axis=0)\n",
        "y=np.abs(np.fft.ifft(Y))\n",
        "\n",
        "xh = np.convolve(x,h,'same') \n",
        "yh = np.convolve(y,h,'same')\n",
        "\n",
        "# Generating Noise\n",
        "AWGNr = np.random.normal(0,1,136)*0.001\n",
        "AWGNi = np.random.normal(0,1,136)*0.001\n",
        "AWGN = AWGNr + AWGNi\n",
        "\n",
        "# Generating complex envelope\n",
        "zh=xh+1j*yh\n",
        "zhdirty = zh + AWGN\n",
        "rh=np.abs(zhdirty)\n",
        "\n",
        "z=x+1j*y\n",
        "zdirty = z + AWGN\n",
        "r=np.abs(zdirty)\n",
        "\n",
        "\n",
        "# Plotting the envelope in the time domain \n",
        "t=np.arange(0, T, Ts)\n",
        "plt.plot(t, 10*np.log10(rh/np.max(rh)),'b')\n",
        "plt.plot(t, 10*np.log10(r/np.max(r)),'r')\n",
        "\n",
        "plt.xlabel('Time(msecs)')\n",
        "plt.ylabel('Envelope(dB)')\n",
        "plt.grid(True)\n",
        "plt.title('Rayleigh Fading')\n",
        "plt.show()"
      ],
      "execution_count": 46,
      "outputs": [
        {
          "output_type": "stream",
          "text": [
            "/usr/local/lib/python3.6/dist-packages/ipykernel_launcher.py:31: RuntimeWarning: divide by zero encountered in true_divide\n"
          ],
          "name": "stderr"
        },
        {
          "output_type": "display_data",
          "data": {
            "image/png": "[encoded data removed]",
            "text/plain": [
              "<matplotlib.figure.Figure at 0x7f905ec81940>"
            ]
          },
          "metadata": {
            "tags": []
          }
        }
      ]
    },
    {
      "metadata": {
        "id": "V27hVJt2DB8q",
        "colab_type": "code",
        "colab": {
          "base_uri": "https://localhost:8080/",
          "height": 34
        },
        "outputId": "b9ae831c-fe1b-4c1c-a9a0-e1263f4fc40d"
      },
      "cell_type": "code",
      "source": [
        "data['x_train'].shape"
      ],
      "execution_count": 55,
      "outputs": [
        {
          "output_type": "execute_result",
          "data": {
            "text/plain": [
              "(65536, 2)"
            ]
          },
          "metadata": {
            "tags": []
          },
          "execution_count": 55
        }
      ]
    },
    {
      "metadata": {
        "id": "ppmNm8Xz64Ec",
        "colab_type": "code",
        "colab": {
          "base_uri": "https://localhost:8080/",
          "height": 305
        },
        "outputId": "84948db3-e536-4cae-c8d6-432520bc4e08"
      },
      "cell_type": "code",
      "source": [
        "xh = np.convolve(data['x_train'],h) \n",
        "yh = np.convolve(y,h,'same')"
      ],
      "execution_count": 58,
      "outputs": [
        {
          "output_type": "error",
          "ename": "ValueError",
          "evalue": "ignored",
          "traceback": [
            "\u001b[0;31m---------------------------------------------------------------------------\u001b[0m",
            "\u001b[0;31mValueError\u001b[0m                                Traceback (most recent call last)",
            "\u001b[0;32m<ipython-input-58-5c9975a7b61c>\u001b[0m in \u001b[0;36m<module>\u001b[0;34m()\u001b[0m\n\u001b[0;32m----> 1\u001b[0;31m \u001b[0mxh\u001b[0m \u001b[0;34m=\u001b[0m \u001b[0mnp\u001b[0m\u001b[0;34m.\u001b[0m\u001b[0mconvolve\u001b[0m\u001b[0;34m(\u001b[0m\u001b[0mdata\u001b[0m\u001b[0;34m[\u001b[0m\u001b[0;34m'x_train'\u001b[0m\u001b[0;34m]\u001b[0m\u001b[0;34m,\u001b[0m\u001b[0mh\u001b[0m\u001b[0;34m)\u001b[0m\u001b[0;34m\u001b[0m\u001b[0m\n\u001b[0m\u001b[1;32m      2\u001b[0m \u001b[0myh\u001b[0m \u001b[0;34m=\u001b[0m \u001b[0mnp\u001b[0m\u001b[0;34m.\u001b[0m\u001b[0mconvolve\u001b[0m\u001b[0;34m(\u001b[0m\u001b[0my\u001b[0m\u001b[0;34m,\u001b[0m\u001b[0mh\u001b[0m\u001b[0;34m,\u001b[0m\u001b[0;34m'same'\u001b[0m\u001b[0;34m)\u001b[0m\u001b[0;34m\u001b[0m\u001b[0m\n",
            "\u001b[0;32m/usr/local/lib/python3.6/dist-packages/numpy/core/numeric.py\u001b[0m in \u001b[0;36mconvolve\u001b[0;34m(a, v, mode)\u001b[0m\n\u001b[1;32m   1034\u001b[0m         \u001b[0;32mraise\u001b[0m \u001b[0mValueError\u001b[0m\u001b[0;34m(\u001b[0m\u001b[0;34m'v cannot be empty'\u001b[0m\u001b[0;34m)\u001b[0m\u001b[0;34m\u001b[0m\u001b[0m\n\u001b[1;32m   1035\u001b[0m     \u001b[0mmode\u001b[0m \u001b[0;34m=\u001b[0m \u001b[0m_mode_from_name\u001b[0m\u001b[0;34m(\u001b[0m\u001b[0mmode\u001b[0m\u001b[0;34m)\u001b[0m\u001b[0;34m\u001b[0m\u001b[0m\n\u001b[0;32m-> 1036\u001b[0;31m     \u001b[0;32mreturn\u001b[0m \u001b[0mmultiarray\u001b[0m\u001b[0;34m.\u001b[0m\u001b[0mcorrelate\u001b[0m\u001b[0;34m(\u001b[0m\u001b[0ma\u001b[0m\u001b[0;34m,\u001b[0m \u001b[0mv\u001b[0m\u001b[0;34m[\u001b[0m\u001b[0;34m:\u001b[0m\u001b[0;34m:\u001b[0m\u001b[0;34m-\u001b[0m\u001b[0;36m1\u001b[0m\u001b[0;34m]\u001b[0m\u001b[0;34m,\u001b[0m \u001b[0mmode\u001b[0m\u001b[0;34m)\u001b[0m\u001b[0;34m\u001b[0m\u001b[0m\n\u001b[0m\u001b[1;32m   1037\u001b[0m \u001b[0;34m\u001b[0m\u001b[0m\n\u001b[1;32m   1038\u001b[0m \u001b[0;34m\u001b[0m\u001b[0m\n",
            "\u001b[0;31mValueError\u001b[0m: object too deep for desired array"
          ]
        }
      ]
    },
    {
      "metadata": {
        "id": "dBPa9qZI-2mW",
        "colab_type": "code",
        "colab": {
          "base_uri": "https://localhost:8080/",
          "height": 364
        },
        "outputId": "1cbefc13-2b21-467f-ff7d-427607506e51"
      },
      "cell_type": "code",
      "source": [
        "plt.scatter(g.real,g.imag)"
      ],
      "execution_count": 53,
      "outputs": [
        {
          "output_type": "execute_result",
          "data": {
            "text/plain": [
              "<matplotlib.collections.PathCollection at 0x7f905ebdaa58>"
            ]
          },
          "metadata": {
            "tags": []
          },
          "execution_count": 53
        },
        {
          "output_type": "display_data",
          "data": {
            "image/png": "[encoded data removed]",
            "text/plain": [
              "<matplotlib.figure.Figure at 0x7f905ebff1d0>"
            ]
          },
          "metadata": {
            "tags": []
          }
        }
      ]
    },
    {
      "metadata": {
        "id": "M_yTTNHO_QNM",
        "colab_type": "code",
        "colab": {}
      },
      "cell_type": "code",
      "source": [
        ""
      ],
      "execution_count": 0,
      "outputs": []
    }
  ]
}