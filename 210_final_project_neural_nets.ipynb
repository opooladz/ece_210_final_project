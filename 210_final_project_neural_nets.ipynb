{
  "nbformat": 4,
  "nbformat_minor": 0,
  "metadata": {
    "colab": {
      "name": "210_final_project_neural_nets.ipynb",
      "version": "0.3.2",
      "provenance": [],
      "collapsed_sections": [],
      "include_colab_link": true
    },
    "kernelspec": {
      "name": "python3",
      "display_name": "Python 3"
    },
    "accelerator": "GPU"
  },
  "cells": [
    {
      "cell_type": "markdown",
      "metadata": {
        "id": "view-in-github",
        "colab_type": "text"
      },
      "source": [
        "[View in Colaboratory](https://colab.research.google.com/github/opooladz/ece_210_final_project/blob/master/210_final_project_neural_nets.ipynb)"
      ]
    },
    {
      "metadata": {
        "id": "DeLbOeSmqguA",
        "colab_type": "code",
        "colab": {
          "base_uri": "https://localhost:8080/",
          "height": 34
        },
        "outputId": "96984b08-3451-4f02-d1e1-b001734fcf60"
      },
      "cell_type": "code",
      "source": [
        "# Import Libs \n",
        "import numpy as np\n",
        "import matplotlib.pyplot as plt\n",
        "import scipy.special\n",
        "import scipy.io as sio\n",
        "import math\n",
        "import tensorflow as tf\n",
        "import keras\n",
        "\n",
        "\n",
        "%matplotlib inline"
      ],
      "execution_count": 2,
      "outputs": [
        {
          "output_type": "stream",
          "text": [
            "Using TensorFlow backend.\n"
          ],
          "name": "stderr"
        }
      ]
    },
    {
      "metadata": {
        "id": "ogt-kQ8x61dI",
        "colab_type": "code",
        "colab": {}
      },
      "cell_type": "code",
      "source": [
        "from keras import backend as K\n",
        "\n",
        "def categorical_crossentropy_with_masking(yTrue,yPred):\n",
        "  \"\"\"\n",
        "  Custom loss function to allow for masking \n",
        "  Assumption is that yTrue has a one-hot encoding and only has an all zero vector if that element should be masked\n",
        "  \"\"\"\n",
        "  #find which values in yTrue (target) are 0\n",
        "  #since y is shaped as (batch, length, features), the entire output vector must be true\n",
        "  mask = K.all(K.equal(yTrue, 0), axis=-1)\n",
        "  mask = 1 - K.cast(mask, K.floatx())\n",
        "  # multiply categorical_crossentropy with the mask\n",
        "  loss = K.categorical_crossentropy(yTrue, yPred) * mask\n",
        "\n",
        "  # take average w.r.t. the number of unmasked entries\n",
        "  return K.sum(loss) / K.sum(mask)\n",
        "\n",
        "def accuracy_with_masking(yTrue,yPred):\n",
        "  \"\"\"\n",
        "  Custom metric function to allow for masking\n",
        "  \"\"\"\n",
        "  mask = K.all(K.equal(yTrue, 0), axis=-1)\n",
        "  mask = 1 - K.cast(mask, K.floatx())\n",
        "  # Get categorical accuracy\n",
        "  loss = K.cast(K.equal(K.argmax(yTrue, axis=-1),\n",
        "                          K.argmax(yPred, axis=-1)),\n",
        "                  K.floatx()) \n",
        "  loss = loss*mask\n",
        "\n",
        "  # take average w.r.t. the number of unmasked entries\n",
        "  return K.sum(loss) / K.sum(mask)\n",
        "\n",
        "# Keras try model \n",
        "def try_model_lstm(model, data, epochs=200, verbose=1):\n",
        "  \"\"\"\n",
        "  model - Keras model\n",
        "  data - dictionary of training, testing, and validation data \n",
        "  name - str, name to save file under\n",
        "  epochs - number of epochs to run\n",
        "  verbose- boolean\n",
        "  mask - array to mask output\n",
        "  \"\"\"\n",
        "  reduce_lr = keras.callbacks.ReduceLROnPlateau(monitor='val_accuracy_with_masking', factor=0.2,\n",
        "                              patience=5,verbose = verbose)\n",
        "  model.compile(optimizer='nadam',\n",
        "            loss=categorical_crossentropy_with_masking,\n",
        "            metrics=[accuracy_with_masking])\n",
        "\n",
        "  model.summary()  \n",
        "  history = model.fit(data['x_train'], data['y_train'], \n",
        "            epochs=epochs, batch_size=250, verbose=verbose, \n",
        "            validation_data=(data['x_val'], data['y_val']),\n",
        "                     callbacks=[reduce_lr])  \n",
        "  score = model.evaluate(data['x_test'], data['y_test'])\n",
        "  print('Test accuracy: {}'.format(score))\n",
        "  \n",
        "  return history,score\n",
        "\n",
        "def try_model_conv(model, data, epochs=200, verbose=1):\n",
        "  \"\"\"\n",
        "  model - Keras model\n",
        "  data - dictionary of training, testing, and validation data \n",
        "  name - str, name to save file under\n",
        "  epochs - number of epochs to run\n",
        "  verbose- boolean\n",
        "  mask - array to mask output\n",
        "  \"\"\"\n",
        "  model.compile(optimizer='nadam',\n",
        "            loss=\"categorical_crossentropy\",\n",
        "            metrics=[\"accuracy\"])\n",
        "\n",
        "  model.summary()  \n",
        "  history = model.fit(data['x_train'], data['y_train'], \n",
        "            epochs=epochs, batch_size=250, verbose=verbose, \n",
        "            validation_data=(data['x_val'], data['y_val']))  \n",
        "  score = model.evaluate(data['x_test'], data['y_test'])\n",
        "  print('Test accuracy: {}'.format(score))\n",
        "  \n",
        "  return history,score"
      ],
      "execution_count": 0,
      "outputs": []
    },
    {
      "metadata": {
        "id": "c4gwW9LwaUQc",
        "colab_type": "code",
        "colab": {
          "base_uri": "https://localhost:8080/",
          "height": 34
        },
        "outputId": "bb431ce9-5af0-4de2-b162-81e9f43f8a3c"
      },
      "cell_type": "code",
      "source": [
        "display('hello')"
      ],
      "execution_count": 6,
      "outputs": [
        {
          "output_type": "display_data",
          "data": {
            "text/plain": [
              "'hello'"
            ]
          },
          "metadata": {
            "tags": []
          }
        }
      ]
    },
    {
      "metadata": {
        "id": "4PD35IsamcBs",
        "colab_type": "text"
      },
      "cell_type": "markdown",
      "source": [
        "# Time-Invariant Channel"
      ]
    },
    {
      "metadata": {
        "id": "a24-OWBXsGkM",
        "colab_type": "code",
        "colab": {}
      },
      "cell_type": "code",
      "source": [
        "# Comms Stuff Will add more later\n",
        "def qammod(m,y):\n",
        "  if(np.all(y>=m)):\n",
        "    print('qammod: all elements of X must be in range [0,M-1]')\n",
        "  \n",
        "  if (~np.all(y == np.fix(y) ) ):\n",
        "    print(\"qammod: all elements of X must be integers\");\n",
        "  \n",
        "  c = np.sqrt(m);\n",
        "  if( ~(np.all(c == np.fix(c)) and np.all(np.math.log(c, 2) == np.fix(np.math.log(c, 2))) ) ):\n",
        "    print(\"qammod: M must be a square of a power of 2\");\n",
        "  \n",
        "  b = -2*np.fmod(y,c) + c - 1.;\n",
        "  a = 2*np.floor(y *1./c) - c + 1.;\n",
        "  x = a + 1.*1j*b\n",
        "  # lets hold x in a np array([real,imag])\n",
        "  # x = np.array([a,1.*b]).T\n",
        "  return [x , y] \n",
        "\n",
        "def qammod2(m,size,trials):\n",
        "  \"\"\"\n",
        "  m - highest integer for the randint\n",
        "  \"\"\"\n",
        "  y = np.random.randint(m,size=(trials,size))\n",
        "  if(np.all(y>=m)):\n",
        "    print('qammod: all elements of X must be in range [0,M-1]')\n",
        "  \n",
        "  if (~np.all(y == np.fix(y) ) ):\n",
        "    print(\"qammod: all elements of X must be integers\");\n",
        "  \n",
        "  c = np.sqrt(m);\n",
        "  if( ~(np.all(c == np.fix(c)) and np.all(np.math.log(c, 2) == np.fix(np.math.log(c, 2))) ) ):\n",
        "    print(\"qammod: M must be a square of a power of 2\");\n",
        "  \n",
        "  b = -2*np.fmod(y,c) + c - 1.;\n",
        "  a = 2*np.floor(y *1./c) - c + 1.;\n",
        "  #x = a + 1.*1j*b\n",
        "  # lets hold x in a dp array([real,imag])\n",
        "  #x = np.array([a,1.*b])\n",
        "  x = np.dstack((a,b))\n",
        "  return [x , y]                        \n",
        "\n",
        "def sim_channel(m,sequenceLen,trials,Noise,SNRdB,h):\n",
        "  \"\"\"\n",
        "  Simulates a channel\n",
        "  Input:\n",
        "    m - order of modulation\n",
        "    sequenceLen - lenght of sequence\n",
        "    trials - number trials\n",
        "    Noise - Boolean, if noise should be added\n",
        "    SNRdB - Ratio of signal to noise\n",
        "    h- channel parameters\n",
        "  \"\"\"\n",
        "  [x,y] = qammod2(m,sequenceLen,trials)\n",
        "  \n",
        "  xh = np.apply_along_axis(lambda q: np.convolve(q,h,mode=\"full\"),axis = 1,arr=x)\n",
        "  ## this added for phase offset 7/3/18\n",
        "  Ts = 1/(2.8e6);\n",
        "  fc = 2e6;\n",
        "  CP = np.exp(np.arange(0,len(xh))*2*1j*math.pi*Ts*fc)\n",
        "  CP = CP[:,np.newaxis]\n",
        "  CP = np.transpose(CP,(1,0))\n",
        "  xh = np.transpose(xh,(2,1,0))\n",
        "  display(xh.shape)\n",
        "  display(CP.shape)\n",
        "  xh =  xh*CP\n",
        "  xh = np.transpose(xh,(2,1,0))\n",
        "  display(xh.shape)  \n",
        "  ## edit ends \n",
        "  if(Noise):\n",
        "    SNR = 10**(SNRdB/10)\n",
        "    sym_noise_pow = np.var(xh)/SNR\n",
        "    sym_noise_scale_fact = np.sqrt(sym_noise_pow/2)\n",
        "    AWGN = sym_noise_scale_fact*np.random.normal(1, size=xh.shape) \n",
        "    xh = xh + AWGN\n",
        "  return [xh ,y ]\n",
        "  \n",
        "  \n",
        "def generateData(m,sequenceLen,trials,Noise,SNRdB,h,padding= True):\n",
        "  \"\"\"\n",
        "  Generates training, testing, and validation data for time invariant channels\n",
        "  Does one-hot encoding and padding\n",
        "  m - symbol alphabet\n",
        "  sequenceLen - length of data sequence\n",
        "  trials - number of samples\n",
        "  Noise- Boolean of whether to use AWGN\n",
        "  SNRdB - amount of noise\n",
        "  h - channel parameters\n",
        "  \"\"\"\n",
        "  data={}\n",
        "  [data['x_train'],data['y_train']] = sim_channel(m=m,sequenceLen=sequenceLen,trials=trials,Noise=Noise,SNRdB=SNRdB,h=h)\n",
        "  [data['x_val'],data['y_val']] = sim_channel(m=m,sequenceLen=sequenceLen,trials=int(trials*0.25),Noise= Noise,SNRdB=SNRdB,h=h)\n",
        "  [data['x_test'],data['y_test']] = sim_channel(m=m,sequenceLen=sequenceLen,trials=trials,Noise=Noise,SNRdB=SNRdB,h=h)\n",
        "  \n",
        "  print(\"x_train shape: \",data['x_train'].shape) # data, expected seqlen+chanelLen-1\n",
        "  print(\"y_train shape: \",data['y_train'].shape) # labels\n",
        "  \n",
        "  #One hot encoding\n",
        "  y_train = keras.utils.to_categorical(data['y_train'] , num_classes=m)\n",
        "  y_val = keras.utils.to_categorical(data['y_val'] , num_classes=m)\n",
        "  y_test = keras.utils.to_categorical(data['y_test'] , num_classes=m)\n",
        "  print(\"y_train shape, one-hot: \",y_train.shape)\n",
        "\n",
        "  #Padding \n",
        "  if(padding):\n",
        "    y_train = np.pad(y_train,((0,0),(0,chanelLen-1),(0,0)),\"constant\")\n",
        "    y_val = np.pad(y_val,((0,0),(0,chanelLen-1),(0,0)),\"constant\")\n",
        "    y_test = np.pad(y_test,((0,0),(0,chanelLen-1),(0,0)),\"constant\")\n",
        "\n",
        "  print(\"y_train shape, one-hot, padding: \",y_train.shape)\n",
        "\n",
        "  default_data = {\n",
        "    'x_train': data['x_train'],\n",
        "    'x_val': data['x_val'],\n",
        "    'x_test': data['x_test'],\n",
        "    'y_train': y_train,\n",
        "    'y_val': y_val,\n",
        "    'y_test': y_test,\n",
        "  }\n",
        "  return default_data\n",
        "  "
      ],
      "execution_count": 0,
      "outputs": []
    },
    {
      "metadata": {
        "id": "P-TfDKBM1YRe",
        "colab_type": "code",
        "colab": {
          "base_uri": "https://localhost:8080/",
          "height": 34
        },
        "outputId": "3e2a2191-fd21-40ba-f08b-4df8d382de9e"
      },
      "cell_type": "code",
      "source": [
        "# Instantiating Data\n",
        "\n",
        "m = 4         # order of modulation\n",
        "trials = 100000 # number of trials \n",
        "Noise = True\n",
        "SNRdB = 10\n",
        "seqLen = 300\n",
        "print(seqLen)\n",
        "#h = [1,0.4,0.3,0.2,0.25]\n",
        "chanelLen = 5\n",
        "h = np.random.rand(chanelLen)\n",
        "h[0] = 1"
      ],
      "execution_count": 38,
      "outputs": [
        {
          "output_type": "stream",
          "text": [
            "300\n"
          ],
          "name": "stdout"
        }
      ]
    },
    {
      "metadata": {
        "id": "XAKBXJROaefq",
        "colab_type": "code",
        "colab": {
          "base_uri": "https://localhost:8080/",
          "height": 243
        },
        "outputId": "ce29dd6d-1902-444a-fabe-ed27317d1a6e"
      },
      "cell_type": "code",
      "source": [
        "default_data_pad = generateData(m,seqLen,trials,Noise,SNRdB,h,padding=True)\n"
      ],
      "execution_count": 13,
      "outputs": [
        {
          "output_type": "display_data",
          "data": {
            "text/plain": [
              "(2, 302, 100)"
            ]
          },
          "metadata": {
            "tags": []
          }
        },
        {
          "output_type": "display_data",
          "data": {
            "text/plain": [
              "(1, 100)"
            ]
          },
          "metadata": {
            "tags": []
          }
        },
        {
          "output_type": "display_data",
          "data": {
            "text/plain": [
              "(100, 302, 2)"
            ]
          },
          "metadata": {
            "tags": []
          }
        },
        {
          "output_type": "display_data",
          "data": {
            "text/plain": [
              "(2, 302, 25)"
            ]
          },
          "metadata": {
            "tags": []
          }
        },
        {
          "output_type": "display_data",
          "data": {
            "text/plain": [
              "(1, 25)"
            ]
          },
          "metadata": {
            "tags": []
          }
        },
        {
          "output_type": "display_data",
          "data": {
            "text/plain": [
              "(25, 302, 2)"
            ]
          },
          "metadata": {
            "tags": []
          }
        },
        {
          "output_type": "display_data",
          "data": {
            "text/plain": [
              "(2, 302, 100)"
            ]
          },
          "metadata": {
            "tags": []
          }
        },
        {
          "output_type": "display_data",
          "data": {
            "text/plain": [
              "(1, 100)"
            ]
          },
          "metadata": {
            "tags": []
          }
        },
        {
          "output_type": "display_data",
          "data": {
            "text/plain": [
              "(100, 302, 2)"
            ]
          },
          "metadata": {
            "tags": []
          }
        },
        {
          "output_type": "stream",
          "text": [
            "x_train shape:  (100, 302, 2)\n",
            "y_train shape:  (100, 300)\n",
            "y_train shape, one-hot:  (100, 300, 4)\n",
            "y_train shape, one-hot, padding:  (100, 302, 4)\n"
          ],
          "name": "stdout"
        }
      ]
    },
    {
      "metadata": {
        "id": "xGKnkK7ccIOW",
        "colab_type": "code",
        "colab": {
          "base_uri": "https://localhost:8080/",
          "height": 34
        },
        "outputId": "3239cf20-47f9-48d0-e258-0fbf37614a46"
      },
      "cell_type": "code",
      "source": [
        "np.exp(2)"
      ],
      "execution_count": 11,
      "outputs": [
        {
          "output_type": "execute_result",
          "data": {
            "text/plain": [
              "7.38905609893065"
            ]
          },
          "metadata": {
            "tags": []
          },
          "execution_count": 11
        }
      ]
    },
    {
      "metadata": {
        "id": "5Jz3iVxn48iq",
        "colab_type": "code",
        "colab": {
          "base_uri": "https://localhost:8080/",
          "height": 2069
        },
        "outputId": "7bbd1495-77b3-47af-c4bb-b8b21f5f40c6"
      },
      "cell_type": "code",
      "source": [
        "# QAM-4\n",
        "from keras.models import Sequential\n",
        "from keras import regularizers\n",
        "from keras.layers import Dense,CuDNNLSTM, TimeDistributed,Softmax,Flatten,Bidirectional,Reshape,Embedding,Conv1D, Softmax,Flatten,BatchNormalization\n",
        "import keras\n",
        "\n",
        "#Base Test for models\n",
        "\n",
        "#LSTM\n",
        "default_data_pad = generateData(m,seqLen,trials,Noise,SNRdB,h,padding=True)\n",
        "modLSTM = Sequential()\n",
        "#modLSTM.add(Bidirectional(CuDNNLSTM(10,return_sequences=True),input_shape=(seqLen+chanelLen-1,2)))\n",
        "modLSTM.add(CuDNNLSTM(50,return_sequences=True,input_shape=(seqLen+chanelLen-1,2)))\n",
        "modLSTM.add(CuDNNLSTM(50,return_sequences=True))\n",
        "modLSTM.add(CuDNNLSTM(50,return_sequences=True))\n",
        "\n",
        "modLSTM.add(TimeDistributed(Dense(m,activation=\"softmax\")))\n",
        "hist,score = try_model_lstm(modLSTM, default_data_pad, epochs=40)\n",
        "print(score)\n",
        "print(hist.history)\n",
        "\n",
        "# #CNN\n",
        "# default_data_no_pad = generateData(m,seqLen,trials,Noise,SNRdB,h,padding=False)\n",
        "# modCNN = Sequential()\n",
        "# modCNN.add(Conv1D(5,kernel_size=(chanelLen+1), input_shape=(seqLen+chanelLen-1,2) ))\n",
        "# # modCNN.add(BatchNormalization())\n",
        "# # modCNN.add(Flatten())\n",
        "# # modCNN.add(Dense(seqLen*m,bias_regularizer=regularizers.l2(0.005)))\n",
        "# modCNN.add(Reshape(target_shape = (seqLen,m)))\n",
        "# modCNN.add(TimeDistributed(Dense(m,activation=\"softmax\")))\n",
        "# modCNN.add(Softmax(axis=2))\n",
        "# hist,score = try_model_conv(modCNN, default_data_no_pad, epochs=10)\n",
        "# print(score)\n",
        "# print(hist.history)"
      ],
      "execution_count": 57,
      "outputs": [
        {
          "output_type": "display_data",
          "data": {
            "text/plain": [
              "(2, 304, 10000)"
            ]
          },
          "metadata": {
            "tags": []
          }
        },
        {
          "output_type": "display_data",
          "data": {
            "text/plain": [
              "(1, 10000)"
            ]
          },
          "metadata": {
            "tags": []
          }
        },
        {
          "output_type": "display_data",
          "data": {
            "text/plain": [
              "(10000, 304, 2)"
            ]
          },
          "metadata": {
            "tags": []
          }
        },
        {
          "output_type": "display_data",
          "data": {
            "text/plain": [
              "(2, 304, 2500)"
            ]
          },
          "metadata": {
            "tags": []
          }
        },
        {
          "output_type": "display_data",
          "data": {
            "text/plain": [
              "(1, 2500)"
            ]
          },
          "metadata": {
            "tags": []
          }
        },
        {
          "output_type": "display_data",
          "data": {
            "text/plain": [
              "(2500, 304, 2)"
            ]
          },
          "metadata": {
            "tags": []
          }
        },
        {
          "output_type": "display_data",
          "data": {
            "text/plain": [
              "(2, 304, 10000)"
            ]
          },
          "metadata": {
            "tags": []
          }
        },
        {
          "output_type": "display_data",
          "data": {
            "text/plain": [
              "(1, 10000)"
            ]
          },
          "metadata": {
            "tags": []
          }
        },
        {
          "output_type": "display_data",
          "data": {
            "text/plain": [
              "(10000, 304, 2)"
            ]
          },
          "metadata": {
            "tags": []
          }
        },
        {
          "output_type": "stream",
          "text": [
            "x_train shape:  (10000, 304, 2)\n",
            "y_train shape:  (10000, 300)\n",
            "y_train shape, one-hot:  (10000, 300, 4)\n",
            "y_train shape, one-hot, padding:  (10000, 304, 4)\n",
            "_________________________________________________________________\n",
            "Layer (type)                 Output Shape              Param #   \n",
            "=================================================================\n",
            "cu_dnnlstm_49 (CuDNNLSTM)    (None, 304, 50)           10800     \n",
            "_________________________________________________________________\n",
            "cu_dnnlstm_50 (CuDNNLSTM)    (None, 304, 50)           20400     \n",
            "_________________________________________________________________\n",
            "cu_dnnlstm_51 (CuDNNLSTM)    (None, 304, 50)           20400     \n",
            "_________________________________________________________________\n",
            "time_distributed_22 (TimeDis (None, 304, 4)            204       \n",
            "=================================================================\n",
            "Total params: 51,804\n",
            "Trainable params: 51,804\n",
            "Non-trainable params: 0\n",
            "_________________________________________________________________\n",
            "Train on 10000 samples, validate on 2500 samples\n",
            "Epoch 1/40\n"
          ],
          "name": "stdout"
        },
        {
          "output_type": "stream",
          "text": [
            "/usr/local/lib/python3.6/dist-packages/numpy/core/numeric.py:492: ComplexWarning: Casting complex values to real discards the imaginary part\n",
            "  return array(a, dtype, copy=False, order=order)\n"
          ],
          "name": "stderr"
        },
        {
          "output_type": "stream",
          "text": [
            "10000/10000 [==============================] - 13s 1ms/step - loss: 1.3864 - accuracy_with_masking: 0.2519 - val_loss: 1.3862 - val_accuracy_with_masking: 0.2526\n",
            "Epoch 2/40\n",
            "10000/10000 [==============================] - 8s 826us/step - loss: 1.3867 - accuracy_with_masking: 0.2640 - val_loss: 1.3685 - val_accuracy_with_masking: 0.2900\n",
            "Epoch 3/40\n",
            "10000/10000 [==============================] - 8s 754us/step - loss: 1.3125 - accuracy_with_masking: 0.3231 - val_loss: 1.2736 - val_accuracy_with_masking: 0.3419\n",
            "Epoch 4/40\n",
            "10000/10000 [==============================] - 7s 730us/step - loss: 1.2641 - accuracy_with_masking: 0.3439 - val_loss: 1.2578 - val_accuracy_with_masking: 0.3569\n",
            "Epoch 5/40\n",
            "10000/10000 [==============================] - 7s 740us/step - loss: 1.2178 - accuracy_with_masking: 0.3703 - val_loss: 1.1584 - val_accuracy_with_masking: 0.3952\n",
            "Epoch 6/40\n",
            " 2250/10000 [=====>........................] - ETA: 5s - loss: 1.1573 - accuracy_with_masking: 0.3973"
          ],
          "name": "stdout"
        },
        {
          "output_type": "stream",
          "text": [
            "10000/10000 [==============================] - 7s 735us/step - loss: 1.1196 - accuracy_with_masking: 0.4399 - val_loss: 1.0623 - val_accuracy_with_masking: 0.4802\n",
            "Epoch 7/40\n",
            "10000/10000 [==============================] - 7s 728us/step - loss: 0.8839 - accuracy_with_masking: 0.5788 - val_loss: 0.7959 - val_accuracy_with_masking: 0.6351\n",
            "Epoch 8/40\n",
            "10000/10000 [==============================] - 7s 733us/step - loss: 0.6732 - accuracy_with_masking: 0.6733 - val_loss: 0.5540 - val_accuracy_with_masking: 0.7511\n",
            "Epoch 9/40\n",
            "10000/10000 [==============================] - 7s 738us/step - loss: 0.9702 - accuracy_with_masking: 0.5115 - val_loss: 0.9575 - val_accuracy_with_masking: 0.4491\n",
            "Epoch 10/40\n",
            "10000/10000 [==============================] - 7s 734us/step - loss: 0.9557 - accuracy_with_masking: 0.4584 - val_loss: 0.9742 - val_accuracy_with_masking: 0.4774\n",
            "Epoch 11/40\n",
            " 2500/10000 [======>.......................] - ETA: 5s - loss: 0.9529 - accuracy_with_masking: 0.4704"
          ],
          "name": "stdout"
        },
        {
          "output_type": "stream",
          "text": [
            "10000/10000 [==============================] - 7s 739us/step - loss: 0.8277 - accuracy_with_masking: 0.5526 - val_loss: 0.7159 - val_accuracy_with_masking: 0.6180\n",
            "Epoch 12/40\n",
            "10000/10000 [==============================] - 7s 727us/step - loss: 0.8751 - accuracy_with_masking: 0.4914 - val_loss: 0.8845 - val_accuracy_with_masking: 0.4429\n",
            "Epoch 13/40\n",
            "10000/10000 [==============================] - 7s 741us/step - loss: 0.8765 - accuracy_with_masking: 0.4733 - val_loss: 0.8621 - val_accuracy_with_masking: 0.5141\n",
            "\n",
            "Epoch 00013: ReduceLROnPlateau reducing learning rate to 0.0004000000189989805.\n",
            "Epoch 14/40\n",
            "10000/10000 [==============================] - 7s 740us/step - loss: 0.8498 - accuracy_with_masking: 0.5367 - val_loss: 0.8410 - val_accuracy_with_masking: 0.5492\n",
            "Epoch 15/40\n",
            "10000/10000 [==============================] - 7s 746us/step - loss: 0.8255 - accuracy_with_masking: 0.5739 - val_loss: 0.7958 - val_accuracy_with_masking: 0.5958\n",
            "Epoch 16/40\n",
            "  750/10000 [=>............................] - ETA: 6s - loss: 0.7846 - accuracy_with_masking: 0.6002"
          ],
          "name": "stdout"
        },
        {
          "output_type": "stream",
          "text": [
            "10000/10000 [==============================] - 8s 755us/step - loss: 0.7504 - accuracy_with_masking: 0.6130 - val_loss: 0.7009 - val_accuracy_with_masking: 0.6209\n",
            "Epoch 17/40\n",
            "10000/10000 [==============================] - 7s 748us/step - loss: 0.6306 - accuracy_with_masking: 0.6622 - val_loss: 0.5664 - val_accuracy_with_masking: 0.7167\n",
            "Epoch 18/40\n",
            "10000/10000 [==============================] - 7s 743us/step - loss: 0.5418 - accuracy_with_masking: 0.7409 - val_loss: 0.5256 - val_accuracy_with_masking: 0.7519\n",
            "Epoch 19/40\n",
            "10000/10000 [==============================] - 7s 724us/step - loss: 0.5147 - accuracy_with_masking: 0.7580 - val_loss: 0.5066 - val_accuracy_with_masking: 0.7614\n",
            "Epoch 20/40\n",
            "10000/10000 [==============================] - 7s 729us/step - loss: 0.4982 - accuracy_with_masking: 0.7651 - val_loss: 0.4918 - val_accuracy_with_masking: 0.7667\n",
            "Epoch 21/40\n",
            " 2250/10000 [=====>........................] - ETA: 5s - loss: 0.4915 - accuracy_with_masking: 0.7701"
          ],
          "name": "stdout"
        },
        {
          "output_type": "stream",
          "text": [
            "10000/10000 [==============================] - 7s 735us/step - loss: 0.4840 - accuracy_with_masking: 0.7684 - val_loss: 0.4763 - val_accuracy_with_masking: 0.7684\n",
            "Epoch 22/40\n",
            "10000/10000 [==============================] - 7s 741us/step - loss: 0.5834 - accuracy_with_masking: 0.6872 - val_loss: 0.6267 - val_accuracy_with_masking: 0.6533\n",
            "Epoch 23/40\n",
            "10000/10000 [==============================] - 7s 732us/step - loss: 0.5744 - accuracy_with_masking: 0.7342 - val_loss: 0.5315 - val_accuracy_with_masking: 0.7686\n",
            "Epoch 24/40\n",
            "10000/10000 [==============================] - 7s 720us/step - loss: 0.5157 - accuracy_with_masking: 0.7701 - val_loss: 0.5045 - val_accuracy_with_masking: 0.7694\n",
            "Epoch 25/40\n",
            "10000/10000 [==============================] - 7s 722us/step - loss: 0.5594 - accuracy_with_masking: 0.7416 - val_loss: 0.5126 - val_accuracy_with_masking: 0.7636\n",
            "Epoch 26/40\n",
            " 2500/10000 [======>.......................] - ETA: 4s - loss: 0.5065 - accuracy_with_masking: 0.7629"
          ],
          "name": "stdout"
        },
        {
          "output_type": "stream",
          "text": [
            "10000/10000 [==============================] - 7s 717us/step - loss: 0.4953 - accuracy_with_masking: 0.7693 - val_loss: 0.4872 - val_accuracy_with_masking: 0.7700\n",
            "Epoch 27/40\n",
            "10000/10000 [==============================] - 7s 721us/step - loss: 0.4778 - accuracy_with_masking: 0.7719 - val_loss: 0.4689 - val_accuracy_with_masking: 0.7718\n",
            "Epoch 28/40\n",
            "10000/10000 [==============================] - 7s 731us/step - loss: 0.4484 - accuracy_with_masking: 0.7827 - val_loss: 0.4178 - val_accuracy_with_masking: 0.8046\n",
            "Epoch 29/40\n",
            "10000/10000 [==============================] - 7s 721us/step - loss: 0.4006 - accuracy_with_masking: 0.8295 - val_loss: 0.3615 - val_accuracy_with_masking: 0.8672\n",
            "Epoch 30/40\n",
            "10000/10000 [==============================] - 7s 718us/step - loss: 0.3687 - accuracy_with_masking: 0.8576 - val_loss: 0.3419 - val_accuracy_with_masking: 0.8733\n",
            "Epoch 31/40\n",
            " 2500/10000 [======>.......................] - ETA: 4s - loss: 0.3337 - accuracy_with_masking: 0.8779"
          ],
          "name": "stdout"
        },
        {
          "output_type": "stream",
          "text": [
            "10000/10000 [==============================] - 7s 711us/step - loss: 0.3622 - accuracy_with_masking: 0.8620 - val_loss: 0.3239 - val_accuracy_with_masking: 0.8822\n",
            "Epoch 32/40\n",
            "10000/10000 [==============================] - 7s 715us/step - loss: 0.3152 - accuracy_with_masking: 0.8831 - val_loss: 0.3293 - val_accuracy_with_masking: 0.8671\n",
            "Epoch 33/40\n",
            "10000/10000 [==============================] - 7s 710us/step - loss: 0.3408 - accuracy_with_masking: 0.8655 - val_loss: 0.2990 - val_accuracy_with_masking: 0.8885\n",
            "Epoch 34/40\n",
            "10000/10000 [==============================] - 7s 716us/step - loss: 0.2909 - accuracy_with_masking: 0.8905 - val_loss: 0.2913 - val_accuracy_with_masking: 0.8912\n",
            "Epoch 35/40\n",
            "10000/10000 [==============================] - 7s 703us/step - loss: 0.3593 - accuracy_with_masking: 0.8666 - val_loss: 0.3200 - val_accuracy_with_masking: 0.8877\n",
            "Epoch 36/40\n",
            " 2500/10000 [======>.......................] - ETA: 4s - loss: 0.2925 - accuracy_with_masking: 0.8916"
          ],
          "name": "stdout"
        },
        {
          "output_type": "stream",
          "text": [
            "10000/10000 [==============================] - 7s 708us/step - loss: 0.5022 - accuracy_with_masking: 0.8040 - val_loss: 1.1646 - val_accuracy_with_masking: 0.4344\n",
            "Epoch 37/40\n",
            "10000/10000 [==============================] - 7s 708us/step - loss: 0.5933 - accuracy_with_masking: 0.6988 - val_loss: 0.4740 - val_accuracy_with_masking: 0.7895\n",
            "Epoch 38/40\n",
            "10000/10000 [==============================] - 7s 702us/step - loss: 0.4319 - accuracy_with_masking: 0.8556 - val_loss: 0.3920 - val_accuracy_with_masking: 0.8843\n",
            "Epoch 39/40\n",
            "10000/10000 [==============================] - 7s 716us/step - loss: 0.3679 - accuracy_with_masking: 0.8901 - val_loss: 0.3496 - val_accuracy_with_masking: 0.8918\n",
            "Epoch 40/40\n",
            "10000/10000 [==============================] - 7s 709us/step - loss: 0.3353 - accuracy_with_masking: 0.8943 - val_loss: 0.3229 - val_accuracy_with_masking: 0.8961\n",
            "  320/10000 [..............................] - ETA: 20s"
          ],
          "name": "stdout"
        },
        {
          "output_type": "stream",
          "text": [
            "10000/10000 [==============================] - 21s 2ms/step\n",
            "Test accuracy: [0.32292642374038694, 0.8958269995689392]\n",
            "[0.32292642374038694, 0.8958269995689392]\n",
            "{'val_loss': [1.3861778259277344, 1.368507730960846, 1.2735928416252136, 1.2578360795974732, 1.1584417223930359, 1.0623291373252868, 0.795876407623291, 0.5540367543697358, 0.9574527084827423, 0.9741834282875061, 0.7159248888492584, 0.8844923913478852, 0.8620873034000397, 0.840982049703598, 0.7958129644393921, 0.7009022891521454, 0.5663875997066498, 0.52563436627388, 0.5065935015678406, 0.4918309569358826, 0.47627205550670626, 0.6266883671283722, 0.5315119326114655, 0.5045366019010544, 0.5126438200473785, 0.4871951133012772, 0.46890593469142916, 0.41777822077274324, 0.36146115362644193, 0.34189322888851165, 0.3238632529973984, 0.32934745252132414, 0.29903939068317414, 0.29129746556282043, 0.31995123624801636, 1.1645796775817872, 0.4740373492240906, 0.3920036792755127, 0.3496206492185593, 0.32288319170475005], 'val_accuracy_with_masking': [0.2526013344526291, 0.2899506688117981, 0.3419319987297058, 0.3569146662950516, 0.3951959997415543, 0.48023733496665955, 0.6350519955158234, 0.7510533392429352, 0.4491080045700073, 0.47741733193397523, 0.6179906666278839, 0.44287600219249723, 0.5141133368015289, 0.549206668138504, 0.595769327878952, 0.6209226608276367, 0.7167133271694184, 0.7519440054893494, 0.7614386558532715, 0.7667213320732117, 0.768448007106781, 0.6532639980316162, 0.7686466574668884, 0.7693679869174957, 0.7635746717453002, 0.7700026631355286, 0.7718133211135865, 0.8046093344688415, 0.8671519994735718, 0.8733093321323395, 0.8821786642074585, 0.8670973241329193, 0.8884693384170532, 0.8911746680736542, 0.8876560032367706, 0.43440933227539064, 0.7894866704940796, 0.8843146741390229, 0.8918426692485809, 0.8960666537284852], 'loss': [1.3863960325717926, 1.3867280811071396, 1.312509971857071, 1.2640553802251815, 1.2178392440080643, 1.1195600017905236, 0.8839297145605087, 0.6731981620192528, 0.9701963394880295, 0.9557022154331207, 0.8276833117008209, 0.8750944390892983, 0.8765164539217949, 0.8498235732316971, 0.8255030930042266, 0.750362740457058, 0.6305795446038246, 0.541848537325859, 0.5147273004055023, 0.49823454692959784, 0.4839537300169468, 0.5833937704563141, 0.5744330435991287, 0.5156506910920143, 0.5593556091189384, 0.4952752135694027, 0.477778922021389, 0.44836811646819114, 0.4006046064198017, 0.3686584196984768, 0.3622007466852665, 0.31516102254390715, 0.3408267632126808, 0.2909363694489002, 0.3593109004199505, 0.5022035419940949, 0.5932646706700325, 0.43192994594573975, 0.36787067726254463, 0.3353072166442871], 'accuracy_with_masking': [0.25187099985778333, 0.2640079990029335, 0.3230749987065792, 0.3439236685633659, 0.3703413337469101, 0.4399203322827816, 0.57879833355546, 0.6732983350753784, 0.5114716641604901, 0.4584136657416821, 0.5525610044598579, 0.49136733412742617, 0.4732960000634193, 0.5367066696286201, 0.5739403337240219, 0.6130286633968354, 0.662236002087593, 0.7409490033984184, 0.7580033347010613, 0.7651386663317681, 0.7684313341975212, 0.6871900029480458, 0.7342329978942871, 0.7700703322887421, 0.741565665602684, 0.7692573338747024, 0.7718786641955375, 0.7827053293585777, 0.8294896632432938, 0.857609997689724, 0.8619929984211921, 0.8830966651439667, 0.8654503360390663, 0.8905483350157738, 0.8665836662054062, 0.8040090002119541, 0.6988263376057148, 0.8555816695094108, 0.8900836646556854, 0.8943116635084152], 'lr': [0.002, 0.002, 0.002, 0.002, 0.002, 0.002, 0.002, 0.002, 0.002, 0.002, 0.002, 0.002, 0.002, 0.00040000002, 0.00040000002, 0.00040000002, 0.00040000002, 0.00040000002, 0.00040000002, 0.00040000002, 0.00040000002, 0.00040000002, 0.00040000002, 0.00040000002, 0.00040000002, 0.00040000002, 0.00040000002, 0.00040000002, 0.00040000002, 0.00040000002, 0.00040000002, 0.00040000002, 0.00040000002, 0.00040000002, 0.00040000002, 0.00040000002, 0.00040000002, 0.00040000002, 0.00040000002, 0.00040000002]}\n"
          ],
          "name": "stdout"
        }
      ]
    },
    {
      "metadata": {
        "id": "A4rO3J-878Lm",
        "colab_type": "code",
        "colab": {
          "base_uri": "https://localhost:8080/",
          "height": 34
        },
        "outputId": "437aff44-493b-4695-9bf0-a2b19ee40454"
      },
      "cell_type": "code",
      "source": [
        "snrs = np.linspace(20,20,1)\n",
        "snrs"
      ],
      "execution_count": 59,
      "outputs": [
        {
          "output_type": "execute_result",
          "data": {
            "text/plain": [
              "array([20.])"
            ]
          },
          "metadata": {
            "tags": []
          },
          "execution_count": 59
        }
      ]
    },
    {
      "metadata": {
        "id": "XlmhcsZvy733",
        "colab_type": "text"
      },
      "cell_type": "markdown",
      "source": [
        "## Comparing Equalizer symbol error across different SNR for CNN and LSTM"
      ]
    },
    {
      "metadata": {
        "id": "4uiqlqiQ9y_W",
        "colab_type": "code",
        "colab": {
          "base_uri": "https://localhost:8080/",
          "height": 21016
        },
        "outputId": "f3444242-e44b-43e1-e77c-3d8f95967cbd"
      },
      "cell_type": "code",
      "source": [
        "#@title Default title text\n",
        "m = 4         # order of modulation\n",
        "trials = 10000   # number of trials \n",
        "Noise = True\n",
        "x = 4\n",
        "seqLen = 300\n",
        "print(seqLen)\n",
        "# chanelLen = 5\n",
        "# h = np.random.rand(chanelLen)*0.5\n",
        "# h[0] = 1\n",
        "h = np.array([1,0.5,-0.3])\n",
        "chanelLen = len(h)\n",
        "print(\"Channel: \",h)\n",
        "\n",
        "snrs = np.linspace(20,-15,10)\n",
        "histories_lstm = []\n",
        "scores_lstm = []\n",
        "histories_conv = []\n",
        "scores_conv = []\n",
        "for SNRdB in snrs:\n",
        "  print(\"SNRdB: \",SNRdB)\n",
        "\n",
        "  #LSTM\n",
        "  default_data_pad = generateData(m,seqLen,trials,Noise,SNRdB,h,padding=True)\n",
        "  modLSTM = Sequential()\n",
        "  #modLSTM.add(Bidirectional(CuDNNLSTM(10,return_sequences=True),input_shape=(seqLen+chanelLen-1,2)))\n",
        "  modLSTM.add(CuDNNLSTM(50,return_sequences=True,input_shape=(seqLen+chanelLen-1,2)))\n",
        "  modLSTM.add(CuDNNLSTM(50,return_sequences=True))\n",
        "  modLSTM.add(CuDNNLSTM(50,return_sequences=True))\n",
        "  modLSTM.add(TimeDistributed(Dense(m,activation=\"softmax\")))\n",
        "  hist,score = try_model_lstm(modLSTM, default_data_pad, epochs=15)\n",
        "  print(score)\n",
        "  histories_lstm.append(hist)\n",
        "  scores_lstm.append(score)\n",
        "  \n",
        "  #CNN\n",
        "  default_data_no_pad = generateData(m,seqLen,trials,Noise,SNRdB,h,padding=False)\n",
        "  modCNN = Sequential()\n",
        "  modCNN.add(Conv1D(10,kernel_size=(chanelLen), input_shape=(seqLen+chanelLen-1,2) ))\n",
        "  modCNN.add(BatchNormalization())\n",
        "  modCNN.add(Flatten())\n",
        "  modCNN.add(Dense(seqLen*m,bias_regularizer=regularizers.l2(0.005)))\n",
        "  modCNN.add(Reshape(target_shape = (seqLen,m)))\n",
        "  modCNN.add(Softmax(axis=2))\n",
        "  hist,score = try_model_conv(modCNN, default_data_no_pad, epochs=10)\n",
        "  print(score)\n",
        "  histories_conv.append(hist)\n",
        "  scores_conv.append(score)\n",
        "  print(\"Score: \",score)"
      ],
      "execution_count": 68,
      "outputs": [
        {
          "output_type": "stream",
          "text": [
            "300\n",
            "Channel:  [ 1.   0.5 -0.3]\n",
            "SNRdB:  20.0\n"
          ],
          "name": "stdout"
        },
        {
          "output_type": "display_data",
          "data": {
            "text/plain": [
              "(2, 302, 10000)"
            ]
          },
          "metadata": {
            "tags": []
          }
        },
        {
          "output_type": "display_data",
          "data": {
            "text/plain": [
              "(1, 10000)"
            ]
          },
          "metadata": {
            "tags": []
          }
        },
        {
          "output_type": "display_data",
          "data": {
            "text/plain": [
              "(10000, 302, 2)"
            ]
          },
          "metadata": {
            "tags": []
          }
        },
        {
          "output_type": "display_data",
          "data": {
            "text/plain": [
              "(2, 302, 2500)"
            ]
          },
          "metadata": {
            "tags": []
          }
        },
        {
          "output_type": "display_data",
          "data": {
            "text/plain": [
              "(1, 2500)"
            ]
          },
          "metadata": {
            "tags": []
          }
        },
        {
          "output_type": "display_data",
          "data": {
            "text/plain": [
              "(2500, 302, 2)"
            ]
          },
          "metadata": {
            "tags": []
          }
        },
        {
          "output_type": "display_data",
          "data": {
            "text/plain": [
              "(2, 302, 10000)"
            ]
          },
          "metadata": {
            "tags": []
          }
        },
        {
          "output_type": "display_data",
          "data": {
            "text/plain": [
              "(1, 10000)"
            ]
          },
          "metadata": {
            "tags": []
          }
        },
        {
          "output_type": "display_data",
          "data": {
            "text/plain": [
              "(10000, 302, 2)"
            ]
          },
          "metadata": {
            "tags": []
          }
        },
        {
          "output_type": "stream",
          "text": [
            "x_train shape:  (10000, 302, 2)\n",
            "y_train shape:  (10000, 300)\n",
            "y_train shape, one-hot:  (10000, 300, 4)\n",
            "y_train shape, one-hot, padding:  (10000, 302, 4)\n",
            "_________________________________________________________________\n",
            "Layer (type)                 Output Shape              Param #   \n",
            "=================================================================\n",
            "cu_dnnlstm_58 (CuDNNLSTM)    (None, 302, 50)           10800     \n",
            "_________________________________________________________________\n",
            "cu_dnnlstm_59 (CuDNNLSTM)    (None, 302, 50)           20400     \n",
            "_________________________________________________________________\n",
            "cu_dnnlstm_60 (CuDNNLSTM)    (None, 302, 50)           20400     \n",
            "_________________________________________________________________\n",
            "time_distributed_25 (TimeDis (None, 302, 4)            204       \n",
            "=================================================================\n",
            "Total params: 51,804\n",
            "Trainable params: 51,804\n",
            "Non-trainable params: 0\n",
            "_________________________________________________________________\n",
            "Train on 10000 samples, validate on 2500 samples\n",
            "Epoch 1/15\n"
          ],
          "name": "stdout"
        },
        {
          "output_type": "stream",
          "text": [
            "/usr/local/lib/python3.6/dist-packages/numpy/core/numeric.py:492: ComplexWarning: Casting complex values to real discards the imaginary part\n",
            "  return array(a, dtype, copy=False, order=order)\n"
          ],
          "name": "stderr"
        },
        {
          "output_type": "stream",
          "text": [
            "10000/10000 [==============================] - 13s 1ms/step - loss: 1.3859 - accuracy_with_masking: 0.2569 - val_loss: 1.3840 - val_accuracy_with_masking: 0.2544\n",
            "Epoch 2/15\n",
            "10000/10000 [==============================] - 7s 734us/step - loss: 1.2603 - accuracy_with_masking: 0.3630 - val_loss: 1.0336 - val_accuracy_with_masking: 0.4348\n",
            "Epoch 3/15\n",
            "10000/10000 [==============================] - 7s 740us/step - loss: 0.9108 - accuracy_with_masking: 0.4665 - val_loss: 0.8243 - val_accuracy_with_masking: 0.4893\n",
            "Epoch 4/15\n",
            "10000/10000 [==============================] - 7s 729us/step - loss: 0.7737 - accuracy_with_masking: 0.5421 - val_loss: 0.7316 - val_accuracy_with_masking: 0.6013\n",
            "Epoch 5/15\n",
            "10000/10000 [==============================] - 7s 732us/step - loss: 0.6558 - accuracy_with_masking: 0.6536 - val_loss: 0.6208 - val_accuracy_with_masking: 0.6405\n",
            "Epoch 6/15\n",
            " 2500/10000 [======>.......................] - ETA: 4s - loss: 0.5256 - accuracy_with_masking: 0.7040"
          ],
          "name": "stdout"
        },
        {
          "output_type": "stream",
          "text": [
            "10000/10000 [==============================] - 7s 729us/step - loss: 0.4331 - accuracy_with_masking: 0.7839 - val_loss: 0.3495 - val_accuracy_with_masking: 0.8320\n",
            "Epoch 7/15\n",
            "10000/10000 [==============================] - 7s 733us/step - loss: 0.5381 - accuracy_with_masking: 0.7186 - val_loss: 0.6440 - val_accuracy_with_masking: 0.6222\n",
            "Epoch 8/15\n",
            "10000/10000 [==============================] - 7s 728us/step - loss: 0.4980 - accuracy_with_masking: 0.7990 - val_loss: 0.3903 - val_accuracy_with_masking: 0.8260\n",
            "Epoch 9/15\n",
            "10000/10000 [==============================] - 7s 727us/step - loss: 0.5964 - accuracy_with_masking: 0.6589 - val_loss: 0.5377 - val_accuracy_with_masking: 0.6988\n",
            "Epoch 10/15\n",
            "10000/10000 [==============================] - 7s 722us/step - loss: 0.4712 - accuracy_with_masking: 0.7480 - val_loss: 0.3700 - val_accuracy_with_masking: 0.8332\n",
            "Epoch 11/15\n",
            " 2750/10000 [=======>......................] - ETA: 4s - loss: 0.3582 - accuracy_with_masking: 0.8364"
          ],
          "name": "stdout"
        },
        {
          "output_type": "stream",
          "text": [
            "10000/10000 [==============================] - 7s 733us/step - loss: 0.4044 - accuracy_with_masking: 0.8100 - val_loss: 0.9262 - val_accuracy_with_masking: 0.4670\n",
            "Epoch 12/15\n",
            "10000/10000 [==============================] - 7s 716us/step - loss: 0.4991 - accuracy_with_masking: 0.7362 - val_loss: 0.3542 - val_accuracy_with_masking: 0.8301\n",
            "Epoch 13/15\n",
            "10000/10000 [==============================] - 7s 717us/step - loss: 0.4228 - accuracy_with_masking: 0.7929 - val_loss: 0.4114 - val_accuracy_with_masking: 0.7965\n",
            "Epoch 14/15\n",
            "10000/10000 [==============================] - 7s 712us/step - loss: 0.3414 - accuracy_with_masking: 0.8430 - val_loss: 0.3766 - val_accuracy_with_masking: 0.8247\n",
            "Epoch 15/15\n",
            "10000/10000 [==============================] - 7s 711us/step - loss: 0.2849 - accuracy_with_masking: 0.8647 - val_loss: 0.2605 - val_accuracy_with_masking: 0.8645\n",
            "  352/10000 [>.............................] - ETA: 19s"
          ],
          "name": "stdout"
        },
        {
          "output_type": "stream",
          "text": [
            "10000/10000 [==============================] - 20s 2ms/step\n",
            "Test accuracy: [0.2594971917629242, 0.8661853340148926]\n",
            "[0.2594971917629242, 0.8661853340148926]\n"
          ],
          "name": "stdout"
        },
        {
          "output_type": "display_data",
          "data": {
            "text/plain": [
              "(2, 302, 10000)"
            ]
          },
          "metadata": {
            "tags": []
          }
        },
        {
          "output_type": "display_data",
          "data": {
            "text/plain": [
              "(1, 10000)"
            ]
          },
          "metadata": {
            "tags": []
          }
        },
        {
          "output_type": "display_data",
          "data": {
            "text/plain": [
              "(10000, 302, 2)"
            ]
          },
          "metadata": {
            "tags": []
          }
        },
        {
          "output_type": "display_data",
          "data": {
            "text/plain": [
              "(2, 302, 2500)"
            ]
          },
          "metadata": {
            "tags": []
          }
        },
        {
          "output_type": "display_data",
          "data": {
            "text/plain": [
              "(1, 2500)"
            ]
          },
          "metadata": {
            "tags": []
          }
        },
        {
          "output_type": "display_data",
          "data": {
            "text/plain": [
              "(2500, 302, 2)"
            ]
          },
          "metadata": {
            "tags": []
          }
        },
        {
          "output_type": "display_data",
          "data": {
            "text/plain": [
              "(2, 302, 10000)"
            ]
          },
          "metadata": {
            "tags": []
          }
        },
        {
          "output_type": "display_data",
          "data": {
            "text/plain": [
              "(1, 10000)"
            ]
          },
          "metadata": {
            "tags": []
          }
        },
        {
          "output_type": "display_data",
          "data": {
            "text/plain": [
              "(10000, 302, 2)"
            ]
          },
          "metadata": {
            "tags": []
          }
        },
        {
          "output_type": "stream",
          "text": [
            "x_train shape:  (10000, 302, 2)\n",
            "y_train shape:  (10000, 300)\n",
            "y_train shape, one-hot:  (10000, 300, 4)\n",
            "y_train shape, one-hot, padding:  (10000, 300, 4)\n",
            "_________________________________________________________________\n",
            "Layer (type)                 Output Shape              Param #   \n",
            "=================================================================\n",
            "conv1d_17 (Conv1D)           (None, 300, 10)           70        \n",
            "_________________________________________________________________\n",
            "batch_normalization_17 (Batc (None, 300, 10)           40        \n",
            "_________________________________________________________________\n",
            "flatten_7 (Flatten)          (None, 3000)              0         \n",
            "_________________________________________________________________\n",
            "dense_32 (Dense)             (None, 1200)              3601200   \n",
            "_________________________________________________________________\n",
            "reshape_7 (Reshape)          (None, 300, 4)            0         \n",
            "_________________________________________________________________\n",
            "softmax_7 (Softmax)          (None, 300, 4)            0         \n",
            "=================================================================\n",
            "Total params: 3,601,310\n",
            "Trainable params: 3,601,290\n",
            "Non-trainable params: 20\n",
            "_________________________________________________________________\n",
            "Train on 10000 samples, validate on 2500 samples\n",
            "Epoch 1/10\n",
            "10000/10000 [==============================] - 7s 654us/step - loss: 1.6148 - acc: 0.2501 - val_loss: 1.5420 - val_acc: 0.2505\n",
            "Epoch 2/10\n",
            "10000/10000 [==============================] - 1s 140us/step - loss: 1.4793 - acc: 0.2864 - val_loss: 1.5313 - val_acc: 0.2493\n",
            "Epoch 3/10\n",
            " 8250/10000 [=======================>......] - ETA: 0s - loss: 1.4520 - acc: 0.2992"
          ],
          "name": "stdout"
        },
        {
          "output_type": "stream",
          "text": [
            "10000/10000 [==============================] - 1s 133us/step - loss: 1.4600 - acc: 0.2935 - val_loss: 1.5205 - val_acc: 0.2498\n",
            "Epoch 4/10\n",
            "10000/10000 [==============================] - 1s 120us/step - loss: 1.4431 - acc: 0.2993 - val_loss: 1.5085 - val_acc: 0.2504\n",
            "Epoch 5/10\n",
            "10000/10000 [==============================] - 1s 143us/step - loss: 1.4267 - acc: 0.3048 - val_loss: 1.4978 - val_acc: 0.2511\n",
            "Epoch 6/10\n",
            "10000/10000 [==============================] - 1s 137us/step - loss: 1.4110 - acc: 0.3098 - val_loss: 1.4897 - val_acc: 0.2505\n",
            "Epoch 7/10\n",
            "10000/10000 [==============================] - 1s 120us/step - loss: 1.3963 - acc: 0.3161 - val_loss: 1.4825 - val_acc: 0.2500\n",
            "Epoch 8/10\n",
            "10000/10000 [==============================] - 1s 120us/step - loss: 1.3831 - acc: 0.3211 - val_loss: 1.4764 - val_acc: 0.2500\n",
            "Epoch 9/10\n",
            "10000/10000 [==============================] - 1s 133us/step - loss: 1.3711 - acc: 0.3282 - val_loss: 1.4718 - val_acc: 0.2495\n",
            "Epoch 10/10\n",
            "10000/10000 [==============================] - 1s 123us/step - loss: 1.3608 - acc: 0.3328 - val_loss: 1.4679 - val_acc: 0.2503\n",
            "   32/10000 [..............................] - ETA: 2s"
          ],
          "name": "stdout"
        },
        {
          "output_type": "stream",
          "text": [
            "10000/10000 [==============================] - 2s 184us/step\n",
            "Test accuracy: [1.4676111526489257, 0.2500066665649414]\n",
            "[1.4676111526489257, 0.2500066665649414]\n",
            "Score:  [1.4676111526489257, 0.2500066665649414]\n",
            "SNRdB:  16.11111111111111\n"
          ],
          "name": "stdout"
        },
        {
          "output_type": "display_data",
          "data": {
            "text/plain": [
              "(2, 302, 10000)"
            ]
          },
          "metadata": {
            "tags": []
          }
        },
        {
          "output_type": "display_data",
          "data": {
            "text/plain": [
              "(1, 10000)"
            ]
          },
          "metadata": {
            "tags": []
          }
        },
        {
          "output_type": "display_data",
          "data": {
            "text/plain": [
              "(10000, 302, 2)"
            ]
          },
          "metadata": {
            "tags": []
          }
        },
        {
          "output_type": "display_data",
          "data": {
            "text/plain": [
              "(2, 302, 2500)"
            ]
          },
          "metadata": {
            "tags": []
          }
        },
        {
          "output_type": "display_data",
          "data": {
            "text/plain": [
              "(1, 2500)"
            ]
          },
          "metadata": {
            "tags": []
          }
        },
        {
          "output_type": "display_data",
          "data": {
            "text/plain": [
              "(2500, 302, 2)"
            ]
          },
          "metadata": {
            "tags": []
          }
        },
        {
          "output_type": "display_data",
          "data": {
            "text/plain": [
              "(2, 302, 10000)"
            ]
          },
          "metadata": {
            "tags": []
          }
        },
        {
          "output_type": "display_data",
          "data": {
            "text/plain": [
              "(1, 10000)"
            ]
          },
          "metadata": {
            "tags": []
          }
        },
        {
          "output_type": "display_data",
          "data": {
            "text/plain": [
              "(10000, 302, 2)"
            ]
          },
          "metadata": {
            "tags": []
          }
        },
        {
          "output_type": "stream",
          "text": [
            "x_train shape:  (10000, 302, 2)\n",
            "y_train shape:  (10000, 300)\n",
            "y_train shape, one-hot:  (10000, 300, 4)\n",
            "y_train shape, one-hot, padding:  (10000, 302, 4)\n",
            "_________________________________________________________________\n",
            "Layer (type)                 Output Shape              Param #   \n",
            "=================================================================\n",
            "cu_dnnlstm_61 (CuDNNLSTM)    (None, 302, 50)           10800     \n",
            "_________________________________________________________________\n",
            "cu_dnnlstm_62 (CuDNNLSTM)    (None, 302, 50)           20400     \n",
            "_________________________________________________________________\n",
            "cu_dnnlstm_63 (CuDNNLSTM)    (None, 302, 50)           20400     \n",
            "_________________________________________________________________\n",
            "time_distributed_26 (TimeDis (None, 302, 4)            204       \n",
            "=================================================================\n",
            "Total params: 51,804\n",
            "Trainable params: 51,804\n",
            "Non-trainable params: 0\n",
            "_________________________________________________________________\n",
            "Train on 10000 samples, validate on 2500 samples\n",
            "Epoch 1/15\n",
            "10000/10000 [==============================] - 13s 1ms/step - loss: 1.3855 - accuracy_with_masking: 0.2582 - val_loss: 1.3789 - val_accuracy_with_masking: 0.2684\n",
            "Epoch 2/15\n",
            " 9250/10000 [==========================>...] - ETA: 0s - loss: 1.2366 - accuracy_with_masking: 0.3614"
          ],
          "name": "stdout"
        },
        {
          "output_type": "stream",
          "text": [
            "10000/10000 [==============================] - 7s 719us/step - loss: 1.2179 - accuracy_with_masking: 0.3680 - val_loss: 0.9591 - val_accuracy_with_masking: 0.4601\n",
            "Epoch 3/15\n",
            "10000/10000 [==============================] - 7s 710us/step - loss: 0.8911 - accuracy_with_masking: 0.4808 - val_loss: 0.8270 - val_accuracy_with_masking: 0.5331\n",
            "Epoch 4/15\n",
            "10000/10000 [==============================] - 7s 717us/step - loss: 0.8018 - accuracy_with_masking: 0.5550 - val_loss: 0.7475 - val_accuracy_with_masking: 0.5995\n",
            "Epoch 5/15\n",
            "10000/10000 [==============================] - 7s 713us/step - loss: 0.6749 - accuracy_with_masking: 0.6628 - val_loss: 0.6016 - val_accuracy_with_masking: 0.7445\n",
            "Epoch 6/15\n",
            "10000/10000 [==============================] - 7s 710us/step - loss: 0.4603 - accuracy_with_masking: 0.7972 - val_loss: 0.4129 - val_accuracy_with_masking: 0.8044\n",
            "Epoch 7/15\n",
            " 3250/10000 [========>.....................] - ETA: 4s - loss: 0.4135 - accuracy_with_masking: 0.7945"
          ],
          "name": "stdout"
        },
        {
          "output_type": "stream",
          "text": [
            "10000/10000 [==============================] - 7s 723us/step - loss: 0.6219 - accuracy_with_masking: 0.6786 - val_loss: 0.5999 - val_accuracy_with_masking: 0.6673\n",
            "Epoch 8/15\n",
            "10000/10000 [==============================] - 8s 758us/step - loss: 0.5075 - accuracy_with_masking: 0.7270 - val_loss: 0.4239 - val_accuracy_with_masking: 0.7990\n",
            "Epoch 9/15\n",
            "10000/10000 [==============================] - 8s 759us/step - loss: 0.5170 - accuracy_with_masking: 0.7337 - val_loss: 0.6301 - val_accuracy_with_masking: 0.6586\n",
            "Epoch 10/15\n",
            "10000/10000 [==============================] - 8s 764us/step - loss: 0.5976 - accuracy_with_masking: 0.6672 - val_loss: 0.5741 - val_accuracy_with_masking: 0.6736\n",
            "Epoch 11/15\n",
            "10000/10000 [==============================] - 8s 760us/step - loss: 0.5500 - accuracy_with_masking: 0.6900 - val_loss: 0.5405 - val_accuracy_with_masking: 0.6704\n",
            "\n",
            "Epoch 00011: ReduceLROnPlateau reducing learning rate to 0.0004000000189989805.\n",
            "Epoch 12/15\n",
            " 2500/10000 [======>.......................] - ETA: 5s - loss: 0.5395 - accuracy_with_masking: 0.6697"
          ],
          "name": "stdout"
        },
        {
          "output_type": "stream",
          "text": [
            "10000/10000 [==============================] - 8s 780us/step - loss: 0.5201 - accuracy_with_masking: 0.6863 - val_loss: 0.4935 - val_accuracy_with_masking: 0.7133\n",
            "Epoch 13/15\n",
            "10000/10000 [==============================] - 8s 765us/step - loss: 0.4556 - accuracy_with_masking: 0.7726 - val_loss: 0.4393 - val_accuracy_with_masking: 0.7979\n",
            "Epoch 14/15\n",
            "10000/10000 [==============================] - 8s 762us/step - loss: 0.4322 - accuracy_with_masking: 0.8006 - val_loss: 0.4269 - val_accuracy_with_masking: 0.8025\n",
            "Epoch 15/15\n",
            "10000/10000 [==============================] - 8s 771us/step - loss: 0.4213 - accuracy_with_masking: 0.8043 - val_loss: 0.4182 - val_accuracy_with_masking: 0.8043\n",
            " 1760/10000 [====>.........................] - ETA: 20s"
          ],
          "name": "stdout"
        },
        {
          "output_type": "stream",
          "text": [
            "10000/10000 [==============================] - 25s 2ms/step\n",
            "Test accuracy: [0.4171724018573761, 0.8045469994544983]\n",
            "[0.4171724018573761, 0.8045469994544983]\n"
          ],
          "name": "stdout"
        },
        {
          "output_type": "display_data",
          "data": {
            "text/plain": [
              "(2, 302, 10000)"
            ]
          },
          "metadata": {
            "tags": []
          }
        },
        {
          "output_type": "display_data",
          "data": {
            "text/plain": [
              "(1, 10000)"
            ]
          },
          "metadata": {
            "tags": []
          }
        },
        {
          "output_type": "display_data",
          "data": {
            "text/plain": [
              "(10000, 302, 2)"
            ]
          },
          "metadata": {
            "tags": []
          }
        },
        {
          "output_type": "display_data",
          "data": {
            "text/plain": [
              "(2, 302, 2500)"
            ]
          },
          "metadata": {
            "tags": []
          }
        },
        {
          "output_type": "display_data",
          "data": {
            "text/plain": [
              "(1, 2500)"
            ]
          },
          "metadata": {
            "tags": []
          }
        },
        {
          "output_type": "display_data",
          "data": {
            "text/plain": [
              "(2500, 302, 2)"
            ]
          },
          "metadata": {
            "tags": []
          }
        },
        {
          "output_type": "display_data",
          "data": {
            "text/plain": [
              "(2, 302, 10000)"
            ]
          },
          "metadata": {
            "tags": []
          }
        },
        {
          "output_type": "display_data",
          "data": {
            "text/plain": [
              "(1, 10000)"
            ]
          },
          "metadata": {
            "tags": []
          }
        },
        {
          "output_type": "display_data",
          "data": {
            "text/plain": [
              "(10000, 302, 2)"
            ]
          },
          "metadata": {
            "tags": []
          }
        },
        {
          "output_type": "stream",
          "text": [
            "x_train shape:  (10000, 302, 2)\n",
            "y_train shape:  (10000, 300)\n",
            "y_train shape, one-hot:  (10000, 300, 4)\n",
            "y_train shape, one-hot, padding:  (10000, 300, 4)\n",
            "_________________________________________________________________\n",
            "Layer (type)                 Output Shape              Param #   \n",
            "=================================================================\n",
            "conv1d_18 (Conv1D)           (None, 300, 10)           70        \n",
            "_________________________________________________________________\n",
            "batch_normalization_18 (Batc (None, 300, 10)           40        \n",
            "_________________________________________________________________\n",
            "flatten_8 (Flatten)          (None, 3000)              0         \n",
            "_________________________________________________________________\n",
            "dense_34 (Dense)             (None, 1200)              3601200   \n",
            "_________________________________________________________________\n",
            "reshape_8 (Reshape)          (None, 300, 4)            0         \n",
            "_________________________________________________________________\n",
            "softmax_8 (Softmax)          (None, 300, 4)            0         \n",
            "=================================================================\n",
            "Total params: 3,601,310\n",
            "Trainable params: 3,601,290\n",
            "Non-trainable params: 20\n",
            "_________________________________________________________________\n",
            "Train on 10000 samples, validate on 2500 samples\n",
            "Epoch 1/10\n",
            "10000/10000 [==============================] - 10s 977us/step - loss: 1.6072 - acc: 0.2507 - val_loss: 1.5366 - val_acc: 0.2502\n",
            "Epoch 2/10\n",
            "10000/10000 [==============================] - 2s 176us/step - loss: 1.4781 - acc: 0.2840 - val_loss: 1.5261 - val_acc: 0.2507\n",
            "Epoch 3/10\n",
            " 5500/10000 [===============>..............] - ETA: 0s - loss: 1.4360 - acc: 0.3067"
          ],
          "name": "stdout"
        },
        {
          "output_type": "stream",
          "text": [
            "10000/10000 [==============================] - 2s 165us/step - loss: 1.4586 - acc: 0.2924 - val_loss: 1.5142 - val_acc: 0.2514\n",
            "Epoch 4/10\n",
            "10000/10000 [==============================] - 2s 160us/step - loss: 1.4347 - acc: 0.2996 - val_loss: 1.4958 - val_acc: 0.2511\n",
            "Epoch 5/10\n",
            "10000/10000 [==============================] - 2s 151us/step - loss: 1.4158 - acc: 0.3068 - val_loss: 1.4857 - val_acc: 0.2505\n",
            "Epoch 6/10\n",
            "10000/10000 [==============================] - 2s 157us/step - loss: 1.4009 - acc: 0.3131 - val_loss: 1.4775 - val_acc: 0.2506\n",
            "Epoch 7/10\n",
            "10000/10000 [==============================] - 2s 157us/step - loss: 1.3878 - acc: 0.3194 - val_loss: 1.4707 - val_acc: 0.2503\n",
            "Epoch 8/10\n",
            "10000/10000 [==============================] - 1s 149us/step - loss: 1.3758 - acc: 0.3253 - val_loss: 1.4642 - val_acc: 0.2506\n",
            "Epoch 9/10\n",
            "10000/10000 [==============================] - 1s 147us/step - loss: 1.3645 - acc: 0.3312 - val_loss: 1.4570 - val_acc: 0.2503\n",
            "Epoch 10/10\n",
            " 9000/10000 [==========================>...] - ETA: 0s - loss: 1.3499 - acc: 0.3403"
          ],
          "name": "stdout"
        },
        {
          "output_type": "stream",
          "text": [
            "10000/10000 [==============================] - 1s 140us/step - loss: 1.3538 - acc: 0.3369 - val_loss: 1.4531 - val_acc: 0.2503\n",
            "10000/10000 [==============================] - 2s 241us/step\n",
            "Test accuracy: [1.4545700002670288, 0.24932766690254213]\n",
            "[1.4545700002670288, 0.24932766690254213]\n",
            "Score:  [1.4545700002670288, 0.24932766690254213]\n",
            "SNRdB:  12.222222222222221\n"
          ],
          "name": "stdout"
        },
        {
          "output_type": "display_data",
          "data": {
            "text/plain": [
              "(2, 302, 10000)"
            ]
          },
          "metadata": {
            "tags": []
          }
        },
        {
          "output_type": "display_data",
          "data": {
            "text/plain": [
              "(1, 10000)"
            ]
          },
          "metadata": {
            "tags": []
          }
        },
        {
          "output_type": "display_data",
          "data": {
            "text/plain": [
              "(10000, 302, 2)"
            ]
          },
          "metadata": {
            "tags": []
          }
        },
        {
          "output_type": "display_data",
          "data": {
            "text/plain": [
              "(2, 302, 2500)"
            ]
          },
          "metadata": {
            "tags": []
          }
        },
        {
          "output_type": "display_data",
          "data": {
            "text/plain": [
              "(1, 2500)"
            ]
          },
          "metadata": {
            "tags": []
          }
        },
        {
          "output_type": "display_data",
          "data": {
            "text/plain": [
              "(2500, 302, 2)"
            ]
          },
          "metadata": {
            "tags": []
          }
        },
        {
          "output_type": "display_data",
          "data": {
            "text/plain": [
              "(2, 302, 10000)"
            ]
          },
          "metadata": {
            "tags": []
          }
        },
        {
          "output_type": "display_data",
          "data": {
            "text/plain": [
              "(1, 10000)"
            ]
          },
          "metadata": {
            "tags": []
          }
        },
        {
          "output_type": "display_data",
          "data": {
            "text/plain": [
              "(10000, 302, 2)"
            ]
          },
          "metadata": {
            "tags": []
          }
        },
        {
          "output_type": "stream",
          "text": [
            "x_train shape:  (10000, 302, 2)\n",
            "y_train shape:  (10000, 300)\n",
            "y_train shape, one-hot:  (10000, 300, 4)\n",
            "y_train shape, one-hot, padding:  (10000, 302, 4)\n",
            "_________________________________________________________________\n",
            "Layer (type)                 Output Shape              Param #   \n",
            "=================================================================\n",
            "cu_dnnlstm_64 (CuDNNLSTM)    (None, 302, 50)           10800     \n",
            "_________________________________________________________________\n",
            "cu_dnnlstm_65 (CuDNNLSTM)    (None, 302, 50)           20400     \n",
            "_________________________________________________________________\n",
            "cu_dnnlstm_66 (CuDNNLSTM)    (None, 302, 50)           20400     \n",
            "_________________________________________________________________\n",
            "time_distributed_27 (TimeDis (None, 302, 4)            204       \n",
            "=================================================================\n",
            "Total params: 51,804\n",
            "Trainable params: 51,804\n",
            "Non-trainable params: 0\n",
            "_________________________________________________________________\n",
            "Train on 10000 samples, validate on 2500 samples\n",
            "Epoch 1/15\n",
            "10000/10000 [==============================] - 14s 1ms/step - loss: 1.3862 - accuracy_with_masking: 0.2564 - val_loss: 1.3865 - val_accuracy_with_masking: 0.2506\n",
            "Epoch 2/15\n",
            " 9250/10000 [==========================>...] - ETA: 0s - loss: 1.3340 - accuracy_with_masking: 0.3143"
          ],
          "name": "stdout"
        },
        {
          "output_type": "stream",
          "text": [
            "10000/10000 [==============================] - 7s 722us/step - loss: 1.3200 - accuracy_with_masking: 0.3208 - val_loss: 1.1249 - val_accuracy_with_masking: 0.4058\n",
            "Epoch 3/15\n",
            "10000/10000 [==============================] - 7s 713us/step - loss: 1.0330 - accuracy_with_masking: 0.4228 - val_loss: 1.0047 - val_accuracy_with_masking: 0.4213\n",
            "Epoch 4/15\n",
            "10000/10000 [==============================] - 7s 713us/step - loss: 0.9201 - accuracy_with_masking: 0.4489 - val_loss: 0.8954 - val_accuracy_with_masking: 0.4571\n",
            "Epoch 5/15\n",
            "10000/10000 [==============================] - 7s 722us/step - loss: 0.8867 - accuracy_with_masking: 0.4660 - val_loss: 0.8866 - val_accuracy_with_masking: 0.4811\n",
            "Epoch 6/15\n",
            "10000/10000 [==============================] - 7s 715us/step - loss: 0.8641 - accuracy_with_masking: 0.5191 - val_loss: 0.8491 - val_accuracy_with_masking: 0.5213\n",
            "Epoch 7/15\n",
            " 3250/10000 [========>.....................] - ETA: 4s - loss: 0.8497 - accuracy_with_masking: 0.5821"
          ],
          "name": "stdout"
        },
        {
          "output_type": "stream",
          "text": [
            "10000/10000 [==============================] - 7s 715us/step - loss: 0.8572 - accuracy_with_masking: 0.5465 - val_loss: 0.8251 - val_accuracy_with_masking: 0.6262\n",
            "Epoch 8/15\n",
            "10000/10000 [==============================] - 7s 710us/step - loss: 0.6745 - accuracy_with_masking: 0.7138 - val_loss: 0.5568 - val_accuracy_with_masking: 0.7514\n",
            "Epoch 9/15\n",
            "10000/10000 [==============================] - 7s 713us/step - loss: 0.7282 - accuracy_with_masking: 0.6245 - val_loss: 0.8658 - val_accuracy_with_masking: 0.5080\n",
            "Epoch 10/15\n",
            "10000/10000 [==============================] - 7s 712us/step - loss: 0.8350 - accuracy_with_masking: 0.5269 - val_loss: 0.7609 - val_accuracy_with_masking: 0.6061\n",
            "Epoch 11/15\n",
            "10000/10000 [==============================] - 7s 706us/step - loss: 0.7054 - accuracy_with_masking: 0.6344 - val_loss: 0.7118 - val_accuracy_with_masking: 0.6191\n",
            "Epoch 12/15\n",
            " 2750/10000 [=======>......................] - ETA: 4s - loss: 0.7000 - accuracy_with_masking: 0.6279"
          ],
          "name": "stdout"
        },
        {
          "output_type": "stream",
          "text": [
            "10000/10000 [==============================] - 7s 707us/step - loss: 0.6694 - accuracy_with_masking: 0.6422 - val_loss: 0.6039 - val_accuracy_with_masking: 0.7297\n",
            "Epoch 13/15\n",
            "10000/10000 [==============================] - 7s 700us/step - loss: 0.5438 - accuracy_with_masking: 0.7482 - val_loss: 0.5158 - val_accuracy_with_masking: 0.7587\n",
            "Epoch 14/15\n",
            "10000/10000 [==============================] - 7s 704us/step - loss: 0.7986 - accuracy_with_masking: 0.5961 - val_loss: 0.7269 - val_accuracy_with_masking: 0.6143\n",
            "Epoch 15/15\n",
            "10000/10000 [==============================] - 7s 712us/step - loss: 0.6354 - accuracy_with_masking: 0.6832 - val_loss: 0.5411 - val_accuracy_with_masking: 0.7483\n",
            " 1728/10000 [====>.........................] - ETA: 16s"
          ],
          "name": "stdout"
        },
        {
          "output_type": "stream",
          "text": [
            "10000/10000 [==============================] - 21s 2ms/step\n",
            "Test accuracy: [0.5411735193252564, 0.7484720005989075]\n",
            "[0.5411735193252564, 0.7484720005989075]\n"
          ],
          "name": "stdout"
        },
        {
          "output_type": "display_data",
          "data": {
            "text/plain": [
              "(2, 302, 10000)"
            ]
          },
          "metadata": {
            "tags": []
          }
        },
        {
          "output_type": "display_data",
          "data": {
            "text/plain": [
              "(1, 10000)"
            ]
          },
          "metadata": {
            "tags": []
          }
        },
        {
          "output_type": "display_data",
          "data": {
            "text/plain": [
              "(10000, 302, 2)"
            ]
          },
          "metadata": {
            "tags": []
          }
        },
        {
          "output_type": "display_data",
          "data": {
            "text/plain": [
              "(2, 302, 2500)"
            ]
          },
          "metadata": {
            "tags": []
          }
        },
        {
          "output_type": "display_data",
          "data": {
            "text/plain": [
              "(1, 2500)"
            ]
          },
          "metadata": {
            "tags": []
          }
        },
        {
          "output_type": "display_data",
          "data": {
            "text/plain": [
              "(2500, 302, 2)"
            ]
          },
          "metadata": {
            "tags": []
          }
        },
        {
          "output_type": "display_data",
          "data": {
            "text/plain": [
              "(2, 302, 10000)"
            ]
          },
          "metadata": {
            "tags": []
          }
        },
        {
          "output_type": "display_data",
          "data": {
            "text/plain": [
              "(1, 10000)"
            ]
          },
          "metadata": {
            "tags": []
          }
        },
        {
          "output_type": "display_data",
          "data": {
            "text/plain": [
              "(10000, 302, 2)"
            ]
          },
          "metadata": {
            "tags": []
          }
        },
        {
          "output_type": "stream",
          "text": [
            "x_train shape:  (10000, 302, 2)\n",
            "y_train shape:  (10000, 300)\n",
            "y_train shape, one-hot:  (10000, 300, 4)\n",
            "y_train shape, one-hot, padding:  (10000, 300, 4)\n",
            "_________________________________________________________________\n",
            "Layer (type)                 Output Shape              Param #   \n",
            "=================================================================\n",
            "conv1d_19 (Conv1D)           (None, 300, 10)           70        \n",
            "_________________________________________________________________\n",
            "batch_normalization_19 (Batc (None, 300, 10)           40        \n",
            "_________________________________________________________________\n",
            "flatten_9 (Flatten)          (None, 3000)              0         \n",
            "_________________________________________________________________\n",
            "dense_36 (Dense)             (None, 1200)              3601200   \n",
            "_________________________________________________________________\n",
            "reshape_9 (Reshape)          (None, 300, 4)            0         \n",
            "_________________________________________________________________\n",
            "softmax_9 (Softmax)          (None, 300, 4)            0         \n",
            "=================================================================\n",
            "Total params: 3,601,310\n",
            "Trainable params: 3,601,290\n",
            "Non-trainable params: 20\n",
            "_________________________________________________________________\n",
            "Train on 10000 samples, validate on 2500 samples\n",
            "Epoch 1/10\n",
            "10000/10000 [==============================] - 7s 743us/step - loss: 1.6098 - acc: 0.2501 - val_loss: 1.5340 - val_acc: 0.2509\n",
            "Epoch 2/10\n",
            "10000/10000 [==============================] - 1s 129us/step - loss: 1.4772 - acc: 0.2856 - val_loss: 1.5293 - val_acc: 0.2496\n",
            "Epoch 3/10\n",
            " 9250/10000 [==========================>...] - ETA: 0s - loss: 1.4549 - acc: 0.2969"
          ],
          "name": "stdout"
        },
        {
          "output_type": "stream",
          "text": [
            "10000/10000 [==============================] - 1s 133us/step - loss: 1.4575 - acc: 0.2949 - val_loss: 1.5191 - val_acc: 0.2505\n",
            "Epoch 4/10\n",
            "10000/10000 [==============================] - 1s 133us/step - loss: 1.4394 - acc: 0.3028 - val_loss: 1.5072 - val_acc: 0.2509\n",
            "Epoch 5/10\n",
            "10000/10000 [==============================] - 1s 126us/step - loss: 1.4231 - acc: 0.3088 - val_loss: 1.4956 - val_acc: 0.2510\n",
            "Epoch 6/10\n",
            "10000/10000 [==============================] - 1s 132us/step - loss: 1.4079 - acc: 0.3136 - val_loss: 1.4841 - val_acc: 0.2513\n",
            "Epoch 7/10\n",
            "10000/10000 [==============================] - 1s 132us/step - loss: 1.3939 - acc: 0.3196 - val_loss: 1.4747 - val_acc: 0.2511\n",
            "Epoch 8/10\n",
            "10000/10000 [==============================] - 1s 135us/step - loss: 1.3796 - acc: 0.3252 - val_loss: 1.4657 - val_acc: 0.2513\n",
            "Epoch 9/10\n",
            "10000/10000 [==============================] - 1s 130us/step - loss: 1.3653 - acc: 0.3323 - val_loss: 1.4593 - val_acc: 0.2508\n",
            "Epoch 10/10\n",
            "10000/10000 [==============================] - 1s 128us/step - loss: 1.3550 - acc: 0.3383 - val_loss: 1.4531 - val_acc: 0.2506\n",
            "  320/10000 [..............................] - ETA: 1s"
          ],
          "name": "stdout"
        },
        {
          "output_type": "stream",
          "text": [
            "10000/10000 [==============================] - 2s 215us/step\n",
            "Test accuracy: [1.4539457052230835, 0.25011266617774963]\n",
            "[1.4539457052230835, 0.25011266617774963]\n",
            "Score:  [1.4539457052230835, 0.25011266617774963]\n",
            "SNRdB:  8.333333333333334\n"
          ],
          "name": "stdout"
        },
        {
          "output_type": "display_data",
          "data": {
            "text/plain": [
              "(2, 302, 10000)"
            ]
          },
          "metadata": {
            "tags": []
          }
        },
        {
          "output_type": "display_data",
          "data": {
            "text/plain": [
              "(1, 10000)"
            ]
          },
          "metadata": {
            "tags": []
          }
        },
        {
          "output_type": "display_data",
          "data": {
            "text/plain": [
              "(10000, 302, 2)"
            ]
          },
          "metadata": {
            "tags": []
          }
        },
        {
          "output_type": "display_data",
          "data": {
            "text/plain": [
              "(2, 302, 2500)"
            ]
          },
          "metadata": {
            "tags": []
          }
        },
        {
          "output_type": "display_data",
          "data": {
            "text/plain": [
              "(1, 2500)"
            ]
          },
          "metadata": {
            "tags": []
          }
        },
        {
          "output_type": "display_data",
          "data": {
            "text/plain": [
              "(2500, 302, 2)"
            ]
          },
          "metadata": {
            "tags": []
          }
        },
        {
          "output_type": "display_data",
          "data": {
            "text/plain": [
              "(2, 302, 10000)"
            ]
          },
          "metadata": {
            "tags": []
          }
        },
        {
          "output_type": "display_data",
          "data": {
            "text/plain": [
              "(1, 10000)"
            ]
          },
          "metadata": {
            "tags": []
          }
        },
        {
          "output_type": "display_data",
          "data": {
            "text/plain": [
              "(10000, 302, 2)"
            ]
          },
          "metadata": {
            "tags": []
          }
        },
        {
          "output_type": "stream",
          "text": [
            "x_train shape:  (10000, 302, 2)\n",
            "y_train shape:  (10000, 300)\n",
            "y_train shape, one-hot:  (10000, 300, 4)\n",
            "y_train shape, one-hot, padding:  (10000, 302, 4)\n",
            "_________________________________________________________________\n",
            "Layer (type)                 Output Shape              Param #   \n",
            "=================================================================\n",
            "cu_dnnlstm_67 (CuDNNLSTM)    (None, 302, 50)           10800     \n",
            "_________________________________________________________________\n",
            "cu_dnnlstm_68 (CuDNNLSTM)    (None, 302, 50)           20400     \n",
            "_________________________________________________________________\n",
            "cu_dnnlstm_69 (CuDNNLSTM)    (None, 302, 50)           20400     \n",
            "_________________________________________________________________\n",
            "time_distributed_28 (TimeDis (None, 302, 4)            204       \n",
            "=================================================================\n",
            "Total params: 51,804\n",
            "Trainable params: 51,804\n",
            "Non-trainable params: 0\n",
            "_________________________________________________________________\n",
            "Train on 10000 samples, validate on 2500 samples\n",
            "Epoch 1/15\n",
            "10000/10000 [==============================] - 14s 1ms/step - loss: 1.3862 - accuracy_with_masking: 0.2534 - val_loss: 1.3855 - val_accuracy_with_masking: 0.2556\n",
            "Epoch 2/15\n",
            " 9250/10000 [==========================>...] - ETA: 0s - loss: 1.3460 - accuracy_with_masking: 0.3081"
          ],
          "name": "stdout"
        },
        {
          "output_type": "stream",
          "text": [
            "10000/10000 [==============================] - 7s 718us/step - loss: 1.3351 - accuracy_with_masking: 0.3134 - val_loss: 1.1962 - val_accuracy_with_masking: 0.3731\n",
            "Epoch 3/15\n",
            "10000/10000 [==============================] - 7s 732us/step - loss: 1.1325 - accuracy_with_masking: 0.3916 - val_loss: 1.0524 - val_accuracy_with_masking: 0.4176\n",
            "Epoch 4/15\n",
            "10000/10000 [==============================] - 7s 728us/step - loss: 1.0294 - accuracy_with_masking: 0.4199 - val_loss: 0.9922 - val_accuracy_with_masking: 0.4330\n",
            "Epoch 5/15\n",
            "10000/10000 [==============================] - 7s 725us/step - loss: 0.9871 - accuracy_with_masking: 0.4361 - val_loss: 0.9762 - val_accuracy_with_masking: 0.4459\n",
            "Epoch 6/15\n",
            "10000/10000 [==============================] - 7s 727us/step - loss: 0.9709 - accuracy_with_masking: 0.4610 - val_loss: 0.9530 - val_accuracy_with_masking: 0.5057\n",
            "Epoch 7/15\n",
            " 3250/10000 [========>.....................] - ETA: 4s - loss: 0.9450 - accuracy_with_masking: 0.5246"
          ],
          "name": "stdout"
        },
        {
          "output_type": "stream",
          "text": [
            "10000/10000 [==============================] - 7s 732us/step - loss: 0.9411 - accuracy_with_masking: 0.5344 - val_loss: 0.8820 - val_accuracy_with_masking: 0.5980\n",
            "Epoch 8/15\n",
            "10000/10000 [==============================] - 7s 725us/step - loss: 0.8799 - accuracy_with_masking: 0.5903 - val_loss: 1.0090 - val_accuracy_with_masking: 0.4438\n",
            "Epoch 9/15\n",
            "10000/10000 [==============================] - 7s 727us/step - loss: 0.9154 - accuracy_with_masking: 0.5519 - val_loss: 0.8661 - val_accuracy_with_masking: 0.5581\n",
            "Epoch 10/15\n",
            "10000/10000 [==============================] - 7s 715us/step - loss: 0.8403 - accuracy_with_masking: 0.5905 - val_loss: 0.9052 - val_accuracy_with_masking: 0.5045\n",
            "Epoch 11/15\n",
            "10000/10000 [==============================] - 7s 734us/step - loss: 0.8441 - accuracy_with_masking: 0.5646 - val_loss: 0.7572 - val_accuracy_with_masking: 0.6102\n",
            "Epoch 12/15\n",
            " 2750/10000 [=======>......................] - ETA: 5s - loss: 0.7293 - accuracy_with_masking: 0.6544"
          ],
          "name": "stdout"
        },
        {
          "output_type": "stream",
          "text": [
            "10000/10000 [==============================] - 8s 779us/step - loss: 0.8002 - accuracy_with_masking: 0.5952 - val_loss: 0.8283 - val_accuracy_with_masking: 0.5628\n",
            "Epoch 13/15\n",
            "10000/10000 [==============================] - 7s 737us/step - loss: 0.7984 - accuracy_with_masking: 0.5897 - val_loss: 0.7317 - val_accuracy_with_masking: 0.6712\n",
            "Epoch 14/15\n",
            "10000/10000 [==============================] - 7s 723us/step - loss: 0.7254 - accuracy_with_masking: 0.6516 - val_loss: 0.6751 - val_accuracy_with_masking: 0.6908\n",
            "Epoch 15/15\n",
            "10000/10000 [==============================] - 7s 730us/step - loss: 0.6616 - accuracy_with_masking: 0.6959 - val_loss: 0.6514 - val_accuracy_with_masking: 0.6985\n",
            " 1792/10000 [====>.........................] - ETA: 18s"
          ],
          "name": "stdout"
        },
        {
          "output_type": "stream",
          "text": [
            "10000/10000 [==============================] - 21s 2ms/step\n",
            "Test accuracy: [0.6520074047088623, 0.6980396673202515]\n",
            "[0.6520074047088623, 0.6980396673202515]\n"
          ],
          "name": "stdout"
        },
        {
          "output_type": "display_data",
          "data": {
            "text/plain": [
              "(2, 302, 10000)"
            ]
          },
          "metadata": {
            "tags": []
          }
        },
        {
          "output_type": "display_data",
          "data": {
            "text/plain": [
              "(1, 10000)"
            ]
          },
          "metadata": {
            "tags": []
          }
        },
        {
          "output_type": "display_data",
          "data": {
            "text/plain": [
              "(10000, 302, 2)"
            ]
          },
          "metadata": {
            "tags": []
          }
        },
        {
          "output_type": "display_data",
          "data": {
            "text/plain": [
              "(2, 302, 2500)"
            ]
          },
          "metadata": {
            "tags": []
          }
        },
        {
          "output_type": "display_data",
          "data": {
            "text/plain": [
              "(1, 2500)"
            ]
          },
          "metadata": {
            "tags": []
          }
        },
        {
          "output_type": "display_data",
          "data": {
            "text/plain": [
              "(2500, 302, 2)"
            ]
          },
          "metadata": {
            "tags": []
          }
        },
        {
          "output_type": "display_data",
          "data": {
            "text/plain": [
              "(2, 302, 10000)"
            ]
          },
          "metadata": {
            "tags": []
          }
        },
        {
          "output_type": "display_data",
          "data": {
            "text/plain": [
              "(1, 10000)"
            ]
          },
          "metadata": {
            "tags": []
          }
        },
        {
          "output_type": "display_data",
          "data": {
            "text/plain": [
              "(10000, 302, 2)"
            ]
          },
          "metadata": {
            "tags": []
          }
        },
        {
          "output_type": "stream",
          "text": [
            "x_train shape:  (10000, 302, 2)\n",
            "y_train shape:  (10000, 300)\n",
            "y_train shape, one-hot:  (10000, 300, 4)\n",
            "y_train shape, one-hot, padding:  (10000, 300, 4)\n",
            "_________________________________________________________________\n",
            "Layer (type)                 Output Shape              Param #   \n",
            "=================================================================\n",
            "conv1d_20 (Conv1D)           (None, 300, 10)           70        \n",
            "_________________________________________________________________\n",
            "batch_normalization_20 (Batc (None, 300, 10)           40        \n",
            "_________________________________________________________________\n",
            "flatten_10 (Flatten)         (None, 3000)              0         \n",
            "_________________________________________________________________\n",
            "dense_38 (Dense)             (None, 1200)              3601200   \n",
            "_________________________________________________________________\n",
            "reshape_10 (Reshape)         (None, 300, 4)            0         \n",
            "_________________________________________________________________\n",
            "softmax_10 (Softmax)         (None, 300, 4)            0         \n",
            "=================================================================\n",
            "Total params: 3,601,310\n",
            "Trainable params: 3,601,290\n",
            "Non-trainable params: 20\n",
            "_________________________________________________________________\n",
            "Train on 10000 samples, validate on 2500 samples\n",
            "Epoch 1/10\n",
            "10000/10000 [==============================] - 7s 705us/step - loss: 1.6083 - acc: 0.2504 - val_loss: 1.5398 - val_acc: 0.2505\n",
            "Epoch 2/10\n",
            "10000/10000 [==============================] - 1s 124us/step - loss: 1.4787 - acc: 0.2856 - val_loss: 1.5304 - val_acc: 0.2510\n",
            "Epoch 3/10\n",
            " 9250/10000 [==========================>...] - ETA: 0s - loss: 1.4540 - acc: 0.2987"
          ],
          "name": "stdout"
        },
        {
          "output_type": "stream",
          "text": [
            "10000/10000 [==============================] - 1s 125us/step - loss: 1.4568 - acc: 0.2964 - val_loss: 1.5217 - val_acc: 0.2503\n",
            "Epoch 4/10\n",
            "10000/10000 [==============================] - 1s 124us/step - loss: 1.4387 - acc: 0.3034 - val_loss: 1.5120 - val_acc: 0.2505\n",
            "Epoch 5/10\n",
            "10000/10000 [==============================] - 1s 125us/step - loss: 1.4230 - acc: 0.3093 - val_loss: 1.5021 - val_acc: 0.2504\n",
            "Epoch 6/10\n",
            "10000/10000 [==============================] - 1s 121us/step - loss: 1.4078 - acc: 0.3152 - val_loss: 1.4926 - val_acc: 0.2501\n",
            "Epoch 7/10\n",
            "10000/10000 [==============================] - 1s 120us/step - loss: 1.3940 - acc: 0.3207 - val_loss: 1.4846 - val_acc: 0.2495\n",
            "Epoch 8/10\n",
            "10000/10000 [==============================] - 1s 122us/step - loss: 1.3809 - acc: 0.3262 - val_loss: 1.4785 - val_acc: 0.2499\n",
            "Epoch 9/10\n",
            "10000/10000 [==============================] - 1s 121us/step - loss: 1.3693 - acc: 0.3319 - val_loss: 1.4729 - val_acc: 0.2499\n",
            "Epoch 10/10\n",
            "10000/10000 [==============================] - 1s 118us/step - loss: 1.3591 - acc: 0.3378 - val_loss: 1.4681 - val_acc: 0.2504\n",
            "   32/10000 [..............................] - ETA: 3s"
          ],
          "name": "stdout"
        },
        {
          "output_type": "stream",
          "text": [
            "10000/10000 [==============================] - 2s 192us/step\n",
            "Test accuracy: [1.4686028379440308, 0.24976566717624665]\n",
            "[1.4686028379440308, 0.24976566717624665]\n",
            "Score:  [1.4686028379440308, 0.24976566717624665]\n",
            "SNRdB:  4.444444444444445\n"
          ],
          "name": "stdout"
        },
        {
          "output_type": "display_data",
          "data": {
            "text/plain": [
              "(2, 302, 10000)"
            ]
          },
          "metadata": {
            "tags": []
          }
        },
        {
          "output_type": "display_data",
          "data": {
            "text/plain": [
              "(1, 10000)"
            ]
          },
          "metadata": {
            "tags": []
          }
        },
        {
          "output_type": "display_data",
          "data": {
            "text/plain": [
              "(10000, 302, 2)"
            ]
          },
          "metadata": {
            "tags": []
          }
        },
        {
          "output_type": "display_data",
          "data": {
            "text/plain": [
              "(2, 302, 2500)"
            ]
          },
          "metadata": {
            "tags": []
          }
        },
        {
          "output_type": "display_data",
          "data": {
            "text/plain": [
              "(1, 2500)"
            ]
          },
          "metadata": {
            "tags": []
          }
        },
        {
          "output_type": "display_data",
          "data": {
            "text/plain": [
              "(2500, 302, 2)"
            ]
          },
          "metadata": {
            "tags": []
          }
        },
        {
          "output_type": "display_data",
          "data": {
            "text/plain": [
              "(2, 302, 10000)"
            ]
          },
          "metadata": {
            "tags": []
          }
        },
        {
          "output_type": "display_data",
          "data": {
            "text/plain": [
              "(1, 10000)"
            ]
          },
          "metadata": {
            "tags": []
          }
        },
        {
          "output_type": "display_data",
          "data": {
            "text/plain": [
              "(10000, 302, 2)"
            ]
          },
          "metadata": {
            "tags": []
          }
        },
        {
          "output_type": "stream",
          "text": [
            "x_train shape:  (10000, 302, 2)\n",
            "y_train shape:  (10000, 300)\n",
            "y_train shape, one-hot:  (10000, 300, 4)\n",
            "y_train shape, one-hot, padding:  (10000, 302, 4)\n",
            "_________________________________________________________________\n",
            "Layer (type)                 Output Shape              Param #   \n",
            "=================================================================\n",
            "cu_dnnlstm_70 (CuDNNLSTM)    (None, 302, 50)           10800     \n",
            "_________________________________________________________________\n",
            "cu_dnnlstm_71 (CuDNNLSTM)    (None, 302, 50)           20400     \n",
            "_________________________________________________________________\n",
            "cu_dnnlstm_72 (CuDNNLSTM)    (None, 302, 50)           20400     \n",
            "_________________________________________________________________\n",
            "time_distributed_29 (TimeDis (None, 302, 4)            204       \n",
            "=================================================================\n",
            "Total params: 51,804\n",
            "Trainable params: 51,804\n",
            "Non-trainable params: 0\n",
            "_________________________________________________________________\n",
            "Train on 10000 samples, validate on 2500 samples\n",
            "Epoch 1/15\n",
            "10000/10000 [==============================] - 14s 1ms/step - loss: 1.3865 - accuracy_with_masking: 0.2529 - val_loss: 1.3859 - val_accuracy_with_masking: 0.2611\n",
            "Epoch 2/15\n",
            " 9250/10000 [==========================>...] - ETA: 0s - loss: 1.3832 - accuracy_with_masking: 0.2702"
          ],
          "name": "stdout"
        },
        {
          "output_type": "stream",
          "text": [
            "10000/10000 [==============================] - 7s 736us/step - loss: 1.3814 - accuracy_with_masking: 0.2733 - val_loss: 1.3468 - val_accuracy_with_masking: 0.3187\n",
            "Epoch 3/15\n",
            "10000/10000 [==============================] - 7s 728us/step - loss: 1.2920 - accuracy_with_masking: 0.3352 - val_loss: 1.2191 - val_accuracy_with_masking: 0.3534\n",
            "Epoch 4/15\n",
            "10000/10000 [==============================] - 7s 735us/step - loss: 1.2016 - accuracy_with_masking: 0.3609 - val_loss: 1.2027 - val_accuracy_with_masking: 0.3610\n",
            "Epoch 5/15\n",
            "10000/10000 [==============================] - 7s 718us/step - loss: 1.1683 - accuracy_with_masking: 0.3782 - val_loss: 1.1559 - val_accuracy_with_masking: 0.3905\n",
            "Epoch 6/15\n",
            "10000/10000 [==============================] - 7s 718us/step - loss: 1.1439 - accuracy_with_masking: 0.4025 - val_loss: 1.1412 - val_accuracy_with_masking: 0.4137\n",
            "Epoch 7/15\n",
            " 3250/10000 [========>.....................] - ETA: 4s - loss: 1.1468 - accuracy_with_masking: 0.3994"
          ],
          "name": "stdout"
        },
        {
          "output_type": "stream",
          "text": [
            "10000/10000 [==============================] - 7s 717us/step - loss: 1.1404 - accuracy_with_masking: 0.4196 - val_loss: 1.2838 - val_accuracy_with_masking: 0.3475\n",
            "Epoch 8/15\n",
            "10000/10000 [==============================] - 7s 717us/step - loss: 1.1402 - accuracy_with_masking: 0.4223 - val_loss: 1.1185 - val_accuracy_with_masking: 0.4855\n",
            "Epoch 9/15\n",
            "10000/10000 [==============================] - 7s 720us/step - loss: 1.1101 - accuracy_with_masking: 0.4796 - val_loss: 1.1047 - val_accuracy_with_masking: 0.4893\n",
            "Epoch 10/15\n",
            "10000/10000 [==============================] - 7s 720us/step - loss: 1.1235 - accuracy_with_masking: 0.4555 - val_loss: 1.1317 - val_accuracy_with_masking: 0.4169\n",
            "Epoch 11/15\n",
            "10000/10000 [==============================] - 7s 718us/step - loss: 1.1288 - accuracy_with_masking: 0.4299 - val_loss: 1.1084 - val_accuracy_with_masking: 0.4661\n",
            "Epoch 12/15\n",
            " 2750/10000 [=======>......................] - ETA: 4s - loss: 1.0997 - accuracy_with_masking: 0.4677"
          ],
          "name": "stdout"
        },
        {
          "output_type": "stream",
          "text": [
            "10000/10000 [==============================] - 7s 733us/step - loss: 1.1201 - accuracy_with_masking: 0.4489 - val_loss: 1.1242 - val_accuracy_with_masking: 0.4269\n",
            "Epoch 13/15\n",
            "10000/10000 [==============================] - 7s 727us/step - loss: 1.1176 - accuracy_with_masking: 0.4530 - val_loss: 1.1175 - val_accuracy_with_masking: 0.4343\n",
            "Epoch 14/15\n",
            "10000/10000 [==============================] - 7s 711us/step - loss: 1.0850 - accuracy_with_masking: 0.4896 - val_loss: 1.0335 - val_accuracy_with_masking: 0.5403\n",
            "Epoch 15/15\n",
            "10000/10000 [==============================] - 7s 693us/step - loss: 1.1023 - accuracy_with_masking: 0.4771 - val_loss: 1.1819 - val_accuracy_with_masking: 0.3615\n",
            " 1792/10000 [====>.........................] - ETA: 16s"
          ],
          "name": "stdout"
        },
        {
          "output_type": "stream",
          "text": [
            "10000/10000 [==============================] - 21s 2ms/step\n",
            "Test accuracy: [1.182958553123474, 0.36023299951553345]\n",
            "[1.182958553123474, 0.36023299951553345]\n"
          ],
          "name": "stdout"
        },
        {
          "output_type": "display_data",
          "data": {
            "text/plain": [
              "(2, 302, 10000)"
            ]
          },
          "metadata": {
            "tags": []
          }
        },
        {
          "output_type": "display_data",
          "data": {
            "text/plain": [
              "(1, 10000)"
            ]
          },
          "metadata": {
            "tags": []
          }
        },
        {
          "output_type": "display_data",
          "data": {
            "text/plain": [
              "(10000, 302, 2)"
            ]
          },
          "metadata": {
            "tags": []
          }
        },
        {
          "output_type": "display_data",
          "data": {
            "text/plain": [
              "(2, 302, 2500)"
            ]
          },
          "metadata": {
            "tags": []
          }
        },
        {
          "output_type": "display_data",
          "data": {
            "text/plain": [
              "(1, 2500)"
            ]
          },
          "metadata": {
            "tags": []
          }
        },
        {
          "output_type": "display_data",
          "data": {
            "text/plain": [
              "(2500, 302, 2)"
            ]
          },
          "metadata": {
            "tags": []
          }
        },
        {
          "output_type": "display_data",
          "data": {
            "text/plain": [
              "(2, 302, 10000)"
            ]
          },
          "metadata": {
            "tags": []
          }
        },
        {
          "output_type": "display_data",
          "data": {
            "text/plain": [
              "(1, 10000)"
            ]
          },
          "metadata": {
            "tags": []
          }
        },
        {
          "output_type": "display_data",
          "data": {
            "text/plain": [
              "(10000, 302, 2)"
            ]
          },
          "metadata": {
            "tags": []
          }
        },
        {
          "output_type": "stream",
          "text": [
            "x_train shape:  (10000, 302, 2)\n",
            "y_train shape:  (10000, 300)\n",
            "y_train shape, one-hot:  (10000, 300, 4)\n",
            "y_train shape, one-hot, padding:  (10000, 300, 4)\n",
            "_________________________________________________________________\n",
            "Layer (type)                 Output Shape              Param #   \n",
            "=================================================================\n",
            "conv1d_21 (Conv1D)           (None, 300, 10)           70        \n",
            "_________________________________________________________________\n",
            "batch_normalization_21 (Batc (None, 300, 10)           40        \n",
            "_________________________________________________________________\n",
            "flatten_11 (Flatten)         (None, 3000)              0         \n",
            "_________________________________________________________________\n",
            "dense_40 (Dense)             (None, 1200)              3601200   \n",
            "_________________________________________________________________\n",
            "reshape_11 (Reshape)         (None, 300, 4)            0         \n",
            "_________________________________________________________________\n",
            "softmax_11 (Softmax)         (None, 300, 4)            0         \n",
            "=================================================================\n",
            "Total params: 3,601,310\n",
            "Trainable params: 3,601,290\n",
            "Non-trainable params: 20\n",
            "_________________________________________________________________\n",
            "Train on 10000 samples, validate on 2500 samples\n",
            "Epoch 1/10\n",
            "10000/10000 [==============================] - 7s 700us/step - loss: 1.6109 - acc: 0.2498 - val_loss: 1.5341 - val_acc: 0.2502\n",
            "Epoch 2/10\n",
            "10000/10000 [==============================] - 1s 122us/step - loss: 1.4734 - acc: 0.2903 - val_loss: 1.5326 - val_acc: 0.2500\n",
            "Epoch 3/10\n",
            " 9250/10000 [==========================>...] - ETA: 0s - loss: 1.4519 - acc: 0.3012"
          ],
          "name": "stdout"
        },
        {
          "output_type": "stream",
          "text": [
            "10000/10000 [==============================] - 1s 123us/step - loss: 1.4550 - acc: 0.2988 - val_loss: 1.5239 - val_acc: 0.2503\n",
            "Epoch 4/10\n",
            "10000/10000 [==============================] - 1s 119us/step - loss: 1.4388 - acc: 0.3050 - val_loss: 1.5133 - val_acc: 0.2501\n",
            "Epoch 5/10\n",
            "10000/10000 [==============================] - 1s 113us/step - loss: 1.4236 - acc: 0.3093 - val_loss: 1.5032 - val_acc: 0.2497\n",
            "Epoch 6/10\n",
            "10000/10000 [==============================] - 1s 114us/step - loss: 1.4088 - acc: 0.3154 - val_loss: 1.4936 - val_acc: 0.2504\n",
            "Epoch 7/10\n",
            "10000/10000 [==============================] - 1s 114us/step - loss: 1.3949 - acc: 0.3211 - val_loss: 1.4855 - val_acc: 0.2499\n",
            "Epoch 8/10\n",
            "10000/10000 [==============================] - 1s 114us/step - loss: 1.3818 - acc: 0.3269 - val_loss: 1.4785 - val_acc: 0.2501\n",
            "Epoch 9/10\n",
            "10000/10000 [==============================] - 1s 113us/step - loss: 1.3702 - acc: 0.3328 - val_loss: 1.4727 - val_acc: 0.2501\n",
            "Epoch 10/10\n",
            "10000/10000 [==============================] - 1s 113us/step - loss: 1.3597 - acc: 0.3386 - val_loss: 1.4681 - val_acc: 0.2501\n",
            " 1856/10000 [====>.........................] - ETA: 1s"
          ],
          "name": "stdout"
        },
        {
          "output_type": "stream",
          "text": [
            "10000/10000 [==============================] - 2s 176us/step\n",
            "Test accuracy: [1.4686117671966552, 0.2500439994096756]\n",
            "[1.4686117671966552, 0.2500439994096756]\n",
            "Score:  [1.4686117671966552, 0.2500439994096756]\n",
            "SNRdB:  0.5555555555555571\n"
          ],
          "name": "stdout"
        },
        {
          "output_type": "display_data",
          "data": {
            "text/plain": [
              "(2, 302, 10000)"
            ]
          },
          "metadata": {
            "tags": []
          }
        },
        {
          "output_type": "display_data",
          "data": {
            "text/plain": [
              "(1, 10000)"
            ]
          },
          "metadata": {
            "tags": []
          }
        },
        {
          "output_type": "display_data",
          "data": {
            "text/plain": [
              "(10000, 302, 2)"
            ]
          },
          "metadata": {
            "tags": []
          }
        },
        {
          "output_type": "display_data",
          "data": {
            "text/plain": [
              "(2, 302, 2500)"
            ]
          },
          "metadata": {
            "tags": []
          }
        },
        {
          "output_type": "display_data",
          "data": {
            "text/plain": [
              "(1, 2500)"
            ]
          },
          "metadata": {
            "tags": []
          }
        },
        {
          "output_type": "display_data",
          "data": {
            "text/plain": [
              "(2500, 302, 2)"
            ]
          },
          "metadata": {
            "tags": []
          }
        },
        {
          "output_type": "display_data",
          "data": {
            "text/plain": [
              "(2, 302, 10000)"
            ]
          },
          "metadata": {
            "tags": []
          }
        },
        {
          "output_type": "display_data",
          "data": {
            "text/plain": [
              "(1, 10000)"
            ]
          },
          "metadata": {
            "tags": []
          }
        },
        {
          "output_type": "display_data",
          "data": {
            "text/plain": [
              "(10000, 302, 2)"
            ]
          },
          "metadata": {
            "tags": []
          }
        },
        {
          "output_type": "stream",
          "text": [
            "x_train shape:  (10000, 302, 2)\n",
            "y_train shape:  (10000, 300)\n",
            "y_train shape, one-hot:  (10000, 300, 4)\n",
            "y_train shape, one-hot, padding:  (10000, 302, 4)\n",
            "_________________________________________________________________\n",
            "Layer (type)                 Output Shape              Param #   \n",
            "=================================================================\n",
            "cu_dnnlstm_73 (CuDNNLSTM)    (None, 302, 50)           10800     \n",
            "_________________________________________________________________\n",
            "cu_dnnlstm_74 (CuDNNLSTM)    (None, 302, 50)           20400     \n",
            "_________________________________________________________________\n",
            "cu_dnnlstm_75 (CuDNNLSTM)    (None, 302, 50)           20400     \n",
            "_________________________________________________________________\n",
            "time_distributed_30 (TimeDis (None, 302, 4)            204       \n",
            "=================================================================\n",
            "Total params: 51,804\n",
            "Trainable params: 51,804\n",
            "Non-trainable params: 0\n",
            "_________________________________________________________________\n",
            "Train on 10000 samples, validate on 2500 samples\n",
            "Epoch 1/15\n",
            "10000/10000 [==============================] - 13s 1ms/step - loss: 1.3865 - accuracy_with_masking: 0.2520 - val_loss: 1.3860 - val_accuracy_with_masking: 0.2516\n",
            "Epoch 2/15\n",
            " 9250/10000 [==========================>...] - ETA: 0s - loss: 1.3843 - accuracy_with_masking: 0.2663"
          ],
          "name": "stdout"
        },
        {
          "output_type": "stream",
          "text": [
            "10000/10000 [==============================] - 7s 689us/step - loss: 1.3834 - accuracy_with_masking: 0.2683 - val_loss: 1.3646 - val_accuracy_with_masking: 0.2972\n",
            "Epoch 3/15\n",
            "10000/10000 [==============================] - 7s 703us/step - loss: 1.3496 - accuracy_with_masking: 0.3040 - val_loss: 1.3280 - val_accuracy_with_masking: 0.3113\n",
            "Epoch 4/15\n",
            "10000/10000 [==============================] - 7s 710us/step - loss: 1.3089 - accuracy_with_masking: 0.3192 - val_loss: 1.3016 - val_accuracy_with_masking: 0.3209\n",
            "Epoch 5/15\n",
            "10000/10000 [==============================] - 7s 727us/step - loss: 1.2953 - accuracy_with_masking: 0.3242 - val_loss: 1.2927 - val_accuracy_with_masking: 0.3261\n",
            "Epoch 6/15\n",
            "10000/10000 [==============================] - 7s 703us/step - loss: 1.2895 - accuracy_with_masking: 0.3276 - val_loss: 1.2855 - val_accuracy_with_masking: 0.3332\n",
            "Epoch 7/15\n",
            " 3250/10000 [========>.....................] - ETA: 4s - loss: 1.2853 - accuracy_with_masking: 0.3313"
          ],
          "name": "stdout"
        },
        {
          "output_type": "stream",
          "text": [
            "10000/10000 [==============================] - 7s 716us/step - loss: 1.2831 - accuracy_with_masking: 0.3376 - val_loss: 1.2802 - val_accuracy_with_masking: 0.3400\n",
            "Epoch 8/15\n",
            "10000/10000 [==============================] - 7s 724us/step - loss: 1.2803 - accuracy_with_masking: 0.3455 - val_loss: 1.2871 - val_accuracy_with_masking: 0.3035\n",
            "Epoch 9/15\n",
            "10000/10000 [==============================] - 7s 750us/step - loss: 1.2789 - accuracy_with_masking: 0.3507 - val_loss: 1.2746 - val_accuracy_with_masking: 0.3535\n",
            "Epoch 10/15\n",
            "10000/10000 [==============================] - 8s 758us/step - loss: 1.2790 - accuracy_with_masking: 0.3686 - val_loss: 1.2606 - val_accuracy_with_masking: 0.4141\n",
            "Epoch 11/15\n",
            "10000/10000 [==============================] - 7s 744us/step - loss: 1.2679 - accuracy_with_masking: 0.3808 - val_loss: 1.2415 - val_accuracy_with_masking: 0.4410\n",
            "Epoch 12/15\n",
            " 2750/10000 [=======>......................] - ETA: 4s - loss: 1.3018 - accuracy_with_masking: 0.3315"
          ],
          "name": "stdout"
        },
        {
          "output_type": "stream",
          "text": [
            "10000/10000 [==============================] - 7s 740us/step - loss: 1.2881 - accuracy_with_masking: 0.3303 - val_loss: 1.2789 - val_accuracy_with_masking: 0.3384\n",
            "Epoch 13/15\n",
            "10000/10000 [==============================] - 7s 741us/step - loss: 1.2786 - accuracy_with_masking: 0.3557 - val_loss: 1.2664 - val_accuracy_with_masking: 0.3742\n",
            "Epoch 14/15\n",
            "10000/10000 [==============================] - 7s 732us/step - loss: 1.2632 - accuracy_with_masking: 0.3815 - val_loss: 1.2284 - val_accuracy_with_masking: 0.4375\n",
            "Epoch 15/15\n",
            "10000/10000 [==============================] - 8s 754us/step - loss: 1.2893 - accuracy_with_masking: 0.3308 - val_loss: 1.2824 - val_accuracy_with_masking: 0.3300\n",
            " 1792/10000 [====>.........................] - ETA: 20s"
          ],
          "name": "stdout"
        },
        {
          "output_type": "stream",
          "text": [
            "10000/10000 [==============================] - 24s 2ms/step\n",
            "Test accuracy: [1.2828227853775025, 0.3294606670379639]\n",
            "[1.2828227853775025, 0.3294606670379639]\n"
          ],
          "name": "stdout"
        },
        {
          "output_type": "display_data",
          "data": {
            "text/plain": [
              "(2, 302, 10000)"
            ]
          },
          "metadata": {
            "tags": []
          }
        },
        {
          "output_type": "display_data",
          "data": {
            "text/plain": [
              "(1, 10000)"
            ]
          },
          "metadata": {
            "tags": []
          }
        },
        {
          "output_type": "display_data",
          "data": {
            "text/plain": [
              "(10000, 302, 2)"
            ]
          },
          "metadata": {
            "tags": []
          }
        },
        {
          "output_type": "display_data",
          "data": {
            "text/plain": [
              "(2, 302, 2500)"
            ]
          },
          "metadata": {
            "tags": []
          }
        },
        {
          "output_type": "display_data",
          "data": {
            "text/plain": [
              "(1, 2500)"
            ]
          },
          "metadata": {
            "tags": []
          }
        },
        {
          "output_type": "display_data",
          "data": {
            "text/plain": [
              "(2500, 302, 2)"
            ]
          },
          "metadata": {
            "tags": []
          }
        },
        {
          "output_type": "display_data",
          "data": {
            "text/plain": [
              "(2, 302, 10000)"
            ]
          },
          "metadata": {
            "tags": []
          }
        },
        {
          "output_type": "display_data",
          "data": {
            "text/plain": [
              "(1, 10000)"
            ]
          },
          "metadata": {
            "tags": []
          }
        },
        {
          "output_type": "display_data",
          "data": {
            "text/plain": [
              "(10000, 302, 2)"
            ]
          },
          "metadata": {
            "tags": []
          }
        },
        {
          "output_type": "stream",
          "text": [
            "x_train shape:  (10000, 302, 2)\n",
            "y_train shape:  (10000, 300)\n",
            "y_train shape, one-hot:  (10000, 300, 4)\n",
            "y_train shape, one-hot, padding:  (10000, 300, 4)\n",
            "_________________________________________________________________\n",
            "Layer (type)                 Output Shape              Param #   \n",
            "=================================================================\n",
            "conv1d_22 (Conv1D)           (None, 300, 10)           70        \n",
            "_________________________________________________________________\n",
            "batch_normalization_22 (Batc (None, 300, 10)           40        \n",
            "_________________________________________________________________\n",
            "flatten_12 (Flatten)         (None, 3000)              0         \n",
            "_________________________________________________________________\n",
            "dense_42 (Dense)             (None, 1200)              3601200   \n",
            "_________________________________________________________________\n",
            "reshape_12 (Reshape)         (None, 300, 4)            0         \n",
            "_________________________________________________________________\n",
            "softmax_12 (Softmax)         (None, 300, 4)            0         \n",
            "=================================================================\n",
            "Total params: 3,601,310\n",
            "Trainable params: 3,601,290\n",
            "Non-trainable params: 20\n",
            "_________________________________________________________________\n",
            "Train on 10000 samples, validate on 2500 samples\n",
            "Epoch 1/10\n",
            "10000/10000 [==============================] - 11s 1ms/step - loss: 1.6121 - acc: 0.2499 - val_loss: 1.5339 - val_acc: 0.2497\n",
            "Epoch 2/10\n",
            "10000/10000 [==============================] - 2s 174us/step - loss: 1.4763 - acc: 0.2904 - val_loss: 1.5307 - val_acc: 0.2505\n",
            "Epoch 3/10\n",
            " 4250/10000 [===========>..................] - ETA: 0s - loss: 1.4163 - acc: 0.3264"
          ],
          "name": "stdout"
        },
        {
          "output_type": "stream",
          "text": [
            "10000/10000 [==============================] - 2s 169us/step - loss: 1.4589 - acc: 0.2975 - val_loss: 1.5239 - val_acc: 0.2496\n",
            "Epoch 4/10\n",
            "10000/10000 [==============================] - 1s 149us/step - loss: 1.4429 - acc: 0.3029 - val_loss: 1.5151 - val_acc: 0.2492\n",
            "Epoch 5/10\n",
            "10000/10000 [==============================] - 2s 156us/step - loss: 1.4268 - acc: 0.3086 - val_loss: 1.5053 - val_acc: 0.2499\n",
            "Epoch 6/10\n",
            "10000/10000 [==============================] - 2s 160us/step - loss: 1.4120 - acc: 0.3135 - val_loss: 1.4975 - val_acc: 0.2495\n",
            "Epoch 7/10\n",
            "10000/10000 [==============================] - 2s 155us/step - loss: 1.3976 - acc: 0.3195 - val_loss: 1.4907 - val_acc: 0.2498\n",
            "Epoch 8/10\n",
            "10000/10000 [==============================] - 2s 151us/step - loss: 1.3842 - acc: 0.3260 - val_loss: 1.4853 - val_acc: 0.2498\n",
            "Epoch 9/10\n",
            "10000/10000 [==============================] - 1s 150us/step - loss: 1.3720 - acc: 0.3323 - val_loss: 1.4804 - val_acc: 0.2499\n",
            "Epoch 10/10\n",
            " 8750/10000 [=========================>....] - ETA: 0s - loss: 1.3555 - acc: 0.3432"
          ],
          "name": "stdout"
        },
        {
          "output_type": "stream",
          "text": [
            "10000/10000 [==============================] - 2s 156us/step - loss: 1.3612 - acc: 0.3382 - val_loss: 1.4763 - val_acc: 0.2495\n",
            "10000/10000 [==============================] - 2s 248us/step\n",
            "Test accuracy: [1.4757490097045898, 0.24939366638660432]\n",
            "[1.4757490097045898, 0.24939366638660432]\n",
            "Score:  [1.4757490097045898, 0.24939366638660432]\n",
            "SNRdB:  -3.333333333333332\n"
          ],
          "name": "stdout"
        },
        {
          "output_type": "display_data",
          "data": {
            "text/plain": [
              "(2, 302, 10000)"
            ]
          },
          "metadata": {
            "tags": []
          }
        },
        {
          "output_type": "display_data",
          "data": {
            "text/plain": [
              "(1, 10000)"
            ]
          },
          "metadata": {
            "tags": []
          }
        },
        {
          "output_type": "display_data",
          "data": {
            "text/plain": [
              "(10000, 302, 2)"
            ]
          },
          "metadata": {
            "tags": []
          }
        },
        {
          "output_type": "display_data",
          "data": {
            "text/plain": [
              "(2, 302, 2500)"
            ]
          },
          "metadata": {
            "tags": []
          }
        },
        {
          "output_type": "display_data",
          "data": {
            "text/plain": [
              "(1, 2500)"
            ]
          },
          "metadata": {
            "tags": []
          }
        },
        {
          "output_type": "display_data",
          "data": {
            "text/plain": [
              "(2500, 302, 2)"
            ]
          },
          "metadata": {
            "tags": []
          }
        },
        {
          "output_type": "display_data",
          "data": {
            "text/plain": [
              "(2, 302, 10000)"
            ]
          },
          "metadata": {
            "tags": []
          }
        },
        {
          "output_type": "display_data",
          "data": {
            "text/plain": [
              "(1, 10000)"
            ]
          },
          "metadata": {
            "tags": []
          }
        },
        {
          "output_type": "display_data",
          "data": {
            "text/plain": [
              "(10000, 302, 2)"
            ]
          },
          "metadata": {
            "tags": []
          }
        },
        {
          "output_type": "stream",
          "text": [
            "x_train shape:  (10000, 302, 2)\n",
            "y_train shape:  (10000, 300)\n",
            "y_train shape, one-hot:  (10000, 300, 4)\n",
            "y_train shape, one-hot, padding:  (10000, 302, 4)\n",
            "_________________________________________________________________\n",
            "Layer (type)                 Output Shape              Param #   \n",
            "=================================================================\n",
            "cu_dnnlstm_76 (CuDNNLSTM)    (None, 302, 50)           10800     \n",
            "_________________________________________________________________\n",
            "cu_dnnlstm_77 (CuDNNLSTM)    (None, 302, 50)           20400     \n",
            "_________________________________________________________________\n",
            "cu_dnnlstm_78 (CuDNNLSTM)    (None, 302, 50)           20400     \n",
            "_________________________________________________________________\n",
            "time_distributed_31 (TimeDis (None, 302, 4)            204       \n",
            "=================================================================\n",
            "Total params: 51,804\n",
            "Trainable params: 51,804\n",
            "Non-trainable params: 0\n",
            "_________________________________________________________________\n",
            "Train on 10000 samples, validate on 2500 samples\n",
            "Epoch 1/15\n",
            "10000/10000 [==============================] - 17s 2ms/step - loss: 1.3867 - accuracy_with_masking: 0.2510 - val_loss: 1.3863 - val_accuracy_with_masking: 0.2553\n",
            "Epoch 2/15\n",
            " 9250/10000 [==========================>...] - ETA: 0s - loss: 1.3861 - accuracy_with_masking: 0.2546"
          ],
          "name": "stdout"
        },
        {
          "output_type": "stream",
          "text": [
            "10000/10000 [==============================] - 7s 737us/step - loss: 1.3860 - accuracy_with_masking: 0.2548 - val_loss: 1.3859 - val_accuracy_with_masking: 0.2540\n",
            "Epoch 3/15\n",
            "10000/10000 [==============================] - 7s 729us/step - loss: 1.3773 - accuracy_with_masking: 0.2724 - val_loss: 1.3620 - val_accuracy_with_masking: 0.2876\n",
            "Epoch 4/15\n",
            "10000/10000 [==============================] - 7s 742us/step - loss: 1.3605 - accuracy_with_masking: 0.2887 - val_loss: 1.3573 - val_accuracy_with_masking: 0.2891\n",
            "Epoch 5/15\n",
            "10000/10000 [==============================] - 7s 743us/step - loss: 1.3567 - accuracy_with_masking: 0.2906 - val_loss: 1.3542 - val_accuracy_with_masking: 0.2910\n",
            "Epoch 6/15\n",
            "10000/10000 [==============================] - 7s 716us/step - loss: 1.3553 - accuracy_with_masking: 0.2910 - val_loss: 1.3536 - val_accuracy_with_masking: 0.2926\n",
            "Epoch 7/15\n",
            " 3250/10000 [========>.....................] - ETA: 4s - loss: 1.3536 - accuracy_with_masking: 0.2924"
          ],
          "name": "stdout"
        },
        {
          "output_type": "stream",
          "text": [
            "10000/10000 [==============================] - 7s 720us/step - loss: 1.3534 - accuracy_with_masking: 0.2937 - val_loss: 1.3519 - val_accuracy_with_masking: 0.3020\n",
            "Epoch 8/15\n",
            "10000/10000 [==============================] - 7s 699us/step - loss: 1.3529 - accuracy_with_masking: 0.2975 - val_loss: 1.3521 - val_accuracy_with_masking: 0.3015\n",
            "Epoch 9/15\n",
            "10000/10000 [==============================] - 7s 715us/step - loss: 1.3524 - accuracy_with_masking: 0.3018 - val_loss: 1.3550 - val_accuracy_with_masking: 0.2787\n",
            "Epoch 10/15\n",
            "10000/10000 [==============================] - 7s 715us/step - loss: 1.3558 - accuracy_with_masking: 0.2988 - val_loss: 1.3513 - val_accuracy_with_masking: 0.3046\n",
            "Epoch 11/15\n",
            "10000/10000 [==============================] - 7s 687us/step - loss: 1.3514 - accuracy_with_masking: 0.3076 - val_loss: 1.3549 - val_accuracy_with_masking: 0.2853\n",
            "Epoch 12/15\n",
            " 2750/10000 [=======>......................] - ETA: 4s - loss: 1.3509 - accuracy_with_masking: 0.3078"
          ],
          "name": "stdout"
        },
        {
          "output_type": "stream",
          "text": [
            "10000/10000 [==============================] - 7s 695us/step - loss: 1.3521 - accuracy_with_masking: 0.3053 - val_loss: 1.3532 - val_accuracy_with_masking: 0.2912\n",
            "Epoch 13/15\n",
            "10000/10000 [==============================] - 7s 718us/step - loss: 1.3510 - accuracy_with_masking: 0.3093 - val_loss: 1.3456 - val_accuracy_with_masking: 0.3248\n",
            "Epoch 14/15\n",
            "10000/10000 [==============================] - 7s 717us/step - loss: 1.3532 - accuracy_with_masking: 0.3046 - val_loss: 1.3523 - val_accuracy_with_masking: 0.3037\n",
            "Epoch 15/15\n",
            "10000/10000 [==============================] - 7s 702us/step - loss: 1.3514 - accuracy_with_masking: 0.3125 - val_loss: 1.3458 - val_accuracy_with_masking: 0.3288\n",
            " 1664/10000 [===>..........................] - ETA: 17s"
          ],
          "name": "stdout"
        },
        {
          "output_type": "stream",
          "text": [
            "10000/10000 [==============================] - 20s 2ms/step\n",
            "Test accuracy: [1.3456071041107178, 0.32932066683769223]\n",
            "[1.3456071041107178, 0.32932066683769223]\n"
          ],
          "name": "stdout"
        },
        {
          "output_type": "display_data",
          "data": {
            "text/plain": [
              "(2, 302, 10000)"
            ]
          },
          "metadata": {
            "tags": []
          }
        },
        {
          "output_type": "display_data",
          "data": {
            "text/plain": [
              "(1, 10000)"
            ]
          },
          "metadata": {
            "tags": []
          }
        },
        {
          "output_type": "display_data",
          "data": {
            "text/plain": [
              "(10000, 302, 2)"
            ]
          },
          "metadata": {
            "tags": []
          }
        },
        {
          "output_type": "display_data",
          "data": {
            "text/plain": [
              "(2, 302, 2500)"
            ]
          },
          "metadata": {
            "tags": []
          }
        },
        {
          "output_type": "display_data",
          "data": {
            "text/plain": [
              "(1, 2500)"
            ]
          },
          "metadata": {
            "tags": []
          }
        },
        {
          "output_type": "display_data",
          "data": {
            "text/plain": [
              "(2500, 302, 2)"
            ]
          },
          "metadata": {
            "tags": []
          }
        },
        {
          "output_type": "display_data",
          "data": {
            "text/plain": [
              "(2, 302, 10000)"
            ]
          },
          "metadata": {
            "tags": []
          }
        },
        {
          "output_type": "display_data",
          "data": {
            "text/plain": [
              "(1, 10000)"
            ]
          },
          "metadata": {
            "tags": []
          }
        },
        {
          "output_type": "display_data",
          "data": {
            "text/plain": [
              "(10000, 302, 2)"
            ]
          },
          "metadata": {
            "tags": []
          }
        },
        {
          "output_type": "stream",
          "text": [
            "x_train shape:  (10000, 302, 2)\n",
            "y_train shape:  (10000, 300)\n",
            "y_train shape, one-hot:  (10000, 300, 4)\n",
            "y_train shape, one-hot, padding:  (10000, 300, 4)\n",
            "_________________________________________________________________\n",
            "Layer (type)                 Output Shape              Param #   \n",
            "=================================================================\n",
            "conv1d_23 (Conv1D)           (None, 300, 10)           70        \n",
            "_________________________________________________________________\n",
            "batch_normalization_23 (Batc (None, 300, 10)           40        \n",
            "_________________________________________________________________\n",
            "flatten_13 (Flatten)         (None, 3000)              0         \n",
            "_________________________________________________________________\n",
            "dense_44 (Dense)             (None, 1200)              3601200   \n",
            "_________________________________________________________________\n",
            "reshape_13 (Reshape)         (None, 300, 4)            0         \n",
            "_________________________________________________________________\n",
            "softmax_13 (Softmax)         (None, 300, 4)            0         \n",
            "=================================================================\n",
            "Total params: 3,601,310\n",
            "Trainable params: 3,601,290\n",
            "Non-trainable params: 20\n",
            "_________________________________________________________________\n",
            "Train on 10000 samples, validate on 2500 samples\n",
            "Epoch 1/10\n",
            "10000/10000 [==============================] - 8s 766us/step - loss: 1.6040 - acc: 0.2502 - val_loss: 1.5310 - val_acc: 0.2506\n",
            "Epoch 2/10\n",
            "10000/10000 [==============================] - 1s 123us/step - loss: 1.4770 - acc: 0.2865 - val_loss: 1.5296 - val_acc: 0.2507\n",
            "Epoch 3/10\n",
            " 9250/10000 [==========================>...] - ETA: 0s - loss: 1.4549 - acc: 0.2987"
          ],
          "name": "stdout"
        },
        {
          "output_type": "stream",
          "text": [
            "10000/10000 [==============================] - 1s 127us/step - loss: 1.4576 - acc: 0.2964 - val_loss: 1.5238 - val_acc: 0.2505\n",
            "Epoch 4/10\n",
            "10000/10000 [==============================] - 1s 123us/step - loss: 1.4406 - acc: 0.3031 - val_loss: 1.5153 - val_acc: 0.2501\n",
            "Epoch 5/10\n",
            "10000/10000 [==============================] - 1s 121us/step - loss: 1.4247 - acc: 0.3095 - val_loss: 1.5059 - val_acc: 0.2502\n",
            "Epoch 6/10\n",
            "10000/10000 [==============================] - 1s 120us/step - loss: 1.4097 - acc: 0.3153 - val_loss: 1.4974 - val_acc: 0.2500\n",
            "Epoch 7/10\n",
            "10000/10000 [==============================] - 1s 121us/step - loss: 1.3958 - acc: 0.3210 - val_loss: 1.4900 - val_acc: 0.2502\n",
            "Epoch 8/10\n",
            "10000/10000 [==============================] - 1s 118us/step - loss: 1.3828 - acc: 0.3276 - val_loss: 1.4837 - val_acc: 0.2501\n",
            "Epoch 9/10\n",
            "10000/10000 [==============================] - 1s 119us/step - loss: 1.3708 - acc: 0.3339 - val_loss: 1.4783 - val_acc: 0.2500\n",
            "Epoch 10/10\n",
            " 9750/10000 [============================>.] - ETA: 0s - loss: 1.3591 - acc: 0.3408"
          ],
          "name": "stdout"
        },
        {
          "output_type": "stream",
          "text": [
            "10000/10000 [==============================] - 1s 121us/step - loss: 1.3602 - acc: 0.3399 - val_loss: 1.4736 - val_acc: 0.2502\n",
            "10000/10000 [==============================] - 2s 201us/step\n",
            "Test accuracy: [1.4742746421813966, 0.24985733370780944]\n",
            "[1.4742746421813966, 0.24985733370780944]\n",
            "Score:  [1.4742746421813966, 0.24985733370780944]\n",
            "SNRdB:  -7.222222222222221\n"
          ],
          "name": "stdout"
        },
        {
          "output_type": "display_data",
          "data": {
            "text/plain": [
              "(2, 302, 10000)"
            ]
          },
          "metadata": {
            "tags": []
          }
        },
        {
          "output_type": "display_data",
          "data": {
            "text/plain": [
              "(1, 10000)"
            ]
          },
          "metadata": {
            "tags": []
          }
        },
        {
          "output_type": "display_data",
          "data": {
            "text/plain": [
              "(10000, 302, 2)"
            ]
          },
          "metadata": {
            "tags": []
          }
        },
        {
          "output_type": "display_data",
          "data": {
            "text/plain": [
              "(2, 302, 2500)"
            ]
          },
          "metadata": {
            "tags": []
          }
        },
        {
          "output_type": "display_data",
          "data": {
            "text/plain": [
              "(1, 2500)"
            ]
          },
          "metadata": {
            "tags": []
          }
        },
        {
          "output_type": "display_data",
          "data": {
            "text/plain": [
              "(2500, 302, 2)"
            ]
          },
          "metadata": {
            "tags": []
          }
        },
        {
          "output_type": "display_data",
          "data": {
            "text/plain": [
              "(2, 302, 10000)"
            ]
          },
          "metadata": {
            "tags": []
          }
        },
        {
          "output_type": "display_data",
          "data": {
            "text/plain": [
              "(1, 10000)"
            ]
          },
          "metadata": {
            "tags": []
          }
        },
        {
          "output_type": "display_data",
          "data": {
            "text/plain": [
              "(10000, 302, 2)"
            ]
          },
          "metadata": {
            "tags": []
          }
        },
        {
          "output_type": "stream",
          "text": [
            "x_train shape:  (10000, 302, 2)\n",
            "y_train shape:  (10000, 300)\n",
            "y_train shape, one-hot:  (10000, 300, 4)\n",
            "y_train shape, one-hot, padding:  (10000, 302, 4)\n",
            "_________________________________________________________________\n",
            "Layer (type)                 Output Shape              Param #   \n",
            "=================================================================\n",
            "cu_dnnlstm_79 (CuDNNLSTM)    (None, 302, 50)           10800     \n",
            "_________________________________________________________________\n",
            "cu_dnnlstm_80 (CuDNNLSTM)    (None, 302, 50)           20400     \n",
            "_________________________________________________________________\n",
            "cu_dnnlstm_81 (CuDNNLSTM)    (None, 302, 50)           20400     \n",
            "_________________________________________________________________\n",
            "time_distributed_32 (TimeDis (None, 302, 4)            204       \n",
            "=================================================================\n",
            "Total params: 51,804\n",
            "Trainable params: 51,804\n",
            "Non-trainable params: 0\n",
            "_________________________________________________________________\n",
            "Train on 10000 samples, validate on 2500 samples\n",
            "Epoch 1/15\n",
            "10000/10000 [==============================] - 14s 1ms/step - loss: 1.3878 - accuracy_with_masking: 0.2496 - val_loss: 1.3863 - val_accuracy_with_masking: 0.2509\n",
            "Epoch 2/15\n",
            " 9250/10000 [==========================>...] - ETA: 0s - loss: 1.3863 - accuracy_with_masking: 0.2505"
          ],
          "name": "stdout"
        },
        {
          "output_type": "stream",
          "text": [
            "10000/10000 [==============================] - 7s 720us/step - loss: 1.3863 - accuracy_with_masking: 0.2505 - val_loss: 1.3863 - val_accuracy_with_masking: 0.2531\n",
            "Epoch 3/15\n",
            "10000/10000 [==============================] - 7s 730us/step - loss: 1.3863 - accuracy_with_masking: 0.2516 - val_loss: 1.3862 - val_accuracy_with_masking: 0.2531\n",
            "Epoch 4/15\n",
            "10000/10000 [==============================] - 7s 741us/step - loss: 1.3862 - accuracy_with_masking: 0.2532 - val_loss: 1.3861 - val_accuracy_with_masking: 0.2561\n",
            "Epoch 5/15\n",
            "10000/10000 [==============================] - 7s 737us/step - loss: 1.3861 - accuracy_with_masking: 0.2548 - val_loss: 1.3858 - val_accuracy_with_masking: 0.2579\n",
            "Epoch 6/15\n",
            "10000/10000 [==============================] - 7s 728us/step - loss: 1.3855 - accuracy_with_masking: 0.2591 - val_loss: 1.3836 - val_accuracy_with_masking: 0.2659\n",
            "Epoch 7/15\n",
            " 3250/10000 [========>.....................] - ETA: 4s - loss: 1.3845 - accuracy_with_masking: 0.2628"
          ],
          "name": "stdout"
        },
        {
          "output_type": "stream",
          "text": [
            "10000/10000 [==============================] - 7s 736us/step - loss: 1.3819 - accuracy_with_masking: 0.2666 - val_loss: 1.3801 - val_accuracy_with_masking: 0.2685\n",
            "Epoch 8/15\n",
            "10000/10000 [==============================] - 7s 731us/step - loss: 1.3797 - accuracy_with_masking: 0.2695 - val_loss: 1.3795 - val_accuracy_with_masking: 0.2685\n",
            "Epoch 9/15\n",
            "10000/10000 [==============================] - 7s 728us/step - loss: 1.3794 - accuracy_with_masking: 0.2696 - val_loss: 1.3792 - val_accuracy_with_masking: 0.2705\n",
            "Epoch 10/15\n",
            "10000/10000 [==============================] - 7s 722us/step - loss: 1.3792 - accuracy_with_masking: 0.2696 - val_loss: 1.3792 - val_accuracy_with_masking: 0.2689\n",
            "Epoch 11/15\n",
            "10000/10000 [==============================] - 7s 729us/step - loss: 1.3791 - accuracy_with_masking: 0.2695 - val_loss: 1.3789 - val_accuracy_with_masking: 0.2693\n",
            "Epoch 12/15\n",
            " 2750/10000 [=======>......................] - ETA: 4s - loss: 1.3793 - accuracy_with_masking: 0.2690"
          ],
          "name": "stdout"
        },
        {
          "output_type": "stream",
          "text": [
            "10000/10000 [==============================] - 7s 724us/step - loss: 1.3790 - accuracy_with_masking: 0.2699 - val_loss: 1.3792 - val_accuracy_with_masking: 0.2699\n",
            "Epoch 13/15\n",
            "10000/10000 [==============================] - 7s 725us/step - loss: 1.3790 - accuracy_with_masking: 0.2698 - val_loss: 1.3791 - val_accuracy_with_masking: 0.2686\n",
            "Epoch 14/15\n",
            "10000/10000 [==============================] - 7s 725us/step - loss: 1.3788 - accuracy_with_masking: 0.2702 - val_loss: 1.3786 - val_accuracy_with_masking: 0.2694\n",
            "\n",
            "Epoch 00014: ReduceLROnPlateau reducing learning rate to 0.0004000000189989805.\n",
            "Epoch 15/15\n",
            "10000/10000 [==============================] - 8s 819us/step - loss: 1.3783 - accuracy_with_masking: 0.2705 - val_loss: 1.3784 - val_accuracy_with_masking: 0.2689\n",
            " 1504/10000 [===>..........................] - ETA: 23s"
          ],
          "name": "stdout"
        },
        {
          "output_type": "stream",
          "text": [
            "10000/10000 [==============================] - 24s 2ms/step\n",
            "Test accuracy: [1.3784871658325195, 0.26936500024795534]\n",
            "[1.3784871658325195, 0.26936500024795534]\n"
          ],
          "name": "stdout"
        },
        {
          "output_type": "display_data",
          "data": {
            "text/plain": [
              "(2, 302, 10000)"
            ]
          },
          "metadata": {
            "tags": []
          }
        },
        {
          "output_type": "display_data",
          "data": {
            "text/plain": [
              "(1, 10000)"
            ]
          },
          "metadata": {
            "tags": []
          }
        },
        {
          "output_type": "display_data",
          "data": {
            "text/plain": [
              "(10000, 302, 2)"
            ]
          },
          "metadata": {
            "tags": []
          }
        },
        {
          "output_type": "display_data",
          "data": {
            "text/plain": [
              "(2, 302, 2500)"
            ]
          },
          "metadata": {
            "tags": []
          }
        },
        {
          "output_type": "display_data",
          "data": {
            "text/plain": [
              "(1, 2500)"
            ]
          },
          "metadata": {
            "tags": []
          }
        },
        {
          "output_type": "display_data",
          "data": {
            "text/plain": [
              "(2500, 302, 2)"
            ]
          },
          "metadata": {
            "tags": []
          }
        },
        {
          "output_type": "display_data",
          "data": {
            "text/plain": [
              "(2, 302, 10000)"
            ]
          },
          "metadata": {
            "tags": []
          }
        },
        {
          "output_type": "display_data",
          "data": {
            "text/plain": [
              "(1, 10000)"
            ]
          },
          "metadata": {
            "tags": []
          }
        },
        {
          "output_type": "display_data",
          "data": {
            "text/plain": [
              "(10000, 302, 2)"
            ]
          },
          "metadata": {
            "tags": []
          }
        },
        {
          "output_type": "stream",
          "text": [
            "x_train shape:  (10000, 302, 2)\n",
            "y_train shape:  (10000, 300)\n",
            "y_train shape, one-hot:  (10000, 300, 4)\n",
            "y_train shape, one-hot, padding:  (10000, 300, 4)\n",
            "_________________________________________________________________\n",
            "Layer (type)                 Output Shape              Param #   \n",
            "=================================================================\n",
            "conv1d_24 (Conv1D)           (None, 300, 10)           70        \n",
            "_________________________________________________________________\n",
            "batch_normalization_24 (Batc (None, 300, 10)           40        \n",
            "_________________________________________________________________\n",
            "flatten_14 (Flatten)         (None, 3000)              0         \n",
            "_________________________________________________________________\n",
            "dense_46 (Dense)             (None, 1200)              3601200   \n",
            "_________________________________________________________________\n",
            "reshape_14 (Reshape)         (None, 300, 4)            0         \n",
            "_________________________________________________________________\n",
            "softmax_14 (Softmax)         (None, 300, 4)            0         \n",
            "=================================================================\n",
            "Total params: 3,601,310\n",
            "Trainable params: 3,601,290\n",
            "Non-trainable params: 20\n",
            "_________________________________________________________________\n",
            "Train on 10000 samples, validate on 2500 samples\n",
            "Epoch 1/10\n",
            "10000/10000 [==============================] - 9s 857us/step - loss: 1.6116 - acc: 0.2498 - val_loss: 1.5351 - val_acc: 0.2504\n",
            "Epoch 2/10\n",
            "10000/10000 [==============================] - 1s 108us/step - loss: 1.4744 - acc: 0.2916 - val_loss: 1.5324 - val_acc: 0.2504\n",
            "Epoch 3/10\n",
            "10000/10000 [==============================] - 1s 109us/step - loss: 1.4589 - acc: 0.2982 - val_loss: 1.5238 - val_acc: 0.2502\n",
            "Epoch 4/10\n",
            " 4000/10000 [===========>..................] - ETA: 0s - loss: 1.3963 - acc: 0.3357"
          ],
          "name": "stdout"
        },
        {
          "output_type": "stream",
          "text": [
            "10000/10000 [==============================] - 1s 122us/step - loss: 1.4434 - acc: 0.3030 - val_loss: 1.5131 - val_acc: 0.2503\n",
            "Epoch 5/10\n",
            "10000/10000 [==============================] - 1s 118us/step - loss: 1.4279 - acc: 0.3079 - val_loss: 1.5044 - val_acc: 0.2505\n",
            "Epoch 6/10\n",
            "10000/10000 [==============================] - 1s 113us/step - loss: 1.4131 - acc: 0.3135 - val_loss: 1.4950 - val_acc: 0.2503\n",
            "Epoch 7/10\n",
            "10000/10000 [==============================] - 1s 124us/step - loss: 1.3984 - acc: 0.3195 - val_loss: 1.4884 - val_acc: 0.2505\n",
            "Epoch 8/10\n",
            "10000/10000 [==============================] - 1s 117us/step - loss: 1.3853 - acc: 0.3259 - val_loss: 1.4823 - val_acc: 0.2505\n",
            "Epoch 9/10\n",
            "10000/10000 [==============================] - 1s 141us/step - loss: 1.3730 - acc: 0.3321 - val_loss: 1.4774 - val_acc: 0.2507\n",
            "Epoch 10/10\n",
            "10000/10000 [==============================] - 1s 111us/step - loss: 1.3620 - acc: 0.3385 - val_loss: 1.4733 - val_acc: 0.2506\n",
            " 6976/10000 [===================>..........] - ETA: 0s"
          ],
          "name": "stdout"
        },
        {
          "output_type": "stream",
          "text": [
            "10000/10000 [==============================] - 2s 199us/step\n",
            "Test accuracy: [1.4741486377716064, 0.25024833374023436]\n",
            "[1.4741486377716064, 0.25024833374023436]\n",
            "Score:  [1.4741486377716064, 0.25024833374023436]\n",
            "SNRdB:  -11.11111111111111\n"
          ],
          "name": "stdout"
        },
        {
          "output_type": "display_data",
          "data": {
            "text/plain": [
              "(2, 302, 10000)"
            ]
          },
          "metadata": {
            "tags": []
          }
        },
        {
          "output_type": "display_data",
          "data": {
            "text/plain": [
              "(1, 10000)"
            ]
          },
          "metadata": {
            "tags": []
          }
        },
        {
          "output_type": "display_data",
          "data": {
            "text/plain": [
              "(10000, 302, 2)"
            ]
          },
          "metadata": {
            "tags": []
          }
        },
        {
          "output_type": "display_data",
          "data": {
            "text/plain": [
              "(2, 302, 2500)"
            ]
          },
          "metadata": {
            "tags": []
          }
        },
        {
          "output_type": "display_data",
          "data": {
            "text/plain": [
              "(1, 2500)"
            ]
          },
          "metadata": {
            "tags": []
          }
        },
        {
          "output_type": "display_data",
          "data": {
            "text/plain": [
              "(2500, 302, 2)"
            ]
          },
          "metadata": {
            "tags": []
          }
        },
        {
          "output_type": "display_data",
          "data": {
            "text/plain": [
              "(2, 302, 10000)"
            ]
          },
          "metadata": {
            "tags": []
          }
        },
        {
          "output_type": "display_data",
          "data": {
            "text/plain": [
              "(1, 10000)"
            ]
          },
          "metadata": {
            "tags": []
          }
        },
        {
          "output_type": "display_data",
          "data": {
            "text/plain": [
              "(10000, 302, 2)"
            ]
          },
          "metadata": {
            "tags": []
          }
        },
        {
          "output_type": "stream",
          "text": [
            "x_train shape:  (10000, 302, 2)\n",
            "y_train shape:  (10000, 300)\n",
            "y_train shape, one-hot:  (10000, 300, 4)\n",
            "y_train shape, one-hot, padding:  (10000, 302, 4)\n",
            "_________________________________________________________________\n",
            "Layer (type)                 Output Shape              Param #   \n",
            "=================================================================\n",
            "cu_dnnlstm_82 (CuDNNLSTM)    (None, 302, 50)           10800     \n",
            "_________________________________________________________________\n",
            "cu_dnnlstm_83 (CuDNNLSTM)    (None, 302, 50)           20400     \n",
            "_________________________________________________________________\n",
            "cu_dnnlstm_84 (CuDNNLSTM)    (None, 302, 50)           20400     \n",
            "_________________________________________________________________\n",
            "time_distributed_33 (TimeDis (None, 302, 4)            204       \n",
            "=================================================================\n",
            "Total params: 51,804\n",
            "Trainable params: 51,804\n",
            "Non-trainable params: 0\n",
            "_________________________________________________________________\n",
            "Train on 10000 samples, validate on 2500 samples\n",
            "Epoch 1/15\n",
            "10000/10000 [==============================] - 15s 1ms/step - loss: 1.3878 - accuracy_with_masking: 0.2501 - val_loss: 1.3865 - val_accuracy_with_masking: 0.2505\n",
            "Epoch 2/15\n",
            " 9250/10000 [==========================>...] - ETA: 0s - loss: 1.3863 - accuracy_with_masking: 0.2510"
          ],
          "name": "stdout"
        },
        {
          "output_type": "stream",
          "text": [
            "10000/10000 [==============================] - 7s 713us/step - loss: 1.3863 - accuracy_with_masking: 0.2509 - val_loss: 1.3864 - val_accuracy_with_masking: 0.2514\n",
            "Epoch 3/15\n",
            "10000/10000 [==============================] - 7s 719us/step - loss: 1.3863 - accuracy_with_masking: 0.2512 - val_loss: 1.3863 - val_accuracy_with_masking: 0.2516\n",
            "Epoch 4/15\n",
            "10000/10000 [==============================] - 7s 713us/step - loss: 1.3863 - accuracy_with_masking: 0.2517 - val_loss: 1.3863 - val_accuracy_with_masking: 0.2505\n",
            "Epoch 5/15\n",
            "10000/10000 [==============================] - 7s 712us/step - loss: 1.3863 - accuracy_with_masking: 0.2525 - val_loss: 1.3863 - val_accuracy_with_masking: 0.2525\n",
            "Epoch 6/15\n",
            "10000/10000 [==============================] - 7s 726us/step - loss: 1.3862 - accuracy_with_masking: 0.2525 - val_loss: 1.3862 - val_accuracy_with_masking: 0.2533\n",
            "Epoch 7/15\n",
            " 3250/10000 [========>.....................] - ETA: 4s - loss: 1.3862 - accuracy_with_masking: 0.2535"
          ],
          "name": "stdout"
        },
        {
          "output_type": "stream",
          "text": [
            "10000/10000 [==============================] - 7s 729us/step - loss: 1.3861 - accuracy_with_masking: 0.2539 - val_loss: 1.3860 - val_accuracy_with_masking: 0.2550\n",
            "Epoch 8/15\n",
            "10000/10000 [==============================] - 7s 736us/step - loss: 1.3859 - accuracy_with_masking: 0.2556 - val_loss: 1.3854 - val_accuracy_with_masking: 0.2571\n",
            "Epoch 9/15\n",
            "10000/10000 [==============================] - 7s 737us/step - loss: 1.3852 - accuracy_with_masking: 0.2584 - val_loss: 1.3850 - val_accuracy_with_masking: 0.2585\n",
            "Epoch 10/15\n",
            "10000/10000 [==============================] - 7s 729us/step - loss: 1.3850 - accuracy_with_masking: 0.2589 - val_loss: 1.3849 - val_accuracy_with_masking: 0.2589\n",
            "Epoch 11/15\n",
            "10000/10000 [==============================] - 7s 733us/step - loss: 1.3850 - accuracy_with_masking: 0.2590 - val_loss: 1.3850 - val_accuracy_with_masking: 0.2588\n",
            "Epoch 12/15\n",
            " 2750/10000 [=======>......................] - ETA: 4s - loss: 1.3849 - accuracy_with_masking: 0.2592"
          ],
          "name": "stdout"
        },
        {
          "output_type": "stream",
          "text": [
            "10000/10000 [==============================] - 7s 727us/step - loss: 1.3849 - accuracy_with_masking: 0.2591 - val_loss: 1.3849 - val_accuracy_with_masking: 0.2586\n",
            "Epoch 13/15\n",
            "10000/10000 [==============================] - 7s 729us/step - loss: 1.3849 - accuracy_with_masking: 0.2592 - val_loss: 1.3849 - val_accuracy_with_masking: 0.2592\n",
            "Epoch 14/15\n",
            "10000/10000 [==============================] - 7s 723us/step - loss: 1.3849 - accuracy_with_masking: 0.2592 - val_loss: 1.3848 - val_accuracy_with_masking: 0.2594\n",
            "Epoch 15/15\n",
            "10000/10000 [==============================] - 7s 726us/step - loss: 1.3849 - accuracy_with_masking: 0.2591 - val_loss: 1.3849 - val_accuracy_with_masking: 0.2584\n",
            " 1728/10000 [====>.........................] - ETA: 17s"
          ],
          "name": "stdout"
        },
        {
          "output_type": "stream",
          "text": [
            "10000/10000 [==============================] - 21s 2ms/step\n",
            "Test accuracy: [1.3850080823898316, 0.2581640004396439]\n",
            "[1.3850080823898316, 0.2581640004396439]\n"
          ],
          "name": "stdout"
        },
        {
          "output_type": "display_data",
          "data": {
            "text/plain": [
              "(2, 302, 10000)"
            ]
          },
          "metadata": {
            "tags": []
          }
        },
        {
          "output_type": "display_data",
          "data": {
            "text/plain": [
              "(1, 10000)"
            ]
          },
          "metadata": {
            "tags": []
          }
        },
        {
          "output_type": "display_data",
          "data": {
            "text/plain": [
              "(10000, 302, 2)"
            ]
          },
          "metadata": {
            "tags": []
          }
        },
        {
          "output_type": "display_data",
          "data": {
            "text/plain": [
              "(2, 302, 2500)"
            ]
          },
          "metadata": {
            "tags": []
          }
        },
        {
          "output_type": "display_data",
          "data": {
            "text/plain": [
              "(1, 2500)"
            ]
          },
          "metadata": {
            "tags": []
          }
        },
        {
          "output_type": "display_data",
          "data": {
            "text/plain": [
              "(2500, 302, 2)"
            ]
          },
          "metadata": {
            "tags": []
          }
        },
        {
          "output_type": "display_data",
          "data": {
            "text/plain": [
              "(2, 302, 10000)"
            ]
          },
          "metadata": {
            "tags": []
          }
        },
        {
          "output_type": "display_data",
          "data": {
            "text/plain": [
              "(1, 10000)"
            ]
          },
          "metadata": {
            "tags": []
          }
        },
        {
          "output_type": "display_data",
          "data": {
            "text/plain": [
              "(10000, 302, 2)"
            ]
          },
          "metadata": {
            "tags": []
          }
        },
        {
          "output_type": "stream",
          "text": [
            "x_train shape:  (10000, 302, 2)\n",
            "y_train shape:  (10000, 300)\n",
            "y_train shape, one-hot:  (10000, 300, 4)\n",
            "y_train shape, one-hot, padding:  (10000, 300, 4)\n",
            "_________________________________________________________________\n",
            "Layer (type)                 Output Shape              Param #   \n",
            "=================================================================\n",
            "conv1d_25 (Conv1D)           (None, 300, 10)           70        \n",
            "_________________________________________________________________\n",
            "batch_normalization_25 (Batc (None, 300, 10)           40        \n",
            "_________________________________________________________________\n",
            "flatten_15 (Flatten)         (None, 3000)              0         \n",
            "_________________________________________________________________\n",
            "dense_48 (Dense)             (None, 1200)              3601200   \n",
            "_________________________________________________________________\n",
            "reshape_15 (Reshape)         (None, 300, 4)            0         \n",
            "_________________________________________________________________\n",
            "softmax_15 (Softmax)         (None, 300, 4)            0         \n",
            "=================================================================\n",
            "Total params: 3,601,310\n",
            "Trainable params: 3,601,290\n",
            "Non-trainable params: 20\n",
            "_________________________________________________________________\n",
            "Train on 10000 samples, validate on 2500 samples\n",
            "Epoch 1/10\n",
            "10000/10000 [==============================] - 8s 810us/step - loss: 1.6045 - acc: 0.2503 - val_loss: 1.5313 - val_acc: 0.2505\n",
            "Epoch 2/10\n",
            "10000/10000 [==============================] - 1s 124us/step - loss: 1.4822 - acc: 0.2841 - val_loss: 1.5266 - val_acc: 0.2507\n",
            "Epoch 3/10\n",
            " 9750/10000 [============================>.] - ETA: 0s - loss: 1.4617 - acc: 0.2939"
          ],
          "name": "stdout"
        },
        {
          "output_type": "stream",
          "text": [
            "\b\b\b\b\b\b\b\b\b\b\b\b\b\b\b\b\b\b\b\b\b\b\b\b\b\b\b\b\b\b\b\b\b\b\b\b\b\b\b\b\b\b\b\b\b\b\b\b\b\b\b\b\b\b\b\b\b\b\b\b\b\b\b\b\b\b\b\b\b\b\b\b\b\b\b\b\b\b\b\b\b\b\b\r10000/10000 [==============================] - 1s 126us/step - loss: 1.4626 - acc: 0.2931 - val_loss: 1.5193 - val_acc: 0.2504\n",
            "Epoch 4/10\n",
            "10000/10000 [==============================] - 1s 124us/step - loss: 1.4441 - acc: 0.3008 - val_loss: 1.5111 - val_acc: 0.2507\n",
            "Epoch 5/10\n",
            "10000/10000 [==============================] - 1s 120us/step - loss: 1.4274 - acc: 0.3081 - val_loss: 1.5026 - val_acc: 0.2507\n",
            "Epoch 6/10\n",
            "10000/10000 [==============================] - 1s 121us/step - loss: 1.4116 - acc: 0.3142 - val_loss: 1.4952 - val_acc: 0.2506\n",
            "Epoch 7/10\n",
            "10000/10000 [==============================] - 1s 120us/step - loss: 1.3974 - acc: 0.3206 - val_loss: 1.4881 - val_acc: 0.2502\n",
            "Epoch 8/10\n",
            "10000/10000 [==============================] - 1s 120us/step - loss: 1.3840 - acc: 0.3269 - val_loss: 1.4825 - val_acc: 0.2506\n",
            "Epoch 9/10\n",
            "10000/10000 [==============================] - 1s 120us/step - loss: 1.3718 - acc: 0.3333 - val_loss: 1.4774 - val_acc: 0.2503\n",
            "Epoch 10/10\n",
            " 5250/10000 [==============>...............] - ETA: 0s - loss: 1.3354 - acc: 0.3604"
          ],
          "name": "stdout"
        },
        {
          "output_type": "stream",
          "text": [
            "10000/10000 [==============================] - 1s 125us/step - loss: 1.3610 - acc: 0.3395 - val_loss: 1.4730 - val_acc: 0.2507\n",
            "10000/10000 [==============================] - 2s 190us/step\n",
            "Test accuracy: [1.4741111114501952, 0.24941700043678283]\n",
            "[1.4741111114501952, 0.24941700043678283]\n",
            "Score:  [1.4741111114501952, 0.24941700043678283]\n",
            "SNRdB:  -15.0\n"
          ],
          "name": "stdout"
        },
        {
          "output_type": "display_data",
          "data": {
            "text/plain": [
              "(2, 302, 10000)"
            ]
          },
          "metadata": {
            "tags": []
          }
        },
        {
          "output_type": "display_data",
          "data": {
            "text/plain": [
              "(1, 10000)"
            ]
          },
          "metadata": {
            "tags": []
          }
        },
        {
          "output_type": "display_data",
          "data": {
            "text/plain": [
              "(10000, 302, 2)"
            ]
          },
          "metadata": {
            "tags": []
          }
        },
        {
          "output_type": "display_data",
          "data": {
            "text/plain": [
              "(2, 302, 2500)"
            ]
          },
          "metadata": {
            "tags": []
          }
        },
        {
          "output_type": "display_data",
          "data": {
            "text/plain": [
              "(1, 2500)"
            ]
          },
          "metadata": {
            "tags": []
          }
        },
        {
          "output_type": "display_data",
          "data": {
            "text/plain": [
              "(2500, 302, 2)"
            ]
          },
          "metadata": {
            "tags": []
          }
        },
        {
          "output_type": "display_data",
          "data": {
            "text/plain": [
              "(2, 302, 10000)"
            ]
          },
          "metadata": {
            "tags": []
          }
        },
        {
          "output_type": "display_data",
          "data": {
            "text/plain": [
              "(1, 10000)"
            ]
          },
          "metadata": {
            "tags": []
          }
        },
        {
          "output_type": "display_data",
          "data": {
            "text/plain": [
              "(10000, 302, 2)"
            ]
          },
          "metadata": {
            "tags": []
          }
        },
        {
          "output_type": "stream",
          "text": [
            "x_train shape:  (10000, 302, 2)\n",
            "y_train shape:  (10000, 300)\n",
            "y_train shape, one-hot:  (10000, 300, 4)\n",
            "y_train shape, one-hot, padding:  (10000, 302, 4)\n",
            "_________________________________________________________________\n",
            "Layer (type)                 Output Shape              Param #   \n",
            "=================================================================\n",
            "cu_dnnlstm_85 (CuDNNLSTM)    (None, 302, 50)           10800     \n",
            "_________________________________________________________________\n",
            "cu_dnnlstm_86 (CuDNNLSTM)    (None, 302, 50)           20400     \n",
            "_________________________________________________________________\n",
            "cu_dnnlstm_87 (CuDNNLSTM)    (None, 302, 50)           20400     \n",
            "_________________________________________________________________\n",
            "time_distributed_34 (TimeDis (None, 302, 4)            204       \n",
            "=================================================================\n",
            "Total params: 51,804\n",
            "Trainable params: 51,804\n",
            "Non-trainable params: 0\n",
            "_________________________________________________________________\n",
            "Train on 10000 samples, validate on 2500 samples\n",
            "Epoch 1/15\n",
            "10000/10000 [==============================] - 15s 1ms/step - loss: 1.3872 - accuracy_with_masking: 0.2504 - val_loss: 1.3866 - val_accuracy_with_masking: 0.2503\n",
            "Epoch 2/15\n",
            " 9250/10000 [==========================>...] - ETA: 0s - loss: 1.3864 - accuracy_with_masking: 0.2501"
          ],
          "name": "stdout"
        },
        {
          "output_type": "stream",
          "text": [
            "10000/10000 [==============================] - 7s 708us/step - loss: 1.3864 - accuracy_with_masking: 0.2500 - val_loss: 1.3863 - val_accuracy_with_masking: 0.2493\n",
            "Epoch 3/15\n",
            "10000/10000 [==============================] - 7s 709us/step - loss: 1.3863 - accuracy_with_masking: 0.2510 - val_loss: 1.3863 - val_accuracy_with_masking: 0.2509\n",
            "Epoch 4/15\n",
            "10000/10000 [==============================] - 7s 713us/step - loss: 1.3863 - accuracy_with_masking: 0.2505 - val_loss: 1.3863 - val_accuracy_with_masking: 0.2502\n",
            "Epoch 5/15\n",
            "10000/10000 [==============================] - 7s 702us/step - loss: 1.3863 - accuracy_with_masking: 0.2511 - val_loss: 1.3863 - val_accuracy_with_masking: 0.2498\n",
            "Epoch 6/15\n",
            "10000/10000 [==============================] - 7s 710us/step - loss: 1.3863 - accuracy_with_masking: 0.2515 - val_loss: 1.3863 - val_accuracy_with_masking: 0.2497\n",
            "Epoch 7/15\n",
            " 3250/10000 [========>.....................] - ETA: 4s - loss: 1.3863 - accuracy_with_masking: 0.2517"
          ],
          "name": "stdout"
        },
        {
          "output_type": "stream",
          "text": [
            "10000/10000 [==============================] - 7s 710us/step - loss: 1.3863 - accuracy_with_masking: 0.2514 - val_loss: 1.3863 - val_accuracy_with_masking: 0.2512\n",
            "Epoch 8/15\n",
            "10000/10000 [==============================] - 7s 709us/step - loss: 1.3863 - accuracy_with_masking: 0.2516 - val_loss: 1.3863 - val_accuracy_with_masking: 0.2514\n",
            "Epoch 9/15\n",
            "10000/10000 [==============================] - 7s 696us/step - loss: 1.3863 - accuracy_with_masking: 0.2518 - val_loss: 1.3863 - val_accuracy_with_masking: 0.2511\n",
            "Epoch 10/15\n",
            "10000/10000 [==============================] - 7s 718us/step - loss: 1.3863 - accuracy_with_masking: 0.2522 - val_loss: 1.3864 - val_accuracy_with_masking: 0.2498\n",
            "Epoch 11/15\n",
            "10000/10000 [==============================] - 8s 766us/step - loss: 1.3862 - accuracy_with_masking: 0.2530 - val_loss: 1.3863 - val_accuracy_with_masking: 0.2522\n",
            "Epoch 12/15\n",
            " 2500/10000 [======>.......................] - ETA: 6s - loss: 1.3862 - accuracy_with_masking: 0.2522"
          ],
          "name": "stdout"
        },
        {
          "output_type": "stream",
          "text": [
            "10000/10000 [==============================] - 9s 864us/step - loss: 1.3862 - accuracy_with_masking: 0.2531 - val_loss: 1.3862 - val_accuracy_with_masking: 0.2528\n",
            "Epoch 13/15\n",
            "10000/10000 [==============================] - 8s 785us/step - loss: 1.3862 - accuracy_with_masking: 0.2531 - val_loss: 1.3863 - val_accuracy_with_masking: 0.2528\n",
            "Epoch 14/15\n",
            "10000/10000 [==============================] - 7s 748us/step - loss: 1.3861 - accuracy_with_masking: 0.2541 - val_loss: 1.3862 - val_accuracy_with_masking: 0.2529\n",
            "Epoch 15/15\n",
            "10000/10000 [==============================] - 8s 754us/step - loss: 1.3861 - accuracy_with_masking: 0.2540 - val_loss: 1.3862 - val_accuracy_with_masking: 0.2526\n",
            " 1760/10000 [====>.........................] - ETA: 18s"
          ],
          "name": "stdout"
        },
        {
          "output_type": "stream",
          "text": [
            "10000/10000 [==============================] - 23s 2ms/step\n",
            "Test accuracy: [1.386150973892212, 0.25269400033950806]\n",
            "[1.386150973892212, 0.25269400033950806]\n"
          ],
          "name": "stdout"
        },
        {
          "output_type": "display_data",
          "data": {
            "text/plain": [
              "(2, 302, 10000)"
            ]
          },
          "metadata": {
            "tags": []
          }
        },
        {
          "output_type": "display_data",
          "data": {
            "text/plain": [
              "(1, 10000)"
            ]
          },
          "metadata": {
            "tags": []
          }
        },
        {
          "output_type": "display_data",
          "data": {
            "text/plain": [
              "(10000, 302, 2)"
            ]
          },
          "metadata": {
            "tags": []
          }
        },
        {
          "output_type": "display_data",
          "data": {
            "text/plain": [
              "(2, 302, 2500)"
            ]
          },
          "metadata": {
            "tags": []
          }
        },
        {
          "output_type": "display_data",
          "data": {
            "text/plain": [
              "(1, 2500)"
            ]
          },
          "metadata": {
            "tags": []
          }
        },
        {
          "output_type": "display_data",
          "data": {
            "text/plain": [
              "(2500, 302, 2)"
            ]
          },
          "metadata": {
            "tags": []
          }
        },
        {
          "output_type": "display_data",
          "data": {
            "text/plain": [
              "(2, 302, 10000)"
            ]
          },
          "metadata": {
            "tags": []
          }
        },
        {
          "output_type": "display_data",
          "data": {
            "text/plain": [
              "(1, 10000)"
            ]
          },
          "metadata": {
            "tags": []
          }
        },
        {
          "output_type": "display_data",
          "data": {
            "text/plain": [
              "(10000, 302, 2)"
            ]
          },
          "metadata": {
            "tags": []
          }
        },
        {
          "output_type": "stream",
          "text": [
            "x_train shape:  (10000, 302, 2)\n",
            "y_train shape:  (10000, 300)\n",
            "y_train shape, one-hot:  (10000, 300, 4)\n",
            "y_train shape, one-hot, padding:  (10000, 300, 4)\n",
            "_________________________________________________________________\n",
            "Layer (type)                 Output Shape              Param #   \n",
            "=================================================================\n",
            "conv1d_26 (Conv1D)           (None, 300, 10)           70        \n",
            "_________________________________________________________________\n",
            "batch_normalization_26 (Batc (None, 300, 10)           40        \n",
            "_________________________________________________________________\n",
            "flatten_16 (Flatten)         (None, 3000)              0         \n",
            "_________________________________________________________________\n",
            "dense_50 (Dense)             (None, 1200)              3601200   \n",
            "_________________________________________________________________\n",
            "reshape_16 (Reshape)         (None, 300, 4)            0         \n",
            "_________________________________________________________________\n",
            "softmax_16 (Softmax)         (None, 300, 4)            0         \n",
            "=================================================================\n",
            "Total params: 3,601,310\n",
            "Trainable params: 3,601,290\n",
            "Non-trainable params: 20\n",
            "_________________________________________________________________\n",
            "Train on 10000 samples, validate on 2500 samples\n",
            "Epoch 1/10\n",
            "10000/10000 [==============================] - 11s 1ms/step - loss: 1.6052 - acc: 0.2502 - val_loss: 1.5387 - val_acc: 0.2497\n",
            "Epoch 2/10\n",
            "10000/10000 [==============================] - 1s 137us/step - loss: 1.4717 - acc: 0.2889 - val_loss: 1.5372 - val_acc: 0.2496\n",
            "Epoch 3/10\n",
            " 8750/10000 [=========================>....] - ETA: 0s - loss: 1.4494 - acc: 0.3037"
          ],
          "name": "stdout"
        },
        {
          "output_type": "stream",
          "text": [
            "10000/10000 [==============================] - 1s 140us/step - loss: 1.4544 - acc: 0.2999 - val_loss: 1.5305 - val_acc: 0.2500\n",
            "Epoch 4/10\n",
            "10000/10000 [==============================] - 1s 138us/step - loss: 1.4389 - acc: 0.3055 - val_loss: 1.5200 - val_acc: 0.2495\n",
            "Epoch 5/10\n",
            "10000/10000 [==============================] - 1s 140us/step - loss: 1.4238 - acc: 0.3110 - val_loss: 1.5095 - val_acc: 0.2495\n",
            "Epoch 6/10\n",
            "10000/10000 [==============================] - 1s 142us/step - loss: 1.4096 - acc: 0.3158 - val_loss: 1.5001 - val_acc: 0.2487\n",
            "Epoch 7/10\n",
            "10000/10000 [==============================] - 1s 136us/step - loss: 1.3961 - acc: 0.3217 - val_loss: 1.4918 - val_acc: 0.2494\n",
            "Epoch 8/10\n",
            "10000/10000 [==============================] - 1s 143us/step - loss: 1.3830 - acc: 0.3275 - val_loss: 1.4847 - val_acc: 0.2495\n",
            "Epoch 9/10\n",
            "10000/10000 [==============================] - 2s 151us/step - loss: 1.3710 - acc: 0.3339 - val_loss: 1.4791 - val_acc: 0.2493\n",
            "Epoch 10/10\n",
            " 9500/10000 [===========================>..] - ETA: 0s - loss: 1.3582 - acc: 0.3419"
          ],
          "name": "stdout"
        },
        {
          "output_type": "stream",
          "text": [
            "10000/10000 [==============================] - 1s 144us/step - loss: 1.3603 - acc: 0.3401 - val_loss: 1.4743 - val_acc: 0.2493\n",
            "10000/10000 [==============================] - 2s 239us/step\n",
            "Test accuracy: [1.4735807609558105, 0.2501366669178009]\n",
            "[1.4735807609558105, 0.2501366669178009]\n",
            "Score:  [1.4735807609558105, 0.2501366669178009]\n"
          ],
          "name": "stdout"
        }
      ]
    },
    {
      "metadata": {
        "id": "V5D1bKi4zMVM",
        "colab_type": "code",
        "colab": {
          "base_uri": "https://localhost:8080/",
          "height": 294
        },
        "outputId": "c961938f-f8b1-41fd-cd55-9c137245df43"
      },
      "cell_type": "code",
      "source": [
        "s_lstm = np.array(scores_lstm)\n",
        "s_conv = np.array(scores_conv)\n",
        "#LMS values taken from other notebook\n",
        "s_lms = 1-np.array([0,0.06,3.49,20.42,42.74,57.27,66.08,71.97,74.61,74.54])*1.0/100\n",
        "plt.plot(snrs,s_conv[:,1],\"r\",label=\"Conv\")\n",
        "plt.plot(snrs,s_lstm[:,1],\"b\",label=\"LSTM\")\n",
        "#plt.plot(snrs,s_lms,\"y\",label=\"LMS\")\n",
        "plt.legend()\n",
        "plt.xlabel(\"SNR\")\n",
        "plt.ylabel(\"Accuracy\")\n",
        "plt.title(\"Accuracy vs SNR: Time Invariant\")\n",
        "\n",
        "from google.colab import files\n",
        "plt.savefig('SNR_time_invariant.png')\n",
        "files.download('SNR_time_invariant.png')"
      ],
      "execution_count": 69,
      "outputs": [
        {
          "output_type": "display_data",
          "data": {
            "image/png": "[encoded data removed]",
            "text/plain": [
              "<matplotlib.figure.Figure at 0x7f483b35ea20>"
            ]
          },
          "metadata": {
            "tags": []
          }
        }
      ]
    },
    {
      "metadata": {
        "id": "hDTFHQj9mOvf",
        "colab_type": "text"
      },
      "cell_type": "markdown",
      "source": [
        "# Time-Varying Channel"
      ]
    },
    {
      "metadata": {
        "id": "QTJRbvO9BkOE",
        "colab_type": "code",
        "colab": {}
      },
      "cell_type": "code",
      "source": [
        "def sim_channel_multi(m,sequenceLen,trials,Noise,SNRdB,h_list,channel_dur):\n",
        "  \"\"\"\n",
        "  Simulates a channel\n",
        "  Input:\n",
        "    m - order of modulation\n",
        "    sequenceLen - lenght of sequence\n",
        "    trials - number trials\n",
        "    Noise - Boolean, if noise should be added\n",
        "    SNRdB - Ratio of signal to noise\n",
        "    h_list- list of channel parameters for different channels\n",
        "    channel_dur - duration of channel before switch\n",
        "  \"\"\"\n",
        "  [x,y] = qammod2(m,sequenceLen,trials)\n",
        "  distortedChannels = []\n",
        "  for i in range(len(h_list)):\n",
        "    distortedChannels.append(np.apply_along_axis(lambda q: np.convolve(q,h_list[i,:],mode=\"full\"),axis = 1,arr = x))\n",
        "   \n",
        "  size = distortedChannels[0].shape[1]\n",
        "  i = 0\n",
        "  select = np.random.randint(len(h_list))\n",
        "  selected_stream = distortedChannels[select]\n",
        "  length = channel_dur\n",
        "  if(i + length >= size):\n",
        "    length = size - i\n",
        "  xh = selected_stream[:,i:i+length,:]\n",
        "  i = i + length\n",
        "  while(i < size):\n",
        "    select = np.random.randint(len(h_list))\n",
        "    selected_stream = distortedChannels[select]\n",
        "    length = channel_dur\n",
        "    if(i + length >= size):\n",
        "      length = size - i\n",
        "    chunk = selected_stream[:,i:i+length,:]\n",
        "    xh = np.concatenate((xh, chunk),axis = 1)\n",
        "    i = i + length\n",
        "  \n",
        "  ## this added for phase offset 7/3/18\n",
        "  Ts = 1/(2.5e6);\n",
        "  fc = 2e6;\n",
        "  CP = np.exp(np.arange(0,len(xh))*2*1j*math.pi*Ts*fc)\n",
        "  CP = CP[:,np.newaxis]\n",
        "  CP = np.transpose(CP,(1,0))\n",
        "  xh = np.transpose(xh,(2,1,0))\n",
        "  display(xh.shape)\n",
        "  display(CP.shape)\n",
        "  xh =  xh*CP\n",
        "  xh = np.transpose(xh,(2,1,0))\n",
        "  display(xh.shape)  \n",
        "  ## edit ends \n",
        "  if(Noise):\n",
        "    SNR = 10**(SNRdB/10)\n",
        "    sym_noise_pow = np.var(xh)/SNR\n",
        "    sym_noise_scale_fact = np.sqrt(sym_noise_pow/2)\n",
        "    AWGN = sym_noise_scale_fact*np.random.normal(1, size=xh.shape) \n",
        "    xh = xh + AWGN\n",
        "  return [xh ,y ]\n",
        "\n",
        "\n",
        "def generateData_multi(m,sequenceLen,trials,Noise,SNRdB,h_list,channel_dur,padding=True,window=False,window_size = 10):\n",
        "  \"\"\"\n",
        "  h_list = List of channel parameters \n",
        "  \"\"\"\n",
        "  data={}\n",
        "  x_train,y_train = sim_channel_multi(m=m,sequenceLen=sequenceLen,trials=trials,Noise=Noise,SNRdB=SNRdB,h_list=h_list,channel_dur=channel_dur)\n",
        "  x_val,y_val= sim_channel_multi(m=m,sequenceLen=sequenceLen,trials=int(trials*0.5),Noise= Noise,SNRdB=SNRdB,h_list=h_list,channel_dur=channel_dur)\n",
        "  x_test,y_test= sim_channel_multi(m=m,sequenceLen=sequenceLen,trials=trials,Noise=Noise,SNRdB=SNRdB,h_list=h_list,channel_dur=channel_dur)\n",
        "  \n",
        "  print(\"x_train shape: \",x_train.shape) # data, expected seqlen+chanelLen-1\n",
        "  print(\"y_train shape: \",y_train.shape) # labels\n",
        "  \n",
        "  #One hot encoding\n",
        "  y_train = keras.utils.to_categorical(y_train , num_classes=m)\n",
        "  y_val = keras.utils.to_categorical(y_val , num_classes=m)\n",
        "  y_test = keras.utils.to_categorical(y_test , num_classes=m)\n",
        "  print(\"y_train shape, one-hot: \",y_train.shape)\n",
        "\n",
        "  #Padding \n",
        "  if(padding):\n",
        "    y_train = np.pad(y_train,((0,0),(0,chanelLen-1),(0,0)),\"constant\")\n",
        "    y_val = np.pad(y_val,((0,0),(0,chanelLen-1),(0,0)),\"constant\")\n",
        "    y_test = np.pad(y_test,((0,0),(0,chanelLen-1),(0,0)),\"constant\")\n",
        "    print(\"y_train shape, one-hot, padding: \",y_train.shape)\n",
        "  \n",
        "  #Windowing\n",
        "  if(window):\n",
        "    x_train = windowing(x_train,window_size)\n",
        "    x_val = windowing(x_val,window_size)\n",
        "    x_test = windowing(x_test,window_size)\n",
        "    print(\"x_train shape, window: \",x_train.shape)\n",
        "    \n",
        "  default_data = {\n",
        "    'x_train': x_train,\n",
        "    'x_val': x_val,\n",
        "    'x_test': x_test,\n",
        "    'y_train': y_train,\n",
        "    'y_val': y_val,\n",
        "    'y_test': y_test,\n",
        "  }\n",
        "  return default_data\n",
        " \n",
        "def windowing(x,window_size):\n",
        "  \"\"\"\n",
        "  x - input data of dimension (trials,timestep,features)\n",
        "  Will pad windows with zero \n",
        "  \"\"\"\n",
        "  trials, timestep, features = x.shape\n",
        "  out = np.empty((trials,timestep,window_size*features))\n",
        "  xpad = np.pad(x,((0,0),(0,window_size+1),(0,0)),\"constant\")\n",
        "  for i in range(timestep):\n",
        "    out[:,i] = np.reshape(xpad[:,i:i+window_size],(trials,window_size*features))\n",
        "  return out"
      ],
      "execution_count": 0,
      "outputs": []
    },
    {
      "metadata": {
        "id": "NR55JyWohgD-",
        "colab_type": "code",
        "colab": {
          "base_uri": "https://localhost:8080/",
          "height": 86
        },
        "outputId": "573b0219-fffd-4800-a5e3-acd5c1f27015"
      },
      "cell_type": "code",
      "source": [
        "# Instantiating Data\n",
        "\n",
        "m = 4         # order of modulation\n",
        "trials = 10000 # number of trials \n",
        "Noise = True\n",
        "SNRdB = 5\n",
        "seqLen = 300\n",
        "print(seqLen)\n",
        "h_list = []\n",
        "h_list.append(np.array([1,0.5,-0.3]))\n",
        "h_list.append(np.array([1,-.5,-0.5]))\n",
        "h_list.append(np.array([1,-0.25,-0.25]))\n",
        "h_list = np.array(h_list)\n",
        "chanelLen = len(h_list[0])\n",
        "#chanelLen = 5\n",
        "# h_list = np.random.rand(3,chanelLen)\n",
        "# h_list[:,0] = 1\n",
        "channel_dur = 75\n",
        "print(h_list)"
      ],
      "execution_count": 6,
      "outputs": [
        {
          "output_type": "stream",
          "text": [
            "300\n",
            "[[ 1.    0.5  -0.3 ]\n",
            " [ 1.   -0.5  -0.5 ]\n",
            " [ 1.   -0.25 -0.25]]\n"
          ],
          "name": "stdout"
        }
      ]
    },
    {
      "metadata": {
        "id": "tRGF7_1Ur8ZB",
        "colab_type": "text"
      },
      "cell_type": "markdown",
      "source": [
        "Defining models below"
      ]
    },
    {
      "metadata": {
        "id": "vGVMP0Kwhi8a",
        "colab_type": "code",
        "colab": {}
      },
      "cell_type": "code",
      "source": [
        "# QAM-4\n",
        "from keras.models import Sequential\n",
        "from keras import regularizers\n",
        "from keras.layers import Dense,CuDNNLSTM, TimeDistributed,Bidirectional,BatchNormalization,Dropout,Conv1D, Flatten, Reshape,Softmax\n",
        "from keras import optimizers\n",
        "import keras\n",
        "\n",
        "#LSTM no windwod\n",
        "def LSTM_variant_no_window():\n",
        "  data = generateData_multi(m,seqLen,trials,Noise,SNRdB,h_list,channel_dur,padding=True)\n",
        "  modLSTM = Sequential()\n",
        "  modLSTM.add(CuDNNLSTM(50,return_sequences=True,input_shape=(seqLen+chanelLen-1,2)))\n",
        "  modLSTM.add(CuDNNLSTM(50,return_sequences=True))\n",
        "  modLSTM.add(CuDNNLSTM(50,return_sequences=True))\n",
        "  modLSTM.add(TimeDistributed(BatchNormalization()))\n",
        "  modLSTM.add(TimeDistributed(Dense(m,activation=\"softmax\")))\n",
        "  \n",
        "  #Training\n",
        "  epochs = 40\n",
        "  verbose = True\n",
        "  reduce_lr = keras.callbacks.ReduceLROnPlateau(monitor='val_accuracy_with_masking', factor=0.2,\n",
        "                              patience=7,verbose=verbose)\n",
        "\n",
        "  opt = optimizers.Nadam()\n",
        "  modLSTM.compile(optimizer= opt,\n",
        "            loss=categorical_crossentropy_with_masking,\n",
        "            metrics=[accuracy_with_masking])\n",
        "\n",
        "  modLSTM.summary()  \n",
        "  history = modLSTM.fit(data['x_train'], data['y_train'], \n",
        "            epochs=epochs, batch_size=int(0.1*trials), verbose=verbose, \n",
        "            validation_data=(data['x_val'], data['y_val']),\n",
        "                     callbacks=[reduce_lr])  \n",
        "  score = modLSTM.evaluate(data['x_test'], data['y_test'],batch_size = 1000)\n",
        "  return history,score\n",
        "\n",
        "#hist1, score1 = LSTM_variant_no_window() \n",
        "\n",
        "\n",
        "def LSTM_variant_with_window():\n",
        "  window_size = chanelLen+2\n",
        "  data = generateData_multi(m,seqLen,trials,Noise,SNRdB,h_list,channel_dur,padding=True,window=True,window_size=window_size)\n",
        "  modLSTM = Sequential()\n",
        "  modLSTM.add(CuDNNLSTM(50,return_sequences=True,input_shape=(seqLen+chanelLen-1,window_size*2),\n",
        "                        recurrent_regularizer =regularizers.l1(0.0001),kernel_regularizer = regularizers.l2(0.001)))\n",
        "  modLSTM.add(CuDNNLSTM(50,return_sequences=True,input_shape=(seqLen+chanelLen-1,window_size*2),\n",
        "                        recurrent_regularizer =regularizers.l1(0.0001),kernel_regularizer = regularizers.l2(0.001)))\n",
        "  modLSTM.add(CuDNNLSTM(50,return_sequences=True,input_shape=(seqLen+chanelLen-1,window_size*2),\n",
        "                        recurrent_regularizer =regularizers.l1(0.0001),kernel_regularizer = regularizers.l2(0.001)))\n",
        "\n",
        "      \n",
        "  modLSTM.add(TimeDistributed(Dense(m,activation=\"softmax\")))\n",
        "  #Training\n",
        "  epochs = 40\n",
        "  verbose = True\n",
        "  reduce_lr = keras.callbacks.ReduceLROnPlateau(monitor='val_accuracy_with_masking', factor=0.2,\n",
        "                              patience=7,verbose=verbose)\n",
        "  \n",
        "  opt = optimizers.Nadam()\n",
        "  modLSTM.compile(optimizer= opt,\n",
        "            loss=categorical_crossentropy_with_masking,\n",
        "            metrics=[accuracy_with_masking])\n",
        "\n",
        "  modLSTM.summary()  \n",
        "  history = modLSTM.fit(data['x_train'], data['y_train'], \n",
        "            epochs=epochs, batch_size=int(0.1*trials), verbose=verbose, \n",
        "            validation_data=(data['x_val'], data['y_val']),\n",
        "                     callbacks=[reduce_lr])  \n",
        "  score = modLSTM.evaluate(data['x_test'], data['y_test'],batch_size = 1000)\n",
        "  return history,score\n",
        "\n",
        "#hist2, score2 = LSTM_variant_with_window()  \n",
        "\n",
        "def ConvNet_variant():\n",
        "  data = generateData_multi(m,seqLen,trials,Noise,SNRdB,h_list,channel_dur,padding=False)\n",
        "  modCNN = Sequential()\n",
        "  modCNN.add(Conv1D(10,kernel_size=(chanelLen), input_shape=(seqLen+chanelLen-1,2) ))\n",
        "  modCNN.add(BatchNormalization())\n",
        "  modCNN.add(Flatten())\n",
        "  modCNN.add(Dense(seqLen*m,bias_regularizer=regularizers.l2(0.005)))\n",
        "  modCNN.add(Reshape(target_shape = (seqLen,m)))\n",
        "  modCNN.add(Softmax(axis=2))\n",
        "  return try_model_conv(modCNN, data, epochs=40)\n",
        "\n",
        "#hist3, score3 = ConvNet_variant()  \n",
        "# print(\"Conv: \", score3)\n",
        "# print(\"No Window: \", score1)\n",
        "# print(\"With Window: \", score2)"
      ],
      "execution_count": 0,
      "outputs": []
    },
    {
      "metadata": {
        "id": "DJ97foL7sAVn",
        "colab_type": "text"
      },
      "cell_type": "markdown",
      "source": [
        "## Comparing Symbol Error rate for LSTM no window , LSTM+Window, and CNN"
      ]
    },
    {
      "metadata": {
        "id": "twDxniLImMd0",
        "colab_type": "code",
        "colab": {
          "base_uri": "https://localhost:8080/",
          "height": 34
        },
        "outputId": "9e228661-59a0-44a3-e09f-bb5cde30e495"
      },
      "cell_type": "code",
      "source": [
        "snrs = np.linspace(20,20,1)\n",
        "snrs"
      ],
      "execution_count": 9,
      "outputs": [
        {
          "output_type": "execute_result",
          "data": {
            "text/plain": [
              "array([20.])"
            ]
          },
          "metadata": {
            "tags": []
          },
          "execution_count": 9
        }
      ]
    },
    {
      "metadata": {
        "id": "vqLp6OGMmHmu",
        "colab_type": "code",
        "colab": {
          "base_uri": "https://localhost:8080/",
          "height": 2357
        },
        "outputId": "918ec6d0-3e8b-46df-e955-705b5e7d1293"
      },
      "cell_type": "code",
      "source": [
        "m = 4         # order of modulation\n",
        "trials = 20000   # number of trials \n",
        "Noise = True\n",
        "seqLen = 300\n",
        "print(seqLen)\n",
        "h_list = []\n",
        "h_list.append(np.array([1,0.5,-0.3]))\n",
        "h_list.append(np.array([1,-.5,-0.5]))\n",
        "h_list.append(np.array([1,-0.25,-0.25]))\n",
        "# h_list.append(np.array([1,0.5,-0.3,.2,.1]))\n",
        "# h_list.append(np.array([1,-.5,-0.5,.4,.1]))\n",
        "# h_list.append(np.array([1,-0.25,-0.25,-.1, 0.7]))\n",
        "h_list = np.array(h_list)\n",
        "chanelLen = len(h_list[0])\n",
        "channel_dur = 75\n",
        "print(\"Channel: \",h_list)\n",
        "\n",
        "snrs = np.linspace(20,20,1)\n",
        "histories_lstm2 = []\n",
        "scores_lstm2 = []\n",
        "histories_lstm2_W = []\n",
        "scores_lstm2_W = []\n",
        "histories_conv2 = []\n",
        "scores_conv2 = []\n",
        "for SNRdB in snrs:\n",
        "  print(\"SNRdB: \",SNRdB)\n",
        "\n",
        "  #LSTM no window\n",
        "  hist,score = LSTM_variant_no_window()\n",
        "  histories_lstm2.append(hist)\n",
        "  scores_lstm2.append(score)\n",
        "  print(\"Score: \",score)\n",
        "  #LSTM with window\n",
        "  hist,score = LSTM_variant_with_window()\n",
        "  histories_lstm2_W.append(hist)\n",
        "  scores_lstm2_W.append(score)\n",
        "  print(\"Score: \",score)"
      ],
      "execution_count": 30,
      "outputs": [
        {
          "output_type": "stream",
          "text": [
            "300\n",
            "Channel:  [[ 1.    0.5  -0.3 ]\n",
            " [ 1.   -0.5  -0.5 ]\n",
            " [ 1.   -0.25 -0.25]]\n",
            "SNRdB:  20.0\n"
          ],
          "name": "stdout"
        },
        {
          "output_type": "display_data",
          "data": {
            "text/plain": [
              "(2, 302, 20000)"
            ]
          },
          "metadata": {
            "tags": []
          }
        },
        {
          "output_type": "display_data",
          "data": {
            "text/plain": [
              "(1, 20000)"
            ]
          },
          "metadata": {
            "tags": []
          }
        },
        {
          "output_type": "display_data",
          "data": {
            "text/plain": [
              "(20000, 302, 2)"
            ]
          },
          "metadata": {
            "tags": []
          }
        },
        {
          "output_type": "display_data",
          "data": {
            "text/plain": [
              "(2, 302, 10000)"
            ]
          },
          "metadata": {
            "tags": []
          }
        },
        {
          "output_type": "display_data",
          "data": {
            "text/plain": [
              "(1, 10000)"
            ]
          },
          "metadata": {
            "tags": []
          }
        },
        {
          "output_type": "display_data",
          "data": {
            "text/plain": [
              "(10000, 302, 2)"
            ]
          },
          "metadata": {
            "tags": []
          }
        },
        {
          "output_type": "display_data",
          "data": {
            "text/plain": [
              "(2, 302, 20000)"
            ]
          },
          "metadata": {
            "tags": []
          }
        },
        {
          "output_type": "display_data",
          "data": {
            "text/plain": [
              "(1, 20000)"
            ]
          },
          "metadata": {
            "tags": []
          }
        },
        {
          "output_type": "display_data",
          "data": {
            "text/plain": [
              "(20000, 302, 2)"
            ]
          },
          "metadata": {
            "tags": []
          }
        },
        {
          "output_type": "stream",
          "text": [
            "x_train shape:  (20000, 302, 2)\n",
            "y_train shape:  (20000, 300)\n",
            "y_train shape, one-hot:  (20000, 300, 4)\n",
            "y_train shape, one-hot, padding:  (20000, 302, 4)\n",
            "_________________________________________________________________\n",
            "Layer (type)                 Output Shape              Param #   \n",
            "=================================================================\n",
            "cu_dnnlstm_28 (CuDNNLSTM)    (None, 302, 50)           10800     \n",
            "_________________________________________________________________\n",
            "cu_dnnlstm_29 (CuDNNLSTM)    (None, 302, 50)           20400     \n",
            "_________________________________________________________________\n",
            "cu_dnnlstm_30 (CuDNNLSTM)    (None, 302, 50)           20400     \n",
            "_________________________________________________________________\n",
            "time_distributed_16 (TimeDis (None, 302, 50)           200       \n",
            "_________________________________________________________________\n",
            "time_distributed_17 (TimeDis (None, 302, 4)            204       \n",
            "=================================================================\n",
            "Total params: 52,004\n",
            "Trainable params: 51,904\n",
            "Non-trainable params: 100\n",
            "_________________________________________________________________\n",
            "Train on 20000 samples, validate on 10000 samples\n",
            "Epoch 1/5\n"
          ],
          "name": "stdout"
        },
        {
          "output_type": "stream",
          "text": [
            "/usr/local/lib/python3.6/dist-packages/numpy/core/numeric.py:492: ComplexWarning: Casting complex values to real discards the imaginary part\n",
            "  return array(a, dtype, copy=False, order=order)\n"
          ],
          "name": "stderr"
        },
        {
          "output_type": "stream",
          "text": [
            "20000/20000 [==============================] - 10s 511us/step - loss: 1.3465 - accuracy_with_masking: 0.3658 - val_loss: 1.6864 - val_accuracy_with_masking: 0.3271\n",
            "Epoch 2/5\n",
            "20000/20000 [==============================] - 7s 340us/step - loss: 1.1053 - accuracy_with_masking: 0.5866 - val_loss: 1.9388 - val_accuracy_with_masking: 0.3327\n",
            "Epoch 3/5\n",
            "14000/20000 [====================>.........] - ETA: 1s - loss: 0.3923 - accuracy_with_masking: 0.9279"
          ],
          "name": "stdout"
        },
        {
          "output_type": "error",
          "ename": "KeyboardInterrupt",
          "evalue": "ignored",
          "traceback": [
            "\u001b[0;31m---------------------------------------------------------------------------\u001b[0m",
            "\u001b[0;31mKeyboardInterrupt\u001b[0m                         Traceback (most recent call last)",
            "\u001b[0;32m<ipython-input-30-a52d4c4e203a>\u001b[0m in \u001b[0;36m<module>\u001b[0;34m()\u001b[0m\n\u001b[1;32m     27\u001b[0m \u001b[0;34m\u001b[0m\u001b[0m\n\u001b[1;32m     28\u001b[0m   \u001b[0;31m#LSTM no window\u001b[0m\u001b[0;34m\u001b[0m\u001b[0;34m\u001b[0m\u001b[0m\n\u001b[0;32m---> 29\u001b[0;31m   \u001b[0mhist\u001b[0m\u001b[0;34m,\u001b[0m\u001b[0mscore\u001b[0m \u001b[0;34m=\u001b[0m \u001b[0mLSTM_variant_no_window\u001b[0m\u001b[0;34m(\u001b[0m\u001b[0;34m)\u001b[0m\u001b[0;34m\u001b[0m\u001b[0m\n\u001b[0m\u001b[1;32m     30\u001b[0m   \u001b[0mhistories_lstm2\u001b[0m\u001b[0;34m.\u001b[0m\u001b[0mappend\u001b[0m\u001b[0;34m(\u001b[0m\u001b[0mhist\u001b[0m\u001b[0;34m)\u001b[0m\u001b[0;34m\u001b[0m\u001b[0m\n\u001b[1;32m     31\u001b[0m   \u001b[0mscores_lstm2\u001b[0m\u001b[0;34m.\u001b[0m\u001b[0mappend\u001b[0m\u001b[0;34m(\u001b[0m\u001b[0mscore\u001b[0m\u001b[0;34m)\u001b[0m\u001b[0;34m\u001b[0m\u001b[0m\n",
            "\u001b[0;32m<ipython-input-29-0f2ae56ece84>\u001b[0m in \u001b[0;36mLSTM_variant_no_window\u001b[0;34m()\u001b[0m\n\u001b[1;32m     30\u001b[0m             \u001b[0mepochs\u001b[0m\u001b[0;34m=\u001b[0m\u001b[0mepochs\u001b[0m\u001b[0;34m,\u001b[0m \u001b[0mbatch_size\u001b[0m\u001b[0;34m=\u001b[0m\u001b[0mint\u001b[0m\u001b[0;34m(\u001b[0m\u001b[0;36m0.1\u001b[0m\u001b[0;34m*\u001b[0m\u001b[0mtrials\u001b[0m\u001b[0;34m)\u001b[0m\u001b[0;34m,\u001b[0m \u001b[0mverbose\u001b[0m\u001b[0;34m=\u001b[0m\u001b[0mverbose\u001b[0m\u001b[0;34m,\u001b[0m\u001b[0;34m\u001b[0m\u001b[0m\n\u001b[1;32m     31\u001b[0m             \u001b[0mvalidation_data\u001b[0m\u001b[0;34m=\u001b[0m\u001b[0;34m(\u001b[0m\u001b[0mdata\u001b[0m\u001b[0;34m[\u001b[0m\u001b[0;34m'x_val'\u001b[0m\u001b[0;34m]\u001b[0m\u001b[0;34m,\u001b[0m \u001b[0mdata\u001b[0m\u001b[0;34m[\u001b[0m\u001b[0;34m'y_val'\u001b[0m\u001b[0;34m]\u001b[0m\u001b[0;34m)\u001b[0m\u001b[0;34m,\u001b[0m\u001b[0;34m\u001b[0m\u001b[0m\n\u001b[0;32m---> 32\u001b[0;31m                      callbacks=[reduce_lr])  \n\u001b[0m\u001b[1;32m     33\u001b[0m   \u001b[0mscore\u001b[0m \u001b[0;34m=\u001b[0m \u001b[0mmodLSTM\u001b[0m\u001b[0;34m.\u001b[0m\u001b[0mevaluate\u001b[0m\u001b[0;34m(\u001b[0m\u001b[0mdata\u001b[0m\u001b[0;34m[\u001b[0m\u001b[0;34m'x_test'\u001b[0m\u001b[0;34m]\u001b[0m\u001b[0;34m,\u001b[0m \u001b[0mdata\u001b[0m\u001b[0;34m[\u001b[0m\u001b[0;34m'y_test'\u001b[0m\u001b[0;34m]\u001b[0m\u001b[0;34m,\u001b[0m\u001b[0mbatch_size\u001b[0m \u001b[0;34m=\u001b[0m \u001b[0;36m1000\u001b[0m\u001b[0;34m)\u001b[0m\u001b[0;34m\u001b[0m\u001b[0m\n\u001b[1;32m     34\u001b[0m   \u001b[0;32mreturn\u001b[0m \u001b[0mhistory\u001b[0m\u001b[0;34m,\u001b[0m\u001b[0mscore\u001b[0m\u001b[0;34m\u001b[0m\u001b[0m\n",
            "\u001b[0;32m/usr/local/lib/python3.6/dist-packages/keras/models.py\u001b[0m in \u001b[0;36mfit\u001b[0;34m(self, x, y, batch_size, epochs, verbose, callbacks, validation_split, validation_data, shuffle, class_weight, sample_weight, initial_epoch, steps_per_epoch, validation_steps, **kwargs)\u001b[0m\n\u001b[1;32m   1000\u001b[0m                               \u001b[0minitial_epoch\u001b[0m\u001b[0;34m=\u001b[0m\u001b[0minitial_epoch\u001b[0m\u001b[0;34m,\u001b[0m\u001b[0;34m\u001b[0m\u001b[0m\n\u001b[1;32m   1001\u001b[0m                               \u001b[0msteps_per_epoch\u001b[0m\u001b[0;34m=\u001b[0m\u001b[0msteps_per_epoch\u001b[0m\u001b[0;34m,\u001b[0m\u001b[0;34m\u001b[0m\u001b[0m\n\u001b[0;32m-> 1002\u001b[0;31m                               validation_steps=validation_steps)\n\u001b[0m\u001b[1;32m   1003\u001b[0m \u001b[0;34m\u001b[0m\u001b[0m\n\u001b[1;32m   1004\u001b[0m     def evaluate(self, x=None, y=None,\n",
            "\u001b[0;32m/usr/local/lib/python3.6/dist-packages/keras/engine/training.py\u001b[0m in \u001b[0;36mfit\u001b[0;34m(self, x, y, batch_size, epochs, verbose, callbacks, validation_split, validation_data, shuffle, class_weight, sample_weight, initial_epoch, steps_per_epoch, validation_steps, **kwargs)\u001b[0m\n\u001b[1;32m   1703\u001b[0m                               \u001b[0minitial_epoch\u001b[0m\u001b[0;34m=\u001b[0m\u001b[0minitial_epoch\u001b[0m\u001b[0;34m,\u001b[0m\u001b[0;34m\u001b[0m\u001b[0m\n\u001b[1;32m   1704\u001b[0m                               \u001b[0msteps_per_epoch\u001b[0m\u001b[0;34m=\u001b[0m\u001b[0msteps_per_epoch\u001b[0m\u001b[0;34m,\u001b[0m\u001b[0;34m\u001b[0m\u001b[0m\n\u001b[0;32m-> 1705\u001b[0;31m                               validation_steps=validation_steps)\n\u001b[0m\u001b[1;32m   1706\u001b[0m \u001b[0;34m\u001b[0m\u001b[0m\n\u001b[1;32m   1707\u001b[0m     def evaluate(self, x=None, y=None,\n",
            "\u001b[0;32m/usr/local/lib/python3.6/dist-packages/keras/engine/training.py\u001b[0m in \u001b[0;36m_fit_loop\u001b[0;34m(self, f, ins, out_labels, batch_size, epochs, verbose, callbacks, val_f, val_ins, shuffle, callback_metrics, initial_epoch, steps_per_epoch, validation_steps)\u001b[0m\n\u001b[1;32m   1234\u001b[0m                         \u001b[0mins_batch\u001b[0m\u001b[0;34m[\u001b[0m\u001b[0mi\u001b[0m\u001b[0;34m]\u001b[0m \u001b[0;34m=\u001b[0m \u001b[0mins_batch\u001b[0m\u001b[0;34m[\u001b[0m\u001b[0mi\u001b[0m\u001b[0;34m]\u001b[0m\u001b[0;34m.\u001b[0m\u001b[0mtoarray\u001b[0m\u001b[0;34m(\u001b[0m\u001b[0;34m)\u001b[0m\u001b[0;34m\u001b[0m\u001b[0m\n\u001b[1;32m   1235\u001b[0m \u001b[0;34m\u001b[0m\u001b[0m\n\u001b[0;32m-> 1236\u001b[0;31m                     \u001b[0mouts\u001b[0m \u001b[0;34m=\u001b[0m \u001b[0mf\u001b[0m\u001b[0;34m(\u001b[0m\u001b[0mins_batch\u001b[0m\u001b[0;34m)\u001b[0m\u001b[0;34m\u001b[0m\u001b[0m\n\u001b[0m\u001b[1;32m   1237\u001b[0m                     \u001b[0;32mif\u001b[0m \u001b[0;32mnot\u001b[0m \u001b[0misinstance\u001b[0m\u001b[0;34m(\u001b[0m\u001b[0mouts\u001b[0m\u001b[0;34m,\u001b[0m \u001b[0mlist\u001b[0m\u001b[0;34m)\u001b[0m\u001b[0;34m:\u001b[0m\u001b[0;34m\u001b[0m\u001b[0m\n\u001b[1;32m   1238\u001b[0m                         \u001b[0mouts\u001b[0m \u001b[0;34m=\u001b[0m \u001b[0;34m[\u001b[0m\u001b[0mouts\u001b[0m\u001b[0;34m]\u001b[0m\u001b[0;34m\u001b[0m\u001b[0m\n",
            "\u001b[0;32m/usr/local/lib/python3.6/dist-packages/keras/backend/tensorflow_backend.py\u001b[0m in \u001b[0;36m__call__\u001b[0;34m(self, inputs)\u001b[0m\n\u001b[1;32m   2480\u001b[0m         \u001b[0msession\u001b[0m \u001b[0;34m=\u001b[0m \u001b[0mget_session\u001b[0m\u001b[0;34m(\u001b[0m\u001b[0;34m)\u001b[0m\u001b[0;34m\u001b[0m\u001b[0m\n\u001b[1;32m   2481\u001b[0m         updated = session.run(fetches=fetches, feed_dict=feed_dict,\n\u001b[0;32m-> 2482\u001b[0;31m                               **self.session_kwargs)\n\u001b[0m\u001b[1;32m   2483\u001b[0m         \u001b[0;32mreturn\u001b[0m \u001b[0mupdated\u001b[0m\u001b[0;34m[\u001b[0m\u001b[0;34m:\u001b[0m\u001b[0mlen\u001b[0m\u001b[0;34m(\u001b[0m\u001b[0mself\u001b[0m\u001b[0;34m.\u001b[0m\u001b[0moutputs\u001b[0m\u001b[0;34m)\u001b[0m\u001b[0;34m]\u001b[0m\u001b[0;34m\u001b[0m\u001b[0m\n\u001b[1;32m   2484\u001b[0m \u001b[0;34m\u001b[0m\u001b[0m\n",
            "\u001b[0;32m/usr/local/lib/python3.6/dist-packages/tensorflow/python/client/session.py\u001b[0m in \u001b[0;36mrun\u001b[0;34m(self, fetches, feed_dict, options, run_metadata)\u001b[0m\n\u001b[1;32m    898\u001b[0m     \u001b[0;32mtry\u001b[0m\u001b[0;34m:\u001b[0m\u001b[0;34m\u001b[0m\u001b[0m\n\u001b[1;32m    899\u001b[0m       result = self._run(None, fetches, feed_dict, options_ptr,\n\u001b[0;32m--> 900\u001b[0;31m                          run_metadata_ptr)\n\u001b[0m\u001b[1;32m    901\u001b[0m       \u001b[0;32mif\u001b[0m \u001b[0mrun_metadata\u001b[0m\u001b[0;34m:\u001b[0m\u001b[0;34m\u001b[0m\u001b[0m\n\u001b[1;32m    902\u001b[0m         \u001b[0mproto_data\u001b[0m \u001b[0;34m=\u001b[0m \u001b[0mtf_session\u001b[0m\u001b[0;34m.\u001b[0m\u001b[0mTF_GetBuffer\u001b[0m\u001b[0;34m(\u001b[0m\u001b[0mrun_metadata_ptr\u001b[0m\u001b[0;34m)\u001b[0m\u001b[0;34m\u001b[0m\u001b[0m\n",
            "\u001b[0;32m/usr/local/lib/python3.6/dist-packages/tensorflow/python/client/session.py\u001b[0m in \u001b[0;36m_run\u001b[0;34m(self, handle, fetches, feed_dict, options, run_metadata)\u001b[0m\n\u001b[1;32m   1133\u001b[0m     \u001b[0;32mif\u001b[0m \u001b[0mfinal_fetches\u001b[0m \u001b[0;32mor\u001b[0m \u001b[0mfinal_targets\u001b[0m \u001b[0;32mor\u001b[0m \u001b[0;34m(\u001b[0m\u001b[0mhandle\u001b[0m \u001b[0;32mand\u001b[0m \u001b[0mfeed_dict_tensor\u001b[0m\u001b[0;34m)\u001b[0m\u001b[0;34m:\u001b[0m\u001b[0;34m\u001b[0m\u001b[0m\n\u001b[1;32m   1134\u001b[0m       results = self._do_run(handle, final_targets, final_fetches,\n\u001b[0;32m-> 1135\u001b[0;31m                              feed_dict_tensor, options, run_metadata)\n\u001b[0m\u001b[1;32m   1136\u001b[0m     \u001b[0;32melse\u001b[0m\u001b[0;34m:\u001b[0m\u001b[0;34m\u001b[0m\u001b[0m\n\u001b[1;32m   1137\u001b[0m       \u001b[0mresults\u001b[0m \u001b[0;34m=\u001b[0m \u001b[0;34m[\u001b[0m\u001b[0;34m]\u001b[0m\u001b[0;34m\u001b[0m\u001b[0m\n",
            "\u001b[0;32m/usr/local/lib/python3.6/dist-packages/tensorflow/python/client/session.py\u001b[0m in \u001b[0;36m_do_run\u001b[0;34m(self, handle, target_list, fetch_list, feed_dict, options, run_metadata)\u001b[0m\n\u001b[1;32m   1314\u001b[0m     \u001b[0;32mif\u001b[0m \u001b[0mhandle\u001b[0m \u001b[0;32mis\u001b[0m \u001b[0;32mNone\u001b[0m\u001b[0;34m:\u001b[0m\u001b[0;34m\u001b[0m\u001b[0m\n\u001b[1;32m   1315\u001b[0m       return self._do_call(_run_fn, feeds, fetches, targets, options,\n\u001b[0;32m-> 1316\u001b[0;31m                            run_metadata)\n\u001b[0m\u001b[1;32m   1317\u001b[0m     \u001b[0;32melse\u001b[0m\u001b[0;34m:\u001b[0m\u001b[0;34m\u001b[0m\u001b[0m\n\u001b[1;32m   1318\u001b[0m       \u001b[0;32mreturn\u001b[0m \u001b[0mself\u001b[0m\u001b[0;34m.\u001b[0m\u001b[0m_do_call\u001b[0m\u001b[0;34m(\u001b[0m\u001b[0m_prun_fn\u001b[0m\u001b[0;34m,\u001b[0m \u001b[0mhandle\u001b[0m\u001b[0;34m,\u001b[0m \u001b[0mfeeds\u001b[0m\u001b[0;34m,\u001b[0m \u001b[0mfetches\u001b[0m\u001b[0;34m)\u001b[0m\u001b[0;34m\u001b[0m\u001b[0m\n",
            "\u001b[0;32m/usr/local/lib/python3.6/dist-packages/tensorflow/python/client/session.py\u001b[0m in \u001b[0;36m_do_call\u001b[0;34m(self, fn, *args)\u001b[0m\n\u001b[1;32m   1320\u001b[0m   \u001b[0;32mdef\u001b[0m \u001b[0m_do_call\u001b[0m\u001b[0;34m(\u001b[0m\u001b[0mself\u001b[0m\u001b[0;34m,\u001b[0m \u001b[0mfn\u001b[0m\u001b[0;34m,\u001b[0m \u001b[0;34m*\u001b[0m\u001b[0margs\u001b[0m\u001b[0;34m)\u001b[0m\u001b[0;34m:\u001b[0m\u001b[0;34m\u001b[0m\u001b[0m\n\u001b[1;32m   1321\u001b[0m     \u001b[0;32mtry\u001b[0m\u001b[0;34m:\u001b[0m\u001b[0;34m\u001b[0m\u001b[0m\n\u001b[0;32m-> 1322\u001b[0;31m       \u001b[0;32mreturn\u001b[0m \u001b[0mfn\u001b[0m\u001b[0;34m(\u001b[0m\u001b[0;34m*\u001b[0m\u001b[0margs\u001b[0m\u001b[0;34m)\u001b[0m\u001b[0;34m\u001b[0m\u001b[0m\n\u001b[0m\u001b[1;32m   1323\u001b[0m     \u001b[0;32mexcept\u001b[0m \u001b[0merrors\u001b[0m\u001b[0;34m.\u001b[0m\u001b[0mOpError\u001b[0m \u001b[0;32mas\u001b[0m \u001b[0me\u001b[0m\u001b[0;34m:\u001b[0m\u001b[0;34m\u001b[0m\u001b[0m\n\u001b[1;32m   1324\u001b[0m       \u001b[0mmessage\u001b[0m \u001b[0;34m=\u001b[0m \u001b[0mcompat\u001b[0m\u001b[0;34m.\u001b[0m\u001b[0mas_text\u001b[0m\u001b[0;34m(\u001b[0m\u001b[0me\u001b[0m\u001b[0;34m.\u001b[0m\u001b[0mmessage\u001b[0m\u001b[0;34m)\u001b[0m\u001b[0;34m\u001b[0m\u001b[0m\n",
            "\u001b[0;32m/usr/local/lib/python3.6/dist-packages/tensorflow/python/client/session.py\u001b[0m in \u001b[0;36m_run_fn\u001b[0;34m(feed_dict, fetch_list, target_list, options, run_metadata)\u001b[0m\n\u001b[1;32m   1305\u001b[0m       \u001b[0mself\u001b[0m\u001b[0;34m.\u001b[0m\u001b[0m_extend_graph\u001b[0m\u001b[0;34m(\u001b[0m\u001b[0;34m)\u001b[0m\u001b[0;34m\u001b[0m\u001b[0m\n\u001b[1;32m   1306\u001b[0m       return self._call_tf_sessionrun(\n\u001b[0;32m-> 1307\u001b[0;31m           options, feed_dict, fetch_list, target_list, run_metadata)\n\u001b[0m\u001b[1;32m   1308\u001b[0m \u001b[0;34m\u001b[0m\u001b[0m\n\u001b[1;32m   1309\u001b[0m     \u001b[0;32mdef\u001b[0m \u001b[0m_prun_fn\u001b[0m\u001b[0;34m(\u001b[0m\u001b[0mhandle\u001b[0m\u001b[0;34m,\u001b[0m \u001b[0mfeed_dict\u001b[0m\u001b[0;34m,\u001b[0m \u001b[0mfetch_list\u001b[0m\u001b[0;34m)\u001b[0m\u001b[0;34m:\u001b[0m\u001b[0;34m\u001b[0m\u001b[0m\n",
            "\u001b[0;32m/usr/local/lib/python3.6/dist-packages/tensorflow/python/client/session.py\u001b[0m in \u001b[0;36m_call_tf_sessionrun\u001b[0;34m(self, options, feed_dict, fetch_list, target_list, run_metadata)\u001b[0m\n\u001b[1;32m   1407\u001b[0m       return tf_session.TF_SessionRun_wrapper(\n\u001b[1;32m   1408\u001b[0m           \u001b[0mself\u001b[0m\u001b[0;34m.\u001b[0m\u001b[0m_session\u001b[0m\u001b[0;34m,\u001b[0m \u001b[0moptions\u001b[0m\u001b[0;34m,\u001b[0m \u001b[0mfeed_dict\u001b[0m\u001b[0;34m,\u001b[0m \u001b[0mfetch_list\u001b[0m\u001b[0;34m,\u001b[0m \u001b[0mtarget_list\u001b[0m\u001b[0;34m,\u001b[0m\u001b[0;34m\u001b[0m\u001b[0m\n\u001b[0;32m-> 1409\u001b[0;31m           run_metadata)\n\u001b[0m\u001b[1;32m   1410\u001b[0m     \u001b[0;32melse\u001b[0m\u001b[0;34m:\u001b[0m\u001b[0;34m\u001b[0m\u001b[0m\n\u001b[1;32m   1411\u001b[0m       \u001b[0;32mwith\u001b[0m \u001b[0merrors\u001b[0m\u001b[0;34m.\u001b[0m\u001b[0mraise_exception_on_not_ok_status\u001b[0m\u001b[0;34m(\u001b[0m\u001b[0;34m)\u001b[0m \u001b[0;32mas\u001b[0m \u001b[0mstatus\u001b[0m\u001b[0;34m:\u001b[0m\u001b[0;34m\u001b[0m\u001b[0m\n",
            "\u001b[0;31mKeyboardInterrupt\u001b[0m: "
          ]
        }
      ]
    },
    {
      "metadata": {
        "id": "HYR4qLgsCztA",
        "colab_type": "code",
        "colab": {
          "base_uri": "https://localhost:8080/",
          "height": 52
        },
        "outputId": "2b41be23-9d94-43f9-b5b6-7fa63e3edbb6"
      },
      "cell_type": "code",
      "source": [
        "snrs = np.linspace(20,0,10)\n",
        "snrs"
      ],
      "execution_count": 17,
      "outputs": [
        {
          "output_type": "execute_result",
          "data": {
            "text/plain": [
              "array([20.        , 17.77777778, 15.55555556, 13.33333333, 11.11111111,\n",
              "        8.88888889,  6.66666667,  4.44444444,  2.22222222,  0.        ])"
            ]
          },
          "metadata": {
            "tags": []
          },
          "execution_count": 17
        }
      ]
    },
    {
      "metadata": {
        "id": "B-EYreLafsjy",
        "colab_type": "code",
        "colab": {
          "base_uri": "https://localhost:8080/",
          "height": 30637
        },
        "outputId": "7c99b9e5-f3e2-467c-d8b5-a0689c8df934"
      },
      "cell_type": "code",
      "source": [
        "m = 4         # order of modulation\n",
        "trials = 20000   # number of trials \n",
        "Noise = True\n",
        "seqLen = 300\n",
        "print(seqLen)\n",
        "h_list = []\n",
        "h_list.append(np.array([1,0.5,-0.3]))\n",
        "h_list.append(np.array([1,-.5,-0.5]))\n",
        "h_list.append(np.array([1,-0.25,-0.25]))\n",
        "# h_list.append(np.array([1,0.5,-0.3,.2,.1]))\n",
        "# h_list.append(np.array([1,-.5,-0.5,.4,.1]))\n",
        "# h_list.append(np.array([1,-0.25,-0.25,-.1, 0.7]))\n",
        "h_list = np.array(h_list)\n",
        "chanelLen = len(h_list[0])\n",
        "channel_dur = 75\n",
        "print(\"Channel: \",h_list)\n",
        "\n",
        "snrs = np.linspace(20,0,5)\n",
        "histories_lstm2 = []\n",
        "scores_lstm2 = []\n",
        "histories_lstm2_W = []\n",
        "scores_lstm2_W = []\n",
        "histories_conv2 = []\n",
        "scores_conv2 = []\n",
        "for SNRdB in snrs:\n",
        "  print(\"SNRdB: \",SNRdB)\n",
        "\n",
        "  #LSTM no window\n",
        "  hist,score = LSTM_variant_no_window()\n",
        "  histories_lstm2.append(hist)\n",
        "  scores_lstm2.append(score)\n",
        "  print(\"Score: \",score)\n",
        "  #LSTM with window\n",
        "  hist,score = LSTM_variant_with_window()\n",
        "  histories_lstm2_W.append(hist)\n",
        "  scores_lstm2_W.append(score)\n",
        "  print(\"Score: \",score)\n",
        "  #CNN\n",
        "  hist,score = ConvNet_variant()\n",
        "  histories_conv2.append(hist)\n",
        "  scores_conv2.append(score)\n",
        "  print(\"Score: \",score)"
      ],
      "execution_count": 40,
      "outputs": [
        {
          "output_type": "stream",
          "text": [
            "300\n",
            "Channel:  [[ 1.    0.5  -0.3 ]\n",
            " [ 1.   -0.5  -0.5 ]\n",
            " [ 1.   -0.25 -0.25]]\n",
            "SNRdB:  20.0\n"
          ],
          "name": "stdout"
        },
        {
          "output_type": "display_data",
          "data": {
            "text/plain": [
              "(2, 302, 20000)"
            ]
          },
          "metadata": {
            "tags": []
          }
        },
        {
          "output_type": "display_data",
          "data": {
            "text/plain": [
              "(1, 20000)"
            ]
          },
          "metadata": {
            "tags": []
          }
        },
        {
          "output_type": "display_data",
          "data": {
            "text/plain": [
              "(20000, 302, 2)"
            ]
          },
          "metadata": {
            "tags": []
          }
        },
        {
          "output_type": "display_data",
          "data": {
            "text/plain": [
              "(2, 302, 10000)"
            ]
          },
          "metadata": {
            "tags": []
          }
        },
        {
          "output_type": "display_data",
          "data": {
            "text/plain": [
              "(1, 10000)"
            ]
          },
          "metadata": {
            "tags": []
          }
        },
        {
          "output_type": "display_data",
          "data": {
            "text/plain": [
              "(10000, 302, 2)"
            ]
          },
          "metadata": {
            "tags": []
          }
        },
        {
          "output_type": "display_data",
          "data": {
            "text/plain": [
              "(2, 302, 20000)"
            ]
          },
          "metadata": {
            "tags": []
          }
        },
        {
          "output_type": "display_data",
          "data": {
            "text/plain": [
              "(1, 20000)"
            ]
          },
          "metadata": {
            "tags": []
          }
        },
        {
          "output_type": "display_data",
          "data": {
            "text/plain": [
              "(20000, 302, 2)"
            ]
          },
          "metadata": {
            "tags": []
          }
        },
        {
          "output_type": "stream",
          "text": [
            "x_train shape:  (20000, 302, 2)\n",
            "y_train shape:  (20000, 300)\n",
            "y_train shape, one-hot:  (20000, 300, 4)\n",
            "y_train shape, one-hot, padding:  (20000, 302, 4)\n",
            "_________________________________________________________________\n",
            "Layer (type)                 Output Shape              Param #   \n",
            "=================================================================\n",
            "cu_dnnlstm_49 (CuDNNLSTM)    (None, 302, 50)           10800     \n",
            "_________________________________________________________________\n",
            "cu_dnnlstm_50 (CuDNNLSTM)    (None, 302, 50)           20400     \n",
            "_________________________________________________________________\n",
            "cu_dnnlstm_51 (CuDNNLSTM)    (None, 302, 50)           20400     \n",
            "_________________________________________________________________\n",
            "time_distributed_29 (TimeDis (None, 302, 50)           200       \n",
            "_________________________________________________________________\n",
            "time_distributed_30 (TimeDis (None, 302, 4)            204       \n",
            "=================================================================\n",
            "Total params: 52,004\n",
            "Trainable params: 51,904\n",
            "Non-trainable params: 100\n",
            "_________________________________________________________________\n",
            "Train on 20000 samples, validate on 10000 samples\n",
            "Epoch 1/40\n"
          ],
          "name": "stdout"
        },
        {
          "output_type": "stream",
          "text": [
            "/usr/local/lib/python3.6/dist-packages/numpy/core/numeric.py:492: ComplexWarning: Casting complex values to real discards the imaginary part\n",
            "  return array(a, dtype, copy=False, order=order)\n"
          ],
          "name": "stderr"
        },
        {
          "output_type": "stream",
          "text": [
            "20000/20000 [==============================] - 13s 628us/step - loss: 1.3976 - accuracy_with_masking: 0.2532 - val_loss: 1.4053 - val_accuracy_with_masking: 0.2497\n",
            "Epoch 2/40\n",
            "20000/20000 [==============================] - 7s 339us/step - loss: 1.3852 - accuracy_with_masking: 0.2711 - val_loss: 1.3929 - val_accuracy_with_masking: 0.2508\n",
            "Epoch 3/40\n",
            "20000/20000 [==============================] - 7s 337us/step - loss: 1.3823 - accuracy_with_masking: 0.2770 - val_loss: 1.4204 - val_accuracy_with_masking: 0.2496\n",
            "Epoch 4/40\n",
            "20000/20000 [==============================] - 7s 339us/step - loss: 1.3769 - accuracy_with_masking: 0.2930 - val_loss: 1.4898 - val_accuracy_with_masking: 0.2800\n",
            "Epoch 5/40\n",
            "20000/20000 [==============================] - 7s 338us/step - loss: 1.3665 - accuracy_with_masking: 0.2981 - val_loss: 1.5714 - val_accuracy_with_masking: 0.2522\n",
            "Epoch 6/40\n",
            "20000/20000 [==============================] - 7s 340us/step - loss: 1.2948 - accuracy_with_masking: 0.3624 - val_loss: 3.4547 - val_accuracy_with_masking: 0.3477\n",
            "Epoch 7/40\n",
            "20000/20000 [==============================] - 7s 339us/step - loss: 1.0583 - accuracy_with_masking: 0.4609 - val_loss: 2.4401 - val_accuracy_with_masking: 0.2894\n",
            "Epoch 8/40\n",
            "20000/20000 [==============================] - 7s 343us/step - loss: 0.9509 - accuracy_with_masking: 0.4702 - val_loss: 1.6987 - val_accuracy_with_masking: 0.3535\n",
            "Epoch 9/40\n",
            "20000/20000 [==============================] - 7s 348us/step - loss: 0.8955 - accuracy_with_masking: 0.4753 - val_loss: 1.5010 - val_accuracy_with_masking: 0.3707\n",
            "Epoch 10/40\n",
            "20000/20000 [==============================] - 7s 351us/step - loss: 0.8592 - accuracy_with_masking: 0.4695 - val_loss: 1.5335 - val_accuracy_with_masking: 0.3742\n",
            "Epoch 11/40\n"
          ],
          "name": "stdout"
        },
        {
          "output_type": "stream",
          "text": [
            "20000/20000 [==============================] - 7s 352us/step - loss: 0.8405 - accuracy_with_masking: 0.4904 - val_loss: 1.1067 - val_accuracy_with_masking: 0.4077\n",
            "Epoch 12/40\n",
            "20000/20000 [==============================] - 7s 344us/step - loss: 0.8236 - accuracy_with_masking: 0.4841 - val_loss: 1.0947 - val_accuracy_with_masking: 0.4113\n",
            "Epoch 13/40\n",
            "20000/20000 [==============================] - 7s 342us/step - loss: 0.8157 - accuracy_with_masking: 0.4836 - val_loss: 1.6886 - val_accuracy_with_masking: 0.3804\n",
            "Epoch 14/40\n",
            "20000/20000 [==============================] - 7s 339us/step - loss: 0.8014 - accuracy_with_masking: 0.5170 - val_loss: 1.1661 - val_accuracy_with_masking: 0.4113\n",
            "Epoch 15/40\n",
            "20000/20000 [==============================] - 7s 341us/step - loss: 0.7903 - accuracy_with_masking: 0.5375 - val_loss: 1.2028 - val_accuracy_with_masking: 0.4118\n",
            "Epoch 16/40\n",
            "20000/20000 [==============================] - 7s 338us/step - loss: 0.7839 - accuracy_with_masking: 0.5353 - val_loss: 1.1121 - val_accuracy_with_masking: 0.4318\n",
            "Epoch 17/40\n",
            "20000/20000 [==============================] - 7s 337us/step - loss: 0.7871 - accuracy_with_masking: 0.5444 - val_loss: 0.9847 - val_accuracy_with_masking: 0.4649\n",
            "Epoch 18/40\n",
            "20000/20000 [==============================] - 7s 340us/step - loss: 0.7686 - accuracy_with_masking: 0.6041 - val_loss: 1.4134 - val_accuracy_with_masking: 0.4042\n",
            "Epoch 19/40\n",
            "20000/20000 [==============================] - 7s 337us/step - loss: 0.7788 - accuracy_with_masking: 0.5598 - val_loss: 0.9147 - val_accuracy_with_masking: 0.4775\n",
            "Epoch 20/40\n",
            "20000/20000 [==============================] - 7s 337us/step - loss: 0.7561 - accuracy_with_masking: 0.6164 - val_loss: 1.3693 - val_accuracy_with_masking: 0.4028\n",
            "Epoch 21/40\n"
          ],
          "name": "stdout"
        },
        {
          "output_type": "stream",
          "text": [
            "20000/20000 [==============================] - 7s 335us/step - loss: 0.7786 - accuracy_with_masking: 0.6094 - val_loss: 0.8571 - val_accuracy_with_masking: 0.4778\n",
            "Epoch 22/40\n",
            "20000/20000 [==============================] - 7s 338us/step - loss: 0.7632 - accuracy_with_masking: 0.5876 - val_loss: 0.8905 - val_accuracy_with_masking: 0.4737\n",
            "Epoch 23/40\n",
            "20000/20000 [==============================] - 7s 336us/step - loss: 0.7497 - accuracy_with_masking: 0.5917 - val_loss: 1.2193 - val_accuracy_with_masking: 0.4145\n",
            "Epoch 24/40\n",
            "20000/20000 [==============================] - 7s 336us/step - loss: 0.7525 - accuracy_with_masking: 0.5965 - val_loss: 0.7802 - val_accuracy_with_masking: 0.5867\n",
            "Epoch 25/40\n",
            "20000/20000 [==============================] - 7s 337us/step - loss: 0.7670 - accuracy_with_masking: 0.5436 - val_loss: 1.6975 - val_accuracy_with_masking: 0.4036\n",
            "Epoch 26/40\n",
            "20000/20000 [==============================] - 7s 339us/step - loss: 0.7377 - accuracy_with_masking: 0.6077 - val_loss: 0.7832 - val_accuracy_with_masking: 0.4875\n",
            "Epoch 27/40\n",
            "20000/20000 [==============================] - 7s 341us/step - loss: 0.7533 - accuracy_with_masking: 0.5871 - val_loss: 0.8426 - val_accuracy_with_masking: 0.5078\n",
            "Epoch 28/40\n",
            "20000/20000 [==============================] - 7s 340us/step - loss: 0.6994 - accuracy_with_masking: 0.6312 - val_loss: 0.8119 - val_accuracy_with_masking: 0.5824\n",
            "Epoch 29/40\n",
            "20000/20000 [==============================] - 7s 338us/step - loss: 0.7077 - accuracy_with_masking: 0.6403 - val_loss: 0.7870 - val_accuracy_with_masking: 0.6479\n",
            "Epoch 30/40\n",
            "20000/20000 [==============================] - 7s 338us/step - loss: 0.5728 - accuracy_with_masking: 0.7371 - val_loss: 0.7188 - val_accuracy_with_masking: 0.6751\n",
            "Epoch 31/40\n"
          ],
          "name": "stdout"
        },
        {
          "output_type": "stream",
          "text": [
            "20000/20000 [==============================] - 7s 340us/step - loss: 0.8809 - accuracy_with_masking: 0.6559 - val_loss: 0.7382 - val_accuracy_with_masking: 0.6731\n",
            "Epoch 32/40\n",
            "20000/20000 [==============================] - 7s 336us/step - loss: 0.5071 - accuracy_with_masking: 0.7861 - val_loss: 0.9177 - val_accuracy_with_masking: 0.6318\n",
            "Epoch 33/40\n",
            "20000/20000 [==============================] - 7s 342us/step - loss: 0.4640 - accuracy_with_masking: 0.7878 - val_loss: 0.7538 - val_accuracy_with_masking: 0.6813\n",
            "Epoch 34/40\n",
            "20000/20000 [==============================] - 7s 341us/step - loss: 0.3810 - accuracy_with_masking: 0.8362 - val_loss: 0.6567 - val_accuracy_with_masking: 0.7081\n",
            "Epoch 35/40\n",
            "20000/20000 [==============================] - 7s 336us/step - loss: 0.3933 - accuracy_with_masking: 0.8435 - val_loss: 0.5599 - val_accuracy_with_masking: 0.7541\n",
            "Epoch 36/40\n",
            "20000/20000 [==============================] - 7s 337us/step - loss: 0.2943 - accuracy_with_masking: 0.8816 - val_loss: 0.5107 - val_accuracy_with_masking: 0.7874\n",
            "Epoch 37/40\n",
            "20000/20000 [==============================] - 7s 337us/step - loss: 0.3503 - accuracy_with_masking: 0.8557 - val_loss: 0.5052 - val_accuracy_with_masking: 0.7830\n",
            "Epoch 38/40\n",
            "20000/20000 [==============================] - 7s 335us/step - loss: 0.1586 - accuracy_with_masking: 0.9597 - val_loss: 0.4035 - val_accuracy_with_masking: 0.8509\n",
            "Epoch 39/40\n",
            "20000/20000 [==============================] - 7s 336us/step - loss: 0.0799 - accuracy_with_masking: 0.9814 - val_loss: 0.2806 - val_accuracy_with_masking: 0.9022\n",
            "Epoch 40/40\n",
            "20000/20000 [==============================] - 7s 337us/step - loss: 0.0592 - accuracy_with_masking: 0.9836 - val_loss: 0.2069 - val_accuracy_with_masking: 0.9268\n",
            " 1000/20000 [>.............................] - ETA: 2s"
          ],
          "name": "stdout"
        },
        {
          "output_type": "stream",
          "text": [
            "20000/20000 [==============================] - 2s 123us/step\n",
            "Score:  [0.2735686257481575, 0.9028464972972869]\n"
          ],
          "name": "stdout"
        },
        {
          "output_type": "display_data",
          "data": {
            "text/plain": [
              "(2, 302, 20000)"
            ]
          },
          "metadata": {
            "tags": []
          }
        },
        {
          "output_type": "display_data",
          "data": {
            "text/plain": [
              "(1, 20000)"
            ]
          },
          "metadata": {
            "tags": []
          }
        },
        {
          "output_type": "display_data",
          "data": {
            "text/plain": [
              "(20000, 302, 2)"
            ]
          },
          "metadata": {
            "tags": []
          }
        },
        {
          "output_type": "display_data",
          "data": {
            "text/plain": [
              "(2, 302, 10000)"
            ]
          },
          "metadata": {
            "tags": []
          }
        },
        {
          "output_type": "display_data",
          "data": {
            "text/plain": [
              "(1, 10000)"
            ]
          },
          "metadata": {
            "tags": []
          }
        },
        {
          "output_type": "display_data",
          "data": {
            "text/plain": [
              "(10000, 302, 2)"
            ]
          },
          "metadata": {
            "tags": []
          }
        },
        {
          "output_type": "display_data",
          "data": {
            "text/plain": [
              "(2, 302, 20000)"
            ]
          },
          "metadata": {
            "tags": []
          }
        },
        {
          "output_type": "display_data",
          "data": {
            "text/plain": [
              "(1, 20000)"
            ]
          },
          "metadata": {
            "tags": []
          }
        },
        {
          "output_type": "display_data",
          "data": {
            "text/plain": [
              "(20000, 302, 2)"
            ]
          },
          "metadata": {
            "tags": []
          }
        },
        {
          "output_type": "stream",
          "text": [
            "x_train shape:  (20000, 302, 2)\n",
            "y_train shape:  (20000, 300)\n",
            "y_train shape, one-hot:  (20000, 300, 4)\n",
            "y_train shape, one-hot, padding:  (20000, 302, 4)\n"
          ],
          "name": "stdout"
        },
        {
          "output_type": "stream",
          "text": [
            "/usr/local/lib/python3.6/dist-packages/ipykernel_launcher.py:110: ComplexWarning: Casting complex values to real discards the imaginary part\n"
          ],
          "name": "stderr"
        },
        {
          "output_type": "stream",
          "text": [
            "x_train shape, window:  (20000, 302, 10)\n",
            "_________________________________________________________________\n",
            "Layer (type)                 Output Shape              Param #   \n",
            "=================================================================\n",
            "cu_dnnlstm_52 (CuDNNLSTM)    (None, 302, 50)           12400     \n",
            "_________________________________________________________________\n",
            "cu_dnnlstm_53 (CuDNNLSTM)    (None, 302, 50)           20400     \n",
            "_________________________________________________________________\n",
            "cu_dnnlstm_54 (CuDNNLSTM)    (None, 302, 50)           20400     \n",
            "_________________________________________________________________\n",
            "time_distributed_31 (TimeDis (None, 302, 4)            204       \n",
            "=================================================================\n",
            "Total params: 53,404\n",
            "Trainable params: 53,404\n",
            "Non-trainable params: 0\n",
            "_________________________________________________________________\n",
            "Train on 20000 samples, validate on 10000 samples\n",
            "Epoch 1/40\n",
            "20000/20000 [==============================] - 11s 559us/step - loss: 1.6832 - accuracy_with_masking: 0.2474 - val_loss: 1.6320 - val_accuracy_with_masking: 0.2608\n",
            "Epoch 2/40\n",
            "20000/20000 [==============================] - 6s 325us/step - loss: 1.5951 - accuracy_with_masking: 0.2612 - val_loss: 1.5530 - val_accuracy_with_masking: 0.2764\n",
            "Epoch 3/40\n",
            "20000/20000 [==============================] - 7s 326us/step - loss: 1.5246 - accuracy_with_masking: 0.2639 - val_loss: 1.4936 - val_accuracy_with_masking: 0.2494\n",
            "Epoch 4/40\n",
            "20000/20000 [==============================] - 7s 328us/step - loss: 1.4738 - accuracy_with_masking: 0.2560 - val_loss: 1.4523 - val_accuracy_with_masking: 0.2778\n",
            "Epoch 5/40\n",
            "20000/20000 [==============================] - 7s 327us/step - loss: 1.4396 - accuracy_with_masking: 0.2584 - val_loss: 1.4258 - val_accuracy_with_masking: 0.2542\n",
            "Epoch 6/40\n",
            "20000/20000 [==============================] - 7s 326us/step - loss: 1.4177 - accuracy_with_masking: 0.2669 - val_loss: 1.4134 - val_accuracy_with_masking: 0.2509\n"
          ],
          "name": "stdout"
        },
        {
          "output_type": "stream",
          "text": [
            "Epoch 7/40\n",
            "20000/20000 [==============================] - 7s 329us/step - loss: 1.4030 - accuracy_with_masking: 0.2800 - val_loss: 1.4021 - val_accuracy_with_masking: 0.2586\n",
            "Epoch 8/40\n",
            "20000/20000 [==============================] - 7s 325us/step - loss: 1.3935 - accuracy_with_masking: 0.2847 - val_loss: 1.3819 - val_accuracy_with_masking: 0.2885\n",
            "Epoch 9/40\n",
            "20000/20000 [==============================] - 7s 335us/step - loss: 1.3817 - accuracy_with_masking: 0.2964 - val_loss: 1.3695 - val_accuracy_with_masking: 0.3061\n",
            "Epoch 10/40\n",
            "20000/20000 [==============================] - 7s 328us/step - loss: 1.3659 - accuracy_with_masking: 0.3061 - val_loss: 1.3551 - val_accuracy_with_masking: 0.3245\n",
            "Epoch 11/40\n",
            "20000/20000 [==============================] - 7s 345us/step - loss: 1.3451 - accuracy_with_masking: 0.3256 - val_loss: 1.3423 - val_accuracy_with_masking: 0.3323\n",
            "Epoch 12/40\n",
            "20000/20000 [==============================] - 7s 358us/step - loss: 1.3349 - accuracy_with_masking: 0.3269 - val_loss: 1.3325 - val_accuracy_with_masking: 0.3398\n",
            "Epoch 13/40\n",
            "20000/20000 [==============================] - 7s 346us/step - loss: 1.3219 - accuracy_with_masking: 0.3409 - val_loss: 1.3255 - val_accuracy_with_masking: 0.3271\n",
            "Epoch 14/40\n",
            "20000/20000 [==============================] - 7s 342us/step - loss: 1.3092 - accuracy_with_masking: 0.3420 - val_loss: 1.3071 - val_accuracy_with_masking: 0.3530\n",
            "Epoch 15/40\n",
            "20000/20000 [==============================] - 7s 335us/step - loss: 1.2910 - accuracy_with_masking: 0.3559 - val_loss: 1.2920 - val_accuracy_with_masking: 0.3632\n",
            "Epoch 16/40\n",
            "20000/20000 [==============================] - 7s 328us/step - loss: 1.2707 - accuracy_with_masking: 0.3677 - val_loss: 1.2729 - val_accuracy_with_masking: 0.3738\n"
          ],
          "name": "stdout"
        },
        {
          "output_type": "stream",
          "text": [
            "Epoch 17/40\n",
            "20000/20000 [==============================] - 7s 330us/step - loss: 1.2421 - accuracy_with_masking: 0.3838 - val_loss: 1.2466 - val_accuracy_with_masking: 0.3879\n",
            "Epoch 18/40\n",
            "20000/20000 [==============================] - 6s 324us/step - loss: 1.2026 - accuracy_with_masking: 0.4012 - val_loss: 1.2216 - val_accuracy_with_masking: 0.3905\n",
            "Epoch 19/40\n",
            "20000/20000 [==============================] - 7s 333us/step - loss: 1.1639 - accuracy_with_masking: 0.4184 - val_loss: 1.2027 - val_accuracy_with_masking: 0.4079\n",
            "Epoch 20/40\n",
            "20000/20000 [==============================] - 7s 330us/step - loss: 1.1236 - accuracy_with_masking: 0.4339 - val_loss: 1.1780 - val_accuracy_with_masking: 0.4156\n",
            "Epoch 21/40\n",
            "20000/20000 [==============================] - 7s 326us/step - loss: 1.0917 - accuracy_with_masking: 0.4360 - val_loss: 1.1557 - val_accuracy_with_masking: 0.4247\n",
            "Epoch 22/40\n",
            "20000/20000 [==============================] - 6s 325us/step - loss: 1.0505 - accuracy_with_masking: 0.4524 - val_loss: 1.1233 - val_accuracy_with_masking: 0.4407\n",
            "Epoch 23/40\n",
            "20000/20000 [==============================] - 7s 329us/step - loss: 1.0121 - accuracy_with_masking: 0.4718 - val_loss: 1.0918 - val_accuracy_with_masking: 0.4568\n",
            "Epoch 24/40\n",
            "20000/20000 [==============================] - 7s 328us/step - loss: 0.9732 - accuracy_with_masking: 0.4894 - val_loss: 1.0657 - val_accuracy_with_masking: 0.4689\n",
            "Epoch 25/40\n",
            "20000/20000 [==============================] - 7s 333us/step - loss: 0.9036 - accuracy_with_masking: 0.5145 - val_loss: 1.0637 - val_accuracy_with_masking: 0.4746\n",
            "Epoch 26/40\n",
            "20000/20000 [==============================] - 7s 334us/step - loss: 0.8580 - accuracy_with_masking: 0.5228 - val_loss: 1.0553 - val_accuracy_with_masking: 0.4797\n"
          ],
          "name": "stdout"
        },
        {
          "output_type": "stream",
          "text": [
            "Epoch 27/40\n",
            "20000/20000 [==============================] - 7s 331us/step - loss: 0.8325 - accuracy_with_masking: 0.5345 - val_loss: 1.0725 - val_accuracy_with_masking: 0.4830\n",
            "Epoch 28/40\n",
            "20000/20000 [==============================] - 7s 336us/step - loss: 0.8172 - accuracy_with_masking: 0.5407 - val_loss: 1.0777 - val_accuracy_with_masking: 0.4859\n",
            "Epoch 29/40\n",
            "20000/20000 [==============================] - 7s 337us/step - loss: 0.8095 - accuracy_with_masking: 0.5436 - val_loss: 1.0786 - val_accuracy_with_masking: 0.4922\n",
            "Epoch 30/40\n",
            "20000/20000 [==============================] - 7s 333us/step - loss: 0.8029 - accuracy_with_masking: 0.5482 - val_loss: 1.0848 - val_accuracy_with_masking: 0.4847\n",
            "Epoch 31/40\n",
            "20000/20000 [==============================] - 7s 338us/step - loss: 0.7976 - accuracy_with_masking: 0.5433 - val_loss: 1.0804 - val_accuracy_with_masking: 0.5004\n",
            "Epoch 32/40\n",
            "20000/20000 [==============================] - 7s 335us/step - loss: 0.7892 - accuracy_with_masking: 0.5532 - val_loss: 1.0848 - val_accuracy_with_masking: 0.4970\n",
            "Epoch 33/40\n",
            "20000/20000 [==============================] - 7s 351us/step - loss: 0.7858 - accuracy_with_masking: 0.5595 - val_loss: 1.0754 - val_accuracy_with_masking: 0.5145\n",
            "Epoch 34/40\n",
            "20000/20000 [==============================] - 7s 340us/step - loss: 0.7836 - accuracy_with_masking: 0.5707 - val_loss: 1.0766 - val_accuracy_with_masking: 0.5191\n",
            "Epoch 35/40\n",
            "20000/20000 [==============================] - 7s 333us/step - loss: 0.7725 - accuracy_with_masking: 0.5813 - val_loss: 1.0597 - val_accuracy_with_masking: 0.5271\n",
            "Epoch 36/40\n",
            "20000/20000 [==============================] - 7s 363us/step - loss: 0.7789 - accuracy_with_masking: 0.5809 - val_loss: 1.1586 - val_accuracy_with_masking: 0.5141\n"
          ],
          "name": "stdout"
        },
        {
          "output_type": "stream",
          "text": [
            "Epoch 37/40\n",
            "20000/20000 [==============================] - 7s 357us/step - loss: 0.7666 - accuracy_with_masking: 0.5948 - val_loss: 1.0238 - val_accuracy_with_masking: 0.5483\n",
            "Epoch 38/40\n",
            "20000/20000 [==============================] - 7s 347us/step - loss: 0.7358 - accuracy_with_masking: 0.6188 - val_loss: 1.0097 - val_accuracy_with_masking: 0.5668\n",
            "Epoch 39/40\n",
            "20000/20000 [==============================] - 7s 349us/step - loss: 0.7197 - accuracy_with_masking: 0.6451 - val_loss: 0.9999 - val_accuracy_with_masking: 0.5568\n",
            "Epoch 40/40\n",
            "20000/20000 [==============================] - 7s 341us/step - loss: 0.7098 - accuracy_with_masking: 0.6485 - val_loss: 0.9775 - val_accuracy_with_masking: 0.5731\n",
            "20000/20000 [==============================] - 3s 138us/step\n",
            "Score:  [0.9797601014375686, 0.5727198392152786]\n"
          ],
          "name": "stdout"
        },
        {
          "output_type": "display_data",
          "data": {
            "text/plain": [
              "(2, 302, 20000)"
            ]
          },
          "metadata": {
            "tags": []
          }
        },
        {
          "output_type": "display_data",
          "data": {
            "text/plain": [
              "(1, 20000)"
            ]
          },
          "metadata": {
            "tags": []
          }
        },
        {
          "output_type": "display_data",
          "data": {
            "text/plain": [
              "(20000, 302, 2)"
            ]
          },
          "metadata": {
            "tags": []
          }
        },
        {
          "output_type": "display_data",
          "data": {
            "text/plain": [
              "(2, 302, 10000)"
            ]
          },
          "metadata": {
            "tags": []
          }
        },
        {
          "output_type": "display_data",
          "data": {
            "text/plain": [
              "(1, 10000)"
            ]
          },
          "metadata": {
            "tags": []
          }
        },
        {
          "output_type": "display_data",
          "data": {
            "text/plain": [
              "(10000, 302, 2)"
            ]
          },
          "metadata": {
            "tags": []
          }
        },
        {
          "output_type": "display_data",
          "data": {
            "text/plain": [
              "(2, 302, 20000)"
            ]
          },
          "metadata": {
            "tags": []
          }
        },
        {
          "output_type": "display_data",
          "data": {
            "text/plain": [
              "(1, 20000)"
            ]
          },
          "metadata": {
            "tags": []
          }
        },
        {
          "output_type": "display_data",
          "data": {
            "text/plain": [
              "(20000, 302, 2)"
            ]
          },
          "metadata": {
            "tags": []
          }
        },
        {
          "output_type": "stream",
          "text": [
            "x_train shape:  (20000, 302, 2)\n",
            "y_train shape:  (20000, 300)\n",
            "y_train shape, one-hot:  (20000, 300, 4)\n",
            "_________________________________________________________________\n",
            "Layer (type)                 Output Shape              Param #   \n",
            "=================================================================\n",
            "conv1d_3 (Conv1D)            (None, 300, 10)           70        \n",
            "_________________________________________________________________\n",
            "batch_normalization_16 (Batc (None, 300, 10)           40        \n",
            "_________________________________________________________________\n",
            "flatten_3 (Flatten)          (None, 3000)              0         \n",
            "_________________________________________________________________\n",
            "dense_21 (Dense)             (None, 1200)              3601200   \n",
            "_________________________________________________________________\n",
            "reshape_3 (Reshape)          (None, 300, 4)            0         \n",
            "_________________________________________________________________\n",
            "softmax_3 (Softmax)          (None, 300, 4)            0         \n",
            "=================================================================\n",
            "Total params: 3,601,310\n",
            "Trainable params: 3,601,290\n",
            "Non-trainable params: 20\n",
            "_________________________________________________________________\n",
            "Train on 20000 samples, validate on 10000 samples\n",
            "Epoch 1/40\n",
            "20000/20000 [==============================] - 8s 396us/step - loss: 1.5696 - acc: 0.2500 - val_loss: 1.5289 - val_acc: 0.2505\n",
            "Epoch 2/40\n",
            "11500/20000 [================>.............] - ETA: 0s - loss: 1.4788 - acc: 0.2709"
          ],
          "name": "stdout"
        },
        {
          "output_type": "stream",
          "text": [
            "20000/20000 [==============================] - 3s 135us/step - loss: 1.4834 - acc: 0.2648 - val_loss: 1.5031 - val_acc: 0.2523\n",
            "Epoch 3/40\n",
            "20000/20000 [==============================] - 3s 131us/step - loss: 1.4542 - acc: 0.2707 - val_loss: 1.4782 - val_acc: 0.2516\n",
            "Epoch 4/40\n",
            "20000/20000 [==============================] - 3s 132us/step - loss: 1.4286 - acc: 0.2770 - val_loss: 1.4570 - val_acc: 0.2499\n",
            "Epoch 5/40\n",
            "20000/20000 [==============================] - 3s 135us/step - loss: 1.4068 - acc: 0.2826 - val_loss: 1.4400 - val_acc: 0.2496\n",
            "Epoch 6/40\n",
            "20000/20000 [==============================] - 3s 133us/step - loss: 1.3887 - acc: 0.2920 - val_loss: 1.4272 - val_acc: 0.2500\n",
            "Epoch 7/40\n",
            "18500/20000 [==========================>...] - ETA: 0s - loss: 1.3738 - acc: 0.3040"
          ],
          "name": "stdout"
        },
        {
          "output_type": "stream",
          "text": [
            "20000/20000 [==============================] - 3s 158us/step - loss: 1.3748 - acc: 0.3024 - val_loss: 1.4198 - val_acc: 0.2498\n",
            "Epoch 8/40\n",
            "20000/20000 [==============================] - 3s 126us/step - loss: 1.3666 - acc: 0.3091 - val_loss: 1.4173 - val_acc: 0.2498\n",
            "Epoch 9/40\n",
            "20000/20000 [==============================] - 3s 125us/step - loss: 1.3624 - acc: 0.3143 - val_loss: 1.4173 - val_acc: 0.2498\n",
            "Epoch 10/40\n",
            "20000/20000 [==============================] - 3s 128us/step - loss: 1.3600 - acc: 0.3184 - val_loss: 1.4179 - val_acc: 0.2501\n",
            "Epoch 11/40\n",
            "20000/20000 [==============================] - 3s 134us/step - loss: 1.3585 - acc: 0.3200 - val_loss: 1.4187 - val_acc: 0.2502\n",
            "Epoch 12/40\n",
            "20000/20000 [==============================] - 3s 128us/step - loss: 1.3573 - acc: 0.3219 - val_loss: 1.4198 - val_acc: 0.2501\n",
            "Epoch 13/40\n",
            " 1750/20000 [=>............................] - ETA: 2s - loss: 1.3449 - acc: 0.3393"
          ],
          "name": "stdout"
        },
        {
          "output_type": "stream",
          "text": [
            "20000/20000 [==============================] - 3s 128us/step - loss: 1.3564 - acc: 0.3226 - val_loss: 1.4203 - val_acc: 0.2502\n",
            "Epoch 14/40\n",
            "20000/20000 [==============================] - 3s 130us/step - loss: 1.3557 - acc: 0.3231 - val_loss: 1.4206 - val_acc: 0.2500\n",
            "Epoch 15/40\n",
            "20000/20000 [==============================] - 3s 132us/step - loss: 1.3551 - acc: 0.3242 - val_loss: 1.4218 - val_acc: 0.2505\n",
            "Epoch 16/40\n",
            "20000/20000 [==============================] - 3s 138us/step - loss: 1.3546 - acc: 0.3250 - val_loss: 1.4209 - val_acc: 0.2504\n",
            "Epoch 17/40\n",
            "20000/20000 [==============================] - 3s 133us/step - loss: 1.3541 - acc: 0.3251 - val_loss: 1.4226 - val_acc: 0.2501\n",
            "Epoch 18/40\n",
            "18750/20000 [===========================>..] - ETA: 0s - loss: 1.3532 - acc: 0.3268"
          ],
          "name": "stdout"
        },
        {
          "output_type": "stream",
          "text": [
            "20000/20000 [==============================] - 3s 133us/step - loss: 1.3538 - acc: 0.3260 - val_loss: 1.4217 - val_acc: 0.2503\n",
            "Epoch 19/40\n",
            "20000/20000 [==============================] - 3s 175us/step - loss: 1.3534 - acc: 0.3262 - val_loss: 1.4226 - val_acc: 0.2502\n",
            "Epoch 20/40\n",
            "20000/20000 [==============================] - 3s 164us/step - loss: 1.3531 - acc: 0.3267 - val_loss: 1.4220 - val_acc: 0.2502\n",
            "Epoch 21/40\n",
            "20000/20000 [==============================] - 3s 148us/step - loss: 1.3529 - acc: 0.3271 - val_loss: 1.4223 - val_acc: 0.2501\n",
            "Epoch 22/40\n",
            "20000/20000 [==============================] - 3s 141us/step - loss: 1.3526 - acc: 0.3275 - val_loss: 1.4235 - val_acc: 0.2502\n",
            "Epoch 23/40\n",
            "15750/20000 [======================>.......] - ETA: 0s - loss: 1.3504 - acc: 0.3301"
          ],
          "name": "stdout"
        },
        {
          "output_type": "stream",
          "text": [
            "20000/20000 [==============================] - 3s 144us/step - loss: 1.3524 - acc: 0.3275 - val_loss: 1.4233 - val_acc: 0.2503\n",
            "Epoch 24/40\n",
            "20000/20000 [==============================] - 3s 138us/step - loss: 1.3522 - acc: 0.3280 - val_loss: 1.4226 - val_acc: 0.2502\n",
            "Epoch 25/40\n",
            "20000/20000 [==============================] - 3s 142us/step - loss: 1.3520 - acc: 0.3278 - val_loss: 1.4243 - val_acc: 0.2502\n",
            "Epoch 26/40\n",
            "20000/20000 [==============================] - 3s 174us/step - loss: 1.3519 - acc: 0.3280 - val_loss: 1.4243 - val_acc: 0.2501\n",
            "Epoch 27/40\n",
            "20000/20000 [==============================] - 3s 146us/step - loss: 1.3517 - acc: 0.3286 - val_loss: 1.4252 - val_acc: 0.2503\n",
            "Epoch 28/40\n",
            "17000/20000 [========================>.....] - ETA: 0s - loss: 1.3502 - acc: 0.3303"
          ],
          "name": "stdout"
        },
        {
          "output_type": "stream",
          "text": [
            "20000/20000 [==============================] - 3s 132us/step - loss: 1.3515 - acc: 0.3286 - val_loss: 1.4252 - val_acc: 0.2504\n",
            "Epoch 29/40\n",
            "20000/20000 [==============================] - 3s 130us/step - loss: 1.3514 - acc: 0.3288 - val_loss: 1.4264 - val_acc: 0.2503\n",
            "Epoch 30/40\n",
            "20000/20000 [==============================] - 3s 128us/step - loss: 1.3513 - acc: 0.3289 - val_loss: 1.4255 - val_acc: 0.2504\n",
            "Epoch 31/40\n",
            "20000/20000 [==============================] - 3s 127us/step - loss: 1.3512 - acc: 0.3293 - val_loss: 1.4248 - val_acc: 0.2503\n",
            "Epoch 32/40\n",
            "20000/20000 [==============================] - 3s 127us/step - loss: 1.3510 - acc: 0.3290 - val_loss: 1.4269 - val_acc: 0.2503\n",
            "Epoch 33/40\n",
            "20000/20000 [==============================] - 2s 121us/step - loss: 1.3509 - acc: 0.3296 - val_loss: 1.4261 - val_acc: 0.2503\n",
            "Epoch 34/40\n",
            "  250/20000 [..............................] - ETA: 2s - loss: 1.3481 - acc: 0.3325"
          ],
          "name": "stdout"
        },
        {
          "output_type": "stream",
          "text": [
            "20000/20000 [==============================] - 2s 116us/step - loss: 1.3508 - acc: 0.3294 - val_loss: 1.4267 - val_acc: 0.2504\n",
            "Epoch 35/40\n",
            "20000/20000 [==============================] - 2s 120us/step - loss: 1.3507 - acc: 0.3297 - val_loss: 1.4285 - val_acc: 0.2504\n",
            "Epoch 36/40\n",
            "20000/20000 [==============================] - 2s 115us/step - loss: 1.3506 - acc: 0.3299 - val_loss: 1.4265 - val_acc: 0.2503\n",
            "Epoch 37/40\n",
            "20000/20000 [==============================] - 2s 118us/step - loss: 1.3505 - acc: 0.3299 - val_loss: 1.4289 - val_acc: 0.2503\n",
            "Epoch 38/40\n",
            "20000/20000 [==============================] - 3s 140us/step - loss: 1.3504 - acc: 0.3299 - val_loss: 1.4278 - val_acc: 0.2502\n",
            "Epoch 39/40\n",
            "20000/20000 [==============================] - 3s 127us/step - loss: 1.3503 - acc: 0.3301 - val_loss: 1.4288 - val_acc: 0.2502\n",
            "Epoch 40/40\n",
            " 2500/20000 [==>...........................] - ETA: 1s - loss: 1.3423 - acc: 0.3397"
          ],
          "name": "stdout"
        },
        {
          "output_type": "stream",
          "text": [
            "20000/20000 [==============================] - 2s 123us/step - loss: 1.3503 - acc: 0.3302 - val_loss: 1.4290 - val_acc: 0.2502\n",
            "20000/20000 [==============================] - 4s 223us/step\n",
            "Test accuracy: [1.4230457130432128, 0.25005183374881745]\n",
            "Score:  [1.4230457130432128, 0.25005183374881745]\n",
            "SNRdB:  15.0\n"
          ],
          "name": "stdout"
        },
        {
          "output_type": "display_data",
          "data": {
            "text/plain": [
              "(2, 302, 20000)"
            ]
          },
          "metadata": {
            "tags": []
          }
        },
        {
          "output_type": "display_data",
          "data": {
            "text/plain": [
              "(1, 20000)"
            ]
          },
          "metadata": {
            "tags": []
          }
        },
        {
          "output_type": "display_data",
          "data": {
            "text/plain": [
              "(20000, 302, 2)"
            ]
          },
          "metadata": {
            "tags": []
          }
        },
        {
          "output_type": "display_data",
          "data": {
            "text/plain": [
              "(2, 302, 10000)"
            ]
          },
          "metadata": {
            "tags": []
          }
        },
        {
          "output_type": "display_data",
          "data": {
            "text/plain": [
              "(1, 10000)"
            ]
          },
          "metadata": {
            "tags": []
          }
        },
        {
          "output_type": "display_data",
          "data": {
            "text/plain": [
              "(10000, 302, 2)"
            ]
          },
          "metadata": {
            "tags": []
          }
        },
        {
          "output_type": "display_data",
          "data": {
            "text/plain": [
              "(2, 302, 20000)"
            ]
          },
          "metadata": {
            "tags": []
          }
        },
        {
          "output_type": "display_data",
          "data": {
            "text/plain": [
              "(1, 20000)"
            ]
          },
          "metadata": {
            "tags": []
          }
        },
        {
          "output_type": "display_data",
          "data": {
            "text/plain": [
              "(20000, 302, 2)"
            ]
          },
          "metadata": {
            "tags": []
          }
        },
        {
          "output_type": "stream",
          "text": [
            "x_train shape:  (20000, 302, 2)\n",
            "y_train shape:  (20000, 300)\n",
            "y_train shape, one-hot:  (20000, 300, 4)\n",
            "y_train shape, one-hot, padding:  (20000, 302, 4)\n",
            "_________________________________________________________________\n",
            "Layer (type)                 Output Shape              Param #   \n",
            "=================================================================\n",
            "cu_dnnlstm_55 (CuDNNLSTM)    (None, 302, 50)           10800     \n",
            "_________________________________________________________________\n",
            "cu_dnnlstm_56 (CuDNNLSTM)    (None, 302, 50)           20400     \n",
            "_________________________________________________________________\n",
            "cu_dnnlstm_57 (CuDNNLSTM)    (None, 302, 50)           20400     \n",
            "_________________________________________________________________\n",
            "time_distributed_32 (TimeDis (None, 302, 50)           200       \n",
            "_________________________________________________________________\n",
            "time_distributed_33 (TimeDis (None, 302, 4)            204       \n",
            "=================================================================\n",
            "Total params: 52,004\n",
            "Trainable params: 51,904\n",
            "Non-trainable params: 100\n",
            "_________________________________________________________________\n",
            "Train on 20000 samples, validate on 10000 samples\n",
            "Epoch 1/40\n",
            "20000/20000 [==============================] - 13s 639us/step - loss: 1.3893 - accuracy_with_masking: 0.2582 - val_loss: 1.3931 - val_accuracy_with_masking: 0.2537\n",
            "Epoch 2/40\n",
            "20000/20000 [==============================] - 7s 339us/step - loss: 1.3832 - accuracy_with_masking: 0.2792 - val_loss: 1.3847 - val_accuracy_with_masking: 0.2668\n",
            "Epoch 3/40\n",
            "20000/20000 [==============================] - 7s 342us/step - loss: 1.3758 - accuracy_with_masking: 0.2857 - val_loss: 1.3984 - val_accuracy_with_masking: 0.2715\n",
            "Epoch 4/40\n",
            "20000/20000 [==============================] - 7s 342us/step - loss: 1.3345 - accuracy_with_masking: 0.3284 - val_loss: 5.1288 - val_accuracy_with_masking: 0.2513\n",
            "Epoch 5/40\n",
            "20000/20000 [==============================] - 7s 342us/step - loss: 1.1915 - accuracy_with_masking: 0.3929 - val_loss: 1.7317 - val_accuracy_with_masking: 0.3596\n",
            "Epoch 6/40\n",
            " 4000/20000 [=====>........................] - ETA: 4s - loss: 1.0391 - accuracy_with_masking: 0.4474"
          ],
          "name": "stdout"
        },
        {
          "output_type": "stream",
          "text": [
            "20000/20000 [==============================] - 7s 345us/step - loss: 1.0187 - accuracy_with_masking: 0.4287 - val_loss: 1.3343 - val_accuracy_with_masking: 0.3601\n",
            "Epoch 7/40\n",
            "20000/20000 [==============================] - 7s 350us/step - loss: 0.9503 - accuracy_with_masking: 0.4504 - val_loss: 1.9538 - val_accuracy_with_masking: 0.3302\n",
            "Epoch 8/40\n",
            "20000/20000 [==============================] - 7s 370us/step - loss: 0.9400 - accuracy_with_masking: 0.4520 - val_loss: 1.6305 - val_accuracy_with_masking: 0.3617\n",
            "Epoch 9/40\n",
            "20000/20000 [==============================] - 7s 346us/step - loss: 0.8972 - accuracy_with_masking: 0.4781 - val_loss: 1.7414 - val_accuracy_with_masking: 0.3657\n",
            "Epoch 10/40\n",
            "20000/20000 [==============================] - 7s 343us/step - loss: 0.8809 - accuracy_with_masking: 0.4668 - val_loss: 2.8440 - val_accuracy_with_masking: 0.3318\n",
            "Epoch 11/40\n",
            "20000/20000 [==============================] - 7s 347us/step - loss: 0.8864 - accuracy_with_masking: 0.4895 - val_loss: 2.2308 - val_accuracy_with_masking: 0.3374\n",
            "Epoch 12/40\n",
            "20000/20000 [==============================] - 7s 344us/step - loss: 0.8781 - accuracy_with_masking: 0.4987 - val_loss: 2.0184 - val_accuracy_with_masking: 0.3608\n",
            "Epoch 13/40\n",
            "20000/20000 [==============================] - 7s 343us/step - loss: 0.8665 - accuracy_with_masking: 0.4981 - val_loss: 1.9806 - val_accuracy_with_masking: 0.3755\n",
            "Epoch 14/40\n",
            "20000/20000 [==============================] - 7s 340us/step - loss: 0.8574 - accuracy_with_masking: 0.5104 - val_loss: 2.1956 - val_accuracy_with_masking: 0.3635\n",
            "Epoch 15/40\n",
            "20000/20000 [==============================] - 7s 341us/step - loss: 0.8549 - accuracy_with_masking: 0.5203 - val_loss: 2.1177 - val_accuracy_with_masking: 0.3618\n",
            "Epoch 16/40\n"
          ],
          "name": "stdout"
        },
        {
          "output_type": "stream",
          "text": [
            "20000/20000 [==============================] - 7s 340us/step - loss: 0.8708 - accuracy_with_masking: 0.5137 - val_loss: 2.1057 - val_accuracy_with_masking: 0.3937\n",
            "Epoch 17/40\n",
            "20000/20000 [==============================] - 7s 340us/step - loss: 0.8584 - accuracy_with_masking: 0.5362 - val_loss: 2.0702 - val_accuracy_with_masking: 0.3610\n",
            "Epoch 18/40\n",
            "20000/20000 [==============================] - 7s 339us/step - loss: 0.8467 - accuracy_with_masking: 0.5471 - val_loss: 2.0870 - val_accuracy_with_masking: 0.3767\n",
            "Epoch 19/40\n",
            "20000/20000 [==============================] - 7s 343us/step - loss: 0.8476 - accuracy_with_masking: 0.5314 - val_loss: 2.2783 - val_accuracy_with_masking: 0.3877\n",
            "Epoch 20/40\n",
            "20000/20000 [==============================] - 7s 345us/step - loss: 0.8472 - accuracy_with_masking: 0.5464 - val_loss: 2.1231 - val_accuracy_with_masking: 0.4032\n",
            "Epoch 21/40\n",
            "20000/20000 [==============================] - 7s 343us/step - loss: 0.8583 - accuracy_with_masking: 0.5211 - val_loss: 2.0583 - val_accuracy_with_masking: 0.4095\n",
            "Epoch 22/40\n",
            "20000/20000 [==============================] - 7s 343us/step - loss: 0.8511 - accuracy_with_masking: 0.5283 - val_loss: 2.0602 - val_accuracy_with_masking: 0.4058\n",
            "Epoch 23/40\n",
            "20000/20000 [==============================] - 7s 348us/step - loss: 0.8371 - accuracy_with_masking: 0.5428 - val_loss: 2.0696 - val_accuracy_with_masking: 0.4379\n",
            "Epoch 24/40\n",
            "20000/20000 [==============================] - 7s 349us/step - loss: 0.8403 - accuracy_with_masking: 0.5254 - val_loss: 2.1009 - val_accuracy_with_masking: 0.3521\n",
            "Epoch 25/40\n",
            "20000/20000 [==============================] - 7s 342us/step - loss: 0.8364 - accuracy_with_masking: 0.5072 - val_loss: 2.0131 - val_accuracy_with_masking: 0.3989\n",
            "Epoch 26/40\n"
          ],
          "name": "stdout"
        },
        {
          "output_type": "stream",
          "text": [
            "20000/20000 [==============================] - 7s 344us/step - loss: 0.8009 - accuracy_with_masking: 0.5994 - val_loss: 2.0050 - val_accuracy_with_masking: 0.4877\n",
            "Epoch 27/40\n",
            "20000/20000 [==============================] - 7s 346us/step - loss: 0.8073 - accuracy_with_masking: 0.6296 - val_loss: 2.0629 - val_accuracy_with_masking: 0.5259\n",
            "Epoch 28/40\n",
            "20000/20000 [==============================] - 7s 343us/step - loss: 0.7188 - accuracy_with_masking: 0.6640 - val_loss: 2.1657 - val_accuracy_with_masking: 0.5063\n",
            "Epoch 29/40\n",
            "20000/20000 [==============================] - 7s 343us/step - loss: 0.6316 - accuracy_with_masking: 0.7361 - val_loss: 2.0825 - val_accuracy_with_masking: 0.5498\n",
            "Epoch 30/40\n",
            "20000/20000 [==============================] - 7s 342us/step - loss: 0.5577 - accuracy_with_masking: 0.7706 - val_loss: 2.8903 - val_accuracy_with_masking: 0.4673\n",
            "Epoch 31/40\n",
            "20000/20000 [==============================] - 7s 351us/step - loss: 0.5517 - accuracy_with_masking: 0.7901 - val_loss: 2.2447 - val_accuracy_with_masking: 0.5705\n",
            "Epoch 32/40\n",
            "20000/20000 [==============================] - 7s 356us/step - loss: 0.5223 - accuracy_with_masking: 0.8009 - val_loss: 2.2244 - val_accuracy_with_masking: 0.5668\n",
            "Epoch 33/40\n",
            "20000/20000 [==============================] - 7s 348us/step - loss: 0.4661 - accuracy_with_masking: 0.8266 - val_loss: 2.1785 - val_accuracy_with_masking: 0.5882\n",
            "Epoch 34/40\n",
            "20000/20000 [==============================] - 7s 343us/step - loss: 0.5987 - accuracy_with_masking: 0.7796 - val_loss: 2.2605 - val_accuracy_with_masking: 0.5631\n",
            "Epoch 35/40\n",
            "20000/20000 [==============================] - 7s 345us/step - loss: 0.3226 - accuracy_with_masking: 0.8961 - val_loss: 2.7790 - val_accuracy_with_masking: 0.5487\n",
            "Epoch 36/40\n"
          ],
          "name": "stdout"
        },
        {
          "output_type": "stream",
          "text": [
            "20000/20000 [==============================] - 7s 340us/step - loss: 0.2169 - accuracy_with_masking: 0.9258 - val_loss: 3.1906 - val_accuracy_with_masking: 0.5425\n",
            "Epoch 37/40\n",
            "20000/20000 [==============================] - 7s 346us/step - loss: 0.2015 - accuracy_with_masking: 0.9250 - val_loss: 3.1802 - val_accuracy_with_masking: 0.5518\n",
            "Epoch 38/40\n",
            "20000/20000 [==============================] - 7s 341us/step - loss: 0.1770 - accuracy_with_masking: 0.9340 - val_loss: 3.2055 - val_accuracy_with_masking: 0.5546\n",
            "Epoch 39/40\n",
            "20000/20000 [==============================] - 7s 341us/step - loss: 0.1745 - accuracy_with_masking: 0.9341 - val_loss: 3.2503 - val_accuracy_with_masking: 0.5511\n",
            "Epoch 40/40\n",
            "20000/20000 [==============================] - 7s 340us/step - loss: 0.1713 - accuracy_with_masking: 0.9354 - val_loss: 3.2805 - val_accuracy_with_masking: 0.5480\n",
            "\n",
            "Epoch 00040: ReduceLROnPlateau reducing learning rate to 0.0004000000189989805.\n",
            "20000/20000 [==============================] - 2s 124us/step\n",
            "Score:  [1.4305496394634247, 0.7412550002336502]\n"
          ],
          "name": "stdout"
        },
        {
          "output_type": "display_data",
          "data": {
            "text/plain": [
              "(2, 302, 20000)"
            ]
          },
          "metadata": {
            "tags": []
          }
        },
        {
          "output_type": "display_data",
          "data": {
            "text/plain": [
              "(1, 20000)"
            ]
          },
          "metadata": {
            "tags": []
          }
        },
        {
          "output_type": "display_data",
          "data": {
            "text/plain": [
              "(20000, 302, 2)"
            ]
          },
          "metadata": {
            "tags": []
          }
        },
        {
          "output_type": "display_data",
          "data": {
            "text/plain": [
              "(2, 302, 10000)"
            ]
          },
          "metadata": {
            "tags": []
          }
        },
        {
          "output_type": "display_data",
          "data": {
            "text/plain": [
              "(1, 10000)"
            ]
          },
          "metadata": {
            "tags": []
          }
        },
        {
          "output_type": "display_data",
          "data": {
            "text/plain": [
              "(10000, 302, 2)"
            ]
          },
          "metadata": {
            "tags": []
          }
        },
        {
          "output_type": "display_data",
          "data": {
            "text/plain": [
              "(2, 302, 20000)"
            ]
          },
          "metadata": {
            "tags": []
          }
        },
        {
          "output_type": "display_data",
          "data": {
            "text/plain": [
              "(1, 20000)"
            ]
          },
          "metadata": {
            "tags": []
          }
        },
        {
          "output_type": "display_data",
          "data": {
            "text/plain": [
              "(20000, 302, 2)"
            ]
          },
          "metadata": {
            "tags": []
          }
        },
        {
          "output_type": "stream",
          "text": [
            "x_train shape:  (20000, 302, 2)\n",
            "y_train shape:  (20000, 300)\n",
            "y_train shape, one-hot:  (20000, 300, 4)\n",
            "y_train shape, one-hot, padding:  (20000, 302, 4)\n",
            "x_train shape, window:  (20000, 302, 10)\n",
            "_________________________________________________________________\n",
            "Layer (type)                 Output Shape              Param #   \n",
            "=================================================================\n",
            "cu_dnnlstm_58 (CuDNNLSTM)    (None, 302, 50)           12400     \n",
            "_________________________________________________________________\n",
            "cu_dnnlstm_59 (CuDNNLSTM)    (None, 302, 50)           20400     \n",
            "_________________________________________________________________\n",
            "cu_dnnlstm_60 (CuDNNLSTM)    (None, 302, 50)           20400     \n",
            "_________________________________________________________________\n",
            "time_distributed_34 (TimeDis (None, 302, 4)            204       \n",
            "=================================================================\n",
            "Total params: 53,404\n",
            "Trainable params: 53,404\n",
            "Non-trainable params: 0\n",
            "_________________________________________________________________\n",
            "Train on 20000 samples, validate on 10000 samples\n",
            "Epoch 1/40\n",
            "20000/20000 [==============================] - 12s 594us/step - loss: 1.6822 - accuracy_with_masking: 0.2505 - val_loss: 1.6310 - val_accuracy_with_masking: 0.2648\n",
            "Epoch 2/40\n",
            "20000/20000 [==============================] - 7s 334us/step - loss: 1.5940 - accuracy_with_masking: 0.2587 - val_loss: 1.5520 - val_accuracy_with_masking: 0.2734\n",
            "Epoch 3/40\n",
            "20000/20000 [==============================] - 7s 332us/step - loss: 1.5237 - accuracy_with_masking: 0.2583 - val_loss: 1.4927 - val_accuracy_with_masking: 0.2581\n",
            "Epoch 4/40\n",
            "20000/20000 [==============================] - 7s 334us/step - loss: 1.4728 - accuracy_with_masking: 0.2559 - val_loss: 1.4517 - val_accuracy_with_masking: 0.2635\n",
            "Epoch 5/40\n",
            "20000/20000 [==============================] - 7s 333us/step - loss: 1.4388 - accuracy_with_masking: 0.2520 - val_loss: 1.4252 - val_accuracy_with_masking: 0.2675\n",
            "Epoch 6/40\n",
            "10000/20000 [==============>...............] - ETA: 2s - loss: 1.4214 - accuracy_with_masking: 0.2559"
          ],
          "name": "stdout"
        },
        {
          "output_type": "stream",
          "text": [
            "20000/20000 [==============================] - 7s 336us/step - loss: 1.4172 - accuracy_with_masking: 0.2535 - val_loss: 1.4089 - val_accuracy_with_masking: 0.2525\n",
            "Epoch 7/40\n",
            "20000/20000 [==============================] - 7s 347us/step - loss: 1.4042 - accuracy_with_masking: 0.2512 - val_loss: 1.3993 - val_accuracy_with_masking: 0.2556\n",
            "Epoch 8/40\n",
            "20000/20000 [==============================] - 7s 332us/step - loss: 1.3967 - accuracy_with_masking: 0.2517 - val_loss: 1.3940 - val_accuracy_with_masking: 0.2507\n",
            "Epoch 9/40\n",
            "20000/20000 [==============================] - 7s 332us/step - loss: 1.3925 - accuracy_with_masking: 0.2501 - val_loss: 1.3911 - val_accuracy_with_masking: 0.2497\n",
            "\n",
            "Epoch 00009: ReduceLROnPlateau reducing learning rate to 0.0004000000189989805.\n",
            "Epoch 10/40\n",
            "20000/20000 [==============================] - 7s 354us/step - loss: 1.3899 - accuracy_with_masking: 0.2498 - val_loss: 1.3893 - val_accuracy_with_masking: 0.2469\n",
            "Epoch 11/40\n",
            "20000/20000 [==============================] - 7s 345us/step - loss: 1.3892 - accuracy_with_masking: 0.2496 - val_loss: 1.3890 - val_accuracy_with_masking: 0.2500\n",
            "Epoch 12/40\n",
            "20000/20000 [==============================] - 7s 354us/step - loss: 1.3888 - accuracy_with_masking: 0.2508 - val_loss: 1.3887 - val_accuracy_with_masking: 0.2501\n",
            "Epoch 13/40\n",
            "20000/20000 [==============================] - 7s 351us/step - loss: 1.3886 - accuracy_with_masking: 0.2499 - val_loss: 1.3884 - val_accuracy_with_masking: 0.2502\n",
            "Epoch 14/40\n",
            "20000/20000 [==============================] - 7s 352us/step - loss: 1.3883 - accuracy_with_masking: 0.2499 - val_loss: 1.3882 - val_accuracy_with_masking: 0.2497\n",
            "Epoch 15/40\n",
            "16000/20000 [=======================>......] - ETA: 1s - loss: 1.3881 - accuracy_with_masking: 0.2498"
          ],
          "name": "stdout"
        },
        {
          "output_type": "stream",
          "text": [
            "20000/20000 [==============================] - 7s 354us/step - loss: 1.3881 - accuracy_with_masking: 0.2498 - val_loss: 1.3880 - val_accuracy_with_masking: 0.2500\n",
            "Epoch 16/40\n",
            "20000/20000 [==============================] - 7s 359us/step - loss: 1.3879 - accuracy_with_masking: 0.2499 - val_loss: 1.3878 - val_accuracy_with_masking: 0.2500\n",
            "\n",
            "Epoch 00016: ReduceLROnPlateau reducing learning rate to 8.000000379979611e-05.\n",
            "Epoch 17/40\n",
            "20000/20000 [==============================] - 7s 336us/step - loss: 1.3876 - accuracy_with_masking: 0.2501 - val_loss: 1.3875 - val_accuracy_with_masking: 0.2500\n",
            "Epoch 18/40\n",
            "20000/20000 [==============================] - 7s 332us/step - loss: 1.3875 - accuracy_with_masking: 0.2501 - val_loss: 1.3875 - val_accuracy_with_masking: 0.2500\n",
            "Epoch 19/40\n",
            "20000/20000 [==============================] - 7s 331us/step - loss: 1.3874 - accuracy_with_masking: 0.2502 - val_loss: 1.3874 - val_accuracy_with_masking: 0.2500\n",
            "Epoch 20/40\n",
            "20000/20000 [==============================] - 7s 337us/step - loss: 1.3874 - accuracy_with_masking: 0.2501 - val_loss: 1.3874 - val_accuracy_with_masking: 0.2503\n",
            "Epoch 21/40\n",
            "20000/20000 [==============================] - 7s 340us/step - loss: 1.3874 - accuracy_with_masking: 0.2499 - val_loss: 1.3874 - val_accuracy_with_masking: 0.2503\n",
            "Epoch 22/40\n",
            "20000/20000 [==============================] - 7s 335us/step - loss: 1.3873 - accuracy_with_masking: 0.2504 - val_loss: 1.3873 - val_accuracy_with_masking: 0.2473\n",
            "Epoch 23/40\n",
            "20000/20000 [==============================] - 7s 338us/step - loss: 1.3873 - accuracy_with_masking: 0.2497 - val_loss: 1.3873 - val_accuracy_with_masking: 0.2503\n",
            "\n",
            "Epoch 00023: ReduceLROnPlateau reducing learning rate to 1.6000001050997525e-05.\n",
            "Epoch 24/40\n",
            "14000/20000 [====================>.........] - ETA: 1s - loss: 1.3873 - accuracy_with_masking: 0.2502"
          ],
          "name": "stdout"
        },
        {
          "output_type": "stream",
          "text": [
            "20000/20000 [==============================] - 7s 340us/step - loss: 1.3873 - accuracy_with_masking: 0.2500 - val_loss: 1.3872 - val_accuracy_with_masking: 0.2503\n",
            "Epoch 25/40\n",
            "20000/20000 [==============================] - 7s 341us/step - loss: 1.3872 - accuracy_with_masking: 0.2497 - val_loss: 1.3872 - val_accuracy_with_masking: 0.2469\n",
            "Epoch 26/40\n",
            "20000/20000 [==============================] - 7s 339us/step - loss: 1.3872 - accuracy_with_masking: 0.2493 - val_loss: 1.3872 - val_accuracy_with_masking: 0.2500\n",
            "Epoch 27/40\n",
            "20000/20000 [==============================] - 7s 335us/step - loss: 1.3872 - accuracy_with_masking: 0.2499 - val_loss: 1.3872 - val_accuracy_with_masking: 0.2500\n",
            "Epoch 28/40\n",
            "20000/20000 [==============================] - 7s 341us/step - loss: 1.3872 - accuracy_with_masking: 0.2501 - val_loss: 1.3872 - val_accuracy_with_masking: 0.2500\n",
            "Epoch 29/40\n",
            "20000/20000 [==============================] - 7s 338us/step - loss: 1.3872 - accuracy_with_masking: 0.2501 - val_loss: 1.3872 - val_accuracy_with_masking: 0.2500\n",
            "Epoch 30/40\n",
            "20000/20000 [==============================] - 7s 332us/step - loss: 1.3872 - accuracy_with_masking: 0.2501 - val_loss: 1.3872 - val_accuracy_with_masking: 0.2500\n",
            "\n",
            "Epoch 00030: ReduceLROnPlateau reducing learning rate to 3.2000003557186575e-06.\n",
            "Epoch 31/40\n",
            "20000/20000 [==============================] - 7s 331us/step - loss: 1.3872 - accuracy_with_masking: 0.2501 - val_loss: 1.3872 - val_accuracy_with_masking: 0.2500\n",
            "Epoch 32/40\n",
            "20000/20000 [==============================] - 7s 330us/step - loss: 1.3872 - accuracy_with_masking: 0.2501 - val_loss: 1.3872 - val_accuracy_with_masking: 0.2500\n",
            "Epoch 33/40\n",
            "20000/20000 [==============================] - 7s 330us/step - loss: 1.3872 - accuracy_with_masking: 0.2501 - val_loss: 1.3872 - val_accuracy_with_masking: 0.2500\n"
          ],
          "name": "stdout"
        },
        {
          "output_type": "stream",
          "text": [
            "Epoch 34/40\n",
            "20000/20000 [==============================] - 7s 337us/step - loss: 1.3872 - accuracy_with_masking: 0.2501 - val_loss: 1.3872 - val_accuracy_with_masking: 0.2500\n",
            "Epoch 35/40\n",
            "20000/20000 [==============================] - 7s 334us/step - loss: 1.3872 - accuracy_with_masking: 0.2501 - val_loss: 1.3872 - val_accuracy_with_masking: 0.2500\n",
            "Epoch 36/40\n",
            "20000/20000 [==============================] - 7s 332us/step - loss: 1.3872 - accuracy_with_masking: 0.2501 - val_loss: 1.3872 - val_accuracy_with_masking: 0.2500\n",
            "Epoch 37/40\n",
            "20000/20000 [==============================] - 7s 333us/step - loss: 1.3872 - accuracy_with_masking: 0.2501 - val_loss: 1.3872 - val_accuracy_with_masking: 0.2500\n",
            "\n",
            "Epoch 00037: ReduceLROnPlateau reducing learning rate to 6.400000529538374e-07.\n",
            "Epoch 38/40\n",
            "20000/20000 [==============================] - 7s 332us/step - loss: 1.3872 - accuracy_with_masking: 0.2501 - val_loss: 1.3872 - val_accuracy_with_masking: 0.2500\n",
            "Epoch 39/40\n",
            "20000/20000 [==============================] - 7s 332us/step - loss: 1.3872 - accuracy_with_masking: 0.2501 - val_loss: 1.3872 - val_accuracy_with_masking: 0.2500\n",
            "Epoch 40/40\n",
            "20000/20000 [==============================] - 7s 332us/step - loss: 1.3872 - accuracy_with_masking: 0.2501 - val_loss: 1.3872 - val_accuracy_with_masking: 0.2500\n",
            "20000/20000 [==============================] - 3s 136us/step\n",
            "Score:  [1.3871754348278045, 0.25011716559529307]\n"
          ],
          "name": "stdout"
        },
        {
          "output_type": "display_data",
          "data": {
            "text/plain": [
              "(2, 302, 20000)"
            ]
          },
          "metadata": {
            "tags": []
          }
        },
        {
          "output_type": "display_data",
          "data": {
            "text/plain": [
              "(1, 20000)"
            ]
          },
          "metadata": {
            "tags": []
          }
        },
        {
          "output_type": "display_data",
          "data": {
            "text/plain": [
              "(20000, 302, 2)"
            ]
          },
          "metadata": {
            "tags": []
          }
        },
        {
          "output_type": "display_data",
          "data": {
            "text/plain": [
              "(2, 302, 10000)"
            ]
          },
          "metadata": {
            "tags": []
          }
        },
        {
          "output_type": "display_data",
          "data": {
            "text/plain": [
              "(1, 10000)"
            ]
          },
          "metadata": {
            "tags": []
          }
        },
        {
          "output_type": "display_data",
          "data": {
            "text/plain": [
              "(10000, 302, 2)"
            ]
          },
          "metadata": {
            "tags": []
          }
        },
        {
          "output_type": "display_data",
          "data": {
            "text/plain": [
              "(2, 302, 20000)"
            ]
          },
          "metadata": {
            "tags": []
          }
        },
        {
          "output_type": "display_data",
          "data": {
            "text/plain": [
              "(1, 20000)"
            ]
          },
          "metadata": {
            "tags": []
          }
        },
        {
          "output_type": "display_data",
          "data": {
            "text/plain": [
              "(20000, 302, 2)"
            ]
          },
          "metadata": {
            "tags": []
          }
        },
        {
          "output_type": "stream",
          "text": [
            "x_train shape:  (20000, 302, 2)\n",
            "y_train shape:  (20000, 300)\n",
            "y_train shape, one-hot:  (20000, 300, 4)\n",
            "_________________________________________________________________\n",
            "Layer (type)                 Output Shape              Param #   \n",
            "=================================================================\n",
            "conv1d_4 (Conv1D)            (None, 300, 10)           70        \n",
            "_________________________________________________________________\n",
            "batch_normalization_18 (Batc (None, 300, 10)           40        \n",
            "_________________________________________________________________\n",
            "flatten_4 (Flatten)          (None, 3000)              0         \n",
            "_________________________________________________________________\n",
            "dense_24 (Dense)             (None, 1200)              3601200   \n",
            "_________________________________________________________________\n",
            "reshape_4 (Reshape)          (None, 300, 4)            0         \n",
            "_________________________________________________________________\n",
            "softmax_4 (Softmax)          (None, 300, 4)            0         \n",
            "=================================================================\n",
            "Total params: 3,601,310\n",
            "Trainable params: 3,601,290\n",
            "Non-trainable params: 20\n",
            "_________________________________________________________________\n",
            "Train on 20000 samples, validate on 10000 samples\n",
            "Epoch 1/40\n",
            "20000/20000 [==============================] - 9s 432us/step - loss: 1.5671 - acc: 0.2496 - val_loss: 1.5061 - val_acc: 0.2518\n",
            "Epoch 2/40\n",
            "12250/20000 [=================>............] - ETA: 0s - loss: 1.4792 - acc: 0.2717"
          ],
          "name": "stdout"
        },
        {
          "output_type": "stream",
          "text": [
            "20000/20000 [==============================] - 3s 143us/step - loss: 1.4823 - acc: 0.2657 - val_loss: 1.4842 - val_acc: 0.2514\n",
            "Epoch 3/40\n",
            "20000/20000 [==============================] - 3s 134us/step - loss: 1.4535 - acc: 0.2717 - val_loss: 1.4635 - val_acc: 0.2504\n",
            "Epoch 4/40\n",
            "20000/20000 [==============================] - 3s 136us/step - loss: 1.4281 - acc: 0.2772 - val_loss: 1.4451 - val_acc: 0.2491\n",
            "Epoch 5/40\n",
            "20000/20000 [==============================] - 3s 129us/step - loss: 1.4046 - acc: 0.2825 - val_loss: 1.4293 - val_acc: 0.2504\n",
            "Epoch 6/40\n",
            "20000/20000 [==============================] - 3s 129us/step - loss: 1.3859 - acc: 0.2940 - val_loss: 1.4204 - val_acc: 0.2498\n",
            "Epoch 7/40\n",
            "18250/20000 [==========================>...] - ETA: 0s - loss: 1.3722 - acc: 0.3050"
          ],
          "name": "stdout"
        },
        {
          "output_type": "stream",
          "text": [
            "20000/20000 [==============================] - 3s 133us/step - loss: 1.3735 - acc: 0.3032 - val_loss: 1.4153 - val_acc: 0.2501\n",
            "Epoch 8/40\n",
            "20000/20000 [==============================] - 3s 133us/step - loss: 1.3661 - acc: 0.3110 - val_loss: 1.4133 - val_acc: 0.2500\n",
            "Epoch 9/40\n",
            "20000/20000 [==============================] - 3s 154us/step - loss: 1.3621 - acc: 0.3160 - val_loss: 1.4130 - val_acc: 0.2500\n",
            "Epoch 10/40\n",
            "20000/20000 [==============================] - 3s 165us/step - loss: 1.3598 - acc: 0.3187 - val_loss: 1.4139 - val_acc: 0.2498\n",
            "Epoch 11/40\n",
            "20000/20000 [==============================] - 3s 148us/step - loss: 1.3583 - acc: 0.3207 - val_loss: 1.4141 - val_acc: 0.2499\n",
            "Epoch 12/40\n",
            "15500/20000 [======================>.......] - ETA: 0s - loss: 1.3546 - acc: 0.3259"
          ],
          "name": "stdout"
        },
        {
          "output_type": "stream",
          "text": [
            "20000/20000 [==============================] - 3s 159us/step - loss: 1.3572 - acc: 0.3223 - val_loss: 1.4159 - val_acc: 0.2499\n",
            "Epoch 13/40\n",
            "20000/20000 [==============================] - 3s 144us/step - loss: 1.3563 - acc: 0.3234 - val_loss: 1.4176 - val_acc: 0.2502\n",
            "Epoch 14/40\n",
            "20000/20000 [==============================] - 3s 131us/step - loss: 1.3556 - acc: 0.3240 - val_loss: 1.4176 - val_acc: 0.2502\n",
            "Epoch 15/40\n",
            "20000/20000 [==============================] - 3s 133us/step - loss: 1.3551 - acc: 0.3252 - val_loss: 1.4171 - val_acc: 0.2500\n",
            "Epoch 16/40\n",
            "20000/20000 [==============================] - 3s 131us/step - loss: 1.3546 - acc: 0.3257 - val_loss: 1.4177 - val_acc: 0.2500\n",
            "Epoch 17/40\n",
            "18750/20000 [===========================>..] - ETA: 0s - loss: 1.3536 - acc: 0.3268"
          ],
          "name": "stdout"
        },
        {
          "output_type": "stream",
          "text": [
            "20000/20000 [==============================] - 3s 150us/step - loss: 1.3542 - acc: 0.3259 - val_loss: 1.4184 - val_acc: 0.2500\n",
            "Epoch 18/40\n",
            "20000/20000 [==============================] - 3s 154us/step - loss: 1.3537 - acc: 0.3268 - val_loss: 1.4181 - val_acc: 0.2500\n",
            "Epoch 19/40\n",
            "20000/20000 [==============================] - 3s 156us/step - loss: 1.3534 - acc: 0.3272 - val_loss: 1.4187 - val_acc: 0.2500\n",
            "Epoch 20/40\n",
            "20000/20000 [==============================] - 3s 144us/step - loss: 1.3531 - acc: 0.3275 - val_loss: 1.4198 - val_acc: 0.2502\n",
            "Epoch 21/40\n",
            "20000/20000 [==============================] - 3s 139us/step - loss: 1.3529 - acc: 0.3278 - val_loss: 1.4242 - val_acc: 0.2504\n",
            "Epoch 22/40\n",
            "16750/20000 [========================>.....] - ETA: 0s - loss: 1.3511 - acc: 0.3298"
          ],
          "name": "stdout"
        },
        {
          "output_type": "stream",
          "text": [
            "20000/20000 [==============================] - 3s 133us/step - loss: 1.3526 - acc: 0.3278 - val_loss: 1.4194 - val_acc: 0.2499\n",
            "Epoch 23/40\n",
            "20000/20000 [==============================] - 3s 129us/step - loss: 1.3524 - acc: 0.3284 - val_loss: 1.4215 - val_acc: 0.2502\n",
            "Epoch 24/40\n",
            "20000/20000 [==============================] - 3s 127us/step - loss: 1.3522 - acc: 0.3287 - val_loss: 1.4193 - val_acc: 0.2499\n",
            "Epoch 25/40\n",
            "20000/20000 [==============================] - 3s 126us/step - loss: 1.3520 - acc: 0.3286 - val_loss: 1.4192 - val_acc: 0.2500\n",
            "Epoch 26/40\n",
            "20000/20000 [==============================] - 2s 123us/step - loss: 1.3518 - acc: 0.3291 - val_loss: 1.4205 - val_acc: 0.2502\n",
            "Epoch 27/40\n",
            "20000/20000 [==============================] - 2s 124us/step - loss: 1.3517 - acc: 0.3293 - val_loss: 1.4206 - val_acc: 0.2502\n"
          ],
          "name": "stdout"
        },
        {
          "output_type": "stream",
          "text": [
            "Epoch 28/40\n",
            "20000/20000 [==============================] - 2s 123us/step - loss: 1.3515 - acc: 0.3295 - val_loss: 1.4214 - val_acc: 0.2503\n",
            "Epoch 29/40\n",
            "20000/20000 [==============================] - 2s 122us/step - loss: 1.3514 - acc: 0.3296 - val_loss: 1.4214 - val_acc: 0.2502\n",
            "Epoch 30/40\n",
            "20000/20000 [==============================] - 2s 122us/step - loss: 1.3513 - acc: 0.3299 - val_loss: 1.4220 - val_acc: 0.2501\n",
            "Epoch 31/40\n",
            "20000/20000 [==============================] - 2s 119us/step - loss: 1.3511 - acc: 0.3304 - val_loss: 1.4226 - val_acc: 0.2505\n",
            "Epoch 32/40\n",
            "20000/20000 [==============================] - 2s 117us/step - loss: 1.3510 - acc: 0.3300 - val_loss: 1.4233 - val_acc: 0.2503\n",
            "Epoch 33/40\n",
            "20000/20000 [==============================] - 2s 120us/step - loss: 1.3509 - acc: 0.3306 - val_loss: 1.4245 - val_acc: 0.2503\n"
          ],
          "name": "stdout"
        },
        {
          "output_type": "stream",
          "text": [
            "Epoch 34/40\n",
            "20000/20000 [==============================] - 2s 120us/step - loss: 1.3508 - acc: 0.3304 - val_loss: 1.4256 - val_acc: 0.2503\n",
            "Epoch 35/40\n",
            "20000/20000 [==============================] - 2s 121us/step - loss: 1.3507 - acc: 0.3301 - val_loss: 1.4241 - val_acc: 0.2502\n",
            "Epoch 36/40\n",
            "20000/20000 [==============================] - 2s 118us/step - loss: 1.3506 - acc: 0.3304 - val_loss: 1.4300 - val_acc: 0.2501\n",
            "Epoch 37/40\n",
            "20000/20000 [==============================] - 2s 120us/step - loss: 1.3505 - acc: 0.3304 - val_loss: 1.4241 - val_acc: 0.2502\n",
            "Epoch 38/40\n",
            "20000/20000 [==============================] - 2s 116us/step - loss: 1.3504 - acc: 0.3309 - val_loss: 1.4259 - val_acc: 0.2503\n",
            "Epoch 39/40\n",
            "20000/20000 [==============================] - 2s 118us/step - loss: 1.3503 - acc: 0.3308 - val_loss: 1.4262 - val_acc: 0.2502\n",
            "Epoch 40/40\n",
            " 2000/20000 [==>...........................] - ETA: 2s - loss: 1.3425 - acc: 0.3401"
          ],
          "name": "stdout"
        },
        {
          "output_type": "stream",
          "text": [
            "20000/20000 [==============================] - 2s 124us/step - loss: 1.3502 - acc: 0.3311 - val_loss: 1.4297 - val_acc: 0.2502\n",
            "20000/20000 [==============================] - 3s 172us/step\n",
            "Test accuracy: [1.428294091796875, 0.2501158330202103]\n",
            "Score:  [1.428294091796875, 0.2501158330202103]\n",
            "SNRdB:  10.0\n"
          ],
          "name": "stdout"
        },
        {
          "output_type": "display_data",
          "data": {
            "text/plain": [
              "(2, 302, 20000)"
            ]
          },
          "metadata": {
            "tags": []
          }
        },
        {
          "output_type": "display_data",
          "data": {
            "text/plain": [
              "(1, 20000)"
            ]
          },
          "metadata": {
            "tags": []
          }
        },
        {
          "output_type": "display_data",
          "data": {
            "text/plain": [
              "(20000, 302, 2)"
            ]
          },
          "metadata": {
            "tags": []
          }
        },
        {
          "output_type": "display_data",
          "data": {
            "text/plain": [
              "(2, 302, 10000)"
            ]
          },
          "metadata": {
            "tags": []
          }
        },
        {
          "output_type": "display_data",
          "data": {
            "text/plain": [
              "(1, 10000)"
            ]
          },
          "metadata": {
            "tags": []
          }
        },
        {
          "output_type": "display_data",
          "data": {
            "text/plain": [
              "(10000, 302, 2)"
            ]
          },
          "metadata": {
            "tags": []
          }
        },
        {
          "output_type": "display_data",
          "data": {
            "text/plain": [
              "(2, 302, 20000)"
            ]
          },
          "metadata": {
            "tags": []
          }
        },
        {
          "output_type": "display_data",
          "data": {
            "text/plain": [
              "(1, 20000)"
            ]
          },
          "metadata": {
            "tags": []
          }
        },
        {
          "output_type": "display_data",
          "data": {
            "text/plain": [
              "(20000, 302, 2)"
            ]
          },
          "metadata": {
            "tags": []
          }
        },
        {
          "output_type": "stream",
          "text": [
            "x_train shape:  (20000, 302, 2)\n",
            "y_train shape:  (20000, 300)\n",
            "y_train shape, one-hot:  (20000, 300, 4)\n",
            "y_train shape, one-hot, padding:  (20000, 302, 4)\n",
            "_________________________________________________________________\n",
            "Layer (type)                 Output Shape              Param #   \n",
            "=================================================================\n",
            "cu_dnnlstm_61 (CuDNNLSTM)    (None, 302, 50)           10800     \n",
            "_________________________________________________________________\n",
            "cu_dnnlstm_62 (CuDNNLSTM)    (None, 302, 50)           20400     \n",
            "_________________________________________________________________\n",
            "cu_dnnlstm_63 (CuDNNLSTM)    (None, 302, 50)           20400     \n",
            "_________________________________________________________________\n",
            "time_distributed_35 (TimeDis (None, 302, 50)           200       \n",
            "_________________________________________________________________\n",
            "time_distributed_36 (TimeDis (None, 302, 4)            204       \n",
            "=================================================================\n",
            "Total params: 52,004\n",
            "Trainable params: 51,904\n",
            "Non-trainable params: 100\n",
            "_________________________________________________________________\n",
            "Train on 20000 samples, validate on 10000 samples\n",
            "Epoch 1/40\n",
            "20000/20000 [==============================] - 13s 635us/step - loss: 1.3950 - accuracy_with_masking: 0.2532 - val_loss: 1.4089 - val_accuracy_with_masking: 0.2517\n",
            "Epoch 2/40\n",
            "20000/20000 [==============================] - 7s 340us/step - loss: 1.3845 - accuracy_with_masking: 0.2667 - val_loss: 1.3911 - val_accuracy_with_masking: 0.2564\n",
            "Epoch 3/40\n",
            "20000/20000 [==============================] - 7s 337us/step - loss: 1.3812 - accuracy_with_masking: 0.2787 - val_loss: 1.4322 - val_accuracy_with_masking: 0.2517\n",
            "Epoch 4/40\n",
            "20000/20000 [==============================] - 7s 345us/step - loss: 1.3728 - accuracy_with_masking: 0.2903 - val_loss: 1.4592 - val_accuracy_with_masking: 0.2674\n",
            "Epoch 5/40\n",
            "20000/20000 [==============================] - 7s 345us/step - loss: 1.3345 - accuracy_with_masking: 0.3239 - val_loss: 1.5178 - val_accuracy_with_masking: 0.2816\n",
            "Epoch 6/40\n",
            " 4000/20000 [=====>........................] - ETA: 4s - loss: 1.2560 - accuracy_with_masking: 0.3627"
          ],
          "name": "stdout"
        },
        {
          "output_type": "stream",
          "text": [
            "20000/20000 [==============================] - 7s 345us/step - loss: 1.1892 - accuracy_with_masking: 0.3813 - val_loss: 2.9939 - val_accuracy_with_masking: 0.2774\n",
            "Epoch 7/40\n",
            "20000/20000 [==============================] - 7s 354us/step - loss: 1.0490 - accuracy_with_masking: 0.4157 - val_loss: 2.1223 - val_accuracy_with_masking: 0.3196\n",
            "Epoch 8/40\n",
            "20000/20000 [==============================] - 7s 349us/step - loss: 1.0020 - accuracy_with_masking: 0.4200 - val_loss: 1.3608 - val_accuracy_with_masking: 0.3675\n",
            "Epoch 9/40\n",
            "20000/20000 [==============================] - 7s 343us/step - loss: 0.9892 - accuracy_with_masking: 0.4223 - val_loss: 1.5223 - val_accuracy_with_masking: 0.3477\n",
            "Epoch 10/40\n",
            "20000/20000 [==============================] - 7s 340us/step - loss: 0.9849 - accuracy_with_masking: 0.4274 - val_loss: 1.4137 - val_accuracy_with_masking: 0.3550\n",
            "Epoch 11/40\n",
            "20000/20000 [==============================] - 7s 341us/step - loss: 0.9703 - accuracy_with_masking: 0.4354 - val_loss: 1.5365 - val_accuracy_with_masking: 0.3536\n",
            "Epoch 12/40\n",
            "20000/20000 [==============================] - 7s 341us/step - loss: 0.9730 - accuracy_with_masking: 0.4350 - val_loss: 1.4305 - val_accuracy_with_masking: 0.3620\n",
            "Epoch 13/40\n",
            "20000/20000 [==============================] - 7s 341us/step - loss: 0.9714 - accuracy_with_masking: 0.4356 - val_loss: 1.4675 - val_accuracy_with_masking: 0.3654\n",
            "Epoch 14/40\n",
            "20000/20000 [==============================] - 7s 342us/step - loss: 0.9689 - accuracy_with_masking: 0.4449 - val_loss: 1.4418 - val_accuracy_with_masking: 0.3640\n",
            "Epoch 15/40\n",
            "20000/20000 [==============================] - 7s 342us/step - loss: 0.9651 - accuracy_with_masking: 0.4519 - val_loss: 1.5276 - val_accuracy_with_masking: 0.3577\n",
            "\n",
            "Epoch 00015: ReduceLROnPlateau reducing learning rate to 0.0004000000189989805.\n",
            "Epoch 16/40\n"
          ],
          "name": "stdout"
        },
        {
          "output_type": "stream",
          "text": [
            "20000/20000 [==============================] - 7s 343us/step - loss: 0.9627 - accuracy_with_masking: 0.4609 - val_loss: 1.4463 - val_accuracy_with_masking: 0.3654\n",
            "Epoch 17/40\n",
            "20000/20000 [==============================] - 7s 339us/step - loss: 0.9612 - accuracy_with_masking: 0.4634 - val_loss: 1.4484 - val_accuracy_with_masking: 0.3700\n",
            "Epoch 18/40\n",
            "20000/20000 [==============================] - 7s 339us/step - loss: 0.9609 - accuracy_with_masking: 0.4675 - val_loss: 1.4497 - val_accuracy_with_masking: 0.3957\n",
            "Epoch 19/40\n",
            "20000/20000 [==============================] - 7s 342us/step - loss: 0.9607 - accuracy_with_masking: 0.4698 - val_loss: 1.4519 - val_accuracy_with_masking: 0.3950\n",
            "Epoch 20/40\n",
            "20000/20000 [==============================] - 7s 340us/step - loss: 0.9604 - accuracy_with_masking: 0.4696 - val_loss: 1.4528 - val_accuracy_with_masking: 0.3981\n",
            "Epoch 21/40\n",
            "20000/20000 [==============================] - 7s 342us/step - loss: 0.9602 - accuracy_with_masking: 0.4767 - val_loss: 1.4546 - val_accuracy_with_masking: 0.3952\n",
            "Epoch 22/40\n",
            "20000/20000 [==============================] - 7s 343us/step - loss: 0.9599 - accuracy_with_masking: 0.4699 - val_loss: 1.4564 - val_accuracy_with_masking: 0.3943\n",
            "Epoch 23/40\n",
            "20000/20000 [==============================] - 7s 342us/step - loss: 0.9596 - accuracy_with_masking: 0.4773 - val_loss: 1.4582 - val_accuracy_with_masking: 0.3963\n",
            "Epoch 24/40\n",
            "20000/20000 [==============================] - 7s 342us/step - loss: 0.9594 - accuracy_with_masking: 0.4763 - val_loss: 1.4601 - val_accuracy_with_masking: 0.3893\n",
            "Epoch 25/40\n",
            "20000/20000 [==============================] - 7s 345us/step - loss: 0.9591 - accuracy_with_masking: 0.4819 - val_loss: 1.4614 - val_accuracy_with_masking: 0.3908\n",
            "Epoch 26/40\n"
          ],
          "name": "stdout"
        },
        {
          "output_type": "stream",
          "text": [
            "20000/20000 [==============================] - 7s 346us/step - loss: 0.9587 - accuracy_with_masking: 0.4781 - val_loss: 1.4633 - val_accuracy_with_masking: 0.3973\n",
            "Epoch 27/40\n",
            "20000/20000 [==============================] - 7s 351us/step - loss: 0.9584 - accuracy_with_masking: 0.4848 - val_loss: 1.4658 - val_accuracy_with_masking: 0.3936\n",
            "\n",
            "Epoch 00027: ReduceLROnPlateau reducing learning rate to 8.000000379979611e-05.\n",
            "Epoch 28/40\n",
            "20000/20000 [==============================] - 7s 351us/step - loss: 0.9581 - accuracy_with_masking: 0.4826 - val_loss: 1.4650 - val_accuracy_with_masking: 0.3956\n",
            "Epoch 29/40\n",
            "20000/20000 [==============================] - 7s 344us/step - loss: 0.9580 - accuracy_with_masking: 0.4817 - val_loss: 1.4647 - val_accuracy_with_masking: 0.3971\n",
            "Epoch 30/40\n",
            "20000/20000 [==============================] - 7s 345us/step - loss: 0.9579 - accuracy_with_masking: 0.4856 - val_loss: 1.4645 - val_accuracy_with_masking: 0.3999\n",
            "Epoch 31/40\n",
            "20000/20000 [==============================] - 7s 351us/step - loss: 0.9578 - accuracy_with_masking: 0.4865 - val_loss: 1.4644 - val_accuracy_with_masking: 0.4015\n",
            "Epoch 32/40\n",
            "20000/20000 [==============================] - 7s 353us/step - loss: 0.9577 - accuracy_with_masking: 0.4879 - val_loss: 1.4644 - val_accuracy_with_masking: 0.4017\n",
            "Epoch 33/40\n",
            "20000/20000 [==============================] - 7s 351us/step - loss: 0.9576 - accuracy_with_masking: 0.4909 - val_loss: 1.4646 - val_accuracy_with_masking: 0.4010\n",
            "Epoch 34/40\n",
            "20000/20000 [==============================] - 7s 355us/step - loss: 0.9575 - accuracy_with_masking: 0.4882 - val_loss: 1.4648 - val_accuracy_with_masking: 0.4013\n",
            "Epoch 35/40\n",
            "14000/20000 [====================>.........] - ETA: 1s - loss: 0.9565 - accuracy_with_masking: 0.4878"
          ],
          "name": "stdout"
        },
        {
          "output_type": "stream",
          "text": [
            "20000/20000 [==============================] - 7s 345us/step - loss: 0.9574 - accuracy_with_masking: 0.4884 - val_loss: 1.4652 - val_accuracy_with_masking: 0.4035\n",
            "Epoch 36/40\n",
            "20000/20000 [==============================] - 7s 349us/step - loss: 0.9573 - accuracy_with_masking: 0.4914 - val_loss: 1.4655 - val_accuracy_with_masking: 0.4032\n",
            "Epoch 37/40\n",
            "20000/20000 [==============================] - 7s 344us/step - loss: 0.9572 - accuracy_with_masking: 0.4926 - val_loss: 1.4661 - val_accuracy_with_masking: 0.4033\n",
            "Epoch 38/40\n",
            "20000/20000 [==============================] - 7s 344us/step - loss: 0.9571 - accuracy_with_masking: 0.4940 - val_loss: 1.4666 - val_accuracy_with_masking: 0.4030\n",
            "Epoch 39/40\n",
            "20000/20000 [==============================] - 7s 344us/step - loss: 0.9569 - accuracy_with_masking: 0.4923 - val_loss: 1.4673 - val_accuracy_with_masking: 0.4043\n",
            "Epoch 40/40\n",
            "20000/20000 [==============================] - 7s 346us/step - loss: 0.9568 - accuracy_with_masking: 0.4925 - val_loss: 1.4681 - val_accuracy_with_masking: 0.4058\n",
            "20000/20000 [==============================] - 3s 129us/step\n",
            "Score:  [1.1803342282772065, 0.4402426674962044]\n"
          ],
          "name": "stdout"
        },
        {
          "output_type": "display_data",
          "data": {
            "text/plain": [
              "(2, 302, 20000)"
            ]
          },
          "metadata": {
            "tags": []
          }
        },
        {
          "output_type": "display_data",
          "data": {
            "text/plain": [
              "(1, 20000)"
            ]
          },
          "metadata": {
            "tags": []
          }
        },
        {
          "output_type": "display_data",
          "data": {
            "text/plain": [
              "(20000, 302, 2)"
            ]
          },
          "metadata": {
            "tags": []
          }
        },
        {
          "output_type": "display_data",
          "data": {
            "text/plain": [
              "(2, 302, 10000)"
            ]
          },
          "metadata": {
            "tags": []
          }
        },
        {
          "output_type": "display_data",
          "data": {
            "text/plain": [
              "(1, 10000)"
            ]
          },
          "metadata": {
            "tags": []
          }
        },
        {
          "output_type": "display_data",
          "data": {
            "text/plain": [
              "(10000, 302, 2)"
            ]
          },
          "metadata": {
            "tags": []
          }
        },
        {
          "output_type": "display_data",
          "data": {
            "text/plain": [
              "(2, 302, 20000)"
            ]
          },
          "metadata": {
            "tags": []
          }
        },
        {
          "output_type": "display_data",
          "data": {
            "text/plain": [
              "(1, 20000)"
            ]
          },
          "metadata": {
            "tags": []
          }
        },
        {
          "output_type": "display_data",
          "data": {
            "text/plain": [
              "(20000, 302, 2)"
            ]
          },
          "metadata": {
            "tags": []
          }
        },
        {
          "output_type": "stream",
          "text": [
            "x_train shape:  (20000, 302, 2)\n",
            "y_train shape:  (20000, 300)\n",
            "y_train shape, one-hot:  (20000, 300, 4)\n",
            "y_train shape, one-hot, padding:  (20000, 302, 4)\n",
            "x_train shape, window:  (20000, 302, 10)\n",
            "_________________________________________________________________\n",
            "Layer (type)                 Output Shape              Param #   \n",
            "=================================================================\n",
            "cu_dnnlstm_64 (CuDNNLSTM)    (None, 302, 50)           12400     \n",
            "_________________________________________________________________\n",
            "cu_dnnlstm_65 (CuDNNLSTM)    (None, 302, 50)           20400     \n",
            "_________________________________________________________________\n",
            "cu_dnnlstm_66 (CuDNNLSTM)    (None, 302, 50)           20400     \n",
            "_________________________________________________________________\n",
            "time_distributed_37 (TimeDis (None, 302, 4)            204       \n",
            "=================================================================\n",
            "Total params: 53,404\n",
            "Trainable params: 53,404\n",
            "Non-trainable params: 0\n",
            "_________________________________________________________________\n",
            "Train on 20000 samples, validate on 10000 samples\n",
            "Epoch 1/40\n",
            "20000/20000 [==============================] - 13s 656us/step - loss: 1.6826 - accuracy_with_masking: 0.2524 - val_loss: 1.6317 - val_accuracy_with_masking: 0.2637\n",
            "Epoch 2/40\n",
            "20000/20000 [==============================] - 7s 345us/step - loss: 1.5949 - accuracy_with_masking: 0.2620 - val_loss: 1.5530 - val_accuracy_with_masking: 0.2629\n",
            "Epoch 3/40\n",
            "20000/20000 [==============================] - 7s 342us/step - loss: 1.5246 - accuracy_with_masking: 0.2618 - val_loss: 1.4937 - val_accuracy_with_masking: 0.2517\n",
            "Epoch 4/40\n",
            "20000/20000 [==============================] - 7s 338us/step - loss: 1.4739 - accuracy_with_masking: 0.2593 - val_loss: 1.4528 - val_accuracy_with_masking: 0.2499\n",
            "Epoch 5/40\n",
            "20000/20000 [==============================] - 7s 335us/step - loss: 1.4398 - accuracy_with_masking: 0.2537 - val_loss: 1.4262 - val_accuracy_with_masking: 0.2493\n",
            "Epoch 6/40\n",
            "10000/20000 [==============>...............] - ETA: 2s - loss: 1.4223 - accuracy_with_masking: 0.2521"
          ],
          "name": "stdout"
        },
        {
          "output_type": "stream",
          "text": [
            "20000/20000 [==============================] - 7s 331us/step - loss: 1.4181 - accuracy_with_masking: 0.2510 - val_loss: 1.4097 - val_accuracy_with_masking: 0.2493\n",
            "Epoch 7/40\n",
            "20000/20000 [==============================] - 7s 333us/step - loss: 1.4049 - accuracy_with_masking: 0.2504 - val_loss: 1.4000 - val_accuracy_with_masking: 0.2504\n",
            "Epoch 8/40\n",
            "20000/20000 [==============================] - 7s 331us/step - loss: 1.3972 - accuracy_with_masking: 0.2497 - val_loss: 1.3944 - val_accuracy_with_masking: 0.2493\n",
            "\n",
            "Epoch 00008: ReduceLROnPlateau reducing learning rate to 0.0004000000189989805.\n",
            "Epoch 9/40\n",
            "20000/20000 [==============================] - 7s 343us/step - loss: 1.3930 - accuracy_with_masking: 0.2502 - val_loss: 1.3923 - val_accuracy_with_masking: 0.2493\n",
            "Epoch 10/40\n",
            "20000/20000 [==============================] - 7s 335us/step - loss: 1.3920 - accuracy_with_masking: 0.2499 - val_loss: 1.3916 - val_accuracy_with_masking: 0.2500\n",
            "Epoch 11/40\n",
            "20000/20000 [==============================] - 7s 336us/step - loss: 1.3913 - accuracy_with_masking: 0.2500 - val_loss: 1.3910 - val_accuracy_with_masking: 0.2485\n",
            "Epoch 12/40\n",
            "20000/20000 [==============================] - 7s 346us/step - loss: 1.3908 - accuracy_with_masking: 0.2503 - val_loss: 1.3905 - val_accuracy_with_masking: 0.2505\n",
            "Epoch 13/40\n",
            "20000/20000 [==============================] - 7s 347us/step - loss: 1.3903 - accuracy_with_masking: 0.2497 - val_loss: 1.3900 - val_accuracy_with_masking: 0.2493\n",
            "Epoch 14/40\n",
            "20000/20000 [==============================] - 7s 338us/step - loss: 1.3898 - accuracy_with_masking: 0.2498 - val_loss: 1.3896 - val_accuracy_with_masking: 0.2493\n",
            "Epoch 15/40\n",
            "16000/20000 [=======================>......] - ETA: 1s - loss: 1.3894 - accuracy_with_masking: 0.2503"
          ],
          "name": "stdout"
        },
        {
          "output_type": "stream",
          "text": [
            "20000/20000 [==============================] - 7s 344us/step - loss: 1.3894 - accuracy_with_masking: 0.2501 - val_loss: 1.3892 - val_accuracy_with_masking: 0.2503\n",
            "\n",
            "Epoch 00015: ReduceLROnPlateau reducing learning rate to 8.000000379979611e-05.\n",
            "Epoch 16/40\n",
            "20000/20000 [==============================] - 7s 333us/step - loss: 1.3889 - accuracy_with_masking: 0.2499 - val_loss: 1.3888 - val_accuracy_with_masking: 0.2493\n",
            "Epoch 17/40\n",
            "20000/20000 [==============================] - 7s 334us/step - loss: 1.3888 - accuracy_with_masking: 0.2503 - val_loss: 1.3888 - val_accuracy_with_masking: 0.2493\n",
            "Epoch 18/40\n",
            "20000/20000 [==============================] - 7s 335us/step - loss: 1.3887 - accuracy_with_masking: 0.2503 - val_loss: 1.3887 - val_accuracy_with_masking: 0.2493\n",
            "Epoch 19/40\n",
            "20000/20000 [==============================] - 7s 336us/step - loss: 1.3887 - accuracy_with_masking: 0.2501 - val_loss: 1.3886 - val_accuracy_with_masking: 0.2493\n",
            "Epoch 20/40\n",
            "20000/20000 [==============================] - 7s 331us/step - loss: 1.3886 - accuracy_with_masking: 0.2503 - val_loss: 1.3886 - val_accuracy_with_masking: 0.2493\n",
            "Epoch 21/40\n",
            "20000/20000 [==============================] - 7s 336us/step - loss: 1.3885 - accuracy_with_masking: 0.2502 - val_loss: 1.3885 - val_accuracy_with_masking: 0.2493\n",
            "Epoch 22/40\n",
            "20000/20000 [==============================] - 7s 336us/step - loss: 1.3885 - accuracy_with_masking: 0.2503 - val_loss: 1.3884 - val_accuracy_with_masking: 0.2493\n",
            "\n",
            "Epoch 00022: ReduceLROnPlateau reducing learning rate to 1.6000001050997525e-05.\n",
            "Epoch 23/40\n",
            "20000/20000 [==============================] - 7s 334us/step - loss: 1.3884 - accuracy_with_masking: 0.2503 - val_loss: 1.3883 - val_accuracy_with_masking: 0.2493\n",
            "Epoch 24/40\n",
            "12000/20000 [=================>............] - ETA: 2s - loss: 1.3883 - accuracy_with_masking: 0.2501"
          ],
          "name": "stdout"
        },
        {
          "output_type": "stream",
          "text": [
            "20000/20000 [==============================] - 7s 334us/step - loss: 1.3883 - accuracy_with_masking: 0.2503 - val_loss: 1.3883 - val_accuracy_with_masking: 0.2493\n",
            "Epoch 25/40\n",
            "20000/20000 [==============================] - 7s 335us/step - loss: 1.3883 - accuracy_with_masking: 0.2503 - val_loss: 1.3883 - val_accuracy_with_masking: 0.2493\n",
            "Epoch 26/40\n",
            "20000/20000 [==============================] - 7s 333us/step - loss: 1.3883 - accuracy_with_masking: 0.2503 - val_loss: 1.3883 - val_accuracy_with_masking: 0.2493\n",
            "Epoch 27/40\n",
            "20000/20000 [==============================] - 7s 329us/step - loss: 1.3883 - accuracy_with_masking: 0.2503 - val_loss: 1.3883 - val_accuracy_with_masking: 0.2493\n",
            "Epoch 28/40\n",
            "20000/20000 [==============================] - 7s 363us/step - loss: 1.3883 - accuracy_with_masking: 0.2503 - val_loss: 1.3883 - val_accuracy_with_masking: 0.2493\n",
            "Epoch 29/40\n",
            "20000/20000 [==============================] - 7s 363us/step - loss: 1.3883 - accuracy_with_masking: 0.2503 - val_loss: 1.3883 - val_accuracy_with_masking: 0.2493\n",
            "\n",
            "Epoch 00029: ReduceLROnPlateau reducing learning rate to 3.2000003557186575e-06.\n",
            "Epoch 30/40\n",
            "20000/20000 [==============================] - 7s 334us/step - loss: 1.3883 - accuracy_with_masking: 0.2503 - val_loss: 1.3883 - val_accuracy_with_masking: 0.2493\n",
            "Epoch 31/40\n",
            "20000/20000 [==============================] - 7s 334us/step - loss: 1.3882 - accuracy_with_masking: 0.2503 - val_loss: 1.3882 - val_accuracy_with_masking: 0.2493\n",
            "Epoch 32/40\n",
            "20000/20000 [==============================] - 7s 329us/step - loss: 1.3882 - accuracy_with_masking: 0.2503 - val_loss: 1.3882 - val_accuracy_with_masking: 0.2493\n",
            "Epoch 33/40\n",
            "18000/20000 [==========================>...] - ETA: 0s - loss: 1.3882 - accuracy_with_masking: 0.2503"
          ],
          "name": "stdout"
        },
        {
          "output_type": "stream",
          "text": [
            "\b\b\b\b\b\b\b\b\b\b\b\b\b\b\b\b\b\b\b\b\b\b\b\b\b\b\b\b\b\b\b\b\b\b\b\b\b\b\b\b\b\b\b\b\b\b\b\b\b\b\b\b\b\b\b\b\b\b\b\b\b\b\b\b\b\b\b\b\b\b\b\b\b\b\b\b\b\b\b\b\b\b\b\b\b\b\b\b\b\b\b\b\b\b\b\b\b\b\b\b\b\r20000/20000 [==============================] - 7s 329us/step - loss: 1.3882 - accuracy_with_masking: 0.2503 - val_loss: 1.3882 - val_accuracy_with_masking: 0.2493\n",
            "Epoch 34/40\n",
            "20000/20000 [==============================] - 7s 329us/step - loss: 1.3882 - accuracy_with_masking: 0.2503 - val_loss: 1.3882 - val_accuracy_with_masking: 0.2493\n",
            "Epoch 35/40\n",
            "20000/20000 [==============================] - 7s 335us/step - loss: 1.3882 - accuracy_with_masking: 0.2503 - val_loss: 1.3882 - val_accuracy_with_masking: 0.2493\n",
            "Epoch 36/40\n",
            "20000/20000 [==============================] - 7s 328us/step - loss: 1.3882 - accuracy_with_masking: 0.2503 - val_loss: 1.3882 - val_accuracy_with_masking: 0.2493\n",
            "\n",
            "Epoch 00036: ReduceLROnPlateau reducing learning rate to 6.400000529538374e-07.\n",
            "Epoch 37/40\n",
            "20000/20000 [==============================] - 7s 326us/step - loss: 1.3882 - accuracy_with_masking: 0.2503 - val_loss: 1.3882 - val_accuracy_with_masking: 0.2493\n",
            "Epoch 38/40\n",
            "20000/20000 [==============================] - 7s 326us/step - loss: 1.3882 - accuracy_with_masking: 0.2503 - val_loss: 1.3882 - val_accuracy_with_masking: 0.2493\n",
            "Epoch 39/40\n",
            "20000/20000 [==============================] - 7s 328us/step - loss: 1.3882 - accuracy_with_masking: 0.2503 - val_loss: 1.3882 - val_accuracy_with_masking: 0.2493\n",
            "Epoch 40/40\n",
            "20000/20000 [==============================] - 7s 327us/step - loss: 1.3882 - accuracy_with_masking: 0.2503 - val_loss: 1.3882 - val_accuracy_with_masking: 0.2493\n",
            "16000/20000 [=======================>......] - ETA: 0s"
          ],
          "name": "stdout"
        },
        {
          "output_type": "stream",
          "text": [
            "20000/20000 [==============================] - 3s 130us/step\n",
            "Score:  [1.3882294595241547, 0.2501325011253357]\n"
          ],
          "name": "stdout"
        },
        {
          "output_type": "display_data",
          "data": {
            "text/plain": [
              "(2, 302, 20000)"
            ]
          },
          "metadata": {
            "tags": []
          }
        },
        {
          "output_type": "display_data",
          "data": {
            "text/plain": [
              "(1, 20000)"
            ]
          },
          "metadata": {
            "tags": []
          }
        },
        {
          "output_type": "display_data",
          "data": {
            "text/plain": [
              "(20000, 302, 2)"
            ]
          },
          "metadata": {
            "tags": []
          }
        },
        {
          "output_type": "display_data",
          "data": {
            "text/plain": [
              "(2, 302, 10000)"
            ]
          },
          "metadata": {
            "tags": []
          }
        },
        {
          "output_type": "display_data",
          "data": {
            "text/plain": [
              "(1, 10000)"
            ]
          },
          "metadata": {
            "tags": []
          }
        },
        {
          "output_type": "display_data",
          "data": {
            "text/plain": [
              "(10000, 302, 2)"
            ]
          },
          "metadata": {
            "tags": []
          }
        },
        {
          "output_type": "display_data",
          "data": {
            "text/plain": [
              "(2, 302, 20000)"
            ]
          },
          "metadata": {
            "tags": []
          }
        },
        {
          "output_type": "display_data",
          "data": {
            "text/plain": [
              "(1, 20000)"
            ]
          },
          "metadata": {
            "tags": []
          }
        },
        {
          "output_type": "display_data",
          "data": {
            "text/plain": [
              "(20000, 302, 2)"
            ]
          },
          "metadata": {
            "tags": []
          }
        },
        {
          "output_type": "stream",
          "text": [
            "x_train shape:  (20000, 302, 2)\n",
            "y_train shape:  (20000, 300)\n",
            "y_train shape, one-hot:  (20000, 300, 4)\n",
            "_________________________________________________________________\n",
            "Layer (type)                 Output Shape              Param #   \n",
            "=================================================================\n",
            "conv1d_5 (Conv1D)            (None, 300, 10)           70        \n",
            "_________________________________________________________________\n",
            "batch_normalization_20 (Batc (None, 300, 10)           40        \n",
            "_________________________________________________________________\n",
            "flatten_5 (Flatten)          (None, 3000)              0         \n",
            "_________________________________________________________________\n",
            "dense_27 (Dense)             (None, 1200)              3601200   \n",
            "_________________________________________________________________\n",
            "reshape_5 (Reshape)          (None, 300, 4)            0         \n",
            "_________________________________________________________________\n",
            "softmax_5 (Softmax)          (None, 300, 4)            0         \n",
            "=================================================================\n",
            "Total params: 3,601,310\n",
            "Trainable params: 3,601,290\n",
            "Non-trainable params: 20\n",
            "_________________________________________________________________\n",
            "Train on 20000 samples, validate on 10000 samples\n",
            "Epoch 1/40\n",
            "20000/20000 [==============================] - 8s 389us/step - loss: 1.5673 - acc: 0.2497 - val_loss: 1.5223 - val_acc: 0.2509\n",
            "Epoch 2/40\n",
            "12250/20000 [=================>............] - ETA: 0s - loss: 1.4745 - acc: 0.2726"
          ],
          "name": "stdout"
        },
        {
          "output_type": "stream",
          "text": [
            "20000/20000 [==============================] - 3s 133us/step - loss: 1.4753 - acc: 0.2674 - val_loss: 1.4893 - val_acc: 0.2493\n",
            "Epoch 3/40\n",
            "20000/20000 [==============================] - 3s 141us/step - loss: 1.4436 - acc: 0.2734 - val_loss: 1.4673 - val_acc: 0.2502\n",
            "Epoch 4/40\n",
            "20000/20000 [==============================] - 3s 144us/step - loss: 1.4205 - acc: 0.2799 - val_loss: 1.4498 - val_acc: 0.2501\n",
            "Epoch 5/40\n",
            "20000/20000 [==============================] - 3s 132us/step - loss: 1.4007 - acc: 0.2879 - val_loss: 1.4353 - val_acc: 0.2498\n",
            "Epoch 6/40\n",
            "20000/20000 [==============================] - 3s 143us/step - loss: 1.3846 - acc: 0.2966 - val_loss: 1.4254 - val_acc: 0.2497\n",
            "Epoch 7/40\n",
            "18500/20000 [==========================>...] - ETA: 0s - loss: 1.3717 - acc: 0.3070"
          ],
          "name": "stdout"
        },
        {
          "output_type": "stream",
          "text": [
            "20000/20000 [==============================] - 3s 127us/step - loss: 1.3727 - acc: 0.3055 - val_loss: 1.4204 - val_acc: 0.2500\n",
            "Epoch 8/40\n",
            "20000/20000 [==============================] - 3s 127us/step - loss: 1.3654 - acc: 0.3133 - val_loss: 1.4175 - val_acc: 0.2500\n",
            "Epoch 9/40\n",
            "20000/20000 [==============================] - 3s 132us/step - loss: 1.3614 - acc: 0.3182 - val_loss: 1.4176 - val_acc: 0.2497\n",
            "Epoch 10/40\n",
            "20000/20000 [==============================] - 3s 126us/step - loss: 1.3591 - acc: 0.3208 - val_loss: 1.4217 - val_acc: 0.2501\n",
            "Epoch 11/40\n",
            "20000/20000 [==============================] - 3s 132us/step - loss: 1.3576 - acc: 0.3227 - val_loss: 1.4242 - val_acc: 0.2500\n",
            "Epoch 12/40\n",
            "19000/20000 [===========================>..] - ETA: 0s - loss: 1.3559 - acc: 0.3249"
          ],
          "name": "stdout"
        },
        {
          "output_type": "stream",
          "text": [
            "20000/20000 [==============================] - 3s 170us/step - loss: 1.3565 - acc: 0.3242 - val_loss: 1.4185 - val_acc: 0.2501\n",
            "Epoch 13/40\n",
            "20000/20000 [==============================] - 3s 167us/step - loss: 1.3557 - acc: 0.3257 - val_loss: 1.4198 - val_acc: 0.2499\n",
            "Epoch 14/40\n",
            "20000/20000 [==============================] - 3s 174us/step - loss: 1.3549 - acc: 0.3266 - val_loss: 1.4215 - val_acc: 0.2499\n",
            "Epoch 15/40\n",
            "20000/20000 [==============================] - 3s 156us/step - loss: 1.3543 - acc: 0.3274 - val_loss: 1.4213 - val_acc: 0.2500\n",
            "Epoch 16/40\n",
            "20000/20000 [==============================] - 3s 138us/step - loss: 1.3539 - acc: 0.3279 - val_loss: 1.4204 - val_acc: 0.2499\n",
            "Epoch 17/40\n",
            "14000/20000 [====================>.........] - ETA: 0s - loss: 1.3503 - acc: 0.3323"
          ],
          "name": "stdout"
        },
        {
          "output_type": "stream",
          "text": [
            "20000/20000 [==============================] - 3s 143us/step - loss: 1.3534 - acc: 0.3282 - val_loss: 1.4224 - val_acc: 0.2502\n",
            "Epoch 18/40\n",
            "20000/20000 [==============================] - 3s 128us/step - loss: 1.3531 - acc: 0.3288 - val_loss: 1.4202 - val_acc: 0.2498\n",
            "Epoch 19/40\n",
            "20000/20000 [==============================] - 3s 128us/step - loss: 1.3527 - acc: 0.3292 - val_loss: 1.4196 - val_acc: 0.2499\n",
            "Epoch 20/40\n",
            "20000/20000 [==============================] - 3s 135us/step - loss: 1.3525 - acc: 0.3296 - val_loss: 1.4227 - val_acc: 0.2499\n",
            "Epoch 21/40\n",
            "20000/20000 [==============================] - 3s 126us/step - loss: 1.3522 - acc: 0.3298 - val_loss: 1.4232 - val_acc: 0.2501\n",
            "Epoch 22/40\n",
            "19250/20000 [===========================>..] - ETA: 0s - loss: 1.3516 - acc: 0.3305"
          ],
          "name": "stdout"
        },
        {
          "output_type": "stream",
          "text": [
            "20000/20000 [==============================] - 3s 126us/step - loss: 1.3520 - acc: 0.3300 - val_loss: 1.4205 - val_acc: 0.2502\n",
            "Epoch 23/40\n",
            "20000/20000 [==============================] - 2s 123us/step - loss: 1.3518 - acc: 0.3303 - val_loss: 1.4232 - val_acc: 0.2500\n",
            "Epoch 24/40\n",
            "20000/20000 [==============================] - 3s 126us/step - loss: 1.3515 - acc: 0.3309 - val_loss: 1.4237 - val_acc: 0.2499\n",
            "Epoch 25/40\n",
            "20000/20000 [==============================] - 3s 130us/step - loss: 1.3514 - acc: 0.3308 - val_loss: 1.4229 - val_acc: 0.2501\n",
            "Epoch 26/40\n",
            "20000/20000 [==============================] - 2s 125us/step - loss: 1.3512 - acc: 0.3310 - val_loss: 1.4214 - val_acc: 0.2498\n",
            "Epoch 27/40\n",
            "20000/20000 [==============================] - 3s 126us/step - loss: 1.3510 - acc: 0.3311 - val_loss: 1.4231 - val_acc: 0.2499\n",
            "Epoch 28/40\n",
            " 2500/20000 [==>...........................] - ETA: 1s - loss: 1.3425 - acc: 0.3415"
          ],
          "name": "stdout"
        },
        {
          "output_type": "stream",
          "text": [
            "20000/20000 [==============================] - 3s 128us/step - loss: 1.3509 - acc: 0.3315 - val_loss: 1.4235 - val_acc: 0.2499\n",
            "Epoch 29/40\n",
            "20000/20000 [==============================] - 2s 123us/step - loss: 1.3508 - acc: 0.3315 - val_loss: 1.4274 - val_acc: 0.2500\n",
            "Epoch 30/40\n",
            "20000/20000 [==============================] - 2s 123us/step - loss: 1.3506 - acc: 0.3317 - val_loss: 1.4292 - val_acc: 0.2501\n",
            "Epoch 31/40\n",
            "20000/20000 [==============================] - 3s 129us/step - loss: 1.3505 - acc: 0.3321 - val_loss: 1.4250 - val_acc: 0.2499\n",
            "Epoch 32/40\n",
            "20000/20000 [==============================] - 2s 123us/step - loss: 1.3504 - acc: 0.3322 - val_loss: 1.4266 - val_acc: 0.2499\n",
            "Epoch 33/40\n",
            "20000/20000 [==============================] - 2s 125us/step - loss: 1.3503 - acc: 0.3320 - val_loss: 1.4247 - val_acc: 0.2498\n",
            "Epoch 34/40\n",
            " 3000/20000 [===>..........................] - ETA: 1s - loss: 1.3421 - acc: 0.3424"
          ],
          "name": "stdout"
        },
        {
          "output_type": "stream",
          "text": [
            "20000/20000 [==============================] - 3s 136us/step - loss: 1.3501 - acc: 0.3323 - val_loss: 1.4240 - val_acc: 0.2498\n",
            "Epoch 35/40\n",
            "20000/20000 [==============================] - 3s 140us/step - loss: 1.3501 - acc: 0.3323 - val_loss: 1.4272 - val_acc: 0.2498\n",
            "Epoch 36/40\n",
            "20000/20000 [==============================] - 3s 134us/step - loss: 1.3500 - acc: 0.3328 - val_loss: 1.4239 - val_acc: 0.2500\n",
            "Epoch 37/40\n",
            "20000/20000 [==============================] - 3s 128us/step - loss: 1.3499 - acc: 0.3326 - val_loss: 1.4285 - val_acc: 0.2498\n",
            "Epoch 38/40\n",
            "20000/20000 [==============================] - 2s 124us/step - loss: 1.3498 - acc: 0.3328 - val_loss: 1.4264 - val_acc: 0.2499\n",
            "Epoch 39/40\n",
            "17250/20000 [========================>.....] - ETA: 0s - loss: 1.3485 - acc: 0.3344"
          ],
          "name": "stdout"
        },
        {
          "output_type": "stream",
          "text": [
            "20000/20000 [==============================] - 3s 126us/step - loss: 1.3497 - acc: 0.3329 - val_loss: 1.4265 - val_acc: 0.2500\n",
            "Epoch 40/40\n",
            "20000/20000 [==============================] - 2s 123us/step - loss: 1.3496 - acc: 0.3329 - val_loss: 1.4277 - val_acc: 0.2501\n",
            "20000/20000 [==============================] - 3s 169us/step\n",
            "Test accuracy: [1.422286951828003, 0.25004183349609377]\n",
            "Score:  [1.422286951828003, 0.25004183349609377]\n",
            "SNRdB:  5.0\n"
          ],
          "name": "stdout"
        },
        {
          "output_type": "display_data",
          "data": {
            "text/plain": [
              "(2, 302, 20000)"
            ]
          },
          "metadata": {
            "tags": []
          }
        },
        {
          "output_type": "display_data",
          "data": {
            "text/plain": [
              "(1, 20000)"
            ]
          },
          "metadata": {
            "tags": []
          }
        },
        {
          "output_type": "display_data",
          "data": {
            "text/plain": [
              "(20000, 302, 2)"
            ]
          },
          "metadata": {
            "tags": []
          }
        },
        {
          "output_type": "display_data",
          "data": {
            "text/plain": [
              "(2, 302, 10000)"
            ]
          },
          "metadata": {
            "tags": []
          }
        },
        {
          "output_type": "display_data",
          "data": {
            "text/plain": [
              "(1, 10000)"
            ]
          },
          "metadata": {
            "tags": []
          }
        },
        {
          "output_type": "display_data",
          "data": {
            "text/plain": [
              "(10000, 302, 2)"
            ]
          },
          "metadata": {
            "tags": []
          }
        },
        {
          "output_type": "display_data",
          "data": {
            "text/plain": [
              "(2, 302, 20000)"
            ]
          },
          "metadata": {
            "tags": []
          }
        },
        {
          "output_type": "display_data",
          "data": {
            "text/plain": [
              "(1, 20000)"
            ]
          },
          "metadata": {
            "tags": []
          }
        },
        {
          "output_type": "display_data",
          "data": {
            "text/plain": [
              "(20000, 302, 2)"
            ]
          },
          "metadata": {
            "tags": []
          }
        },
        {
          "output_type": "stream",
          "text": [
            "x_train shape:  (20000, 302, 2)\n",
            "y_train shape:  (20000, 300)\n",
            "y_train shape, one-hot:  (20000, 300, 4)\n",
            "y_train shape, one-hot, padding:  (20000, 302, 4)\n",
            "_________________________________________________________________\n",
            "Layer (type)                 Output Shape              Param #   \n",
            "=================================================================\n",
            "cu_dnnlstm_67 (CuDNNLSTM)    (None, 302, 50)           10800     \n",
            "_________________________________________________________________\n",
            "cu_dnnlstm_68 (CuDNNLSTM)    (None, 302, 50)           20400     \n",
            "_________________________________________________________________\n",
            "cu_dnnlstm_69 (CuDNNLSTM)    (None, 302, 50)           20400     \n",
            "_________________________________________________________________\n",
            "time_distributed_38 (TimeDis (None, 302, 50)           200       \n",
            "_________________________________________________________________\n",
            "time_distributed_39 (TimeDis (None, 302, 4)            204       \n",
            "=================================================================\n",
            "Total params: 52,004\n",
            "Trainable params: 51,904\n",
            "Non-trainable params: 100\n",
            "_________________________________________________________________\n",
            "Train on 20000 samples, validate on 10000 samples\n",
            "Epoch 1/40\n",
            "20000/20000 [==============================] - 13s 664us/step - loss: 1.4001 - accuracy_with_masking: 0.2538 - val_loss: 1.4121 - val_accuracy_with_masking: 0.2500\n",
            "Epoch 2/40\n",
            "20000/20000 [==============================] - 7s 340us/step - loss: 1.3850 - accuracy_with_masking: 0.2625 - val_loss: 1.3921 - val_accuracy_with_masking: 0.2506\n",
            "Epoch 3/40\n",
            "20000/20000 [==============================] - 7s 340us/step - loss: 1.3838 - accuracy_with_masking: 0.2656 - val_loss: 1.4019 - val_accuracy_with_masking: 0.2509\n",
            "Epoch 4/40\n",
            "20000/20000 [==============================] - 7s 344us/step - loss: 1.3831 - accuracy_with_masking: 0.2673 - val_loss: 1.3830 - val_accuracy_with_masking: 0.2710\n",
            "Epoch 5/40\n",
            "20000/20000 [==============================] - 7s 350us/step - loss: 1.3778 - accuracy_with_masking: 0.2809 - val_loss: 1.4176 - val_accuracy_with_masking: 0.2537\n",
            "Epoch 6/40\n",
            " 4000/20000 [=====>........................] - ETA: 4s - loss: 1.3780 - accuracy_with_masking: 0.2759"
          ],
          "name": "stdout"
        },
        {
          "output_type": "stream",
          "text": [
            "20000/20000 [==============================] - 7s 341us/step - loss: 1.3709 - accuracy_with_masking: 0.2866 - val_loss: 1.5614 - val_accuracy_with_masking: 0.2670\n",
            "Epoch 7/40\n",
            "20000/20000 [==============================] - 7s 341us/step - loss: 1.3468 - accuracy_with_masking: 0.3071 - val_loss: 1.9196 - val_accuracy_with_masking: 0.2578\n",
            "Epoch 8/40\n",
            "20000/20000 [==============================] - 7s 341us/step - loss: 1.2698 - accuracy_with_masking: 0.3380 - val_loss: 1.6740 - val_accuracy_with_masking: 0.2815\n",
            "Epoch 9/40\n",
            "20000/20000 [==============================] - 7s 340us/step - loss: 1.2311 - accuracy_with_masking: 0.3478 - val_loss: 1.1986 - val_accuracy_with_masking: 0.3701\n",
            "Epoch 10/40\n",
            "20000/20000 [==============================] - 7s 341us/step - loss: 1.2212 - accuracy_with_masking: 0.3489 - val_loss: 1.1881 - val_accuracy_with_masking: 0.3714\n",
            "Epoch 11/40\n",
            "20000/20000 [==============================] - 7s 348us/step - loss: 1.2243 - accuracy_with_masking: 0.3496 - val_loss: 1.2369 - val_accuracy_with_masking: 0.3468\n",
            "Epoch 12/40\n",
            "20000/20000 [==============================] - 7s 344us/step - loss: 1.2189 - accuracy_with_masking: 0.3515 - val_loss: 1.1762 - val_accuracy_with_masking: 0.3779\n",
            "Epoch 13/40\n",
            "20000/20000 [==============================] - 7s 349us/step - loss: 1.2193 - accuracy_with_masking: 0.3549 - val_loss: 1.1766 - val_accuracy_with_masking: 0.3722\n",
            "Epoch 14/40\n",
            "20000/20000 [==============================] - 7s 349us/step - loss: 1.2157 - accuracy_with_masking: 0.3586 - val_loss: 1.1715 - val_accuracy_with_masking: 0.3786\n",
            "Epoch 15/40\n",
            "20000/20000 [==============================] - 7s 343us/step - loss: 1.2177 - accuracy_with_masking: 0.3575 - val_loss: 1.1780 - val_accuracy_with_masking: 0.3722\n",
            "Epoch 16/40\n"
          ],
          "name": "stdout"
        },
        {
          "output_type": "stream",
          "text": [
            "20000/20000 [==============================] - 7s 354us/step - loss: 1.2180 - accuracy_with_masking: 0.3549 - val_loss: 1.1830 - val_accuracy_with_masking: 0.3723\n",
            "Epoch 17/40\n",
            "20000/20000 [==============================] - 7s 349us/step - loss: 1.2124 - accuracy_with_masking: 0.3640 - val_loss: 1.1685 - val_accuracy_with_masking: 0.3764\n",
            "Epoch 18/40\n",
            "20000/20000 [==============================] - 7s 345us/step - loss: 1.2151 - accuracy_with_masking: 0.3633 - val_loss: 1.1691 - val_accuracy_with_masking: 0.3792\n",
            "Epoch 19/40\n",
            "20000/20000 [==============================] - 7s 343us/step - loss: 1.2095 - accuracy_with_masking: 0.3676 - val_loss: 1.1819 - val_accuracy_with_masking: 0.3725\n",
            "Epoch 20/40\n",
            "20000/20000 [==============================] - 7s 341us/step - loss: 1.2129 - accuracy_with_masking: 0.3668 - val_loss: 1.1637 - val_accuracy_with_masking: 0.3722\n",
            "Epoch 21/40\n",
            "20000/20000 [==============================] - 7s 356us/step - loss: 1.2080 - accuracy_with_masking: 0.3693 - val_loss: 1.1767 - val_accuracy_with_masking: 0.3884\n",
            "Epoch 22/40\n",
            "20000/20000 [==============================] - 7s 349us/step - loss: 1.2077 - accuracy_with_masking: 0.3703 - val_loss: 1.1728 - val_accuracy_with_masking: 0.3760\n",
            "Epoch 23/40\n",
            "20000/20000 [==============================] - 7s 345us/step - loss: 1.2077 - accuracy_with_masking: 0.3782 - val_loss: 1.1680 - val_accuracy_with_masking: 0.3744\n",
            "Epoch 24/40\n",
            "20000/20000 [==============================] - 7s 343us/step - loss: 1.2042 - accuracy_with_masking: 0.3686 - val_loss: 1.1607 - val_accuracy_with_masking: 0.3945\n",
            "Epoch 25/40\n",
            "20000/20000 [==============================] - 7s 350us/step - loss: 1.2032 - accuracy_with_masking: 0.3818 - val_loss: 1.1657 - val_accuracy_with_masking: 0.3712\n",
            "Epoch 26/40\n"
          ],
          "name": "stdout"
        },
        {
          "output_type": "stream",
          "text": [
            "20000/20000 [==============================] - 7s 345us/step - loss: 1.2035 - accuracy_with_masking: 0.3798 - val_loss: 1.1661 - val_accuracy_with_masking: 0.3823\n",
            "Epoch 27/40\n",
            "20000/20000 [==============================] - 7s 343us/step - loss: 1.2004 - accuracy_with_masking: 0.3918 - val_loss: 1.1655 - val_accuracy_with_masking: 0.3970\n",
            "Epoch 28/40\n",
            "20000/20000 [==============================] - 7s 341us/step - loss: 1.2010 - accuracy_with_masking: 0.3848 - val_loss: 1.1591 - val_accuracy_with_masking: 0.3819\n",
            "Epoch 29/40\n",
            "20000/20000 [==============================] - 7s 341us/step - loss: 1.2004 - accuracy_with_masking: 0.3771 - val_loss: 1.1671 - val_accuracy_with_masking: 0.3896\n",
            "Epoch 30/40\n",
            "20000/20000 [==============================] - 7s 341us/step - loss: 1.2010 - accuracy_with_masking: 0.3612 - val_loss: 1.1667 - val_accuracy_with_masking: 0.3648\n",
            "Epoch 31/40\n",
            "20000/20000 [==============================] - 7s 341us/step - loss: 1.2012 - accuracy_with_masking: 0.3709 - val_loss: 1.1604 - val_accuracy_with_masking: 0.3741\n",
            "Epoch 32/40\n",
            "20000/20000 [==============================] - 7s 344us/step - loss: 1.2012 - accuracy_with_masking: 0.3861 - val_loss: 1.1620 - val_accuracy_with_masking: 0.3790\n",
            "Epoch 33/40\n",
            "20000/20000 [==============================] - 7s 349us/step - loss: 1.1980 - accuracy_with_masking: 0.3677 - val_loss: 1.1756 - val_accuracy_with_masking: 0.3669\n",
            "Epoch 34/40\n",
            "20000/20000 [==============================] - 7s 346us/step - loss: 1.2009 - accuracy_with_masking: 0.3828 - val_loss: 1.1583 - val_accuracy_with_masking: 0.3777\n",
            "\n",
            "Epoch 00034: ReduceLROnPlateau reducing learning rate to 0.0004000000189989805.\n",
            "Epoch 35/40\n",
            "20000/20000 [==============================] - 7s 349us/step - loss: 1.1975 - accuracy_with_masking: 0.3971 - val_loss: 1.1563 - val_accuracy_with_masking: 0.3655\n"
          ],
          "name": "stdout"
        },
        {
          "output_type": "stream",
          "text": [
            "Epoch 36/40\n",
            "20000/20000 [==============================] - 7s 343us/step - loss: 1.1972 - accuracy_with_masking: 0.3822 - val_loss: 1.1555 - val_accuracy_with_masking: 0.3765\n",
            "Epoch 37/40\n",
            "20000/20000 [==============================] - 7s 349us/step - loss: 1.1967 - accuracy_with_masking: 0.3937 - val_loss: 1.1547 - val_accuracy_with_masking: 0.3697\n",
            "Epoch 38/40\n",
            "20000/20000 [==============================] - 7s 344us/step - loss: 1.1959 - accuracy_with_masking: 0.3807 - val_loss: 1.1538 - val_accuracy_with_masking: 0.3735\n",
            "Epoch 39/40\n",
            "20000/20000 [==============================] - 7s 342us/step - loss: 1.1942 - accuracy_with_masking: 0.3644 - val_loss: 1.1530 - val_accuracy_with_masking: 0.4046\n",
            "Epoch 40/40\n",
            "20000/20000 [==============================] - 7s 347us/step - loss: 1.1905 - accuracy_with_masking: 0.3770 - val_loss: 1.1542 - val_accuracy_with_masking: 0.3659\n",
            "20000/20000 [==============================] - 3s 133us/step\n",
            "Score:  [1.1088154852390288, 0.3581209972500801]\n"
          ],
          "name": "stdout"
        },
        {
          "output_type": "display_data",
          "data": {
            "text/plain": [
              "(2, 302, 20000)"
            ]
          },
          "metadata": {
            "tags": []
          }
        },
        {
          "output_type": "display_data",
          "data": {
            "text/plain": [
              "(1, 20000)"
            ]
          },
          "metadata": {
            "tags": []
          }
        },
        {
          "output_type": "display_data",
          "data": {
            "text/plain": [
              "(20000, 302, 2)"
            ]
          },
          "metadata": {
            "tags": []
          }
        },
        {
          "output_type": "display_data",
          "data": {
            "text/plain": [
              "(2, 302, 10000)"
            ]
          },
          "metadata": {
            "tags": []
          }
        },
        {
          "output_type": "display_data",
          "data": {
            "text/plain": [
              "(1, 10000)"
            ]
          },
          "metadata": {
            "tags": []
          }
        },
        {
          "output_type": "display_data",
          "data": {
            "text/plain": [
              "(10000, 302, 2)"
            ]
          },
          "metadata": {
            "tags": []
          }
        },
        {
          "output_type": "display_data",
          "data": {
            "text/plain": [
              "(2, 302, 20000)"
            ]
          },
          "metadata": {
            "tags": []
          }
        },
        {
          "output_type": "display_data",
          "data": {
            "text/plain": [
              "(1, 20000)"
            ]
          },
          "metadata": {
            "tags": []
          }
        },
        {
          "output_type": "display_data",
          "data": {
            "text/plain": [
              "(20000, 302, 2)"
            ]
          },
          "metadata": {
            "tags": []
          }
        },
        {
          "output_type": "stream",
          "text": [
            "x_train shape:  (20000, 302, 2)\n",
            "y_train shape:  (20000, 300)\n",
            "y_train shape, one-hot:  (20000, 300, 4)\n",
            "y_train shape, one-hot, padding:  (20000, 302, 4)\n",
            "x_train shape, window:  (20000, 302, 10)\n",
            "_________________________________________________________________\n",
            "Layer (type)                 Output Shape              Param #   \n",
            "=================================================================\n",
            "cu_dnnlstm_70 (CuDNNLSTM)    (None, 302, 50)           12400     \n",
            "_________________________________________________________________\n",
            "cu_dnnlstm_71 (CuDNNLSTM)    (None, 302, 50)           20400     \n",
            "_________________________________________________________________\n",
            "cu_dnnlstm_72 (CuDNNLSTM)    (None, 302, 50)           20400     \n",
            "_________________________________________________________________\n",
            "time_distributed_40 (TimeDis (None, 302, 4)            204       \n",
            "=================================================================\n",
            "Total params: 53,404\n",
            "Trainable params: 53,404\n",
            "Non-trainable params: 0\n",
            "_________________________________________________________________\n",
            "Train on 20000 samples, validate on 10000 samples\n",
            "Epoch 1/40\n",
            "20000/20000 [==============================] - 13s 653us/step - loss: 1.6920 - accuracy_with_masking: 0.2507 - val_loss: 1.6448 - val_accuracy_with_masking: 0.2509\n",
            "Epoch 2/40\n",
            "20000/20000 [==============================] - 7s 352us/step - loss: 1.6099 - accuracy_with_masking: 0.2515 - val_loss: 1.5696 - val_accuracy_with_masking: 0.2533\n",
            "Epoch 3/40\n",
            "20000/20000 [==============================] - 7s 343us/step - loss: 1.5415 - accuracy_with_masking: 0.2531 - val_loss: 1.5103 - val_accuracy_with_masking: 0.2539\n",
            "Epoch 4/40\n",
            "20000/20000 [==============================] - 7s 335us/step - loss: 1.4898 - accuracy_with_masking: 0.2555 - val_loss: 1.4676 - val_accuracy_with_masking: 0.2550\n",
            "Epoch 5/40\n",
            "20000/20000 [==============================] - 7s 339us/step - loss: 1.4535 - accuracy_with_masking: 0.2544 - val_loss: 1.4384 - val_accuracy_with_masking: 0.2584\n",
            "Epoch 6/40\n",
            "10000/20000 [==============>...............] - ETA: 2s - loss: 1.4340 - accuracy_with_masking: 0.2535"
          ],
          "name": "stdout"
        },
        {
          "output_type": "stream",
          "text": [
            "20000/20000 [==============================] - 7s 333us/step - loss: 1.4292 - accuracy_with_masking: 0.2540 - val_loss: 1.4193 - val_accuracy_with_masking: 0.2541\n",
            "Epoch 7/40\n",
            "20000/20000 [==============================] - 7s 352us/step - loss: 1.4134 - accuracy_with_masking: 0.2531 - val_loss: 1.4072 - val_accuracy_with_masking: 0.2505\n",
            "Epoch 8/40\n",
            "20000/20000 [==============================] - 7s 359us/step - loss: 1.4035 - accuracy_with_masking: 0.2523 - val_loss: 1.3996 - val_accuracy_with_masking: 0.2499\n",
            "Epoch 9/40\n",
            "20000/20000 [==============================] - 7s 364us/step - loss: 1.3974 - accuracy_with_masking: 0.2508 - val_loss: 1.3950 - val_accuracy_with_masking: 0.2520\n",
            "Epoch 10/40\n",
            "20000/20000 [==============================] - 7s 335us/step - loss: 1.3937 - accuracy_with_masking: 0.2512 - val_loss: 1.3923 - val_accuracy_with_masking: 0.2499\n",
            "Epoch 11/40\n",
            "20000/20000 [==============================] - 7s 329us/step - loss: 1.3915 - accuracy_with_masking: 0.2505 - val_loss: 1.3906 - val_accuracy_with_masking: 0.2508\n",
            "Epoch 12/40\n",
            "20000/20000 [==============================] - 7s 327us/step - loss: 1.3901 - accuracy_with_masking: 0.2501 - val_loss: 1.3896 - val_accuracy_with_masking: 0.2497\n",
            "\n",
            "Epoch 00012: ReduceLROnPlateau reducing learning rate to 0.0004000000189989805.\n",
            "Epoch 13/40\n",
            "20000/20000 [==============================] - 6s 325us/step - loss: 1.3885 - accuracy_with_masking: 0.2502 - val_loss: 1.3881 - val_accuracy_with_masking: 0.2499\n",
            "Epoch 14/40\n",
            "20000/20000 [==============================] - 7s 334us/step - loss: 1.3881 - accuracy_with_masking: 0.2503 - val_loss: 1.3880 - val_accuracy_with_masking: 0.2500\n",
            "Epoch 15/40\n",
            "20000/20000 [==============================] - 7s 327us/step - loss: 1.3880 - accuracy_with_masking: 0.2501 - val_loss: 1.3879 - val_accuracy_with_masking: 0.2499\n"
          ],
          "name": "stdout"
        },
        {
          "output_type": "stream",
          "text": [
            "Epoch 16/40\n",
            "20000/20000 [==============================] - 7s 330us/step - loss: 1.3878 - accuracy_with_masking: 0.2503 - val_loss: 1.3878 - val_accuracy_with_masking: 0.2500\n",
            "Epoch 17/40\n",
            "20000/20000 [==============================] - 7s 327us/step - loss: 1.3877 - accuracy_with_masking: 0.2502 - val_loss: 1.3877 - val_accuracy_with_masking: 0.2499\n",
            "Epoch 18/40\n",
            "20000/20000 [==============================] - 7s 328us/step - loss: 1.3876 - accuracy_with_masking: 0.2504 - val_loss: 1.3876 - val_accuracy_with_masking: 0.2500\n",
            "Epoch 19/40\n",
            "20000/20000 [==============================] - 7s 328us/step - loss: 1.3875 - accuracy_with_masking: 0.2502 - val_loss: 1.3875 - val_accuracy_with_masking: 0.2500\n",
            "\n",
            "Epoch 00019: ReduceLROnPlateau reducing learning rate to 8.000000379979611e-05.\n",
            "Epoch 20/40\n",
            "20000/20000 [==============================] - 7s 331us/step - loss: 1.3873 - accuracy_with_masking: 0.2504 - val_loss: 1.3872 - val_accuracy_with_masking: 0.2500\n",
            "Epoch 21/40\n",
            "20000/20000 [==============================] - 7s 329us/step - loss: 1.3872 - accuracy_with_masking: 0.2504 - val_loss: 1.3872 - val_accuracy_with_masking: 0.2499\n",
            "Epoch 22/40\n",
            "20000/20000 [==============================] - 7s 333us/step - loss: 1.3872 - accuracy_with_masking: 0.2504 - val_loss: 1.3872 - val_accuracy_with_masking: 0.2500\n",
            "Epoch 23/40\n",
            "20000/20000 [==============================] - 7s 339us/step - loss: 1.3872 - accuracy_with_masking: 0.2503 - val_loss: 1.3871 - val_accuracy_with_masking: 0.2500\n",
            "Epoch 24/40\n",
            "20000/20000 [==============================] - 7s 332us/step - loss: 1.3871 - accuracy_with_masking: 0.2504 - val_loss: 1.3871 - val_accuracy_with_masking: 0.2499\n",
            "Epoch 25/40\n",
            "14000/20000 [====================>.........] - ETA: 1s - loss: 1.3871 - accuracy_with_masking: 0.2502"
          ],
          "name": "stdout"
        },
        {
          "output_type": "stream",
          "text": [
            "20000/20000 [==============================] - 7s 329us/step - loss: 1.3871 - accuracy_with_masking: 0.2503 - val_loss: 1.3871 - val_accuracy_with_masking: 0.2499\n",
            "Epoch 26/40\n",
            "20000/20000 [==============================] - 7s 334us/step - loss: 1.3871 - accuracy_with_masking: 0.2504 - val_loss: 1.3871 - val_accuracy_with_masking: 0.2499\n",
            "\n",
            "Epoch 00026: ReduceLROnPlateau reducing learning rate to 1.6000001050997525e-05.\n",
            "Epoch 27/40\n",
            "20000/20000 [==============================] - 7s 363us/step - loss: 1.3871 - accuracy_with_masking: 0.2503 - val_loss: 1.3870 - val_accuracy_with_masking: 0.2499\n",
            "Epoch 28/40\n",
            "20000/20000 [==============================] - 7s 369us/step - loss: 1.3870 - accuracy_with_masking: 0.2504 - val_loss: 1.3870 - val_accuracy_with_masking: 0.2499\n",
            "Epoch 29/40\n",
            "20000/20000 [==============================] - 7s 337us/step - loss: 1.3870 - accuracy_with_masking: 0.2504 - val_loss: 1.3870 - val_accuracy_with_masking: 0.2499\n",
            "Epoch 30/40\n",
            "20000/20000 [==============================] - 7s 334us/step - loss: 1.3870 - accuracy_with_masking: 0.2504 - val_loss: 1.3870 - val_accuracy_with_masking: 0.2499\n",
            "Epoch 31/40\n",
            "20000/20000 [==============================] - 7s 338us/step - loss: 1.3870 - accuracy_with_masking: 0.2503 - val_loss: 1.3870 - val_accuracy_with_masking: 0.2499\n",
            "Epoch 32/40\n",
            "20000/20000 [==============================] - 7s 335us/step - loss: 1.3870 - accuracy_with_masking: 0.2503 - val_loss: 1.3870 - val_accuracy_with_masking: 0.2499\n",
            "Epoch 33/40\n",
            "20000/20000 [==============================] - 7s 337us/step - loss: 1.3870 - accuracy_with_masking: 0.2504 - val_loss: 1.3870 - val_accuracy_with_masking: 0.2499\n",
            "\n",
            "Epoch 00033: ReduceLROnPlateau reducing learning rate to 3.2000003557186575e-06.\n",
            "Epoch 34/40\n",
            "14000/20000 [====================>.........] - ETA: 1s - loss: 1.3870 - accuracy_with_masking: 0.2505"
          ],
          "name": "stdout"
        },
        {
          "output_type": "stream",
          "text": [
            "20000/20000 [==============================] - 7s 331us/step - loss: 1.3870 - accuracy_with_masking: 0.2504 - val_loss: 1.3870 - val_accuracy_with_masking: 0.2499\n",
            "Epoch 35/40\n",
            "20000/20000 [==============================] - 7s 338us/step - loss: 1.3870 - accuracy_with_masking: 0.2503 - val_loss: 1.3870 - val_accuracy_with_masking: 0.2499\n",
            "Epoch 36/40\n",
            "20000/20000 [==============================] - 7s 330us/step - loss: 1.3870 - accuracy_with_masking: 0.2503 - val_loss: 1.3870 - val_accuracy_with_masking: 0.2499\n",
            "Epoch 37/40\n",
            "20000/20000 [==============================] - 7s 328us/step - loss: 1.3870 - accuracy_with_masking: 0.2503 - val_loss: 1.3870 - val_accuracy_with_masking: 0.2499\n",
            "Epoch 38/40\n",
            "20000/20000 [==============================] - 7s 326us/step - loss: 1.3870 - accuracy_with_masking: 0.2504 - val_loss: 1.3870 - val_accuracy_with_masking: 0.2500\n",
            "Epoch 39/40\n",
            "20000/20000 [==============================] - 7s 339us/step - loss: 1.3870 - accuracy_with_masking: 0.2504 - val_loss: 1.3870 - val_accuracy_with_masking: 0.2500\n",
            "Epoch 40/40\n",
            "20000/20000 [==============================] - 7s 330us/step - loss: 1.3870 - accuracy_with_masking: 0.2504 - val_loss: 1.3870 - val_accuracy_with_masking: 0.2500\n",
            "\n",
            "Epoch 00040: ReduceLROnPlateau reducing learning rate to 6.400000529538374e-07.\n",
            "20000/20000 [==============================] - 3s 135us/step\n",
            "Score:  [1.3870000839233398, 0.24991966262459755]\n"
          ],
          "name": "stdout"
        },
        {
          "output_type": "display_data",
          "data": {
            "text/plain": [
              "(2, 302, 20000)"
            ]
          },
          "metadata": {
            "tags": []
          }
        },
        {
          "output_type": "display_data",
          "data": {
            "text/plain": [
              "(1, 20000)"
            ]
          },
          "metadata": {
            "tags": []
          }
        },
        {
          "output_type": "display_data",
          "data": {
            "text/plain": [
              "(20000, 302, 2)"
            ]
          },
          "metadata": {
            "tags": []
          }
        },
        {
          "output_type": "display_data",
          "data": {
            "text/plain": [
              "(2, 302, 10000)"
            ]
          },
          "metadata": {
            "tags": []
          }
        },
        {
          "output_type": "display_data",
          "data": {
            "text/plain": [
              "(1, 10000)"
            ]
          },
          "metadata": {
            "tags": []
          }
        },
        {
          "output_type": "display_data",
          "data": {
            "text/plain": [
              "(10000, 302, 2)"
            ]
          },
          "metadata": {
            "tags": []
          }
        },
        {
          "output_type": "display_data",
          "data": {
            "text/plain": [
              "(2, 302, 20000)"
            ]
          },
          "metadata": {
            "tags": []
          }
        },
        {
          "output_type": "display_data",
          "data": {
            "text/plain": [
              "(1, 20000)"
            ]
          },
          "metadata": {
            "tags": []
          }
        },
        {
          "output_type": "display_data",
          "data": {
            "text/plain": [
              "(20000, 302, 2)"
            ]
          },
          "metadata": {
            "tags": []
          }
        },
        {
          "output_type": "stream",
          "text": [
            "x_train shape:  (20000, 302, 2)\n",
            "y_train shape:  (20000, 300)\n",
            "y_train shape, one-hot:  (20000, 300, 4)\n",
            "_________________________________________________________________\n",
            "Layer (type)                 Output Shape              Param #   \n",
            "=================================================================\n",
            "conv1d_6 (Conv1D)            (None, 300, 10)           70        \n",
            "_________________________________________________________________\n",
            "batch_normalization_22 (Batc (None, 300, 10)           40        \n",
            "_________________________________________________________________\n",
            "flatten_6 (Flatten)          (None, 3000)              0         \n",
            "_________________________________________________________________\n",
            "dense_30 (Dense)             (None, 1200)              3601200   \n",
            "_________________________________________________________________\n",
            "reshape_6 (Reshape)          (None, 300, 4)            0         \n",
            "_________________________________________________________________\n",
            "softmax_6 (Softmax)          (None, 300, 4)            0         \n",
            "=================================================================\n",
            "Total params: 3,601,310\n",
            "Trainable params: 3,601,290\n",
            "Non-trainable params: 20\n",
            "_________________________________________________________________\n",
            "Train on 20000 samples, validate on 10000 samples\n",
            "Epoch 1/40\n",
            "20000/20000 [==============================] - 8s 417us/step - loss: 1.5683 - acc: 0.2501 - val_loss: 1.5010 - val_acc: 0.2503\n",
            "Epoch 2/40\n",
            "12000/20000 [=================>............] - ETA: 1s - loss: 1.4801 - acc: 0.2718"
          ],
          "name": "stdout"
        },
        {
          "output_type": "stream",
          "text": [
            "20000/20000 [==============================] - 3s 145us/step - loss: 1.4836 - acc: 0.2656 - val_loss: 1.4796 - val_acc: 0.2505\n",
            "Epoch 3/40\n",
            "20000/20000 [==============================] - 3s 133us/step - loss: 1.4543 - acc: 0.2716 - val_loss: 1.4603 - val_acc: 0.2501\n",
            "Epoch 4/40\n",
            "20000/20000 [==============================] - 3s 132us/step - loss: 1.4288 - acc: 0.2778 - val_loss: 1.4434 - val_acc: 0.2500\n",
            "Epoch 5/40\n",
            "20000/20000 [==============================] - 3s 129us/step - loss: 1.4068 - acc: 0.2853 - val_loss: 1.4308 - val_acc: 0.2501\n",
            "Epoch 6/40\n",
            "20000/20000 [==============================] - 3s 132us/step - loss: 1.3886 - acc: 0.2946 - val_loss: 1.4219 - val_acc: 0.2504\n",
            "Epoch 7/40\n",
            "18750/20000 [===========================>..] - ETA: 0s - loss: 1.3739 - acc: 0.3063"
          ],
          "name": "stdout"
        },
        {
          "output_type": "stream",
          "text": [
            "20000/20000 [==============================] - 3s 131us/step - loss: 1.3749 - acc: 0.3049 - val_loss: 1.4163 - val_acc: 0.2502\n",
            "Epoch 8/40\n",
            "20000/20000 [==============================] - 3s 130us/step - loss: 1.3663 - acc: 0.3138 - val_loss: 1.4138 - val_acc: 0.2503\n",
            "Epoch 9/40\n",
            "20000/20000 [==============================] - 3s 126us/step - loss: 1.3616 - acc: 0.3194 - val_loss: 1.4133 - val_acc: 0.2502\n",
            "Epoch 10/40\n",
            "20000/20000 [==============================] - 3s 129us/step - loss: 1.3590 - acc: 0.3227 - val_loss: 1.4137 - val_acc: 0.2504\n",
            "Epoch 11/40\n",
            "20000/20000 [==============================] - 2s 124us/step - loss: 1.3574 - acc: 0.3251 - val_loss: 1.4140 - val_acc: 0.2503\n",
            "Epoch 12/40\n",
            "20000/20000 [==============================] - 2s 125us/step - loss: 1.3562 - acc: 0.3267 - val_loss: 1.4143 - val_acc: 0.2502\n"
          ],
          "name": "stdout"
        },
        {
          "output_type": "stream",
          "text": [
            "Epoch 13/40\n",
            "20000/20000 [==============================] - 3s 127us/step - loss: 1.3552 - acc: 0.3278 - val_loss: 1.4145 - val_acc: 0.2503\n",
            "Epoch 14/40\n",
            "20000/20000 [==============================] - 3s 131us/step - loss: 1.3545 - acc: 0.3288 - val_loss: 1.4147 - val_acc: 0.2503\n",
            "Epoch 15/40\n",
            "20000/20000 [==============================] - 3s 126us/step - loss: 1.3539 - acc: 0.3294 - val_loss: 1.4149 - val_acc: 0.2503\n",
            "Epoch 16/40\n",
            "20000/20000 [==============================] - 3s 128us/step - loss: 1.3534 - acc: 0.3300 - val_loss: 1.4144 - val_acc: 0.2503\n",
            "Epoch 17/40\n",
            "20000/20000 [==============================] - 3s 130us/step - loss: 1.3529 - acc: 0.3309 - val_loss: 1.4147 - val_acc: 0.2502\n",
            "Epoch 18/40\n",
            "17750/20000 [=========================>....] - ETA: 0s - loss: 1.3515 - acc: 0.3328"
          ],
          "name": "stdout"
        },
        {
          "output_type": "stream",
          "text": [
            "20000/20000 [==============================] - 3s 125us/step - loss: 1.3526 - acc: 0.3313 - val_loss: 1.4149 - val_acc: 0.2502\n",
            "Epoch 19/40\n",
            "20000/20000 [==============================] - 3s 128us/step - loss: 1.3522 - acc: 0.3317 - val_loss: 1.4153 - val_acc: 0.2503\n",
            "Epoch 20/40\n",
            "20000/20000 [==============================] - 2s 123us/step - loss: 1.3519 - acc: 0.3320 - val_loss: 1.4154 - val_acc: 0.2502\n",
            "Epoch 21/40\n",
            "20000/20000 [==============================] - 3s 125us/step - loss: 1.3517 - acc: 0.3322 - val_loss: 1.4155 - val_acc: 0.2502\n",
            "Epoch 22/40\n",
            "20000/20000 [==============================] - 2s 123us/step - loss: 1.3514 - acc: 0.3325 - val_loss: 1.4158 - val_acc: 0.2502\n",
            "Epoch 23/40\n",
            "20000/20000 [==============================] - 3s 127us/step - loss: 1.3512 - acc: 0.3328 - val_loss: 1.4165 - val_acc: 0.2502\n",
            "Epoch 24/40\n",
            " 1250/20000 [>.............................] - ETA: 2s - loss: 1.3418 - acc: 0.3464"
          ],
          "name": "stdout"
        },
        {
          "output_type": "stream",
          "text": [
            "20000/20000 [==============================] - 3s 127us/step - loss: 1.3510 - acc: 0.3331 - val_loss: 1.4165 - val_acc: 0.2502\n",
            "Epoch 25/40\n",
            "20000/20000 [==============================] - 3s 128us/step - loss: 1.3508 - acc: 0.3333 - val_loss: 1.4173 - val_acc: 0.2502\n",
            "Epoch 26/40\n",
            "20000/20000 [==============================] - 3s 129us/step - loss: 1.3507 - acc: 0.3335 - val_loss: 1.4173 - val_acc: 0.2501\n",
            "Epoch 27/40\n",
            "20000/20000 [==============================] - 3s 137us/step - loss: 1.3505 - acc: 0.3337 - val_loss: 1.4182 - val_acc: 0.2502\n",
            "Epoch 28/40\n",
            "20000/20000 [==============================] - 3s 126us/step - loss: 1.3504 - acc: 0.3338 - val_loss: 1.4172 - val_acc: 0.2502\n",
            "Epoch 29/40\n",
            "20000/20000 [==============================] - 3s 127us/step - loss: 1.3502 - acc: 0.3339 - val_loss: 1.4173 - val_acc: 0.2502\n",
            "Epoch 30/40\n",
            " 1250/20000 [>.............................] - ETA: 2s - loss: 1.3412 - acc: 0.3476"
          ],
          "name": "stdout"
        },
        {
          "output_type": "stream",
          "text": [
            "20000/20000 [==============================] - 2s 125us/step - loss: 1.3501 - acc: 0.3344 - val_loss: 1.4184 - val_acc: 0.2503\n",
            "Epoch 31/40\n",
            "20000/20000 [==============================] - 3s 128us/step - loss: 1.3500 - acc: 0.3343 - val_loss: 1.4181 - val_acc: 0.2503\n",
            "Epoch 32/40\n",
            "20000/20000 [==============================] - 2s 120us/step - loss: 1.3498 - acc: 0.3345 - val_loss: 1.4186 - val_acc: 0.2503\n",
            "Epoch 33/40\n",
            "20000/20000 [==============================] - 3s 137us/step - loss: 1.3497 - acc: 0.3345 - val_loss: 1.4190 - val_acc: 0.2502\n",
            "Epoch 34/40\n",
            "20000/20000 [==============================] - 3s 168us/step - loss: 1.3496 - acc: 0.3346 - val_loss: 1.4180 - val_acc: 0.2502\n",
            "Epoch 35/40\n",
            "17250/20000 [========================>.....] - ETA: 0s - loss: 1.3485 - acc: 0.3361"
          ],
          "name": "stdout"
        },
        {
          "output_type": "stream",
          "text": [
            "20000/20000 [==============================] - 3s 151us/step - loss: 1.3496 - acc: 0.3348 - val_loss: 1.4194 - val_acc: 0.2502\n",
            "Epoch 36/40\n",
            "20000/20000 [==============================] - 3s 145us/step - loss: 1.3495 - acc: 0.3349 - val_loss: 1.4200 - val_acc: 0.2503\n",
            "Epoch 37/40\n",
            "20000/20000 [==============================] - 3s 147us/step - loss: 1.3494 - acc: 0.3351 - val_loss: 1.4188 - val_acc: 0.2503\n",
            "Epoch 38/40\n",
            "20000/20000 [==============================] - 3s 138us/step - loss: 1.3493 - acc: 0.3352 - val_loss: 1.4193 - val_acc: 0.2502\n",
            "Epoch 39/40\n",
            "20000/20000 [==============================] - 3s 146us/step - loss: 1.3492 - acc: 0.3354 - val_loss: 1.4195 - val_acc: 0.2501\n",
            "Epoch 40/40\n",
            "16500/20000 [=======================>......] - ETA: 0s - loss: 1.3477 - acc: 0.3373"
          ],
          "name": "stdout"
        },
        {
          "output_type": "stream",
          "text": [
            "20000/20000 [==============================] - 3s 144us/step - loss: 1.3491 - acc: 0.3354 - val_loss: 1.4192 - val_acc: 0.2503\n",
            "20000/20000 [==============================] - 4s 210us/step\n",
            "Test accuracy: [1.4163859008789061, 0.24995749995708466]\n",
            "Score:  [1.4163859008789061, 0.24995749995708466]\n",
            "SNRdB:  0.0\n"
          ],
          "name": "stdout"
        },
        {
          "output_type": "display_data",
          "data": {
            "text/plain": [
              "(2, 302, 20000)"
            ]
          },
          "metadata": {
            "tags": []
          }
        },
        {
          "output_type": "display_data",
          "data": {
            "text/plain": [
              "(1, 20000)"
            ]
          },
          "metadata": {
            "tags": []
          }
        },
        {
          "output_type": "display_data",
          "data": {
            "text/plain": [
              "(20000, 302, 2)"
            ]
          },
          "metadata": {
            "tags": []
          }
        },
        {
          "output_type": "display_data",
          "data": {
            "text/plain": [
              "(2, 302, 10000)"
            ]
          },
          "metadata": {
            "tags": []
          }
        },
        {
          "output_type": "display_data",
          "data": {
            "text/plain": [
              "(1, 10000)"
            ]
          },
          "metadata": {
            "tags": []
          }
        },
        {
          "output_type": "display_data",
          "data": {
            "text/plain": [
              "(10000, 302, 2)"
            ]
          },
          "metadata": {
            "tags": []
          }
        },
        {
          "output_type": "display_data",
          "data": {
            "text/plain": [
              "(2, 302, 20000)"
            ]
          },
          "metadata": {
            "tags": []
          }
        },
        {
          "output_type": "display_data",
          "data": {
            "text/plain": [
              "(1, 20000)"
            ]
          },
          "metadata": {
            "tags": []
          }
        },
        {
          "output_type": "display_data",
          "data": {
            "text/plain": [
              "(20000, 302, 2)"
            ]
          },
          "metadata": {
            "tags": []
          }
        },
        {
          "output_type": "stream",
          "text": [
            "x_train shape:  (20000, 302, 2)\n",
            "y_train shape:  (20000, 300)\n",
            "y_train shape, one-hot:  (20000, 300, 4)\n",
            "y_train shape, one-hot, padding:  (20000, 302, 4)\n",
            "_________________________________________________________________\n",
            "Layer (type)                 Output Shape              Param #   \n",
            "=================================================================\n",
            "cu_dnnlstm_73 (CuDNNLSTM)    (None, 302, 50)           10800     \n",
            "_________________________________________________________________\n",
            "cu_dnnlstm_74 (CuDNNLSTM)    (None, 302, 50)           20400     \n",
            "_________________________________________________________________\n",
            "cu_dnnlstm_75 (CuDNNLSTM)    (None, 302, 50)           20400     \n",
            "_________________________________________________________________\n",
            "time_distributed_41 (TimeDis (None, 302, 50)           200       \n",
            "_________________________________________________________________\n",
            "time_distributed_42 (TimeDis (None, 302, 4)            204       \n",
            "=================================================================\n",
            "Total params: 52,004\n",
            "Trainable params: 51,904\n",
            "Non-trainable params: 100\n",
            "_________________________________________________________________\n",
            "Train on 20000 samples, validate on 10000 samples\n",
            "Epoch 1/40\n",
            "20000/20000 [==============================] - 15s 729us/step - loss: 1.4213 - accuracy_with_masking: 0.2494 - val_loss: 1.3973 - val_accuracy_with_masking: 0.2497\n",
            "Epoch 2/40\n",
            "20000/20000 [==============================] - 7s 338us/step - loss: 1.3890 - accuracy_with_masking: 0.2503 - val_loss: 1.4102 - val_accuracy_with_masking: 0.2507\n",
            "Epoch 3/40\n",
            "20000/20000 [==============================] - 7s 344us/step - loss: 1.3860 - accuracy_with_masking: 0.2565 - val_loss: 1.3961 - val_accuracy_with_masking: 0.2508\n",
            "Epoch 4/40\n",
            "20000/20000 [==============================] - 7s 344us/step - loss: 1.3851 - accuracy_with_masking: 0.2617 - val_loss: 1.3902 - val_accuracy_with_masking: 0.2511\n",
            "Epoch 5/40\n",
            "20000/20000 [==============================] - 7s 343us/step - loss: 1.3846 - accuracy_with_masking: 0.2650 - val_loss: 1.4207 - val_accuracy_with_masking: 0.2510\n",
            "Epoch 6/40\n",
            " 4000/20000 [=====>........................] - ETA: 4s - loss: 1.3848 - accuracy_with_masking: 0.2666"
          ],
          "name": "stdout"
        },
        {
          "output_type": "stream",
          "text": [
            "20000/20000 [==============================] - 7s 349us/step - loss: 1.3850 - accuracy_with_masking: 0.2640 - val_loss: 1.5147 - val_accuracy_with_masking: 0.2498\n",
            "Epoch 7/40\n",
            "20000/20000 [==============================] - 7s 347us/step - loss: 1.3835 - accuracy_with_masking: 0.2671 - val_loss: 1.3921 - val_accuracy_with_masking: 0.2508\n",
            "Epoch 8/40\n",
            "20000/20000 [==============================] - 7s 341us/step - loss: 1.3807 - accuracy_with_masking: 0.2742 - val_loss: 1.4420 - val_accuracy_with_masking: 0.2499\n",
            "Epoch 9/40\n",
            "20000/20000 [==============================] - 7s 342us/step - loss: 1.3780 - accuracy_with_masking: 0.2785 - val_loss: 2.3104 - val_accuracy_with_masking: 0.2502\n",
            "Epoch 10/40\n",
            "20000/20000 [==============================] - 7s 348us/step - loss: 1.3702 - accuracy_with_masking: 0.2856 - val_loss: 2.7344 - val_accuracy_with_masking: 0.2503\n",
            "Epoch 11/40\n",
            "20000/20000 [==============================] - 7s 351us/step - loss: 1.3473 - accuracy_with_masking: 0.3051 - val_loss: 1.5129 - val_accuracy_with_masking: 0.2890\n",
            "Epoch 12/40\n",
            "20000/20000 [==============================] - 7s 351us/step - loss: 1.3172 - accuracy_with_masking: 0.3137 - val_loss: 1.3473 - val_accuracy_with_masking: 0.3066\n",
            "Epoch 13/40\n",
            "20000/20000 [==============================] - 7s 347us/step - loss: 1.3065 - accuracy_with_masking: 0.3222 - val_loss: 1.3517 - val_accuracy_with_masking: 0.3031\n",
            "Epoch 14/40\n",
            "20000/20000 [==============================] - 7s 345us/step - loss: 1.3045 - accuracy_with_masking: 0.3230 - val_loss: 1.3474 - val_accuracy_with_masking: 0.3044\n",
            "Epoch 15/40\n",
            "20000/20000 [==============================] - 7s 356us/step - loss: 1.3034 - accuracy_with_masking: 0.3247 - val_loss: 1.3266 - val_accuracy_with_masking: 0.3108\n",
            "Epoch 16/40\n"
          ],
          "name": "stdout"
        },
        {
          "output_type": "stream",
          "text": [
            "20000/20000 [==============================] - 7s 348us/step - loss: 1.3046 - accuracy_with_masking: 0.3229 - val_loss: 1.3400 - val_accuracy_with_masking: 0.3081\n",
            "Epoch 17/40\n",
            "20000/20000 [==============================] - 7s 346us/step - loss: 1.3032 - accuracy_with_masking: 0.3250 - val_loss: 1.3332 - val_accuracy_with_masking: 0.3111\n",
            "Epoch 18/40\n",
            "20000/20000 [==============================] - 7s 344us/step - loss: 1.3020 - accuracy_with_masking: 0.3248 - val_loss: 1.3345 - val_accuracy_with_masking: 0.3099\n",
            "Epoch 19/40\n",
            "20000/20000 [==============================] - 7s 353us/step - loss: 1.3035 - accuracy_with_masking: 0.3239 - val_loss: 1.3305 - val_accuracy_with_masking: 0.3127\n",
            "Epoch 20/40\n",
            "20000/20000 [==============================] - 7s 352us/step - loss: 1.3016 - accuracy_with_masking: 0.3263 - val_loss: 1.3227 - val_accuracy_with_masking: 0.3155\n",
            "Epoch 21/40\n",
            "20000/20000 [==============================] - 7s 348us/step - loss: 1.3009 - accuracy_with_masking: 0.3280 - val_loss: 1.3401 - val_accuracy_with_masking: 0.3092\n",
            "Epoch 22/40\n",
            "20000/20000 [==============================] - 7s 345us/step - loss: 1.3021 - accuracy_with_masking: 0.3237 - val_loss: 1.3311 - val_accuracy_with_masking: 0.3110\n",
            "Epoch 23/40\n",
            "20000/20000 [==============================] - 7s 350us/step - loss: 1.3001 - accuracy_with_masking: 0.3255 - val_loss: 1.3523 - val_accuracy_with_masking: 0.3063\n",
            "Epoch 24/40\n",
            "20000/20000 [==============================] - 7s 350us/step - loss: 1.3001 - accuracy_with_masking: 0.3268 - val_loss: 1.3632 - val_accuracy_with_masking: 0.3022\n",
            "Epoch 25/40\n",
            "20000/20000 [==============================] - 7s 365us/step - loss: 1.2997 - accuracy_with_masking: 0.3257 - val_loss: 1.3290 - val_accuracy_with_masking: 0.3135\n",
            "Epoch 26/40\n"
          ],
          "name": "stdout"
        },
        {
          "output_type": "stream",
          "text": [
            "20000/20000 [==============================] - 7s 366us/step - loss: 1.3007 - accuracy_with_masking: 0.3243 - val_loss: 1.3670 - val_accuracy_with_masking: 0.3019\n",
            "Epoch 27/40\n",
            "20000/20000 [==============================] - 7s 346us/step - loss: 1.2993 - accuracy_with_masking: 0.3312 - val_loss: 1.3234 - val_accuracy_with_masking: 0.3106\n",
            "\n",
            "Epoch 00027: ReduceLROnPlateau reducing learning rate to 0.0004000000189989805.\n",
            "Epoch 28/40\n",
            "20000/20000 [==============================] - 7s 360us/step - loss: 1.2974 - accuracy_with_masking: 0.3370 - val_loss: 1.3173 - val_accuracy_with_masking: 0.3168\n",
            "Epoch 29/40\n",
            "20000/20000 [==============================] - 7s 345us/step - loss: 1.2971 - accuracy_with_masking: 0.3331 - val_loss: 1.3187 - val_accuracy_with_masking: 0.3191\n",
            "Epoch 30/40\n",
            "20000/20000 [==============================] - 7s 341us/step - loss: 1.2967 - accuracy_with_masking: 0.3315 - val_loss: 1.3214 - val_accuracy_with_masking: 0.3170\n",
            "Epoch 31/40\n",
            "20000/20000 [==============================] - 7s 341us/step - loss: 1.2962 - accuracy_with_masking: 0.3386 - val_loss: 1.3281 - val_accuracy_with_masking: 0.3147\n",
            "Epoch 32/40\n",
            "20000/20000 [==============================] - 7s 338us/step - loss: 1.2957 - accuracy_with_masking: 0.3411 - val_loss: 1.3556 - val_accuracy_with_masking: 0.3117\n",
            "Epoch 33/40\n",
            "20000/20000 [==============================] - 7s 344us/step - loss: 1.2960 - accuracy_with_masking: 0.3402 - val_loss: 1.3383 - val_accuracy_with_masking: 0.3124\n",
            "Epoch 34/40\n",
            "20000/20000 [==============================] - 7s 342us/step - loss: 1.2954 - accuracy_with_masking: 0.3375 - val_loss: 1.3356 - val_accuracy_with_masking: 0.3128\n",
            "Epoch 35/40\n",
            "14000/20000 [====================>.........] - ETA: 1s - loss: 1.2958 - accuracy_with_masking: 0.3410"
          ],
          "name": "stdout"
        },
        {
          "output_type": "stream",
          "text": [
            "20000/20000 [==============================] - 7s 342us/step - loss: 1.2952 - accuracy_with_masking: 0.3408 - val_loss: 1.3377 - val_accuracy_with_masking: 0.3119\n",
            "Epoch 36/40\n",
            "20000/20000 [==============================] - 7s 340us/step - loss: 1.2947 - accuracy_with_masking: 0.3378 - val_loss: 1.3410 - val_accuracy_with_masking: 0.3118\n",
            "\n",
            "Epoch 00036: ReduceLROnPlateau reducing learning rate to 8.000000379979611e-05.\n",
            "Epoch 37/40\n",
            "20000/20000 [==============================] - 7s 341us/step - loss: 1.2929 - accuracy_with_masking: 0.3628 - val_loss: 1.3278 - val_accuracy_with_masking: 0.3005\n",
            "Epoch 38/40\n",
            "20000/20000 [==============================] - 7s 341us/step - loss: 1.2916 - accuracy_with_masking: 0.3699 - val_loss: 1.3290 - val_accuracy_with_masking: 0.2979\n",
            "Epoch 39/40\n",
            "20000/20000 [==============================] - 7s 344us/step - loss: 1.2908 - accuracy_with_masking: 0.3723 - val_loss: 1.3284 - val_accuracy_with_masking: 0.3160\n",
            "Epoch 40/40\n",
            "20000/20000 [==============================] - 7s 344us/step - loss: 1.2899 - accuracy_with_masking: 0.3771 - val_loss: 1.3264 - val_accuracy_with_masking: 0.3334\n",
            "20000/20000 [==============================] - 3s 127us/step\n",
            "Score:  [1.3067445695400237, 0.33871750086545943]\n"
          ],
          "name": "stdout"
        },
        {
          "output_type": "display_data",
          "data": {
            "text/plain": [
              "(2, 302, 20000)"
            ]
          },
          "metadata": {
            "tags": []
          }
        },
        {
          "output_type": "display_data",
          "data": {
            "text/plain": [
              "(1, 20000)"
            ]
          },
          "metadata": {
            "tags": []
          }
        },
        {
          "output_type": "display_data",
          "data": {
            "text/plain": [
              "(20000, 302, 2)"
            ]
          },
          "metadata": {
            "tags": []
          }
        },
        {
          "output_type": "display_data",
          "data": {
            "text/plain": [
              "(2, 302, 10000)"
            ]
          },
          "metadata": {
            "tags": []
          }
        },
        {
          "output_type": "display_data",
          "data": {
            "text/plain": [
              "(1, 10000)"
            ]
          },
          "metadata": {
            "tags": []
          }
        },
        {
          "output_type": "display_data",
          "data": {
            "text/plain": [
              "(10000, 302, 2)"
            ]
          },
          "metadata": {
            "tags": []
          }
        },
        {
          "output_type": "display_data",
          "data": {
            "text/plain": [
              "(2, 302, 20000)"
            ]
          },
          "metadata": {
            "tags": []
          }
        },
        {
          "output_type": "display_data",
          "data": {
            "text/plain": [
              "(1, 20000)"
            ]
          },
          "metadata": {
            "tags": []
          }
        },
        {
          "output_type": "display_data",
          "data": {
            "text/plain": [
              "(20000, 302, 2)"
            ]
          },
          "metadata": {
            "tags": []
          }
        },
        {
          "output_type": "stream",
          "text": [
            "x_train shape:  (20000, 302, 2)\n",
            "y_train shape:  (20000, 300)\n",
            "y_train shape, one-hot:  (20000, 300, 4)\n",
            "y_train shape, one-hot, padding:  (20000, 302, 4)\n",
            "x_train shape, window:  (20000, 302, 10)\n",
            "_________________________________________________________________\n",
            "Layer (type)                 Output Shape              Param #   \n",
            "=================================================================\n",
            "cu_dnnlstm_76 (CuDNNLSTM)    (None, 302, 50)           12400     \n",
            "_________________________________________________________________\n",
            "cu_dnnlstm_77 (CuDNNLSTM)    (None, 302, 50)           20400     \n",
            "_________________________________________________________________\n",
            "cu_dnnlstm_78 (CuDNNLSTM)    (None, 302, 50)           20400     \n",
            "_________________________________________________________________\n",
            "time_distributed_43 (TimeDis (None, 302, 4)            204       \n",
            "=================================================================\n",
            "Total params: 53,404\n",
            "Trainable params: 53,404\n",
            "Non-trainable params: 0\n",
            "_________________________________________________________________\n",
            "Train on 20000 samples, validate on 10000 samples\n",
            "Epoch 1/40\n",
            "20000/20000 [==============================] - 14s 702us/step - loss: 1.6940 - accuracy_with_masking: 0.2522 - val_loss: 1.6481 - val_accuracy_with_masking: 0.2547\n",
            "Epoch 2/40\n",
            "20000/20000 [==============================] - 7s 344us/step - loss: 1.6148 - accuracy_with_masking: 0.2572 - val_loss: 1.5762 - val_accuracy_with_masking: 0.2587\n",
            "Epoch 3/40\n",
            "20000/20000 [==============================] - 7s 336us/step - loss: 1.5490 - accuracy_with_masking: 0.2608 - val_loss: 1.5187 - val_accuracy_with_masking: 0.2616\n",
            "Epoch 4/40\n",
            "20000/20000 [==============================] - 7s 336us/step - loss: 1.4987 - accuracy_with_masking: 0.2630 - val_loss: 1.4768 - val_accuracy_with_masking: 0.2596\n",
            "Epoch 5/40\n",
            "20000/20000 [==============================] - 7s 328us/step - loss: 1.4629 - accuracy_with_masking: 0.2554 - val_loss: 1.4479 - val_accuracy_with_masking: 0.2540\n",
            "Epoch 6/40\n",
            "10000/20000 [==============>...............] - ETA: 2s - loss: 1.4433 - accuracy_with_masking: 0.2566"
          ],
          "name": "stdout"
        },
        {
          "output_type": "stream",
          "text": [
            "20000/20000 [==============================] - 7s 344us/step - loss: 1.4383 - accuracy_with_masking: 0.2599 - val_loss: 1.4282 - val_accuracy_with_masking: 0.2622\n",
            "Epoch 7/40\n",
            "20000/20000 [==============================] - 7s 332us/step - loss: 1.4220 - accuracy_with_masking: 0.2647 - val_loss: 1.4154 - val_accuracy_with_masking: 0.2570\n",
            "Epoch 8/40\n",
            "20000/20000 [==============================] - 7s 336us/step - loss: 1.4116 - accuracy_with_masking: 0.2516 - val_loss: 1.4071 - val_accuracy_with_masking: 0.2610\n",
            "Epoch 9/40\n",
            "20000/20000 [==============================] - 7s 334us/step - loss: 1.4045 - accuracy_with_masking: 0.2639 - val_loss: 1.4017 - val_accuracy_with_masking: 0.2611\n",
            "Epoch 10/40\n",
            "20000/20000 [==============================] - 7s 331us/step - loss: 1.4000 - accuracy_with_masking: 0.2643 - val_loss: 1.3981 - val_accuracy_with_masking: 0.2582\n",
            "Epoch 11/40\n",
            "20000/20000 [==============================] - 7s 327us/step - loss: 1.3969 - accuracy_with_masking: 0.2594 - val_loss: 1.3956 - val_accuracy_with_masking: 0.2693\n",
            "Epoch 12/40\n",
            "20000/20000 [==============================] - 7s 327us/step - loss: 1.3949 - accuracy_with_masking: 0.2530 - val_loss: 1.3939 - val_accuracy_with_masking: 0.2556\n",
            "Epoch 13/40\n",
            "20000/20000 [==============================] - 7s 334us/step - loss: 1.3933 - accuracy_with_masking: 0.2559 - val_loss: 1.3927 - val_accuracy_with_masking: 0.2578\n",
            "Epoch 14/40\n",
            "20000/20000 [==============================] - 7s 331us/step - loss: 1.3924 - accuracy_with_masking: 0.2519 - val_loss: 1.3918 - val_accuracy_with_masking: 0.2511\n",
            "Epoch 15/40\n",
            "20000/20000 [==============================] - 7s 334us/step - loss: 1.3914 - accuracy_with_masking: 0.2621 - val_loss: 1.3911 - val_accuracy_with_masking: 0.2545\n",
            "Epoch 16/40\n"
          ],
          "name": "stdout"
        },
        {
          "output_type": "stream",
          "text": [
            "20000/20000 [==============================] - 7s 332us/step - loss: 1.3908 - accuracy_with_masking: 0.2558 - val_loss: 1.3905 - val_accuracy_with_masking: 0.2659\n",
            "Epoch 17/40\n",
            "20000/20000 [==============================] - 7s 334us/step - loss: 1.3903 - accuracy_with_masking: 0.2629 - val_loss: 1.3901 - val_accuracy_with_masking: 0.2512\n",
            "Epoch 18/40\n",
            "20000/20000 [==============================] - 7s 330us/step - loss: 1.3900 - accuracy_with_masking: 0.2513 - val_loss: 1.3897 - val_accuracy_with_masking: 0.2547\n",
            "\n",
            "Epoch 00018: ReduceLROnPlateau reducing learning rate to 0.0004000000189989805.\n",
            "Epoch 19/40\n",
            "20000/20000 [==============================] - 7s 333us/step - loss: 1.3886 - accuracy_with_masking: 0.2643 - val_loss: 1.3882 - val_accuracy_with_masking: 0.2656\n",
            "Epoch 20/40\n",
            "20000/20000 [==============================] - 7s 333us/step - loss: 1.3882 - accuracy_with_masking: 0.2669 - val_loss: 1.3882 - val_accuracy_with_masking: 0.2655\n",
            "Epoch 21/40\n",
            "20000/20000 [==============================] - 7s 335us/step - loss: 1.3882 - accuracy_with_masking: 0.2669 - val_loss: 1.3882 - val_accuracy_with_masking: 0.2674\n",
            "Epoch 22/40\n",
            "20000/20000 [==============================] - 7s 339us/step - loss: 1.3881 - accuracy_with_masking: 0.2666 - val_loss: 1.3881 - val_accuracy_with_masking: 0.2668\n",
            "Epoch 23/40\n",
            "20000/20000 [==============================] - 7s 340us/step - loss: 1.3880 - accuracy_with_masking: 0.2664 - val_loss: 1.3880 - val_accuracy_with_masking: 0.2665\n",
            "Epoch 24/40\n",
            "20000/20000 [==============================] - 7s 334us/step - loss: 1.3879 - accuracy_with_masking: 0.2665 - val_loss: 1.3879 - val_accuracy_with_masking: 0.2658\n",
            "Epoch 25/40\n",
            "14000/20000 [====================>.........] - ETA: 1s - loss: 1.3879 - accuracy_with_masking: 0.2667"
          ],
          "name": "stdout"
        },
        {
          "output_type": "stream",
          "text": [
            "20000/20000 [==============================] - 7s 336us/step - loss: 1.3878 - accuracy_with_masking: 0.2665 - val_loss: 1.3878 - val_accuracy_with_masking: 0.2665\n",
            "\n",
            "Epoch 00025: ReduceLROnPlateau reducing learning rate to 8.000000379979611e-05.\n",
            "Epoch 26/40\n",
            "20000/20000 [==============================] - 7s 341us/step - loss: 1.3876 - accuracy_with_masking: 0.2663 - val_loss: 1.3875 - val_accuracy_with_masking: 0.2659\n",
            "Epoch 27/40\n",
            "20000/20000 [==============================] - 7s 340us/step - loss: 1.3875 - accuracy_with_masking: 0.2665 - val_loss: 1.3875 - val_accuracy_with_masking: 0.2658\n",
            "Epoch 28/40\n",
            "20000/20000 [==============================] - 7s 340us/step - loss: 1.3874 - accuracy_with_masking: 0.2665 - val_loss: 1.3875 - val_accuracy_with_masking: 0.2661\n",
            "Epoch 29/40\n",
            "20000/20000 [==============================] - 7s 347us/step - loss: 1.3874 - accuracy_with_masking: 0.2664 - val_loss: 1.3875 - val_accuracy_with_masking: 0.2667\n",
            "Epoch 30/40\n",
            "20000/20000 [==============================] - 7s 348us/step - loss: 1.3874 - accuracy_with_masking: 0.2669 - val_loss: 1.3874 - val_accuracy_with_masking: 0.2671\n",
            "Epoch 31/40\n",
            "20000/20000 [==============================] - 7s 349us/step - loss: 1.3874 - accuracy_with_masking: 0.2666 - val_loss: 1.3874 - val_accuracy_with_masking: 0.2667\n",
            "Epoch 32/40\n",
            "20000/20000 [==============================] - 7s 345us/step - loss: 1.3873 - accuracy_with_masking: 0.2665 - val_loss: 1.3874 - val_accuracy_with_masking: 0.2667\n",
            "\n",
            "Epoch 00032: ReduceLROnPlateau reducing learning rate to 1.6000001050997525e-05.\n",
            "Epoch 33/40\n",
            "20000/20000 [==============================] - 7s 340us/step - loss: 1.3873 - accuracy_with_masking: 0.2667 - val_loss: 1.3873 - val_accuracy_with_masking: 0.2667\n",
            "Epoch 34/40\n",
            "12000/20000 [=================>............] - ETA: 2s - loss: 1.3873 - accuracy_with_masking: 0.2665"
          ],
          "name": "stdout"
        },
        {
          "output_type": "stream",
          "text": [
            "20000/20000 [==============================] - 7s 342us/step - loss: 1.3872 - accuracy_with_masking: 0.2667 - val_loss: 1.3873 - val_accuracy_with_masking: 0.2666\n",
            "Epoch 35/40\n",
            "20000/20000 [==============================] - 7s 347us/step - loss: 1.3872 - accuracy_with_masking: 0.2667 - val_loss: 1.3873 - val_accuracy_with_masking: 0.2665\n",
            "Epoch 36/40\n",
            "20000/20000 [==============================] - 7s 339us/step - loss: 1.3872 - accuracy_with_masking: 0.2668 - val_loss: 1.3873 - val_accuracy_with_masking: 0.2665\n",
            "Epoch 37/40\n",
            "20000/20000 [==============================] - 7s 339us/step - loss: 1.3872 - accuracy_with_masking: 0.2667 - val_loss: 1.3873 - val_accuracy_with_masking: 0.2664\n",
            "Epoch 38/40\n",
            "20000/20000 [==============================] - 7s 337us/step - loss: 1.3872 - accuracy_with_masking: 0.2666 - val_loss: 1.3873 - val_accuracy_with_masking: 0.2663\n",
            "Epoch 39/40\n",
            "20000/20000 [==============================] - 7s 337us/step - loss: 1.3872 - accuracy_with_masking: 0.2666 - val_loss: 1.3873 - val_accuracy_with_masking: 0.2663\n",
            "\n",
            "Epoch 00039: ReduceLROnPlateau reducing learning rate to 3.2000003557186575e-06.\n",
            "Epoch 40/40\n",
            "20000/20000 [==============================] - 7s 331us/step - loss: 1.3872 - accuracy_with_masking: 0.2667 - val_loss: 1.3873 - val_accuracy_with_masking: 0.2663\n",
            "20000/20000 [==============================] - 3s 140us/step\n",
            "Score:  [1.3871714234352113, 0.2666069999337196]\n"
          ],
          "name": "stdout"
        },
        {
          "output_type": "display_data",
          "data": {
            "text/plain": [
              "(2, 302, 20000)"
            ]
          },
          "metadata": {
            "tags": []
          }
        },
        {
          "output_type": "display_data",
          "data": {
            "text/plain": [
              "(1, 20000)"
            ]
          },
          "metadata": {
            "tags": []
          }
        },
        {
          "output_type": "display_data",
          "data": {
            "text/plain": [
              "(20000, 302, 2)"
            ]
          },
          "metadata": {
            "tags": []
          }
        },
        {
          "output_type": "display_data",
          "data": {
            "text/plain": [
              "(2, 302, 10000)"
            ]
          },
          "metadata": {
            "tags": []
          }
        },
        {
          "output_type": "display_data",
          "data": {
            "text/plain": [
              "(1, 10000)"
            ]
          },
          "metadata": {
            "tags": []
          }
        },
        {
          "output_type": "display_data",
          "data": {
            "text/plain": [
              "(10000, 302, 2)"
            ]
          },
          "metadata": {
            "tags": []
          }
        },
        {
          "output_type": "display_data",
          "data": {
            "text/plain": [
              "(2, 302, 20000)"
            ]
          },
          "metadata": {
            "tags": []
          }
        },
        {
          "output_type": "display_data",
          "data": {
            "text/plain": [
              "(1, 20000)"
            ]
          },
          "metadata": {
            "tags": []
          }
        },
        {
          "output_type": "display_data",
          "data": {
            "text/plain": [
              "(20000, 302, 2)"
            ]
          },
          "metadata": {
            "tags": []
          }
        },
        {
          "output_type": "stream",
          "text": [
            "x_train shape:  (20000, 302, 2)\n",
            "y_train shape:  (20000, 300)\n",
            "y_train shape, one-hot:  (20000, 300, 4)\n",
            "_________________________________________________________________\n",
            "Layer (type)                 Output Shape              Param #   \n",
            "=================================================================\n",
            "conv1d_7 (Conv1D)            (None, 300, 10)           70        \n",
            "_________________________________________________________________\n",
            "batch_normalization_24 (Batc (None, 300, 10)           40        \n",
            "_________________________________________________________________\n",
            "flatten_7 (Flatten)          (None, 3000)              0         \n",
            "_________________________________________________________________\n",
            "dense_33 (Dense)             (None, 1200)              3601200   \n",
            "_________________________________________________________________\n",
            "reshape_7 (Reshape)          (None, 300, 4)            0         \n",
            "_________________________________________________________________\n",
            "softmax_7 (Softmax)          (None, 300, 4)            0         \n",
            "=================================================================\n",
            "Total params: 3,601,310\n",
            "Trainable params: 3,601,290\n",
            "Non-trainable params: 20\n",
            "_________________________________________________________________\n",
            "Train on 20000 samples, validate on 10000 samples\n",
            "Epoch 1/40\n",
            "20000/20000 [==============================] - 10s 493us/step - loss: 1.5674 - acc: 0.2502 - val_loss: 1.5156 - val_acc: 0.2500\n",
            "Epoch 2/40\n",
            "12750/20000 [==================>...........] - ETA: 0s - loss: 1.4821 - acc: 0.2713"
          ],
          "name": "stdout"
        },
        {
          "output_type": "stream",
          "text": [
            "20000/20000 [==============================] - 3s 140us/step - loss: 1.4847 - acc: 0.2657 - val_loss: 1.4896 - val_acc: 0.2499\n",
            "Epoch 3/40\n",
            "20000/20000 [==============================] - 3s 135us/step - loss: 1.4563 - acc: 0.2706 - val_loss: 1.4646 - val_acc: 0.2503\n",
            "Epoch 4/40\n",
            "20000/20000 [==============================] - 3s 140us/step - loss: 1.4307 - acc: 0.2763 - val_loss: 1.4442 - val_acc: 0.2503\n",
            "Epoch 5/40\n",
            "20000/20000 [==============================] - 3s 135us/step - loss: 1.4057 - acc: 0.2847 - val_loss: 1.4293 - val_acc: 0.2505\n",
            "Epoch 6/40\n",
            "20000/20000 [==============================] - 3s 139us/step - loss: 1.3858 - acc: 0.2970 - val_loss: 1.4202 - val_acc: 0.2501\n",
            "Epoch 7/40\n",
            "17500/20000 [=========================>....] - ETA: 0s - loss: 1.3711 - acc: 0.3102"
          ],
          "name": "stdout"
        },
        {
          "output_type": "stream",
          "text": [
            "20000/20000 [==============================] - 3s 137us/step - loss: 1.3730 - acc: 0.3075 - val_loss: 1.4154 - val_acc: 0.2503\n",
            "Epoch 8/40\n",
            "20000/20000 [==============================] - 3s 137us/step - loss: 1.3653 - acc: 0.3157 - val_loss: 1.4140 - val_acc: 0.2503\n",
            "Epoch 9/40\n",
            "20000/20000 [==============================] - 3s 144us/step - loss: 1.3611 - acc: 0.3211 - val_loss: 1.4136 - val_acc: 0.2503\n",
            "Epoch 10/40\n",
            "20000/20000 [==============================] - 3s 152us/step - loss: 1.3586 - acc: 0.3243 - val_loss: 1.4151 - val_acc: 0.2504\n",
            "Epoch 11/40\n",
            "20000/20000 [==============================] - 3s 152us/step - loss: 1.3570 - acc: 0.3267 - val_loss: 1.4159 - val_acc: 0.2504\n",
            "Epoch 12/40\n",
            "17250/20000 [========================>.....] - ETA: 0s - loss: 1.3541 - acc: 0.3307"
          ],
          "name": "stdout"
        },
        {
          "output_type": "stream",
          "text": [
            "20000/20000 [==============================] - 3s 154us/step - loss: 1.3558 - acc: 0.3282 - val_loss: 1.4155 - val_acc: 0.2504\n",
            "Epoch 13/40\n",
            "20000/20000 [==============================] - 3s 148us/step - loss: 1.3549 - acc: 0.3293 - val_loss: 1.4153 - val_acc: 0.2505\n",
            "Epoch 14/40\n",
            "20000/20000 [==============================] - 3s 146us/step - loss: 1.3542 - acc: 0.3304 - val_loss: 1.4148 - val_acc: 0.2503\n",
            "Epoch 15/40\n",
            "20000/20000 [==============================] - 3s 153us/step - loss: 1.3536 - acc: 0.3311 - val_loss: 1.4161 - val_acc: 0.2505\n",
            "Epoch 16/40\n",
            "20000/20000 [==============================] - 3s 145us/step - loss: 1.3531 - acc: 0.3317 - val_loss: 1.4146 - val_acc: 0.2504\n",
            "Epoch 17/40\n",
            "16000/20000 [=======================>......] - ETA: 0s - loss: 1.3506 - acc: 0.3351"
          ],
          "name": "stdout"
        },
        {
          "output_type": "stream",
          "text": [
            "20000/20000 [==============================] - 3s 145us/step - loss: 1.3526 - acc: 0.3323 - val_loss: 1.4160 - val_acc: 0.2507\n",
            "Epoch 18/40\n",
            "20000/20000 [==============================] - 3s 148us/step - loss: 1.3523 - acc: 0.3328 - val_loss: 1.4153 - val_acc: 0.2503\n",
            "Epoch 19/40\n",
            "20000/20000 [==============================] - 3s 152us/step - loss: 1.3519 - acc: 0.3332 - val_loss: 1.4155 - val_acc: 0.2504\n",
            "Epoch 20/40\n",
            "20000/20000 [==============================] - 3s 151us/step - loss: 1.3516 - acc: 0.3336 - val_loss: 1.4151 - val_acc: 0.2504\n",
            "Epoch 21/40\n",
            "20000/20000 [==============================] - 3s 151us/step - loss: 1.3514 - acc: 0.3338 - val_loss: 1.4172 - val_acc: 0.2503\n",
            "Epoch 22/40\n",
            "15750/20000 [======================>.......] - ETA: 0s - loss: 1.3491 - acc: 0.3368"
          ],
          "name": "stdout"
        },
        {
          "output_type": "stream",
          "text": [
            "20000/20000 [==============================] - 3s 152us/step - loss: 1.3511 - acc: 0.3341 - val_loss: 1.4163 - val_acc: 0.2503\n",
            "Epoch 23/40\n",
            "20000/20000 [==============================] - 3s 159us/step - loss: 1.3509 - acc: 0.3345 - val_loss: 1.4173 - val_acc: 0.2502\n",
            "Epoch 24/40\n",
            "20000/20000 [==============================] - 3s 153us/step - loss: 1.3507 - acc: 0.3348 - val_loss: 1.4192 - val_acc: 0.2503\n",
            "Epoch 25/40\n",
            "20000/20000 [==============================] - 3s 153us/step - loss: 1.3505 - acc: 0.3349 - val_loss: 1.4162 - val_acc: 0.2504\n",
            "Epoch 26/40\n",
            "20000/20000 [==============================] - 3s 153us/step - loss: 1.3504 - acc: 0.3351 - val_loss: 1.4176 - val_acc: 0.2505\n",
            "Epoch 27/40\n",
            "14750/20000 [=====================>........] - ETA: 0s - loss: 1.3479 - acc: 0.3383"
          ],
          "name": "stdout"
        },
        {
          "output_type": "stream",
          "text": [
            "20000/20000 [==============================] - 3s 158us/step - loss: 1.3502 - acc: 0.3352 - val_loss: 1.4198 - val_acc: 0.2504\n",
            "Epoch 28/40\n",
            "20000/20000 [==============================] - 3s 148us/step - loss: 1.3501 - acc: 0.3354 - val_loss: 1.4181 - val_acc: 0.2505\n",
            "Epoch 29/40\n",
            "20000/20000 [==============================] - 3s 154us/step - loss: 1.3499 - acc: 0.3356 - val_loss: 1.4178 - val_acc: 0.2506\n",
            "Epoch 30/40\n",
            "20000/20000 [==============================] - 3s 142us/step - loss: 1.3498 - acc: 0.3358 - val_loss: 1.4184 - val_acc: 0.2506\n",
            "Epoch 31/40\n",
            "20000/20000 [==============================] - 3s 148us/step - loss: 1.3497 - acc: 0.3359 - val_loss: 1.4177 - val_acc: 0.2506\n",
            "Epoch 32/40\n",
            "17000/20000 [========================>.....] - ETA: 0s - loss: 1.3483 - acc: 0.3378"
          ],
          "name": "stdout"
        },
        {
          "output_type": "stream",
          "text": [
            "20000/20000 [==============================] - 3s 139us/step - loss: 1.3496 - acc: 0.3362 - val_loss: 1.4194 - val_acc: 0.2505\n",
            "Epoch 33/40\n",
            "20000/20000 [==============================] - 4s 176us/step - loss: 1.3495 - acc: 0.3361 - val_loss: 1.4200 - val_acc: 0.2503\n",
            "Epoch 34/40\n",
            "20000/20000 [==============================] - 3s 172us/step - loss: 1.3494 - acc: 0.3364 - val_loss: 1.4193 - val_acc: 0.2504\n",
            "Epoch 35/40\n",
            "20000/20000 [==============================] - 3s 169us/step - loss: 1.3493 - acc: 0.3365 - val_loss: 1.4189 - val_acc: 0.2505\n",
            "Epoch 36/40\n",
            "20000/20000 [==============================] - 4s 208us/step - loss: 1.3492 - acc: 0.3365 - val_loss: 1.4200 - val_acc: 0.2505\n",
            "Epoch 37/40\n",
            " 9250/20000 [============>.................] - ETA: 1s - loss: 1.3447 - acc: 0.3420"
          ],
          "name": "stdout"
        },
        {
          "output_type": "stream",
          "text": [
            "20000/20000 [==============================] - 3s 145us/step - loss: 1.3491 - acc: 0.3366 - val_loss: 1.4182 - val_acc: 0.2503\n",
            "Epoch 38/40\n",
            "20000/20000 [==============================] - 3s 157us/step - loss: 1.3490 - acc: 0.3368 - val_loss: 1.4187 - val_acc: 0.2504\n",
            "Epoch 39/40\n",
            "20000/20000 [==============================] - 3s 143us/step - loss: 1.3489 - acc: 0.3368 - val_loss: 1.4199 - val_acc: 0.2505\n",
            "Epoch 40/40\n",
            "20000/20000 [==============================] - 3s 140us/step - loss: 1.3489 - acc: 0.3369 - val_loss: 1.4189 - val_acc: 0.2505\n",
            "20000/20000 [==============================] - 5s 232us/step\n"
          ],
          "name": "stdout"
        },
        {
          "output_type": "stream",
          "text": [
            "Test accuracy: [1.418952243232727, 0.25020299966335297]\n",
            "Score:  [1.418952243232727, 0.25020299966335297]\n"
          ],
          "name": "stdout"
        }
      ]
    },
    {
      "metadata": {
        "id": "cWjZDxSkeMXu",
        "colab_type": "code",
        "colab": {
          "base_uri": "https://localhost:8080/",
          "height": 311
        },
        "outputId": "66bbc56f-a878-49b6-ff1a-b79653e2f0fb"
      },
      "cell_type": "code",
      "source": [
        "s_lstm2 = np.array(scores_lstm2)\n",
        "s_lstm2_W = np.array(scores_lstm2_W)\n",
        "s_conv2 = np.array(scores_conv2)\n",
        "#s_lms2 = 1-np.array([2,2.47,5.82,21.18,41.54,56.99,66.24,71.6,73.42,74.5])*1.0/100\n",
        "#s_lms2 = 1-np.array([5.24,5.34,8.01,21.62,40.6,56.13,65.12,70.04,72.57,72.51])*1.0/100\n",
        "\n",
        "plt.plot(snrs,s_conv2[:,1],\"r\",label=\"Conv\")\n",
        "plt.plot(snrs,s_lstm2[:,1],\"b\",label=\"LSTM\")\n",
        "plt.plot(snrs,s_lstm2_W[:,1],\"g\",label=\"LSTM, Window\")\n",
        "#plt.plot(snrs,s_lms2,\"y\",label=\"LMS\")\n",
        "plt.legend()\n",
        "plt.xlabel(\"SNR\")\n",
        "plt.ylabel(\"Accuracy\")\n",
        "plt.title(\"Accuracy vs SNR: Time Variant\")\n",
        "\n",
        "# from google.colab import files\n",
        "# plt.savefig(\"SNR_time_variant.png\")\n",
        "# files.download(\"SNR_time_variant.png\")"
      ],
      "execution_count": 49,
      "outputs": [
        {
          "output_type": "execute_result",
          "data": {
            "text/plain": [
              "Text(0.5,1,'Accuracy vs SNR: Time Variant')"
            ]
          },
          "metadata": {
            "tags": []
          },
          "execution_count": 49
        },
        {
          "output_type": "display_data",
          "data": {
            "image/png": "[encoded data removed]",
            "text/plain": [
              "<matplotlib.figure.Figure at 0x7fba795214a8>"
            ]
          },
          "metadata": {
            "tags": []
          }
        }
      ]
    },
    {
      "metadata": {
        "id": "JWAeTnf7ROTe",
        "colab_type": "text"
      },
      "cell_type": "markdown",
      "source": [
        "##Symbol Error Comparison with No Noise. Can see how each decoder handles the switching channels only"
      ]
    },
    {
      "metadata": {
        "id": "DwQTM8nuRXqA",
        "colab_type": "code",
        "colab": {
          "base_uri": "https://localhost:8080/",
          "height": 3284
        },
        "outputId": "252238d9-feeb-480e-e37b-240369e6e999"
      },
      "cell_type": "code",
      "source": [
        "m = 4         # order of modulation\n",
        "trials = 15000   # number of trials \n",
        "Noise = False\n",
        "seqLen = 300\n",
        "print(seqLen)\n",
        "h_list = []\n",
        "h_list.append(np.array([1,0.5,-0.3]))\n",
        "h_list.append(np.array([1,-.5,-0.5]))\n",
        "h_list.append(np.array([1,-0.25,-0.25]))\n",
        "h_list = np.array(h_list)\n",
        "chanelLen = len(h_list[0])\n",
        "channel_dur = 75\n",
        "print(\"Channel: \",h_list)\n",
        "\n",
        "\n",
        "#LSTM no window\n",
        "hist1_n ,score1_n = LSTM_variant_no_window()\n",
        "#LSTM with window\n",
        "hist2_n,score2_n = LSTM_variant_with_window()\n",
        "#CNN\n",
        "hist3_n,score3_n = ConvNet_variant()\n",
        "\n",
        "print(\"LSTM No Window Score: \",score1_n)\n",
        "print(\"LSTM with Window Score: \",score2_n)\n",
        "print(\"Conv Score: \",score3_n)\n",
        "\n"
      ],
      "execution_count": 17,
      "outputs": [
        {
          "output_type": "stream",
          "text": [
            "300\n",
            "Channel:  [[ 1.    0.5  -0.3 ]\n",
            " [ 1.   -0.5  -0.5 ]\n",
            " [ 1.   -0.25 -0.25]]\n",
            "x_train shape:  (15000, 302, 2)\n",
            "y_train shape:  (15000, 300)\n",
            "y_train shape, one-hot:  (15000, 300, 4)\n",
            "y_train shape, one-hot, padding:  (15000, 302, 4)\n",
            "_________________________________________________________________\n",
            "Layer (type)                 Output Shape              Param #   \n",
            "=================================================================\n",
            "cu_dnnlstm_25 (CuDNNLSTM)    (None, 302, 30)           4080      \n",
            "_________________________________________________________________\n",
            "time_distributed_37 (TimeDis (None, 302, 30)           120       \n",
            "_________________________________________________________________\n",
            "time_distributed_38 (TimeDis (None, 302, 4)            124       \n",
            "=================================================================\n",
            "Total params: 4,324\n",
            "Trainable params: 4,264\n",
            "Non-trainable params: 60\n",
            "_________________________________________________________________\n",
            "Train on 15000 samples, validate on 7500 samples\n",
            "Epoch 1/20\n",
            "15000/15000 [==============================] - 5s 357us/step - loss: 1.0215 - accuracy_with_masking: 0.5571 - val_loss: 0.8066 - val_accuracy_with_masking: 0.6132\n",
            "Epoch 2/20\n",
            "15000/15000 [==============================] - 2s 122us/step - loss: 0.6203 - accuracy_with_masking: 0.7812 - val_loss: 0.5261 - val_accuracy_with_masking: 0.7610\n",
            "Epoch 3/20\n",
            "15000/15000 [==============================] - 2s 122us/step - loss: 0.4039 - accuracy_with_masking: 0.9242 - val_loss: 0.3609 - val_accuracy_with_masking: 0.8657\n",
            "Epoch 4/20\n",
            "15000/15000 [==============================] - 2s 121us/step - loss: 0.3037 - accuracy_with_masking: 0.9547 - val_loss: 0.3146 - val_accuracy_with_masking: 0.8802\n",
            "Epoch 5/20\n",
            "15000/15000 [==============================] - 2s 121us/step - loss: 0.2406 - accuracy_with_masking: 0.9620 - val_loss: 0.2796 - val_accuracy_with_masking: 0.8986\n",
            "Epoch 6/20\n",
            "15000/15000 [==============================] - 2s 121us/step - loss: 0.1944 - accuracy_with_masking: 0.9691 - val_loss: 0.2513 - val_accuracy_with_masking: 0.9177\n",
            "Epoch 7/20\n",
            " 1500/15000 [==>...........................] - ETA: 1s - loss: 0.1732 - accuracy_with_masking: 0.9740"
          ],
          "name": "stdout"
        },
        {
          "output_type": "stream",
          "text": [
            "15000/15000 [==============================] - 2s 121us/step - loss: 0.1587 - accuracy_with_masking: 0.9782 - val_loss: 0.2249 - val_accuracy_with_masking: 0.9409\n",
            "Epoch 8/20\n",
            "15000/15000 [==============================] - 2s 121us/step - loss: 0.1308 - accuracy_with_masking: 0.9868 - val_loss: 0.2001 - val_accuracy_with_masking: 0.9622\n",
            "Epoch 9/20\n",
            "15000/15000 [==============================] - 2s 120us/step - loss: 0.1100 - accuracy_with_masking: 0.9921 - val_loss: 0.1771 - val_accuracy_with_masking: 0.9765\n",
            "Epoch 10/20\n",
            "15000/15000 [==============================] - 2s 121us/step - loss: 0.0949 - accuracy_with_masking: 0.9943 - val_loss: 0.1575 - val_accuracy_with_masking: 0.9824\n",
            "Epoch 11/20\n",
            "15000/15000 [==============================] - 2s 121us/step - loss: 0.0839 - accuracy_with_masking: 0.9956 - val_loss: 0.1427 - val_accuracy_with_masking: 0.9832\n",
            "Epoch 12/20\n",
            "15000/15000 [==============================] - 2s 121us/step - loss: 0.0755 - accuracy_with_masking: 0.9962 - val_loss: 0.1313 - val_accuracy_with_masking: 0.9831\n",
            "Epoch 13/20\n",
            "15000/15000 [==============================] - 2s 120us/step - loss: 0.0689 - accuracy_with_masking: 0.9967 - val_loss: 0.1220 - val_accuracy_with_masking: 0.9832\n",
            "Epoch 14/20\n",
            "15000/15000 [==============================] - 2s 121us/step - loss: 0.0634 - accuracy_with_masking: 0.9972 - val_loss: 0.1145 - val_accuracy_with_masking: 0.9830\n",
            "\n",
            "Epoch 00014: ReduceLROnPlateau reducing learning rate to 0.0004000000189989805.\n",
            "Epoch 15/20\n",
            "15000/15000 [==============================] - 2s 121us/step - loss: 0.0603 - accuracy_with_masking: 0.9973 - val_loss: 0.1134 - val_accuracy_with_masking: 0.9843\n",
            "Epoch 16/20\n",
            "15000/15000 [==============================] - 2s 122us/step - loss: 0.0594 - accuracy_with_masking: 0.9974 - val_loss: 0.1124 - val_accuracy_with_masking: 0.9854\n",
            "Epoch 17/20\n",
            " 6000/15000 [===========>..................] - ETA: 0s - loss: 0.0588 - accuracy_with_masking: 0.9975"
          ],
          "name": "stdout"
        },
        {
          "output_type": "stream",
          "text": [
            "15000/15000 [==============================] - 2s 121us/step - loss: 0.0586 - accuracy_with_masking: 0.9974 - val_loss: 0.1113 - val_accuracy_with_masking: 0.9862\n",
            "Epoch 18/20\n",
            "15000/15000 [==============================] - 2s 120us/step - loss: 0.0577 - accuracy_with_masking: 0.9975 - val_loss: 0.1101 - val_accuracy_with_masking: 0.9871\n",
            "Epoch 19/20\n",
            "15000/15000 [==============================] - 2s 121us/step - loss: 0.0569 - accuracy_with_masking: 0.9975 - val_loss: 0.1088 - val_accuracy_with_masking: 0.9879\n",
            "Epoch 20/20\n",
            "15000/15000 [==============================] - 2s 121us/step - loss: 0.0560 - accuracy_with_masking: 0.9976 - val_loss: 0.1075 - val_accuracy_with_masking: 0.9887\n",
            "15000/15000 [==============================] - 1s 41us/step\n",
            "x_train shape:  (15000, 302, 2)\n",
            "y_train shape:  (15000, 300)\n",
            "y_train shape, one-hot:  (15000, 300, 4)\n",
            "y_train shape, one-hot, padding:  (15000, 302, 4)\n",
            "x_train shape, window:  (15000, 302, 10)\n",
            "_________________________________________________________________\n",
            "Layer (type)                 Output Shape              Param #   \n",
            "=================================================================\n",
            "cu_dnnlstm_26 (CuDNNLSTM)    (None, 302, 40)           8320      \n",
            "_________________________________________________________________\n",
            "time_distributed_39 (TimeDis (None, 302, 4)            164       \n",
            "=================================================================\n",
            "Total params: 8,484\n",
            "Trainable params: 8,484\n",
            "Non-trainable params: 0\n",
            "_________________________________________________________________\n",
            "Train on 15000 samples, validate on 7500 samples\n",
            "Epoch 1/20\n",
            "15000/15000 [==============================] - 5s 364us/step - loss: 1.4195 - accuracy_with_masking: 0.3163 - val_loss: 1.3228 - val_accuracy_with_masking: 0.4138\n",
            "Epoch 2/20\n",
            "15000/15000 [==============================] - 2s 136us/step - loss: 1.2410 - accuracy_with_masking: 0.5889 - val_loss: 1.1238 - val_accuracy_with_masking: 0.5490\n",
            "Epoch 3/20\n",
            "15000/15000 [==============================] - 2s 137us/step - loss: 1.0134 - accuracy_with_masking: 0.7533 - val_loss: 0.9539 - val_accuracy_with_masking: 0.6159\n",
            "Epoch 4/20\n",
            "10500/15000 [====================>.........] - ETA: 0s - loss: 0.8394 - accuracy_with_masking: 0.8516"
          ],
          "name": "stdout"
        },
        {
          "output_type": "stream",
          "text": [
            "15000/15000 [==============================] - 2s 137us/step - loss: 0.8128 - accuracy_with_masking: 0.8586 - val_loss: 0.8163 - val_accuracy_with_masking: 0.6661\n",
            "Epoch 5/20\n",
            "15000/15000 [==============================] - 2s 137us/step - loss: 0.6504 - accuracy_with_masking: 0.9073 - val_loss: 0.6974 - val_accuracy_with_masking: 0.7462\n",
            "Epoch 6/20\n",
            "15000/15000 [==============================] - 2s 136us/step - loss: 0.5142 - accuracy_with_masking: 0.9427 - val_loss: 0.6023 - val_accuracy_with_masking: 0.8289\n",
            "Epoch 7/20\n",
            "15000/15000 [==============================] - 2s 136us/step - loss: 0.4150 - accuracy_with_masking: 0.9654 - val_loss: 0.5155 - val_accuracy_with_masking: 0.9127\n",
            "Epoch 8/20\n",
            "15000/15000 [==============================] - 2s 136us/step - loss: 0.3390 - accuracy_with_masking: 0.9813 - val_loss: 0.4425 - val_accuracy_with_masking: 0.9585\n",
            "Epoch 9/20\n",
            "15000/15000 [==============================] - 2s 136us/step - loss: 0.2835 - accuracy_with_masking: 0.9908 - val_loss: 0.3811 - val_accuracy_with_masking: 0.9825\n",
            "Epoch 10/20\n",
            "15000/15000 [==============================] - 2s 136us/step - loss: 0.2434 - accuracy_with_masking: 0.9955 - val_loss: 0.3306 - val_accuracy_with_masking: 0.9930\n",
            "Epoch 11/20\n",
            "15000/15000 [==============================] - 2s 137us/step - loss: 0.2141 - accuracy_with_masking: 0.9977 - val_loss: 0.2896 - val_accuracy_with_masking: 0.9973\n",
            "Epoch 12/20\n",
            "15000/15000 [==============================] - 2s 137us/step - loss: 0.1922 - accuracy_with_masking: 0.9987 - val_loss: 0.2570 - val_accuracy_with_masking: 0.9987\n",
            "Epoch 13/20\n",
            "15000/15000 [==============================] - 2s 136us/step - loss: 0.1752 - accuracy_with_masking: 0.9991 - val_loss: 0.2309 - val_accuracy_with_masking: 0.9992\n",
            "Epoch 14/20\n",
            " 9000/15000 [=================>............] - ETA: 0s - loss: 0.1642 - accuracy_with_masking: 0.9993"
          ],
          "name": "stdout"
        },
        {
          "output_type": "stream",
          "text": [
            "15000/15000 [==============================] - 2s 136us/step - loss: 0.1618 - accuracy_with_masking: 0.9993 - val_loss: 0.2100 - val_accuracy_with_masking: 0.9994\n",
            "Epoch 15/20\n",
            "15000/15000 [==============================] - 2s 137us/step - loss: 0.1510 - accuracy_with_masking: 0.9995 - val_loss: 0.1929 - val_accuracy_with_masking: 0.9995\n",
            "Epoch 16/20\n",
            "15000/15000 [==============================] - 2s 138us/step - loss: 0.1420 - accuracy_with_masking: 0.9995 - val_loss: 0.1790 - val_accuracy_with_masking: 0.9996\n",
            "Epoch 17/20\n",
            "15000/15000 [==============================] - 2s 136us/step - loss: 0.1345 - accuracy_with_masking: 0.9996 - val_loss: 0.1673 - val_accuracy_with_masking: 0.9997\n",
            "Epoch 18/20\n",
            "15000/15000 [==============================] - 2s 137us/step - loss: 0.1280 - accuracy_with_masking: 0.9997 - val_loss: 0.1574 - val_accuracy_with_masking: 0.9997\n",
            "Epoch 19/20\n",
            "15000/15000 [==============================] - 2s 136us/step - loss: 0.1224 - accuracy_with_masking: 0.9997 - val_loss: 0.1489 - val_accuracy_with_masking: 0.9998\n",
            "Epoch 20/20\n",
            "15000/15000 [==============================] - 2s 135us/step - loss: 0.1175 - accuracy_with_masking: 0.9998 - val_loss: 0.1415 - val_accuracy_with_masking: 0.9998\n",
            "15000/15000 [==============================] - 1s 53us/step\n",
            "x_train shape:  (15000, 302, 2)\n",
            "y_train shape:  (15000, 300)\n",
            "y_train shape, one-hot:  (15000, 300, 4)\n",
            "_________________________________________________________________\n",
            "Layer (type)                 Output Shape              Param #   \n",
            "=================================================================\n",
            "conv1d_13 (Conv1D)           (None, 300, 10)           70        \n",
            "_________________________________________________________________\n",
            "batch_normalization_26 (Batc (None, 300, 10)           40        \n",
            "_________________________________________________________________\n",
            "flatten_13 (Flatten)         (None, 3000)              0         \n",
            "_________________________________________________________________\n",
            "dense_39 (Dense)             (None, 1200)              3601200   \n",
            "_________________________________________________________________\n",
            "reshape_13 (Reshape)         (None, 300, 4)            0         \n",
            "_________________________________________________________________\n",
            "softmax_13 (Softmax)         (None, 300, 4)            0         \n",
            "=================================================================\n",
            "Total params: 3,601,310\n",
            "Trainable params: 3,601,290\n",
            "Non-trainable params: 20\n",
            "_________________________________________________________________\n",
            "Train on 15000 samples, validate on 7500 samples\n",
            "Epoch 1/20\n",
            " 6250/15000 [===========>..................] - ETA: 5s - loss: 1.3243 - acc: 0.4187"
          ],
          "name": "stdout"
        },
        {
          "output_type": "stream",
          "text": [
            "15000/15000 [==============================] - 5s 339us/step - loss: 0.9442 - acc: 0.6392 - val_loss: 0.7074 - val_acc: 0.7417\n",
            "Epoch 2/20\n",
            "15000/15000 [==============================] - 2s 100us/step - loss: 0.2399 - acc: 0.9847 - val_loss: 0.5791 - val_acc: 0.8057\n",
            "Epoch 3/20\n",
            "15000/15000 [==============================] - 2s 104us/step - loss: 0.0825 - acc: 0.9997 - val_loss: 0.6140 - val_acc: 0.8146\n",
            "Epoch 4/20\n",
            "15000/15000 [==============================] - 2s 104us/step - loss: 0.0409 - acc: 1.0000 - val_loss: 0.6678 - val_acc: 0.8164\n",
            "Epoch 5/20\n",
            "15000/15000 [==============================] - 2s 101us/step - loss: 0.0247 - acc: 1.0000 - val_loss: 0.7193 - val_acc: 0.8166\n",
            "Epoch 6/20\n",
            "15000/15000 [==============================] - 2s 102us/step - loss: 0.0167 - acc: 1.0000 - val_loss: 0.7643 - val_acc: 0.8165\n",
            "Epoch 7/20\n",
            "15000/15000 [==============================] - 2s 100us/step - loss: 0.0121 - acc: 1.0000 - val_loss: 0.8042 - val_acc: 0.8163\n",
            "Epoch 8/20\n",
            "15000/15000 [==============================] - 2s 100us/step - loss: 0.0091 - acc: 1.0000 - val_loss: 0.8396 - val_acc: 0.8160\n"
          ],
          "name": "stdout"
        },
        {
          "output_type": "stream",
          "text": [
            "Epoch 9/20\n",
            "15000/15000 [==============================] - 2s 101us/step - loss: 0.0072 - acc: 1.0000 - val_loss: 0.8709 - val_acc: 0.8158\n",
            "Epoch 10/20\n",
            "15000/15000 [==============================] - 2s 104us/step - loss: 0.0058 - acc: 1.0000 - val_loss: 0.8989 - val_acc: 0.8157\n",
            "Epoch 11/20\n",
            "15000/15000 [==============================] - 2s 101us/step - loss: 0.0048 - acc: 1.0000 - val_loss: 0.9244 - val_acc: 0.8155\n",
            "Epoch 12/20\n",
            "15000/15000 [==============================] - 2s 101us/step - loss: 0.0040 - acc: 1.0000 - val_loss: 0.9476 - val_acc: 0.8153\n",
            "Epoch 13/20\n",
            "15000/15000 [==============================] - 1s 100us/step - loss: 0.0034 - acc: 1.0000 - val_loss: 0.9690 - val_acc: 0.8151\n",
            "Epoch 14/20\n",
            "15000/15000 [==============================] - 2s 103us/step - loss: 0.0030 - acc: 1.0000 - val_loss: 0.9888 - val_acc: 0.8150\n",
            "Epoch 15/20\n",
            "15000/15000 [==============================] - 2s 102us/step - loss: 0.0026 - acc: 1.0000 - val_loss: 1.0074 - val_acc: 0.8148\n",
            "Epoch 16/20\n",
            "12250/15000 [=======================>......] - ETA: 0s - loss: 0.0023 - acc: 1.0000"
          ],
          "name": "stdout"
        },
        {
          "output_type": "stream",
          "text": [
            "15000/15000 [==============================] - 2s 100us/step - loss: 0.0023 - acc: 1.0000 - val_loss: 1.0241 - val_acc: 0.8148\n",
            "Epoch 17/20\n",
            "15000/15000 [==============================] - 2s 103us/step - loss: 0.0020 - acc: 1.0000 - val_loss: 1.0406 - val_acc: 0.8146\n",
            "Epoch 18/20\n",
            "15000/15000 [==============================] - 2s 102us/step - loss: 0.0018 - acc: 1.0000 - val_loss: 1.0560 - val_acc: 0.8144\n",
            "Epoch 19/20\n",
            "15000/15000 [==============================] - 2s 102us/step - loss: 0.0016 - acc: 1.0000 - val_loss: 1.0702 - val_acc: 0.8143\n",
            "Epoch 20/20\n",
            "15000/15000 [==============================] - 2s 103us/step - loss: 0.0014 - acc: 1.0000 - val_loss: 1.0838 - val_acc: 0.8142\n",
            "15000/15000 [==============================] - 2s 130us/step\n",
            "Test accuracy: [0.06742531068722407, 0.9776008907953898]\n",
            "LSTM No Window Score:  [0.051715163389841716, 0.996222448348999]\n",
            "LSTM with Window Score:  [0.2623449683189392, 0.9389404416084289]\n",
            "Conv Score:  [0.06742531068722407, 0.9776008907953898]\n"
          ],
          "name": "stdout"
        }
      ]
    }
  ]
}